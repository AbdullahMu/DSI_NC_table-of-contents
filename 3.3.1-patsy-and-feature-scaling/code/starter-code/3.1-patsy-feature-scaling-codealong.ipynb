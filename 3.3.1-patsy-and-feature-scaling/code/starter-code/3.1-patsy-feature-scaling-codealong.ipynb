{
 "cells": [
  {
   "cell_type": "markdown",
   "metadata": {},
   "source": [
    "```\n",
    "---\n",
    "title: Patsy + Feature Scaling\n",
    "duration: \"~1:5\"\n",
    "creator:\n",
    "    name: David Yerrington\n",
    "    city: SF\n",
    "---\n",
    "```\n",
    "<img src=\"https://ga-dash.s3.amazonaws.com/production/assets/logo-9f88ae6c9c3871690e33280fcf557f33.png\" style=\"float: left; margin: 15px;\">\n",
    "\n",
    "# Patsy + Feature Scaling\n",
    "\n",
    "Week 3 | Codealong 3.1\n",
    "\n",
    "---\n",
    "\n",
    "To round out our workflow in what we sometimes refer to as the **preprocessing pipeline**, we will be working with normalizing features within our dataset(s), and converting our data to design matrices with **Patsy**, before using models with a linear component (ie: linear regression).\n",
    "\n",
    "\n",
    "\n",
    "\n"
   ]
  },
  {
   "cell_type": "markdown",
   "metadata": {},
   "source": [
    "## Why Feature Scaling\n",
    "\n",
    "The majority of machine learning methods will perform better when our variables are on the same scale.  Some methods will optimize for larger errors in spaces that have a bigger range in the case where some features are weighted by errors.  Other cases include methods that rely on euclidean distances (ie: KNN, K-Means), or linearly sperable points, which means that scaling can have a desirable impact.  The most obvious cases were this makes sense is when you have features that are drastically different _and_ we want them within a bound interval.\n",
    "\n",
    "### Normalizing or standarding prevents features from dominating each other in machine learning.  The larger numbers are going to be larger in weight.\n",
    "\n",
    "<br>\n",
    "\n",
    "Consider the example we've talked about a times when we are predicting the value of real-estate properties, and we have a variable \"square feet\" within 1-10,000, and \"number of bathrooms\" between 1-3.\n",
    "\n"
   ]
  },
  {
   "cell_type": "code",
   "execution_count": 124,
   "metadata": {
    "collapsed": false
   },
   "outputs": [
    {
     "data": {
      "text/plain": [
       "<matplotlib.axes._subplots.AxesSubplot at 0x11def5510>"
      ]
     },
     "execution_count": 124,
     "metadata": {},
     "output_type": "execute_result"
    },
    {
     "data": {
      "image/png": "[encoded data removed]",
      "text/plain": [
       "<matplotlib.figure.Figure at 0x11d2b6910>"
      ]
     },
     "metadata": {},
     "output_type": "display_data"
    }
   ],
   "source": [
    "import seaborn as sns, pandas as pd\n",
    "import numpy as np\n",
    "\n",
    "%matplotlib inline\n",
    "\n",
    "# Creating some artificial data\n",
    "df = pd.DataFrame()\n",
    "df['square_feet'] = np.random.randint(500, 10000, 500)\n",
    "df['bathrooms'] = np.random.choice(np.arange(1, 4, 0.5), size=500)\n",
    "\n",
    "# Plot it!\n",
    "df.plot(kind=\"scatter\", x=\"bathrooms\", y=\"square_feet\", figsize=(8,5))"
   ]
  },
  {
   "cell_type": "markdown",
   "metadata": {},
   "source": [
    "There are two approaches to scaling.\n",
    "\n",
    "**Min-max scaling** (sometimes called _normalization_), which typically means rescaling features from 0 to 1.  There are a lot of different methods for transforming your data to scale.  The methods in `sklearn.preprocessing` are extremely fast compared to doing this calculation by hand and are very well tested.\n",
    "\n",
    "![](https://snag.gy/DEwF4T.jpg)\n"
   ]
  },
  {
   "cell_type": "code",
   "execution_count": 126,
   "metadata": {
    "collapsed": false
   },
   "outputs": [
    {
     "data": {
      "text/html": [
       "<div>\n",
       "<table border=\"1\" class=\"dataframe\">\n",
       "  <thead>\n",
       "    <tr style=\"text-align: right;\">\n",
       "      <th></th>\n",
       "      <th>count</th>\n",
       "      <th>mean</th>\n",
       "      <th>std</th>\n",
       "      <th>min</th>\n",
       "      <th>25%</th>\n",
       "      <th>50%</th>\n",
       "      <th>75%</th>\n",
       "      <th>max</th>\n",
       "    </tr>\n",
       "  </thead>\n",
       "  <tbody>\n",
       "    <tr>\n",
       "      <th>norm_square_feet</th>\n",
       "      <td>500.0</td>\n",
       "      <td>0.513709</td>\n",
       "      <td>0.295574</td>\n",
       "      <td>0.0</td>\n",
       "      <td>0.238874</td>\n",
       "      <td>0.522516</td>\n",
       "      <td>0.772939</td>\n",
       "      <td>1.0</td>\n",
       "    </tr>\n",
       "    <tr>\n",
       "      <th>norm_bathrooms</th>\n",
       "      <td>500.0</td>\n",
       "      <td>0.487600</td>\n",
       "      <td>0.347113</td>\n",
       "      <td>0.0</td>\n",
       "      <td>0.200000</td>\n",
       "      <td>0.400000</td>\n",
       "      <td>0.800000</td>\n",
       "      <td>1.0</td>\n",
       "    </tr>\n",
       "  </tbody>\n",
       "</table>\n",
       "</div>"
      ],
      "text/plain": [
       "                  count      mean       std  min       25%       50%  \\\n",
       "norm_square_feet  500.0  0.513709  0.295574  0.0  0.238874  0.522516   \n",
       "norm_bathrooms    500.0  0.487600  0.347113  0.0  0.200000  0.400000   \n",
       "\n",
       "                       75%  max  \n",
       "norm_square_feet  0.772939  1.0  \n",
       "norm_bathrooms    0.800000  1.0  "
      ]
     },
     "execution_count": 126,
     "metadata": {},
     "output_type": "execute_result"
    }
   ],
   "source": [
    "from sklearn.preprocessing import MinMaxScaler, StandardScaler\n",
    "\n",
    "scaler = MinMaxScaler()\n",
    "scaled_data = scaler.fit_transform(df)\n",
    "\n",
    "normalized = pd.DataFrame(scaled_data, columns=[\"norm_square_feet\", \"norm_bathrooms\"])\n",
    "normalized.describe().T\n",
    "# normalized.head()"
   ]
  },
  {
   "cell_type": "code",
   "execution_count": 64,
   "metadata": {
    "collapsed": false
   },
   "outputs": [
    {
     "data": {
      "text/plain": [
       "<matplotlib.axes._subplots.AxesSubplot at 0x11b180b10>"
      ]
     },
     "execution_count": 64,
     "metadata": {},
     "output_type": "execute_result"
    },
    {
     "data": {
      "image/png": "[encoded data removed]",
      "text/plain": [
       "<matplotlib.figure.Figure at 0x11b300d90>"
      ]
     },
     "metadata": {},
     "output_type": "display_data"
    }
   ],
   "source": [
    "normalized.plot(kind=\"scatter\", x=\"norm_bathrooms\", y=\"norm_square_feet\", figsize=(8,5))"
   ]
  },
  {
   "cell_type": "markdown",
   "metadata": {},
   "source": [
    "Alternatively, we may want to use **standardization** to scale our variables to 0 for the mean, with a standard deviantion of 1, in effect creating a normal distribution.  This actually makes it easier for machine learning methods to learn variable weights (ie: stochastic gradient descent, [Newton-CG](https://en.wikipedia.org/wiki/Nonlinear_conjugate_gradient_method), or OLS regression!)\n",
    "\n",
    "![](https://snag.gy/VNbp4H.jpg)\n",
    "\n",
    "> _In this form, the mean and standard deviation is represented for each variable that is being standardized._\n",
    "\n",
    "Where **min-max normalization** is sensitive to outliers, **standardization** is not as sensitive to outliers but still retains some of those characteristics because the range isn't limited to a set of fixed values (0-1).\n"
   ]
  },
  {
   "cell_type": "code",
   "execution_count": 71,
   "metadata": {
    "collapsed": false
   },
   "outputs": [
    {
     "data": {
      "text/html": [
       "<div>\n",
       "<table border=\"1\" class=\"dataframe\">\n",
       "  <thead>\n",
       "    <tr style=\"text-align: right;\">\n",
       "      <th></th>\n",
       "      <th>count</th>\n",
       "      <th>mean</th>\n",
       "      <th>std</th>\n",
       "      <th>min</th>\n",
       "      <th>25%</th>\n",
       "      <th>50%</th>\n",
       "      <th>75%</th>\n",
       "      <th>max</th>\n",
       "    </tr>\n",
       "  </thead>\n",
       "  <tbody>\n",
       "    <tr>\n",
       "      <th>stand_square_feet</th>\n",
       "      <td>500.0</td>\n",
       "      <td>9.964252e-18</td>\n",
       "      <td>1.001002</td>\n",
       "      <td>-1.811008</td>\n",
       "      <td>-0.892030</td>\n",
       "      <td>0.073150</td>\n",
       "      <td>0.834275</td>\n",
       "      <td>1.664335</td>\n",
       "    </tr>\n",
       "    <tr>\n",
       "      <th>stand_bathrooms</th>\n",
       "      <td>500.0</td>\n",
       "      <td>-2.842171e-16</td>\n",
       "      <td>1.001002</td>\n",
       "      <td>-1.436240</td>\n",
       "      <td>-0.857111</td>\n",
       "      <td>0.301147</td>\n",
       "      <td>0.880276</td>\n",
       "      <td>1.459405</td>\n",
       "    </tr>\n",
       "  </tbody>\n",
       "</table>\n",
       "</div>"
      ],
      "text/plain": [
       "                   count          mean       std       min       25%  \\\n",
       "stand_square_feet  500.0  9.964252e-18  1.001002 -1.811008 -0.892030   \n",
       "stand_bathrooms    500.0 -2.842171e-16  1.001002 -1.436240 -0.857111   \n",
       "\n",
       "                        50%       75%       max  \n",
       "stand_square_feet  0.073150  0.834275  1.664335  \n",
       "stand_bathrooms    0.301147  0.880276  1.459405  "
      ]
     },
     "execution_count": 71,
     "metadata": {},
     "output_type": "execute_result"
    }
   ],
   "source": [
    "scaler = StandardScaler()\n",
    "scaled_data = scaler.fit_transform(df)\n",
    "\n",
    "standardized = pd.DataFrame(scaled_data, columns=[\"stand_square_feet\", \"stand_bathrooms\"])\n",
    "standardized.describe().T"
   ]
  },
  {
   "cell_type": "code",
   "execution_count": 74,
   "metadata": {
    "collapsed": false
   },
   "outputs": [
    {
     "data": {
      "text/plain": [
       "<matplotlib.axes._subplots.AxesSubplot at 0x11bbaa750>"
      ]
     },
     "execution_count": 74,
     "metadata": {},
     "output_type": "execute_result"
    },
    {
     "data": {
      "image/png": "[encoded data removed]",
      "text/plain": [
       "<matplotlib.figure.Figure at 0x11bbb3fd0>"
      ]
     },
     "metadata": {},
     "output_type": "display_data"
    }
   ],
   "source": [
    "standardized.plot(kind=\"scatter\", x=\"stand_bathrooms\", y=\"stand_square_feet\", figsize=(8,5))"
   ]
  },
  {
   "cell_type": "markdown",
   "metadata": {},
   "source": [
    "### Normalized vs Standardized Compared"
   ]
  },
  {
   "cell_type": "code",
   "execution_count": 127,
   "metadata": {
    "collapsed": false
   },
   "outputs": [
    {
     "name": "stdout",
     "output_type": "stream",
     "text": [
      "Bathrooms\n"
     ]
    }
   ],
   "source": [
    "# Consolidate some data\n",
    "df['norm_bathrooms']    =  normalized['norm_bathrooms']\n",
    "df['norm_square_feet']  =  normalized['norm_square_feet']\n",
    "\n",
    "df['stand_bathrooms']   =  standardized['stand_bathrooms']\n",
    "df['stand_square_feet'] =  standardized['stand_square_feet']\n",
    "\n",
    "print \"Bathrooms\"\n",
    "# df[['bathrooms', 'norm_bathrooms', 'stand_bathrooms']].head()"
   ]
  },
  {
   "cell_type": "code",
   "execution_count": 133,
   "metadata": {
    "collapsed": false
   },
   "outputs": [
    {
     "data": {
      "text/plain": [
       "<matplotlib.axes._subplots.AxesSubplot at 0x11c6c30d0>"
      ]
     },
     "execution_count": 133,
     "metadata": {},
     "output_type": "execute_result"
    },
    {
     "data": {
      "image/png": "[encoded data removed]",
      "text/plain": [
       "<matplotlib.figure.Figure at 0x11d924ed0>"
      ]
     },
     "metadata": {},
     "output_type": "display_data"
    }
   ],
   "source": [
    "df['bathrooms'].hist()"
   ]
  },
  {
   "cell_type": "code",
   "execution_count": 134,
   "metadata": {
    "collapsed": false
   },
   "outputs": [
    {
     "data": {
      "text/plain": [
       "<matplotlib.axes._subplots.AxesSubplot at 0x11d776dd0>"
      ]
     },
     "execution_count": 134,
     "metadata": {},
     "output_type": "execute_result"
    },
    {
     "data": {
      "image/png": "[encoded data removed]",
      "text/plain": [
       "<matplotlib.figure.Figure at 0x11d3246d0>"
      ]
     },
     "metadata": {},
     "output_type": "display_data"
    }
   ],
   "source": [
    "df['norm_bathrooms'].hist()"
   ]
  },
  {
   "cell_type": "code",
   "execution_count": 135,
   "metadata": {
    "collapsed": false
   },
   "outputs": [
    {
     "data": {
      "text/plain": [
       "<matplotlib.axes._subplots.AxesSubplot at 0x11d628b90>"
      ]
     },
     "execution_count": 135,
     "metadata": {},
     "output_type": "execute_result"
    },
    {
     "data": {
      "image/png": "[encoded data removed]",
      "text/plain": [
       "<matplotlib.figure.Figure at 0x11d767450>"
      ]
     },
     "metadata": {},
     "output_type": "display_data"
    }
   ],
   "source": [
    "\n",
    "\n",
    "df['stand_bathrooms'].hist()"
   ]
  },
  {
   "cell_type": "code",
   "execution_count": 137,
   "metadata": {
    "collapsed": false
   },
   "outputs": [
    {
     "name": "stdout",
     "output_type": "stream",
     "text": [
      "Square Feet\n"
     ]
    },
    {
     "data": {
      "text/plain": [
       "<matplotlib.axes._subplots.AxesSubplot at 0x11db8bc90>"
      ]
     },
     "execution_count": 137,
     "metadata": {},
     "output_type": "execute_result"
    },
    {
     "data": {
      "image/png": "[encoded data removed]",
      "text/plain": [
       "<matplotlib.figure.Figure at 0x11c1dcb90>"
      ]
     },
     "metadata": {},
     "output_type": "display_data"
    }
   ],
   "source": [
    "print \"Square Feet\"\n",
    "\n",
    "# df['square_feet'].hist()\n",
    "df['stand_square_feet'].hist()\n",
    "df['norm_square_feet'].hist()\n",
    "# df[['square_feet', 'norm_square_feet', 'stand_square_feet']].head(10)"
   ]
  },
  {
   "cell_type": "markdown",
   "metadata": {},
   "source": [
    "## Some Guidelines\n",
    "\n",
    "- Standardize when there is a huge variance in values.\n",
    "- Standardize when a single feature can have both a positive and negative effect.\n",
    "- **Consider** normalizing anything that will be used with Euclidean distance.\n",
    "\n",
    "### General Questions\n",
    "- Is the algorithm heavily influenced by different scales of different features?\n",
    "- Do your features share the comparable scales already?\n",
    "- Does your algorithm already normalize your data? _(Linear Discriminant Analysis and Naive Bayes)_\n",
    "  - Does it care? _(ie: decision trees / CART models)_\n",
    "  \n",
    "#### Don't forget to keep your original UNSCALED variables if you care about referencing the original values.  You can omit them from your models.\n",
    "\n",
    "## Feature Scaling\n",
    "\n",
    "1. Fitting your model will be faster on larger datasets.\n",
    "1. Prevents getting stuck in local optima.\n",
    "1. When scales of variables are vastly different.\n",
    "1. When we want small valued features to contribute more equally."
   ]
  },
  {
   "cell_type": "markdown",
   "metadata": {},
   "source": [
    "# Patsy!\n",
    "\n",
    "Yes we learened a lot this week.  Yes Patsy may seem like yet another unecessary step but we it's actually very useful.  We will explore this utility that gives us the power of design matrices in a live coding example.\n",
    "\n",
    ">_patsy is a Python package for describing statistical models (especially linear models, or models that have a linear component) and building design matrices. It is closely inspired by and compatible with the formula mini-language used in R and S._\n",
    "\n",
    "> Check out the docs:  https://patsy.readthedocs.io/en/latest/overview.html\n",
    "\n",
    "Patsy is not just useful for linear models, but anytime you may want to encode or modify your dataset in preprocessing step before modeling."
   ]
  },
  {
   "cell_type": "markdown",
   "metadata": {},
   "source": [
    "### Load Patsy"
   ]
  },
  {
   "cell_type": "code",
   "execution_count": 138,
   "metadata": {
    "collapsed": true
   },
   "outputs": [],
   "source": [
    "import patsy"
   ]
  },
  {
   "cell_type": "markdown",
   "metadata": {},
   "source": [
    "### Create Some Fake Data\n",
    "With 2-3 continious variables, and one categorical."
   ]
  },
  {
   "cell_type": "code",
   "execution_count": 139,
   "metadata": {
    "collapsed": false
   },
   "outputs": [],
   "source": [
    "df = pd.DataFrame()\n",
    "\n",
    "df['ship_type']  =  np.random.choice([\"romulan\", \"human\", \"klingon\", \"borg\", \"red_shirt\", \"ovid\"], size=500)\n",
    "df['ship_value'] =  np.random.randint(200000, 10000000, size=500)\n",
    "df['ship_speed'] =  np.random.randint(10, 60, size=500)\n",
    "df['baths']      =  np.random.choice(np.arange(1, 4, 0.5), size=500)"
   ]
  },
  {
   "cell_type": "code",
   "execution_count": 140,
   "metadata": {
    "collapsed": false
   },
   "outputs": [
    {
     "data": {
      "text/html": [
       "<div>\n",
       "<table border=\"1\" class=\"dataframe\">\n",
       "  <thead>\n",
       "    <tr style=\"text-align: right;\">\n",
       "      <th></th>\n",
       "      <th>ship_type</th>\n",
       "      <th>ship_value</th>\n",
       "      <th>ship_speed</th>\n",
       "      <th>baths</th>\n",
       "    </tr>\n",
       "  </thead>\n",
       "  <tbody>\n",
       "    <tr>\n",
       "      <th>0</th>\n",
       "      <td>red_shirt</td>\n",
       "      <td>5561330</td>\n",
       "      <td>19</td>\n",
       "      <td>3.0</td>\n",
       "    </tr>\n",
       "    <tr>\n",
       "      <th>1</th>\n",
       "      <td>red_shirt</td>\n",
       "      <td>3141237</td>\n",
       "      <td>16</td>\n",
       "      <td>1.0</td>\n",
       "    </tr>\n",
       "    <tr>\n",
       "      <th>2</th>\n",
       "      <td>human</td>\n",
       "      <td>8681920</td>\n",
       "      <td>19</td>\n",
       "      <td>3.5</td>\n",
       "    </tr>\n",
       "    <tr>\n",
       "      <th>3</th>\n",
       "      <td>human</td>\n",
       "      <td>3897025</td>\n",
       "      <td>53</td>\n",
       "      <td>1.5</td>\n",
       "    </tr>\n",
       "    <tr>\n",
       "      <th>4</th>\n",
       "      <td>borg</td>\n",
       "      <td>2670258</td>\n",
       "      <td>15</td>\n",
       "      <td>3.0</td>\n",
       "    </tr>\n",
       "  </tbody>\n",
       "</table>\n",
       "</div>"
      ],
      "text/plain": [
       "   ship_type  ship_value  ship_speed  baths\n",
       "0  red_shirt     5561330          19    3.0\n",
       "1  red_shirt     3141237          16    1.0\n",
       "2      human     8681920          19    3.5\n",
       "3      human     3897025          53    1.5\n",
       "4       borg     2670258          15    3.0"
      ]
     },
     "execution_count": 140,
     "metadata": {},
     "output_type": "execute_result"
    }
   ],
   "source": [
    "# df.head()\n",
    "\n",
    "y = df['baths']\n",
    "X = df[['ship_type', 'ship_value', 'ship_speed']]"
   ]
  },
  {
   "cell_type": "markdown",
   "metadata": {},
   "source": [
    "### Let's look at the design matrix\n",
    "Using a simple formula.  \n",
    "\n",
    "Read more about how to use formulas here:  http://patsy.readthedocs.io/en/latest/formulas.html"
   ]
  },
  {
   "cell_type": "code",
   "execution_count": 165,
   "metadata": {
    "collapsed": false
   },
   "outputs": [],
   "source": [
    "formula  =  \"baths ~ ship_value + ship_speed\"\n",
    "y, X     =  patsy.dmatrices(formula, data=df, return_type=\"dataframe\")\n"
   ]
  },
  {
   "cell_type": "code",
   "execution_count": null,
   "metadata": {
    "collapsed": false
   },
   "outputs": [],
   "source": []
  },
  {
   "cell_type": "markdown",
   "metadata": {},
   "source": [
    "### Load up a linear model\n",
    "Demonstrate the power of the formula and how to quickly switch out our forumula, without having to reslice our data."
   ]
  },
  {
   "cell_type": "code",
   "execution_count": 180,
   "metadata": {
    "collapsed": false
   },
   "outputs": [
    {
     "data": {
      "text/html": [
       "<div>\n",
       "<table border=\"1\" class=\"dataframe\">\n",
       "  <thead>\n",
       "    <tr style=\"text-align: right;\">\n",
       "      <th></th>\n",
       "      <th>R^2</th>\n",
       "      <th>formula</th>\n",
       "      <th>formula_name</th>\n",
       "    </tr>\n",
       "  </thead>\n",
       "  <tbody>\n",
       "    <tr>\n",
       "      <th>0</th>\n",
       "      <td>0.003779</td>\n",
       "      <td>baths ~ ship_value + ship_speed</td>\n",
       "      <td>baths_prediction_1</td>\n",
       "    </tr>\n",
       "    <tr>\n",
       "      <th>1</th>\n",
       "      <td>0.021820</td>\n",
       "      <td>baths ~ ship_type</td>\n",
       "      <td>baths_prediction_3</td>\n",
       "    </tr>\n",
       "    <tr>\n",
       "      <th>2</th>\n",
       "      <td>0.003070</td>\n",
       "      <td>baths ~ ship_value</td>\n",
       "      <td>baths_prediction_2</td>\n",
       "    </tr>\n",
       "  </tbody>\n",
       "</table>\n",
       "</div>"
      ],
      "text/plain": [
       "        R^2                          formula        formula_name\n",
       "0  0.003779  baths ~ ship_value + ship_speed  baths_prediction_1\n",
       "1  0.021820                baths ~ ship_type  baths_prediction_3\n",
       "2  0.003070               baths ~ ship_value  baths_prediction_2"
      ]
     },
     "execution_count": 180,
     "metadata": {},
     "output_type": "execute_result"
    }
   ],
   "source": [
    "from sklearn.linear_model import LinearRegression\n",
    "\n",
    "scores = []\n",
    "\n",
    "formulas  =  {\n",
    "    \"baths_prediction_1\": \"baths ~ ship_value + ship_speed\",\n",
    "    \"baths_prediction_2\": \"baths ~ ship_value\",\n",
    "    \"baths_prediction_3\": \"baths ~ ship_type\"\n",
    "}\n",
    "\n",
    "for formula_name, formula in formulas.items():\n",
    "\n",
    "    y, X     =  patsy.dmatrices(formula, data=df, return_type=\"dataframe\")\n",
    "\n",
    "    lm = LinearRegression()\n",
    "    model = lm.fit(X, y)\n",
    "    score = model.score(X, y)\n",
    "    \n",
    "    scores.append({\n",
    "        \"formula_name\":  formula_name, \n",
    "        \"formula\":       formula,\n",
    "        \"R^2\":           score\n",
    "    })\n",
    "    \n",
    "pd.DataFrame(scores)\n"
   ]
  },
  {
   "cell_type": "markdown",
   "metadata": {},
   "source": [
    "### You will have questions.\n",
    "\n",
    "This is a very standard implementation of Patsy with feature scaling."
   ]
  },
  {
   "cell_type": "code",
   "execution_count": 190,
   "metadata": {
    "collapsed": false
   },
   "outputs": [
    {
     "name": "stdout",
     "output_type": "stream",
     "text": [
      "R^2:  0.0037785367171\n"
     ]
    }
   ],
   "source": [
    "from sklearn.preprocessing import StandardScaler\n",
    "\n",
    "# Scale our data first\n",
    "scaler      =  StandardScaler()\n",
    "columns     =  ['ship_value', 'ship_speed']\n",
    "df[columns] =  scaler.fit_transform(df[columns])\n",
    "\n",
    "formula  =  \"baths ~ ship_value + ship_speed\"\n",
    "y, X     =  patsy.dmatrices(formula, data=df, return_type=\"dataframe\")\n",
    "\n",
    "lm = LinearRegression()\n",
    "model = lm.fit(X, y)\n",
    "score = model.score(X, y)\n",
    "\n",
    "print \"R^2: \", score\n"
   ]
  }
 ],
 "metadata": {
  "anaconda-cloud": {},
  "kernelspec": {
   "display_name": "Python [dsi]",
   "language": "python",
   "name": "Python [dsi]"
  },
  "language_info": {
   "codemirror_mode": {
    "name": "ipython",
    "version": 2
   },
   "file_extension": ".py",
   "mimetype": "text/x-python",
   "name": "python",
   "nbconvert_exporter": "python",
   "pygments_lexer": "ipython2",
   "version": "2.7.12"
  }
 },
 "nbformat": 4,
 "nbformat_minor": 0
}
