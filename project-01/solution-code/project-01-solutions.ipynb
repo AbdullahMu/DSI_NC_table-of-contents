{
 "cells": [
  {
   "cell_type": "markdown",
   "metadata": {},
   "source": [
    "<img src=\"http://imgur.com/1ZcRyrc.png\" style=\"float: left; margin: 15px; height: 80px\">\n",
    "\n",
    "# Project 1\n",
    "\n",
    "### Review python syntax, structure, and concepts.\n",
    "\n",
    "---\n",
    "\n",
    "Project 1 is designed to be review and practice of python programming competencies.\n",
    "\n",
    "Please see the [Project Section Guide](https://github.com/ga-students/DSI-SF-4/wiki/Project-Section-Guide) on the github wiki for review of the color-coding of problems.\n"
   ]
  },
  {
   "cell_type": "markdown",
   "metadata": {},
   "source": [
    "<img src=\"http://imgur.com/l5NasQj.png\" style=\"float: left; margin: 25px 15px 0px 0px; height: 25px\">\n",
    "\n",
    "## Review Problem 1\n",
    "\n",
    "---\n",
    "\n",
    "For this problem you will be writing a function that the supplied dictionary `input_dict` and operates on it.\n",
    "\n",
    "Define a function that:\n",
    "\n",
    "- Accepts 1 argument, which will be a dictionary.\n",
    "- Prints the dictionary.\n",
    "- Iterates through the key:value pairs of the dictionary:\n",
    "    - For pairs where the key starts with a lowercase vowel, change the value to \"vowel\".\n",
    "    - For pairs where the key starts with a lowercase consonant, change the value to \"consonant\".\n",
    "    - Remove all other pairs from the dictionary.\n",
    "- Prints the modified dictionary.\n",
    "- Returns the modified dictionary.\n",
    "\n",
    "Notes/Hints:\n",
    " \n",
    "- ```string.ascii_lowercase``` is a string of all the lowercase letters in the alphabet. to use it you need to **import string** at the beginning of your script.\n",
    "- You can check if a character is in a string with **in**. \n",
    "    - ex: \n",
    "        ```python\n",
    "        if ch in st:\n",
    "        ```\n",
    "- You can create a new dictionary to store the modified return values or operate on the input dictionary.\n",
    "- You can check types using the ```type()``` python function:\n",
    "    ```python\n",
    "    type(1) == int\n",
    "    type(1.2) == float\n",
    "    type('ab') == str\n",
    "    type((1,2)) == tuple\n",
    "    type([3,2]) == list\n",
    "    type({'a':'b'}) == dict\n",
    "    ```"
   ]
  },
  {
   "cell_type": "code",
   "execution_count": 1,
   "metadata": {
    "collapsed": true
   },
   "outputs": [],
   "source": [
    "input_dict = {'list':[1,2,3,4], 'tuple':('cat', 'dog'), 'integer':1, \n",
    "              'float':99.99, 1:'integer', 2:'integer_2', 'Uppercase_string':'ABCD',\n",
    "              'CHARACTER':'C'}"
   ]
  },
  {
   "cell_type": "markdown",
   "metadata": {},
   "source": [
    "#### Define your function below:"
   ]
  },
  {
   "cell_type": "code",
   "execution_count": 2,
   "metadata": {
    "collapsed": true
   },
   "outputs": [],
   "source": [
    "import string\n",
    "import pprint\n",
    "\n",
    "alphabet = string.ascii_lowercase\n",
    "vowels = 'aeiou'\n",
    "\n",
    "def q1_func(d):\n",
    "    pprint.pprint(d)\n",
    "    for k, v in d.items():\n",
    "        if not type(k) == str:\n",
    "            del d[k]\n",
    "        else:\n",
    "            if k[0] in vowels:\n",
    "                d[k] = 'vowel'\n",
    "            elif k[0] in alphabet:\n",
    "                d[k] = 'consonant'\n",
    "            else:\n",
    "                del d[k]\n",
    "    pprint.pprint(d)\n",
    "    return(d)"
   ]
  },
  {
   "cell_type": "markdown",
   "metadata": {},
   "source": [
    "#### Run your function with the `input_dict`:"
   ]
  },
  {
   "cell_type": "code",
   "execution_count": 3,
   "metadata": {
    "collapsed": false
   },
   "outputs": [
    {
     "name": "stdout",
     "output_type": "stream",
     "text": [
      "{1: 'integer',\n",
      " 2: 'integer_2',\n",
      " 'CHARACTER': 'C',\n",
      " 'Uppercase_string': 'ABCD',\n",
      " 'float': 99.99,\n",
      " 'integer': 1,\n",
      " 'list': [1, 2, 3, 4],\n",
      " 'tuple': ('cat', 'dog')}\n",
      "{'float': 'consonant',\n",
      " 'integer': 'vowel',\n",
      " 'list': 'consonant',\n",
      " 'tuple': 'consonant'}\n"
     ]
    }
   ],
   "source": [
    "output_dict = q1_func(input_dict)"
   ]
  },
  {
   "cell_type": "markdown",
   "metadata": {},
   "source": [
    "<img src=\"http://imgur.com/l5NasQj.png\" style=\"float: left; margin: 25px 15px 0px 0px; height: 25px\">\n",
    "\n",
    "## Review Problem 2\n",
    "\n",
    "---\n",
    "\n",
    "Write a function that operates on a dictionary and an optional list of numbers.\n",
    "\n",
    "Define a function that:\n",
    "\n",
    "- Accepts a dictionary as its first argument. The values of the dictionary should be a list of numbers.\n",
    "- Accepts an optional keyword argument that will be a list. The default should be an empty list. Name the optional keyword list `remainder`.\n",
    "- If `remainder` is empty: append a 2 to `remainder`.\n",
    "- Print the dictionary as well as `remainder`.\n",
    "- Iterate though they key:value pairs in the dictionary:\n",
    "    - For each value list of numbers, calculate the remainder of each number for each number in the `remainder` list.\n",
    "    - Create a dictionary where the keys are the numbers in the value list, and the values are the remainders of that number from the remainder list.\n",
    "    - ex: if a value in the dictionary is `[10,9]` and `remainder` is `[2,3]`, the new dictionary would be: `{10:[0, 1], 9:[1, 0]}`\n",
    "    - Keep the original key of the input dictionary, but change the value to the new dictionary of remainders.\n",
    "- Print out the final output dictionary.\n",
    "- Return the output dictionary.\n",
    "\n",
    "Notes/Hints:\n",
    "\n",
    "- keyword arguments are specified in functions like so: \n",
    "    ```python\n",
    "    def example_function(arg1, kwarg1=default_value):\n",
    "    ```\n",
    "- The operator for finding the remainder of two values is \"modulus\": ```%```\n",
    "    ```python\n",
    "    14 % 5 == 4\n",
    "    ```"
   ]
  },
  {
   "cell_type": "code",
   "execution_count": 4,
   "metadata": {
    "collapsed": true
   },
   "outputs": [],
   "source": [
    "test_dict = {'A':[1,2,3,4,5], 'B':[12.1, 14.2, 20.3, 25.4], 'C':[10, 25.5, 50.9, 101]}\n",
    "optional_remainder = [2,3,4,5]"
   ]
  },
  {
   "cell_type": "markdown",
   "metadata": {},
   "source": [
    "#### Define your function below:"
   ]
  },
  {
   "cell_type": "code",
   "execution_count": 5,
   "metadata": {
    "collapsed": true
   },
   "outputs": [],
   "source": [
    "def q2_func(d, remainder=[]):\n",
    "    if len(remainder) == 0:\n",
    "        remainder.append(2)\n",
    "    pprint.pprint(d)\n",
    "    print(remainder)\n",
    "    for key, values in d.items():\n",
    "        remainders_of_values = {}\n",
    "        for v in values:\n",
    "            current_value_remainders = []\n",
    "            for r in remainder:\n",
    "                current_value_remainders.append(v % r)\n",
    "            remainders_of_values[v] = current_value_remainders\n",
    "        d[key] = remainders_of_values\n",
    "    pprint.pprint(d)\n",
    "    return(d)"
   ]
  },
  {
   "cell_type": "markdown",
   "metadata": {},
   "source": [
    "#### Run the function with `test_dict` only:"
   ]
  },
  {
   "cell_type": "code",
   "execution_count": 6,
   "metadata": {
    "collapsed": false
   },
   "outputs": [
    {
     "name": "stdout",
     "output_type": "stream",
     "text": [
      "{'A': [1, 2, 3, 4, 5],\n",
      " 'B': [12.1, 14.2, 20.3, 25.4],\n",
      " 'C': [10, 25.5, 50.9, 101]}\n",
      "[2]\n",
      "{'A': {1: [1], 2: [0], 3: [1], 4: [0], 5: [1]},\n",
      " 'B': {12.1: [0.09999999999999964],\n",
      "       14.2: [0.1999999999999993],\n",
      "       20.3: [0.3000000000000007],\n",
      "       25.4: [1.3999999999999986]},\n",
      " 'C': {10: [0], 25.5: [1.5], 50.9: [0.8999999999999986], 101: [1]}}\n"
     ]
    }
   ],
   "source": [
    "output = q2_func(test_dict)"
   ]
  },
  {
   "cell_type": "markdown",
   "metadata": {},
   "source": [
    "#### Run the function with `test_dict` and `optional_remainder`:"
   ]
  },
  {
   "cell_type": "code",
   "execution_count": 7,
   "metadata": {
    "collapsed": false
   },
   "outputs": [
    {
     "name": "stdout",
     "output_type": "stream",
     "text": [
      "{'A': {1: [1], 2: [0], 3: [1], 4: [0], 5: [1]},\n",
      " 'B': {12.1: [0.09999999999999964],\n",
      "       14.2: [0.1999999999999993],\n",
      "       20.3: [0.3000000000000007],\n",
      "       25.4: [1.3999999999999986]},\n",
      " 'C': {10: [0], 25.5: [1.5], 50.9: [0.8999999999999986], 101: [1]}}\n",
      "[2, 3, 4, 5]\n",
      "{'A': {1: [1, 1, 1, 1],\n",
      "       2: [0, 2, 2, 2],\n",
      "       3: [1, 0, 3, 3],\n",
      "       4: [0, 1, 0, 4],\n",
      "       5: [1, 2, 1, 0]},\n",
      " 'B': {12.1: [0.09999999999999964,\n",
      "              0.09999999999999964,\n",
      "              0.09999999999999964,\n",
      "              2.0999999999999996],\n",
      "       14.2: [0.1999999999999993,\n",
      "              2.1999999999999993,\n",
      "              2.1999999999999993,\n",
      "              4.199999999999999],\n",
      "       20.3: [0.3000000000000007,\n",
      "              2.3000000000000007,\n",
      "              0.3000000000000007,\n",
      "              0.3000000000000007],\n",
      "       25.4: [1.3999999999999986,\n",
      "              1.3999999999999986,\n",
      "              1.3999999999999986,\n",
      "              0.3999999999999986]},\n",
      " 'C': {10: [0, 1, 2, 0],\n",
      "       25.5: [1.5, 1.5, 1.5, 0.5],\n",
      "       50.9: [0.8999999999999986,\n",
      "              2.8999999999999986,\n",
      "              2.8999999999999986,\n",
      "              0.8999999999999986],\n",
      "       101: [1, 2, 1, 1]}}\n"
     ]
    }
   ],
   "source": [
    "output = q2_func(test_dict, remainder=optional_remainder)"
   ]
  },
  {
   "cell_type": "markdown",
   "metadata": {},
   "source": [
    "<img src=\"http://imgur.com/l5NasQj.png\" style=\"float: left; margin: 25px 15px 0px 0px; height: 25px\">\n",
    "\n",
    "## Review Problem 3\n",
    "\n",
    "---\n",
    "\n",
    "Write a function that will iterate through two lists and perform an operation.\n",
    "\n",
    "Define a function that:\n",
    "\n",
    "- Accepts two arguments that are lists of numbers (either float or integer):\n",
    "- Print both of the lists.\n",
    "- Construct a `while` loop that:\n",
    "    - Prints the current iteration number, starting at 1.\n",
    "        ```python\n",
    "        Iteration: 1\n",
    "        ```\n",
    "    - Iterates through each element of both lists at the same time using a `for` loop, assigning the number from list 1 to a variable `value1` and the number from list 2 to a variable `value2`. For example, if `list1 == [1, 2]` and `list2 == [3, 4]`, there will be two iterations through the `for` loop:\n",
    "        - Iteration 1 will have ```value1 == 1``` and ```value2 == 3```\n",
    "        - Iteration 2 will have ```value2 == 2``` and ```value2 == 4```\n",
    "    - Within the `for` loop:\n",
    "        - Multiply `value1` and `value2` together and assign it to variable `multiplied`.\n",
    "        - Print `multiplied`.\n",
    "        - If `multiplied` is greater than 300, break out of the `for` loop and `while` loop.\n",
    "        - Otherwise, multiply each element of list 1 and list 2 by 2 before continuing through the `while` loop\n",
    "- Print \"Function complete.\"\n",
    "\n",
    "Notes/Hints:\n",
    "\n",
    "- To break out of a for loop or while loop at any time, use the `break` command.\n",
    "    - ex: \n",
    "        ```python\n",
    "        for i in my_list: \n",
    "            if i > 10: \n",
    "                break\n",
    "        ```\n",
    "- The `zip()` function will join lists/tuples element by element.\n",
    "    - ex:\n",
    "        ```python\n",
    "        zip([1,2], [3,4]) == [(1, 3), (2, 4)]\n",
    "        ```\n",
    "    - In a `for` loop, you can assign multiple variables at a time:\n",
    "        ```python\n",
    "        for value1, value2 in zip(list1, list2):\n",
    "        ```\n",
    "- `while True` can run a loop until a `break` condition is reached. Be careful!"
   ]
  },
  {
   "cell_type": "code",
   "execution_count": 8,
   "metadata": {
    "collapsed": true
   },
   "outputs": [],
   "source": [
    "list1 = [1.5,3.5,5.5,7.5]\n",
    "list2 = [0,4,8,12]"
   ]
  },
  {
   "cell_type": "markdown",
   "metadata": {},
   "source": [
    "#### Define your function below:"
   ]
  },
  {
   "cell_type": "code",
   "execution_count": 9,
   "metadata": {
    "collapsed": true
   },
   "outputs": [],
   "source": [
    "def q3_func(list1, list2):\n",
    "    print 'list 1:', list1\n",
    "    print 'list 2:', list2\n",
    "    iteration = 1\n",
    "    while True:\n",
    "        print 'Iteration: ' + str(iteration)\n",
    "        broke_for_loop = False\n",
    "        for value1, value2 in zip(list1, list2):\n",
    "            multiplied = value1 * value2\n",
    "            print 'multiplied:', multiplied\n",
    "            if multiplied > 300:\n",
    "                broke_for_loop = True\n",
    "                break\n",
    "        if broke_for_loop:\n",
    "            break\n",
    "        for i in range(len(list1)):\n",
    "            list1[i] = list1[i] * 2\n",
    "        for i in range(len(list2)):\n",
    "            list2[i] = list2[i] * 2\n",
    "        iteration = iteration + 1\n",
    "    print 'Function complete.'"
   ]
  },
  {
   "cell_type": "markdown",
   "metadata": {},
   "source": [
    "#### Run your function with arguments `list1` and `list2`"
   ]
  },
  {
   "cell_type": "code",
   "execution_count": 10,
   "metadata": {
    "collapsed": false
   },
   "outputs": [
    {
     "name": "stdout",
     "output_type": "stream",
     "text": [
      "list 1: [1.5, 3.5, 5.5, 7.5]\n",
      "list 2: [0, 4, 8, 12]\n",
      "Iteration: 1\n",
      "multiplied: 0.0\n",
      "multiplied: 14.0\n",
      "multiplied: 44.0\n",
      "multiplied: 90.0\n",
      "Iteration: 2\n",
      "multiplied: 0.0\n",
      "multiplied: 56.0\n",
      "multiplied: 176.0\n",
      "multiplied: 360.0\n",
      "Function complete.\n"
     ]
    }
   ],
   "source": [
    "q3_func(list1, list2)"
   ]
  },
  {
   "cell_type": "markdown",
   "metadata": {},
   "source": [
    "<img src=\"http://imgur.com/l5NasQj.png\" style=\"float: left; margin: 25px 15px 0px 0px; height: 25px\">\n",
    "\n",
    "## Review Problem 4\n",
    "\n",
    "---\n",
    "\n",
    "Write a function that calculates summary statistics for distributions.\n",
    "\n",
    "Define a function that:\n",
    "\n",
    "- Accepts two arguments, `i` and `numbers`.\n",
    "- Prints a string indicating what the current `i` is.\n",
    "- Calculate, without using numpy, the mean of `numbers`.\n",
    "- Calculate, without using numpy, the median of `numbers`.\n",
    "- Print the mean and median, for example:\n",
    "    ```python\n",
    "    mean: 12\n",
    "    median: 9\n",
    "    ```\n",
    "    \n",
    "Notes/Hints:\n",
    "\n",
    "- You should define your function _outside_ of the provided `for` loop, and then call it with `i` and `numbers` within the `for` loop.\n",
    "- `for i in range(1, 15, 2)` assigns `i` from 1 to 15 with a step size of 2."
   ]
  },
  {
   "cell_type": "markdown",
   "metadata": {},
   "source": [
    "#### Define your function(s) below:"
   ]
  },
  {
   "cell_type": "code",
   "execution_count": 11,
   "metadata": {
    "collapsed": true
   },
   "outputs": [],
   "source": [
    "def median_function(numbers):\n",
    "    num_length = len(numbers)\n",
    "    is_even = True\n",
    "    if (num_length % 2) != 0:\n",
    "        is_even = False\n",
    "        \n",
    "    if not is_even:\n",
    "        odd_index = float(num_length)/2.0\n",
    "        odd_index = int(odd_index - 0.5)\n",
    "        numbers.sort()\n",
    "        return(numbers[odd_index])\n",
    "    \n",
    "    else:\n",
    "        even_index = num_length/2\n",
    "        numbers.sort()\n",
    "        return (numbers[even_index] + numbers[even_index-1]) / 2.0\n",
    "    \n",
    "\n",
    "def q5_func(i, numbers):\n",
    "    print 'i is currently: ', i\n",
    "    \n",
    "    # manual mean:\n",
    "    mean = 0\n",
    "    for n in numbers:\n",
    "        mean = mean + n\n",
    "    mean = mean / float(len(numbers))\n",
    "    \n",
    "    # manual median:\n",
    "    median = median_function(numbers)\n",
    "    \n",
    "    print 'mean: ', mean\n",
    "    print 'median: ', median"
   ]
  },
  {
   "cell_type": "markdown",
   "metadata": {},
   "source": [
    "#### Run your function with the provided for-loop below (in place of `q5_func`)"
   ]
  },
  {
   "cell_type": "code",
   "execution_count": 12,
   "metadata": {
    "collapsed": false
   },
   "outputs": [
    {
     "name": "stdout",
     "output_type": "stream",
     "text": [
      "i is currently:  1\n",
      "mean:  0.0\n",
      "median:  0\n",
      "i is currently:  3\n",
      "mean:  33.3366336634\n",
      "median:  25\n",
      "i is currently:  5\n",
      "mean:  39.603960396\n",
      "median:  37\n",
      "i is currently:  7\n",
      "mean:  42.7227722772\n",
      "median:  41\n",
      "i is currently:  9\n",
      "mean:  44.1188118812\n",
      "median:  43\n",
      "i is currently:  11\n",
      "mean:  45.099009901\n",
      "median:  45\n",
      "i is currently:  13\n",
      "mean:  46.396039604\n",
      "median:  46\n"
     ]
    }
   ],
   "source": [
    "import numpy as np\n",
    "\n",
    "# Provided for loop for i and numbers:\n",
    "for i in range(1, 15, 2):\n",
    "    numbers = [x if not x % i == 0 else 0 for x in range(101)]\n",
    "    \n",
    "    # Call your function here using i and numbers:\n",
    "    q5_func(i, numbers)"
   ]
  },
  {
   "cell_type": "markdown",
   "metadata": {},
   "source": [
    "<img src=\"http://imgur.com/l5NasQj.png\" style=\"float: left; margin: 25px 15px 0px 0px; height: 25px\">\n",
    "\n",
    "## Review Problem 5\n",
    "\n",
    "---\n",
    "\n",
    "Define a function that calculates the [pearson correlation coefficient](https://en.wikipedia.org/wiki/Pearson_product-moment_correlation_coefficient) between two lists of numbers.\n",
    "\n",
    "Your function will:\n",
    "\n",
    "- Accept two arguments (the provided lists `X` and `Y`).\n",
    "- Print the length of `X` and `Y` like so:\n",
    "    ```python\n",
    "    Length of X: 40\n",
    "    Length of Y: 40\n",
    "    ```\n",
    "- Calculate the pearson correlation coefficient between the two lists and assign the value to variable `pearson_r`.\n",
    "    - Create a variable `X_deviation` that is each element of `X` minus the mean of `X`. \n",
    "    - Create a variable `Y_deviation` that is each element of `Y` minus the mean of `Y`.\n",
    "    - Create a variable `sqrt_X_deviation_sq` that is the square root of the sum of the square of each element of `X_deviation`.\n",
    "    - Create a variable `sqrt_Y_deviation_sq` that is the same thing you just did but for `Y_deviation`.\n",
    "    - Create a variable `sum_XY_deviation` that is the sum of each element of `X` and `Y` multiplied by each other, in order. You can use the `zip()` function to iterate through two lists at the same time:\n",
    "        ```python\n",
    "        for x_d, y_d in zip(X_deviation, Y_deviation):\n",
    "        ```\n",
    "    - `pearson_r` is equal to `sum_XY_deviation` divided by `(sqrt_X_deviation_sq * sqrt_Y_deviation_sq)`.\n",
    "- Print `pearson_r`.\n",
    "- Check if it is the same as numpy's correlation function. Print `np.corrcoef(X, Y)[0,1]`\n",
    "    "
   ]
  },
  {
   "cell_type": "code",
   "execution_count": 13,
   "metadata": {
    "collapsed": true
   },
   "outputs": [],
   "source": [
    "X = [14.2,5.8,4.8,12.7,5.6,-1.2,5.3,11.9,4.8,8.1,1.5,8.5,14.9,6.1,\n",
    "     6.8,12.6,15.5,24.3,15.6,16.8,22.3,22.6,26.2,19.0,24.3,26.3,\n",
    "     25.3,31.6,27.3,33.0,32.6,30.7,29.6,34.7,32.7,43.1,40.1,35.4,49.6,38.6]\n",
    "\n",
    "Y = [-15.5,-8.5,0.8,-3.9,4.9,12.7,10.0,16.5,5.7,13.1,10.3,12.4,-1.5,\n",
    "     1.7,26.0,14.3,30.3,21.7,27.5,38.2,18.9,21.2,18.2,26.1,14.7,16.4,\n",
    "     22.8,34.3,37.1,38.9,39.1,33.8,52.2,36.5,20.7,21.6,14.5,33.6,44.5,44.2]"
   ]
  },
  {
   "cell_type": "markdown",
   "metadata": {},
   "source": [
    "#### Define your function below:"
   ]
  },
  {
   "cell_type": "code",
   "execution_count": 14,
   "metadata": {
    "collapsed": true
   },
   "outputs": [],
   "source": [
    "def calculate_pearson(X, Y):\n",
    "    print 'len X:', len(X)\n",
    "    print 'len Y:', len(Y)\n",
    "    \n",
    "    X_mean = np.mean(X)\n",
    "    Y_mean = np.mean(Y)\n",
    "    \n",
    "    X_deviation = []\n",
    "    Y_deviation = []\n",
    "    \n",
    "    for x in X:\n",
    "        X_deviation.append(x - X_mean)\n",
    "    \n",
    "    for y in Y:\n",
    "        Y_deviation.append(y - Y_mean)\n",
    "        \n",
    "    # Square each element of X_deviation and Y_deviation:\n",
    "    \n",
    "    X_deviation_sq = []\n",
    "    Y_deviation_sq = []\n",
    "    \n",
    "    for x_d in X_deviation:\n",
    "        X_deviation_sq.append(x_d ** 2)\n",
    "        \n",
    "    for y_d in Y_deviation:\n",
    "        Y_deviation_sq.append(y_d ** 2)\n",
    "        \n",
    "    sqrt_X_deviation_sq = np.sqrt(np.sum(X_deviation_sq))\n",
    "    sqrt_Y_deviation_sq = np.sqrt(np.sum(Y_deviation_sq))\n",
    "    \n",
    "    # sum together element by element\n",
    "    XY_deviation = []\n",
    "    for x_d, y_d in zip(X_deviation, Y_deviation):\n",
    "        XY_deviation.append(x_d * y_d)\n",
    "        \n",
    "    sum_XY_deviation = np.sum(XY_deviation)\n",
    "    \n",
    "    print 'manual pearson r:', sum_XY_deviation / (sqrt_X_deviation_sq * sqrt_Y_deviation_sq)\n",
    "    print 'numpy pearson r:', np.corrcoef(X, Y)[0,1]\n",
    "    "
   ]
  },
  {
   "cell_type": "markdown",
   "metadata": {},
   "source": [
    "#### Run your function on `X` and `Y`:"
   ]
  },
  {
   "cell_type": "code",
   "execution_count": 15,
   "metadata": {
    "collapsed": false
   },
   "outputs": [
    {
     "name": "stdout",
     "output_type": "stream",
     "text": [
      "len X: 40\n",
      "len Y: 40\n",
      "manual pearson r: 0.659990523006\n",
      "numpy pearson r: 0.659990523006\n"
     ]
    }
   ],
   "source": [
    "calculate_pearson(X,Y)"
   ]
  },
  {
   "cell_type": "markdown",
   "metadata": {},
   "source": [
    "<img src=\"http://imgur.com/l5NasQj.png\" style=\"float: left; margin: 25px 15px 0px 0px; height: 25px\">\n",
    "\n",
    "## Review Problem 6\n",
    "\n",
    "---\n",
    "\n",
    "For this problem you will be defining a function that calculates the [spearman rank correlation coefficient](https://en.wikipedia.org/wiki/Spearman%27s_rank_correlation_coefficient) between two lists. Spearman's rho is a measure of how related two sets of numbers are.\n",
    "\n",
    "Your function will:\n",
    "\n",
    "- Accept the provided lists of numbers defined for problem 5, `X` and `Y`.\n",
    "- Calculate the rank of the numbers in the `X` and `Y` lists. The rank is a number that defines what _index position_ each number would be if the list were in order.\n",
    "    - For example: say `list1 = [5,2,0,9,-5]`, then `list1_rank = [3,2,1,4,0]`\n",
    "    - Calculating the rank is not trivial. You can use the `rankdata()` function from `scipy.stats` on a list to get the ranks of the numbers.\n",
    "    - Assign the rank of list `X` to variable `X_rank` and list `Y` to variable `Y_rank`.\n",
    "- Manually calculate the covariance between `X_rank` and `Y_rank` as `XY_rank_cov`:\n",
    "    1. Calculate `X_mean`: the mean of `X_rank` using `np.mean()`.\n",
    "    2. Calculate `Y_mean`: the mean of `Y_rank` using `np.mean()`.\n",
    "    3. Calculate `X_deviation`: subtract `X_mean` from each element of `X_rank`.\n",
    "    4. Calculate `Y_deviation`: subtract `Y_mean` from each element of `Y_rank`.\n",
    "    5. Calculate `XY_d`: multiply `X_deviation` with `Y_deviation`, element by element. You can use pythons `zip()` function to iterate across lists at the same time:\n",
    "    ```python\n",
    "    for xd, yd in zip(X_deviation, Y_deviation):\n",
    "    ```\n",
    "    6. Calculate `sum_XY_d`: the sum of the elements in `XY_d` with `np.sum`.\n",
    "    7. Calculate `XY_rank_cov`: divide `sum_XY_d` by `len(XY_d)`.\n",
    "- Calculate the standard deviations `X_rank_std` and `Y_rank_std` of the `X_rank` and `Y_rank` lists. You can use `np.std()`.\n",
    "- Calculate the spearman rank correlation coefficient as `XY_spearman`: divide `XY_rank_cov` by `(X_rank_std * Y_rank_std)`.\n",
    "- Print `XY_spearman`.\n",
    "- Compare your value to the scipy function for spearman: print out `spearmanr(X, Y)`."
   ]
  },
  {
   "cell_type": "markdown",
   "metadata": {},
   "source": [
    "#### Define your function below:"
   ]
  },
  {
   "cell_type": "code",
   "execution_count": 16,
   "metadata": {
    "collapsed": true
   },
   "outputs": [],
   "source": [
    "from scipy.stats import spearmanr, rankdata\n",
    "\n",
    "def spearman_coef(X, Y):\n",
    "    \n",
    "    X_rank = rankdata(X)\n",
    "    Y_rank = rankdata(Y)\n",
    "    \n",
    "    X_mean = np.mean(X_rank)\n",
    "    Y_mean = np.mean(Y_rank)\n",
    "    \n",
    "    X_deviation = []\n",
    "    Y_deviation = []\n",
    "    \n",
    "    for x in X_rank:\n",
    "        X_deviation.append(x - X_mean)\n",
    "    \n",
    "    for y in Y_rank:\n",
    "        Y_deviation.append(y - Y_mean)\n",
    "        \n",
    "    XY_d = []\n",
    "    for x_d, y_d in zip(X_deviation, Y_deviation):\n",
    "        XY_d.append(x_d * y_d)\n",
    "        \n",
    "    sum_XY_d = np.sum(XY_d)\n",
    "    \n",
    "    XY_rank_cov = sum_XY_d * 1 / len(XY_d)\n",
    "    \n",
    "    X_rank_std = np.std(X_rank)\n",
    "    Y_rank_std = np.std(Y_rank)\n",
    "    \n",
    "    XY_spearman = XY_rank_cov / (X_rank_std * Y_rank_std)\n",
    "    \n",
    "    print 'Manual spearman rho:', XY_spearman\n",
    "    print 'scipy spearman rho:', spearmanr(X, Y)"
   ]
  },
  {
   "cell_type": "markdown",
   "metadata": {},
   "source": [
    "#### Run your function on lists `X` and `Y`:"
   ]
  },
  {
   "cell_type": "code",
   "execution_count": 17,
   "metadata": {
    "collapsed": false
   },
   "outputs": [
    {
     "name": "stdout",
     "output_type": "stream",
     "text": [
      "Manual spearman rho: 0.721925136867\n",
      "scipy spearman rho: SpearmanrResult(correlation=0.72192513686692761, pvalue=1.4606957738616958e-07)\n"
     ]
    }
   ],
   "source": [
    "spearman_coef(X, Y)"
   ]
  },
  {
   "cell_type": "markdown",
   "metadata": {},
   "source": [
    "<img src=\"http://imgur.com/l5NasQj.png\" style=\"float: left; margin: 25px 15px 0px 0px; height: 25px\">\n",
    "\n",
    "## Review Problem 7\n",
    "\n",
    "---\n",
    "\n",
    "Write a function to calculate the [root mean squared error](https://en.wikipedia.org/wiki/Root-mean-square_deviation), often written as RMSE. The RMSE is a popular measure of performance of predictions when you have a set of **observed values** and a set of **predicted values**. Your predicted values in this case are your \"predictions\" of what the true, observed values are.\n",
    "\n",
    "Your function will:\n",
    "\n",
    "- Accept two predefined lists as arguments: ```true_values``` and ```predictions```.\n",
    "- Calculate the error between ```predictions``` and ```true_values``` as variable ```errors```:\n",
    "    - Element by element, calculate the prediction minus the true value.\n",
    "- Calculate the square of each element in ```errors``` and assign this to variable ```sq_errors```.\n",
    "- Calculate ```avg_sq_error```, the mean of ```sq_errors```.\n",
    "- Calculate ```rmse```, the square root of ```avg_sq_error``` using ```np.sqrt()```.\n",
    "- Print ```rmse```.\n",
    "- Return ```rmse```."
   ]
  },
  {
   "cell_type": "code",
   "execution_count": 18,
   "metadata": {
    "collapsed": true
   },
   "outputs": [],
   "source": [
    "predictions = [14.2,5.8,4.8,12.7,5.6,-1.2,5.3,11.9,4.8,8.1,1.5,8.5,14.9,6.1,\n",
    "     6.8,12.6,15.5,24.3,15.6,16.8,22.3,22.6,26.2,19.0,24.3,26.3,\n",
    "     25.3,31.6,27.3,33.0,32.6,30.7,29.6,34.7,32.7,43.1,40.1,35.4,49.6,38.6]\n",
    "\n",
    "true_values = [-15.5,-8.5,0.8,-3.9,4.9,12.7,10.0,16.5,5.7,13.1,10.3,12.4,-1.5,\n",
    "     1.7,26.0,14.3,30.3,21.7,27.5,38.2,18.9,21.2,18.2,26.1,14.7,16.4,\n",
    "     22.8,34.3,37.1,38.9,39.1,33.8,52.2,36.5,20.7,21.6,14.5,33.6,44.5,44.2]"
   ]
  },
  {
   "cell_type": "markdown",
   "metadata": {},
   "source": [
    "#### Define your function below:"
   ]
  },
  {
   "cell_type": "code",
   "execution_count": 19,
   "metadata": {
    "collapsed": true
   },
   "outputs": [],
   "source": [
    "def calculate_rmse(true_values, predictions):\n",
    "    errors = []\n",
    "    \n",
    "    for val, pred in zip(true_values, predictions):\n",
    "        errors.append(pred - val)\n",
    "        \n",
    "    sq_errors = []\n",
    "    \n",
    "    for error in errors:\n",
    "        sq_errors.append(error ** 2)\n",
    "        \n",
    "    avg_sq_error = 0\n",
    "    for sq_error in sq_errors:\n",
    "        avg_sq_error = avg_sq_error + sq_error\n",
    "    \n",
    "    avg_sq_error = avg_sq_error / float(len(sq_errors))\n",
    "    \n",
    "    rmse = np.sqrt(avg_sq_error)\n",
    "    \n",
    "    print 'RMSE:', rmse\n",
    "    return(rmse)"
   ]
  },
  {
   "cell_type": "markdown",
   "metadata": {},
   "source": [
    "#### Run your function on `true_values` and `predictions`:"
   ]
  },
  {
   "cell_type": "code",
   "execution_count": 20,
   "metadata": {
    "collapsed": false
   },
   "outputs": [
    {
     "name": "stdout",
     "output_type": "stream",
     "text": [
      "RMSE: 11.7997245731\n"
     ]
    }
   ],
   "source": [
    "rmse = calculate_rmse(true_values, predictions)"
   ]
  },
  {
   "cell_type": "markdown",
   "metadata": {},
   "source": [
    "<img src=\"http://imgur.com/l5NasQj.png\" style=\"float: left; margin: 25px 15px 0px 0px; height: 25px\">\n",
    "\n",
    "## Review Problem 8\n",
    "\n",
    "---\n",
    "\n",
    "Define three functions to \"clean up\" two dictionaries and merge them together.\n",
    "\n",
    "Your first function, called ```string_intlist_cleaner``` should:\n",
    "\n",
    "- Accept one argument which will be a dictionary.\n",
    "- Iterate through the key:value pairs in the dictionary:\n",
    "    - If the key is not a **string**, remove the key:value pair from the dictionary.\n",
    "    - If the value is not a **list**, remove the key:value pair from the dictionary.\n",
    "- Return the \"cleaned\" dictionary.\n",
    "\n",
    "Your second function, called ```int_string_cleaner``` should:\n",
    "\n",
    "- Accept one argument which will be a dictionary.\n",
    "- Iterate through the key:value pairs in the dictionary:\n",
    "    - If the key is not an **integer**, remove the key:value pair from the dictionary.\n",
    "    - If the value is not a **string**, remove the key:value pair from the dictionary.\n",
    "- Return the \"cleaned\" dictionary.\n",
    "\n",
    "Your third function, called ```dict_cleaner``` should:\n",
    "\n",
    "- Accept two arguments which will be dictionaries.\n",
    "- Print the first dictionary.\n",
    "- Print the second dictionary.\n",
    "- Clean the first dictionary with ```string_intlist_cleaner()``` and assign to a variable.\n",
    "- Clean the second dictionary with ```int_string_cleaner()``` and assign to a variable\n",
    "- Combine the two cleaned dictionaries.\n",
    "- Print the combined and cleaned dictionary.\n",
    "- Return the combined and cleaned dictionary."
   ]
  },
  {
   "cell_type": "code",
   "execution_count": 21,
   "metadata": {
    "collapsed": true
   },
   "outputs": [],
   "source": [
    "first_dict = {'A':(1,2), 'B':[1,2,3,4,4], 'C':[0,9], 1:(1,1,1), 12:None, 'D':None, 'E':12.777}\n",
    "second_dict = {'1':('a','b'), 2:{1:23.3}, 3:'four', 4:'five', 'five':['six', 'seven'], 8:'nine'}"
   ]
  },
  {
   "cell_type": "markdown",
   "metadata": {},
   "source": [
    "#### Define your functions below:"
   ]
  },
  {
   "cell_type": "code",
   "execution_count": 22,
   "metadata": {
    "collapsed": true
   },
   "outputs": [],
   "source": [
    "def string_intlist_cleaner(d):\n",
    "    for k, v in d.items():\n",
    "        if not type(k) == str:\n",
    "            del d[k]\n",
    "        elif not type(v) == list:\n",
    "            del d[k]\n",
    "    return d\n",
    "            \n",
    "def int_string_cleaner(d):\n",
    "    for k, v in d.items():\n",
    "        if not type(k) == int:\n",
    "            del d[k]\n",
    "        elif not type(v) == str:\n",
    "            del d[k]\n",
    "    return d\n",
    "\n",
    "def dict_cleaner(first_dict, second_dict):\n",
    "    print \"First dictionary:\"\n",
    "    pprint.pprint(first_dict)\n",
    "    print \"Second dictionary:\"\n",
    "    pprint.pprint(second_dict)\n",
    "    \n",
    "    first_cleaned = string_intlist_cleaner(first_dict)\n",
    "    second_cleaned = int_string_cleaner(second_dict)\n",
    "    \n",
    "    first_cleaned.update(second_cleaned)\n",
    "    \n",
    "    print \"Cleaned dictionary:\",\n",
    "    pprint.pprint(first_cleaned)\n",
    "    return first_cleaned\n"
   ]
  },
  {
   "cell_type": "markdown",
   "metadata": {},
   "source": [
    "#### Run `dict_cleaner` with `first_dict` and `second_dict`:"
   ]
  },
  {
   "cell_type": "code",
   "execution_count": 23,
   "metadata": {
    "collapsed": false
   },
   "outputs": [
    {
     "name": "stdout",
     "output_type": "stream",
     "text": [
      "First dictionary:\n",
      "{1: (1, 1, 1),\n",
      " 12: None,\n",
      " 'A': (1, 2),\n",
      " 'B': [1, 2, 3, 4, 4],\n",
      " 'C': [0, 9],\n",
      " 'D': None,\n",
      " 'E': 12.777}\n",
      "Second dictionary:\n",
      "{2: {1: 23.3},\n",
      " 3: 'four',\n",
      " 4: 'five',\n",
      " 8: 'nine',\n",
      " '1': ('a', 'b'),\n",
      " 'five': ['six', 'seven']}\n",
      "Cleaned dictionary:{3: 'four', 4: 'five', 8: 'nine', 'B': [1, 2, 3, 4, 4], 'C': [0, 9]}\n",
      "\n"
     ]
    }
   ],
   "source": [
    "output = dict_cleaner(first_dict, second_dict)"
   ]
  },
  {
   "cell_type": "markdown",
   "metadata": {},
   "source": [
    "<img src=\"http://imgur.com/l5NasQj.png\" style=\"float: left; margin: 25px 15px 0px 0px; height: 25px\">\n",
    "\n",
    "## Review Problem 9A\n",
    "\n",
    "---\n",
    "\n",
    "Load and parse stats on Pokemon (the pokedex) from a comma separated value (`.csv`) file into a list of lists.\n",
    "\n",
    "The provided code below loads information from a comma separated value (csv) file. You need to parse this string into a more useable format. The format of the string is:\n",
    "\n",
    "- Rows are separated by newline characters: `\\n`\n",
    "- Columns are separated by commas: `,`\n",
    "- All cells in the csv are double quoted. Ex: \"PokedexNumber\" is the first cell of the first row.\n",
    "\n",
    "Using `for` loops, create a list of lists where each list within the overall list is a row of the csv, and each element in that list is a cell in that row. Additional criteria:\n",
    "\n",
    "1. Remove the quotes from each cell item.\n",
    "2. Numeric column values should be converted to floats.\n",
    "3. There are some cells that are empty and have no information. For these cells put a -1 value in place.\n",
    "\n",
    "The first three lists in your pokedex list should look like:\n",
    "\n",
    "    ['PokedexNumber', 'Name', 'Type', 'Total', 'HP', 'Attack', 'Defense', 'SpecialAttack', 'SpecialDefense', 'Speed']\n",
    "    [1.0, 'Bulbasaur', 'GrassPoison', 318.0, 45.0, 49.0, 49.0, 65.0, 65.0, 45.0]\n",
    "    [2.0, 'Ivysaur', 'GrassPoison', 405.0, 60.0, 62.0, 63.0, 80.0, 80.0, 60.0]\n"
   ]
  },
  {
   "cell_type": "code",
   "execution_count": 24,
   "metadata": {
    "collapsed": true
   },
   "outputs": [],
   "source": [
    "# Change this filepath to point to the location of the .csv on your own computer:\n",
    "filepath = '/Users/kiefer/github-repos/DSI-SF-4/datasets/pokemon/pokedex_basic.csv'\n",
    "\n",
    "# Code to read in pokedex info\n",
    "raw_pd = ''\n",
    "with open(filepath, 'r') as f:\n",
    "    raw_pd = f.read()"
   ]
  },
  {
   "cell_type": "markdown",
   "metadata": {},
   "source": [
    "#### Parse the file into the list of lists:"
   ]
  },
  {
   "cell_type": "code",
   "execution_count": 25,
   "metadata": {
    "collapsed": true
   },
   "outputs": [],
   "source": [
    "pd = []\n",
    "string_column_indices = [1,2]\n",
    "\n",
    "for r, raw_row in enumerate(raw_pd.split('\\n')):\n",
    "    row = []\n",
    "    for i, cell in enumerate(raw_row.split(',')):\n",
    "        cell = cell.replace('\"','')\n",
    "        if cell == '':\n",
    "            cell = -1\n",
    "        if r > 0:\n",
    "            if not i in string_column_indices:\n",
    "                cell = float(cell)\n",
    "        row.append(cell)\n",
    "    pd.append(row)"
   ]
  },
  {
   "cell_type": "markdown",
   "metadata": {},
   "source": [
    "#### Print out the first 3 lists"
   ]
  },
  {
   "cell_type": "code",
   "execution_count": 26,
   "metadata": {
    "collapsed": false
   },
   "outputs": [
    {
     "name": "stdout",
     "output_type": "stream",
     "text": [
      "['PokedexNumber', 'Name', 'Type', 'Total', 'HP', 'Attack', 'Defense', 'SpecialAttack', 'SpecialDefense', 'Speed']\n",
      "[1.0, 'Bulbasaur', 'GrassPoison', 318.0, 45.0, 49.0, 49.0, 65.0, 65.0, 45.0]\n",
      "[2.0, 'Ivysaur', 'GrassPoison', 405.0, 60.0, 62.0, 63.0, 80.0, 80.0, 60.0]\n"
     ]
    }
   ],
   "source": [
    "for p in pd[0:3]:\n",
    "    print p"
   ]
  },
  {
   "cell_type": "markdown",
   "metadata": {},
   "source": [
    "<img src=\"http://imgur.com/GCAf1UX.png\" style=\"float: left; margin: 25px 15px 0px 0px; height: 25px\">\n",
    "\n",
    "## Review Problem 9.B\n",
    "\n",
    "---\n",
    "\n",
    "Perform the same parsing that you did with `for` loops in problem 9A, but **using only a nested list comprehensions**. A single list comprehension (with nested list comprehensions inside of it) should do all of the parsing of `raw_pd`, outputting the list of lists. Do not write any functions to call within the list comprehension.\n",
    "\n",
    "The output should be exactly the same as in 9A."
   ]
  },
  {
   "cell_type": "markdown",
   "metadata": {},
   "source": [
    "#### Write the nested list comprehension to parse `raw_pd`:"
   ]
  },
  {
   "cell_type": "code",
   "execution_count": 27,
   "metadata": {
    "collapsed": true
   },
   "outputs": [],
   "source": [
    "pd_lc = [\n",
    "    [-1 if len(c) == 0 \n",
    "     else float(c) if not i in string_column_indices \n",
    "     else c \n",
    "     for i, c in enumerate(cells)\n",
    "    ] if r > 0\n",
    "    else cells\n",
    "    for r, cells in enumerate([[cell.replace('\"','') for cell in raw_row.split(',')]\n",
    "                               for raw_row in raw_pd.split('\\n')])\n",
    "]\n"
   ]
  },
  {
   "cell_type": "markdown",
   "metadata": {},
   "source": [
    "#### Print the first 3 lines of your parsed pokedex:"
   ]
  },
  {
   "cell_type": "code",
   "execution_count": 28,
   "metadata": {
    "collapsed": false
   },
   "outputs": [
    {
     "name": "stdout",
     "output_type": "stream",
     "text": [
      "['PokedexNumber', 'Name', 'Type', 'Total', 'HP', 'Attack', 'Defense', 'SpecialAttack', 'SpecialDefense', 'Speed']\n",
      "[1.0, 'Bulbasaur', 'GrassPoison', 318.0, 45.0, 49.0, 49.0, 65.0, 65.0, 45.0]\n",
      "[2.0, 'Ivysaur', 'GrassPoison', 405.0, 60.0, 62.0, 63.0, 80.0, 80.0, 60.0]\n"
     ]
    }
   ],
   "source": [
    "for p in pd_lc[0:3]:\n",
    "    print p"
   ]
  },
  {
   "cell_type": "markdown",
   "metadata": {},
   "source": [
    "<img src=\"http://imgur.com/gGrau8s.png\" style=\"float: left; margin: 25px 15px 0px 0px; height: 25px\">\n",
    "\n",
    "### Review Problem 10\n",
    "\n",
    "---\n",
    "\n",
    "Write a function that takes a tiered dictionary of dictionaries with arbitrary depth. Your function will iterate through the dictionary, printing out the contents.\n",
    "\n",
    "Define a function that:\n",
    "\n",
    "- Accepts at least one argument, the predefined dictionary.\n",
    "- For each key:value pair, print out the key and the value.\n",
    "- If the value is also a dictionary, do the same for that dictionary, but printing out the key:value pair with tabs equivalent to the current \"depth\" indicating what level we are on.\n",
    "- Note: tab in strings is written as ```\\t```\n",
    "    \n",
    "Example:\n",
    "```python\n",
    "'key1' : 'value1'\n",
    "'key2' :\n",
    "    'key3' : 'value3'\n",
    "    'key4' : 'value4'\n",
    "    'key5' :\n",
    "        'key6': 'value6'\n",
    "'key7' : 'value7'\n",
    "```"
   ]
  },
  {
   "cell_type": "code",
   "execution_count": 29,
   "metadata": {
    "collapsed": true
   },
   "outputs": [],
   "source": [
    "tiered_dict = {'T1.1':'V1.1', \n",
    "               'T1.2':'V1.2',\n",
    "               'T1.3':{'T2.1':'V2.1',\n",
    "                       'T2.2':['V2.2.1','V2.2.2'],\n",
    "                       'T2.3':{'T3.1':['V3.1.1','V3.1.2'],\n",
    "                               'T3.2':'V3.2',\n",
    "                               'T3.3':'V3.3'}},\n",
    "               'T1.4':{'T2.4':{'T3.4':{'T4.1':'V4.1',\n",
    "                                       'T4.2':'V4.2'},\n",
    "                               'T3.5':{'T4.3':'V4.3'}},\n",
    "                       'T2.5':['V2.3.1','V2.3.2']},\n",
    "               }"
   ]
  },
  {
   "cell_type": "markdown",
   "metadata": {},
   "source": [
    "#### Define your function below:"
   ]
  },
  {
   "cell_type": "code",
   "execution_count": 30,
   "metadata": {
    "collapsed": true
   },
   "outputs": [],
   "source": [
    "def recursive_dict_printer(d, depth=0):\n",
    "    tabs = '\\t'*depth\n",
    "    for k, v in d.items():\n",
    "        if not type(v) == dict:\n",
    "            print tabs+str(k)+' : '+str(v)\n",
    "        else:\n",
    "            print tabs+str(k)+' :'\n",
    "            recursive_dict_printer(v, depth=depth+1)"
   ]
  },
  {
   "cell_type": "markdown",
   "metadata": {},
   "source": [
    "#### Run your function on `tiered_dict`:"
   ]
  },
  {
   "cell_type": "code",
   "execution_count": 31,
   "metadata": {
    "collapsed": false
   },
   "outputs": [
    {
     "name": "stdout",
     "output_type": "stream",
     "text": [
      "T1.4 :\n",
      "\tT2.4 :\n",
      "\t\tT3.5 :\n",
      "\t\t\tT4.3 : V4.3\n",
      "\t\tT3.4 :\n",
      "\t\t\tT4.2 : V4.2\n",
      "\t\t\tT4.1 : V4.1\n",
      "\tT2.5 : ['V2.3.1', 'V2.3.2']\n",
      "T1.3 :\n",
      "\tT2.1 : V2.1\n",
      "\tT2.2 : ['V2.2.1', 'V2.2.2']\n",
      "\tT2.3 :\n",
      "\t\tT3.1 : ['V3.1.1', 'V3.1.2']\n",
      "\t\tT3.3 : V3.3\n",
      "\t\tT3.2 : V3.2\n",
      "T1.2 : V1.2\n",
      "T1.1 : V1.1\n"
     ]
    }
   ],
   "source": [
    "recursive_dict_printer(tiered_dict)"
   ]
  }
 ],
 "metadata": {
  "kernelspec": {
   "display_name": "Python 2",
   "language": "python",
   "name": "python2"
  },
  "language_info": {
   "codemirror_mode": {
    "name": "ipython",
    "version": 2
   },
   "file_extension": ".py",
   "mimetype": "text/x-python",
   "name": "python",
   "nbconvert_exporter": "python",
   "pygments_lexer": "ipython2",
   "version": "2.7.12"
  }
 },
 "nbformat": 4,
 "nbformat_minor": 0
}
