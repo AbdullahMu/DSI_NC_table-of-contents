{
 "cells": [
  {
   "cell_type": "markdown",
   "metadata": {},
   "source": [
    "<img src=\"https://ga-dash.s3.amazonaws.com/production/assets/logo-9f88ae6c9c3871690e33280fcf557f33.png\" style=\"float: left; margin: 15px;\">\n",
    "# Group EDA II\n",
    "<br>\n",
    "<img src=\"https://snag.gy/LZToF2.jpg\" style=\"width: 500px\">\n",
    "<br>\n",
    "The focus of this group EDA practice, is to present within the given frame, to a high level, non-technical audience.  Please give focus to the given goals and how achievable they are in terms of factual numbers.  Not everything is achievable, so it's important to explain why to an audience that doesn't know anything about numbers.  In the event that a goal can't be achieved, explain why in simple language, backing up your reasoning with measurable details.\n",
    "\n",
    "However, it's also important to look at the details and address the class with your approach.  A notebook presentation is fine for the technical aspect but your main priority should be to address a non-technical audience.  Keep in mind that it's good to explain your code, but **always frame everything you present in terms of the goals**.  If what you're choosing to present isn't relevent to the goals, please consider ommitting those details.\n",
    "\n",
    "Each group has a slightly different challenge but it is possible to use what we learned about linear regression, regularization, and exploratory analysis so far.\n",
    "\n",
    "---"
   ]
  },
  {
   "cell_type": "markdown",
   "metadata": {},
   "source": [
    "## Adult Education\n",
    "\n",
    "You are on the data science team at a private school.  The marketing department has approached us to help write a series of blog posts that can help sell the value proposition of the school.  Secondarily, business development is very interested in developing online products in emerging markets.\n",
    "\n",
    "The goals are:\n",
    "\n",
    "- Describe the areas of highest value within the dataset\n",
    "- Describe the characteristics that target value\n",
    "- Identify possible markets and demographic characteristics for business development\n",
    "\n",
    "Presentation requirements:\n",
    "\n",
    "- %50 of presentation must address a non-technical audience \n",
    "- Someone who hasn't presented yet must take lead on presentation"
   ]
  },
  {
   "cell_type": "code",
   "execution_count": 1,
   "metadata": {
    "collapsed": false
   },
   "outputs": [],
   "source": [
    "import pandas as pd\n",
    "\n",
    "df = pd.read_csv(\"../../../datasets/adult_salary/adult.csv\")\n"
   ]
  },
  {
   "cell_type": "markdown",
   "metadata": {},
   "source": [
    "## FIFA\n",
    "\n",
    "You are working for an advertising analytics consulting company.  Your client, a name brand television network, needs help deciding how to re-prioritize the pricing structure for new customers, but also incentivize existing clients to convert to new partnerships sponsors for teams and players.\n",
    "\n",
    "Goals:\n",
    "- Determine a metric to decide how exciting a game is\n",
    "  - Engineer this feature using existing data\n",
    "- Suggest a pricing structure tied to overall value of \"game excitement\"\n",
    "\n",
    "Presentation requirements:\n",
    "\n",
    "- %50 of presentation must address a non-technical audience \n",
    "- Someone who hasn't presented yet must take lead on presentation\n"
   ]
  },
  {
   "cell_type": "code",
   "execution_count": 2,
   "metadata": {
    "collapsed": false,
    "scrolled": false
   },
   "outputs": [],
   "source": [
    "df = pd.read_csv(\"../../../datasets/fifa_goals/fifa_goals.csv\")"
   ]
  },
  {
   "cell_type": "markdown",
   "metadata": {},
   "source": [
    "## Mobile Madness\n",
    "\n",
    "In an effort to extend account lifetime of existing customers, we NEED to identify customers for targeted A/B experiments.  Before we do that, we need to really have a good level of certainty around who is going to churn and why.\n",
    "\n",
    "Goals:\n",
    "\n",
    "- Research the concept of \"churn\"\n",
    "- Identify behaviors strongly coorelated with churn in this dataset\n",
    "- Suggest what we should look for to consider A/B tests\n",
    "\n",
    "Presentation requirements:\n",
    "- %50 of presentation must address a non-technical audience\n",
    "- Someone who hasn't presented yet must take lead on presentation\n"
   ]
  },
  {
   "cell_type": "code",
   "execution_count": 3,
   "metadata": {
    "collapsed": false
   },
   "outputs": [],
   "source": [
    "df = pd.read_csv(\"../../../datasets/churn_rate/churn-bigml-20.csv\")"
   ]
  },
  {
   "cell_type": "markdown",
   "metadata": {},
   "source": [
    "## Marathon\n",
    "\n",
    "The overlords of marathon planning committees have petitioned a group of DSI students to help with their decision to plan future sites for marathons.  The the marathon super-pac believes that people who engage with events are drawn to the challenege aspects of the event as a core value (harder marathons == better value).  However, a small contingency within the ranks of the marathon super-pac believe that the spirit of events supercedes the element of difficulty because of the phenomena of spectatorship.\n",
    "\n",
    "Goals\n",
    "- Suggest qualities of high performing events \n",
    "  - Engineer new features / metrics to evaluate\n",
    "  - The goal of the committee is to use these metrics to decide future sites for events\n",
    "- Settle the dispute within the committee about the value of challenege vs popularity\n",
    "  - Which is most important?\n",
    "  - Are they valuable for different reasons?\n",
    "  \n",
    "Presentation requirements:\n",
    "- %75 of presentation must address a non-technical audience\n",
    "- Someone who hasn't presented yet must take lead on presentation"
   ]
  },
  {
   "cell_type": "code",
   "execution_count": 4,
   "metadata": {
    "collapsed": false
   },
   "outputs": [],
   "source": [
    "# This project contains multiple datasets\n",
    "df = pd.read_csv(\"../../../../DSI-SF/datasets/marathons/Winners.csv\")\n"
   ]
  }
 ],
 "metadata": {
  "kernelspec": {
   "display_name": "Python [dsi]",
   "language": "python",
   "name": "Python [dsi]"
  },
  "language_info": {
   "codemirror_mode": {
    "name": "ipython",
    "version": 2
   },
   "file_extension": ".py",
   "mimetype": "text/x-python",
   "name": "python",
   "nbconvert_exporter": "python",
   "pygments_lexer": "ipython2",
   "version": "2.7.12"
  }
 },
 "nbformat": 4,
 "nbformat_minor": 0
}
