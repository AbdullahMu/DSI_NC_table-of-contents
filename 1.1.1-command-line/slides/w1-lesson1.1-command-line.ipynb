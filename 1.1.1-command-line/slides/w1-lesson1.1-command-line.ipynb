{
 "cells": [
  {
   "cell_type": "markdown",
   "metadata": {
    "slideshow": {
     "slide_type": "slide"
    }
   },
   "source": [
    "<img src=\"https://ga-dash.s3.amazonaws.com/production/assets/logo-9f88ae6c9c3871690e33280fcf557f33.png\" style=\"float: left; margin: 10px;\"> \n",
    "# Using the Command Line\n",
    "\n",
    "---\n",
    "Week 1 | Lesson 1.1\n",
    "\n",
    "### LEARNING OBJECTIVES\n",
    "*After this lesson, you will be able to:*\n",
    "- Create folders and files using the command line (mkdir, touch)\n",
    "- Change directories and list directory contents (cd, ls)\n",
    "- Check current working directly (pwd)\n",
    "\n",
    "\n",
    "### STUDENT PRE-WORK\n",
    "*Before this lesson, you should already be able to:*\n",
    "- [GA pre-work](http://generalassembly.github.io/prework/cl/#/)\n",
    "- Open the terminal\n",
    "- Familiarize yourself with the [UNIX] [1] commands cd, pwd, mkdir, pwd, and touch (Don't worry,\n",
    "    we'll be going over them in class, just be able to give a description of what the commands mean.)\n",
    "\n",
    "[1]: http://mally.stanford.edu/~sr/computing/basic-unix.html    \"UNIX\""
   ]
  },
  {
   "cell_type": "markdown",
   "metadata": {
    "slideshow": {
     "slide_type": "slide"
    }
   },
   "source": [
    "### LESSON GUIDE\n",
    "| TIMING  | TYPE  | TOPIC  |\n",
    "|:-:|---|---|\n",
    "| 10 min  | [Introduction](#introduction)   | What is a GUI (pronounced gooey)?   |\n",
    "| 40 min  | [Codealong](#demo)  | Forget Finder, get fast at using your laptop  |\n",
    "| 20 min  | [Codealong](#demo)  | Paths |\n",
    "| 10 min  | [Independent Practice](#ind-practice)  |   |\n",
    "| 10 min  | [Conclusion](#conclusion)  |  |\n"
   ]
  },
  {
   "cell_type": "markdown",
   "metadata": {
    "slideshow": {
     "slide_type": "slide"
    }
   },
   "source": [
    "<a name=\"introduction\"></a>\n",
    "##  What is a GUI (pronounced gooey)? (5 mins)\n",
    "There was a point when computers didn't come with a Graphical User Interface (GUI). Instead, everyone interacted with the computer using text commands in what we call a Command Line Interface (CLI).\n",
    "\n",
    "![Dos](https://upload.wikimedia.org/wikipedia/commons/9/94/FreeDOS_Beta_9_pre-release5_%28command_line_interface%29_on_Bochs_sshot20040912.png)\n",
    "*Image from Wikimedia*\n",
    "\n",
    "Today, the command line still exists, even though you may have never seen it as a casual computer user. Knowing some basic CLI commands is useful."
   ]
  },
  {
   "cell_type": "markdown",
   "metadata": {
    "slideshow": {
     "slide_type": "notes"
    }
   },
   "source": [
    "This CLI is the gateway to your operating system and can do many of the same things you normally would do, without a graphical interface.  This is also facilitated by what we call a \"shell\".  What is a GUI? What is a CLI? What is a shell?"
   ]
  },
  {
   "cell_type": "markdown",
   "metadata": {
    "slideshow": {
     "slide_type": "slide"
    }
   },
   "source": [
    "### Why Command Line?\n",
    "\n",
    "Everything you can do in a windowed environment, can be done in terminal, faster.  Using the mouse, clicking on buttons, confirming operations, waiting for windows to load.  You're wasting your life!\n",
    "\n",
    "* Running processes\n",
    "* Finding files\n",
    "* Substring match of file contents\n",
    "* Assessing performance\n",
    "* Remote operations\n",
    "* Web browsing\n",
    "* Installing packages\n",
    "* Managing your development environment"
   ]
  },
  {
   "cell_type": "markdown",
   "metadata": {
    "slideshow": {
     "slide_type": "slide"
    }
   },
   "source": [
    "#### What is a shell?\n",
    "\n",
    "A shell is simply a type of command line program, which contains a very simple, text-based user interface enabling us to access all of an operating system's services. It is, very simply, a program that accepts text as input and translates that text into the appropriate functions that you want your computer to run.\n",
    "\n",
    "*Taken from Just for fun: [Type like a hacker](http://hackertyper.com/)*\n",
    "\n",
    "Here are a few Windows equivalents:\n",
    "[Cygwin](https://www.cygwin.com/)\n",
    "[msis git](https://msysgit.github.io/)\n",
    "\n",
    "[Windows shell equivalents](http://stackoverflow.com/questions/28487128/what-program-in-windows-is-equivalent-to-oss-terminal)\n"
   ]
  },
  {
   "cell_type": "markdown",
   "metadata": {
    "slideshow": {
     "slide_type": "notes"
    }
   },
   "source": [
    "Running applications, checking settings like free hard drive space, or even fun stuff like browsing the web can happen from the shell.  **What is a GUI? What is a CLI? What is a shell?**"
   ]
  },
  {
   "cell_type": "markdown",
   "metadata": {
    "slideshow": {
     "slide_type": "slide"
    }
   },
   "source": [
    "## Forget Finder, get fast at using your laptop - Codealong (40 mins)\n",
    "\n",
    "#### Opening & Closing Terminal\n",
    "\n",
    "First, we need to launch the command prompt. We do this by using spotlight:\n",
    "\n",
    "- ⌘ (Command) + Space\n",
    "- \"*Te*rminal\"\n",
    "- Enter\n",
    "\n",
    "Notice that you can actually hit enter as soon as the field autocompletes. Get used to taking shortcuts – don't type the whole word out if you don't have to and avoid using your mouse if you can open or use an app with just keyboard shortcuts. It may seem harder now, but when you get used to it, it will save you literally hours of cumulative time."
   ]
  },
  {
   "cell_type": "markdown",
   "metadata": {
    "slideshow": {
     "slide_type": "slide"
    }
   },
   "source": [
    "## Paths - Codealong (20 mins)\n",
    "\n",
    "Every file or folder in a file system can be read, written, and deleted by referencing its position inside the filesystem. When we talk about the position of a file or a folder in a file system, we refer to its \"path\". There are a couple of different kinds of paths we can use to refer to a file – **absolute paths** and **relative paths**.\n",
    "\n",
    "**Directory** is an important term that's used interchangeably with *folder*. Though they are not exactly the same thing, when we say \"navigate to your project directory\" think of this as \"navigate to your project folder\".  Here's a little more information:\n",
    "\n",
    "_Strictly speaking, there is a difference between a directory which is a file system concept, and the graphical user interface metaphor that is used to represent it (a folder)...If one is referring to a container of documents, the term folder is more appropriate. The term directory refers to the way a structured list of document files and folders is stored on the computer. It is comparable to a telephone directory that contains lists of names, numbers and addresses and does not contain the actual documents themselves._\n",
    "\n",
    "*Taken from [Close-To-Open Cache Consistency in the Linux NFS Client](http://www.citi.umich.edu/projects/nfs-perf/results/cel/dnlc.html)*"
   ]
  },
  {
   "cell_type": "markdown",
   "metadata": {
    "slideshow": {
     "slide_type": "notes"
    }
   },
   "source": [
    "All files can created, updated, or deleted using the command line interface.  We do this by referencing **paths**, relative or absolute.  I prefer the term directory when talking about the shell / term."
   ]
  },
  {
   "cell_type": "markdown",
   "metadata": {
    "slideshow": {
     "slide_type": "slide"
    }
   },
   "source": [
    "#### What is an absolute path?\n",
    "\n",
    "An absolute path is defined as the specific location of a file or folder from the root directory, typically shown as `/`. The root directory is the starting point from which all other folders are defined and is not normally the same as your **Home** directory, which is normally found at `/Users/[Your Username]`."
   ]
  },
  {
   "cell_type": "markdown",
   "metadata": {
    "slideshow": {
     "slide_type": "slide"
    }
   },
   "source": [
    "#### Working with unix commands and file paths\n",
    "\n",
    "Typing **`cd`** - a command for \"change directory\" with no parameters takes us to our home directory.\n",
    "\n",
    "```bash\n",
    "cd\n",
    "```\n",
    "\n",
    "If we type in `pwd` - a command for \"print working directory\" from that folder, we can see where we are in relation to the root directory. The `pwd` command will always give you the absolute path of your current location.\n",
    "\n",
    "An example of absolute path:\n",
    "\n",
    "```bash\n",
    "open /Users/Lucy/desktop/a/b/c/file.txt\n",
    "```\n",
    "\n",
    "Notice, this path starts from `/` directory which is a root directory for every Linux/Unix machines."
   ]
  },
  {
   "cell_type": "markdown",
   "metadata": {
    "slideshow": {
     "slide_type": "notes"
    }
   },
   "source": [
    "Change directories.  pwd / show working directories.  Open a file using the open command."
   ]
  },
  {
   "cell_type": "markdown",
   "metadata": {
    "slideshow": {
     "slide_type": "slide"
    }
   },
   "source": [
    "#### What is a relative path?\n",
    "\n",
    "A relative path is a reference to a file or folder **relative** to the current position, or the present working directory(pwd). If we are in the folder `/a/b/` and we want to open the file that has the absolute path `/a/b/c/file.txt`, we can just type:\n",
    "\n",
    "```bash\n",
    "open c/file.txt\n",
    "```\n",
    "\n",
    "or\n",
    "\n",
    "```bash\n",
    "open ./c/file.txt\n",
    "```\n",
    "\n",
    "At any time, we can also use the absolute path, by adding a slash to the beginning of the path. The absolute path is the same for a file or a folder regardless of the current working directory, but relative paths are different, depending on what directory we are in.  Directory structures are laid out like `directory/subdirectory/subsubdirectory`.\n",
    "\n",
    "**Check:**  What is the difference between an absolute path and a relative path?"
   ]
  },
  {
   "cell_type": "markdown",
   "metadata": {
    "slideshow": {
     "slide_type": "slide"
    }
   },
   "source": [
    "\n",
    "#### Navigating using the command prompt\n",
    "\n",
    "* Changing directories\n",
    "* Listing files\n",
    "* Creating directories and files\n",
    "* removing files\n",
    "\n",
    "The tilde `~` character is an alias to your home directory. Use it to quickly return home.\n",
    "\n",
    "```bash\n",
    "cd ~\\\n",
    "```\n",
    "\n",
    "Or even more simply, you can just type:\n",
    "\n",
    "```bash\n",
    "cd\n",
    "```\n",
    "\n",
    "The tilde `~` character is useful to shorten paths that would otherwise be\n",
    "absolute paths. For example, to navigate to your Desktop you can type:\n",
    "\n",
    "```bash\n",
    "cd ~/Desktop\n",
    "```\n"
   ]
  },
  {
   "cell_type": "markdown",
   "metadata": {
    "slideshow": {
     "slide_type": "notes"
    }
   },
   "source": [
    "_note: Also, pronounced \"tild\" but \"tild-a\" is good too.  cd by itself takes you to home directory much like the ~tilde char. Also touch can be used to update the timestamp of a file._  "
   ]
  },
  {
   "cell_type": "markdown",
   "metadata": {
    "slideshow": {
     "slide_type": "slide"
    }
   },
   "source": [
    "The `ls` command lists files and directories in the current folder.\n",
    "```bash\n",
    "ls\n",
    "```\n",
    "\n",
    "It can also be used to list files located in any directory. For example to list\n",
    "your applications you can type:\n",
    "```bash\n",
    "ls /Applications\n",
    "```"
   ]
  },
  {
   "cell_type": "markdown",
   "metadata": {
    "slideshow": {
     "slide_type": "slide"
    }
   },
   "source": [
    "To make a new directory.\n",
    "```bash\n",
    "mkdir folder\n",
    "```\n",
    "\n",
    "To create a new file.\n",
    "```bash\n",
    "touch file1\n",
    "```\n",
    "\n",
    "To remove a file.\n",
    "```bash\n",
    "rm file1\n",
    "```"
   ]
  },
  {
   "cell_type": "markdown",
   "metadata": {
    "slideshow": {
     "slide_type": "slide"
    }
   },
   "source": [
    "## Whiteboard Example!"
   ]
  },
  {
   "cell_type": "markdown",
   "metadata": {
    "slideshow": {
     "slide_type": "notes"
    }
   },
   "source": [
    "_note: how do we get from each directory, list files, create a new file_"
   ]
  },
  {
   "cell_type": "markdown",
   "metadata": {
    "slideshow": {
     "slide_type": "slide"
    }
   },
   "source": [
    "#### Using wildcards in the command prompt\n",
    "\n",
    "The wildcard symbol `*` is useful for using commands to operate on multiple\n",
    "files. To give an example first create a folder on your Desktop and add some\n",
    "files.\n",
    "```bash\n",
    "mkdir ~/Desktop/example_folder\n",
    "cd ~/Desktop/example_folder\n",
    "touch cat.txt\n",
    "touch dog.txt\n",
    "touch bird.txt\n",
    "touch fish.txt\n",
    "```\n",
    "\n",
    "You can use the wildcard `*` to then operate on subsets of files. List any\n",
    "file with \"i\" in the filename, for example:\n",
    "```bash\n",
    "ls *i*\n",
    "```\n",
    "\n",
    "Or remove any file with \"d\":\n",
    "```bash\n",
    "rm *d*\n",
    "ls\n",
    "```"
   ]
  },
  {
   "cell_type": "markdown",
   "metadata": {
    "slideshow": {
     "slide_type": "slide"
    }
   },
   "source": [
    "## Also, hidden directories can be found!\n",
    "\n",
    "There are hidden directories all over your filesystem. Mainly, to save you from youself.  Using the paramters `-lha` to `ls`, we can find these directories.\n",
    "\n",
    "```bash\n",
    "ls -lha\n",
    "```\n",
    "<pre>\n",
    "-l: &nbsp;&nbsp; One entry per line\n",
    "-h: &nbsp;&nbsp; When used with the -l option, use unit suffixes: Byte, Kilobyte, Megabyte, etc.\n",
    "-a: &nbsp;&nbsp; Include directory entries whose names begin with a dot (.).\n",
    "</pre>"
   ]
  },
  {
   "cell_type": "markdown",
   "metadata": {
    "slideshow": {
     "slide_type": "notes"
    }
   },
   "source": [
    "Maybe another whiteboard example.  Also check out tab."
   ]
  },
  {
   "cell_type": "markdown",
   "metadata": {
    "slideshow": {
     "slide_type": "slide"
    }
   },
   "source": [
    "# Quick:  How do we get back to my homedirectory!?"
   ]
  },
  {
   "cell_type": "markdown",
   "metadata": {
    "slideshow": {
     "slide_type": "slide"
    }
   },
   "source": [
    "## Editing Files: Nano\n",
    "\n",
    "At times it's helpful to edit files in a pinch.  We can use the terminal editor `nano` to accomplish this.\n",
    "\n",
    "Editing files from the terminal with nano can be accomplished by the following:\n",
    "\n",
    "`nano [filename]`\n",
    "\n",
    "The following hotkeys are available:\n",
    "\n",
    "* **ctrl-w** search within file\n",
    "* **ctrl-o** save file as [filename]\n",
    "* **ctrl-x** exit editor\n",
    "\n",
    "*The bottom of the editor contains the most common operations.*"
   ]
  },
  {
   "cell_type": "markdown",
   "metadata": {
    "slideshow": {
     "slide_type": "slide"
    }
   },
   "source": [
    "## Echo contents of file to terminal\n",
    "\n",
    "It's nice to know the contents of text based files occasionally.  There are a variety of ways to do this.  The commands `cat`, `head`, and `tail` will allow us to view the entire or partial contents of a target file.\n",
    "\n",
    "```\n",
    "cat /etc/passwd\n",
    "```\n",
    "\n",
    "*Traditionally, the /etc/passwd file is used to keep track of every registered user that has access to a system.*\n",
    "\n",
    "**Only the first few lines of a file**\n",
    "This is useful when looking at very large files that might be too large to open in a traditional editor such as Sublime or Atom.\n",
    "```\n",
    "head /etc/passwd\n",
    "```\n",
    "\n",
    "**Only the last few lines of a file**\n",
    "```\n",
    "tail /etc/passwd\n",
    "```\n",
    "\n",
    "*You can also pass the paramter -n to head and tail to control the amount of output that's displayed*"
   ]
  },
  {
   "cell_type": "markdown",
   "metadata": {
    "slideshow": {
     "slide_type": "slide"
    }
   },
   "source": [
    "## Searching inside files: grep\n",
    "\n",
    "The wonderful grep command will search within files, and traverse within subdirectories if you ask it nicely.\n",
    "\n",
    "**Find all files with the word \"the\" inside**\n",
    "```\n",
    "grep -r \"the\" *\n",
    "```\n",
    "\n",
    "*Omitting -r will cause grep to only look within the current subdirectory.*\n",
    "*Using -i will make grep ignore casing of characters, but at the expense of efficiency.*\n"
   ]
  },
  {
   "cell_type": "markdown",
   "metadata": {
    "slideshow": {
     "slide_type": "slide"
    }
   },
   "source": [
    "## Finding files: Locate & Find\n",
    "\n",
    "By far the most useful operation from the terminal, is finding files.  `locate` finds files all over your filesystem.  The `find` command will find files relative to the current working directory, but needs to be used in conjunction with a pipe operation.\n",
    "\n",
    "### Find all notebook files within subdirectories of current working directory\n",
    "`find . | grep ipynb`\n",
    "\n",
    "### Find specific file(s) on entire system\n",
    "`locate nanorc`\n",
    "\n",
    "### Find spcific file(s) with substring match\n",
    "`locate log`"
   ]
  },
  {
   "cell_type": "markdown",
   "metadata": {
    "slideshow": {
     "slide_type": "slide"
    }
   },
   "source": [
    "## Misc trick:  Counting number of lines in a file\n",
    "\n",
    "At times you may not want to load an entire file in memory.  Using a combination of `head`, `tail`, `cat`, and a new command `wc`, you can quickly assess various size characteristics of any file.\n",
    "\n",
    "### Find number lines in a file\n",
    "```bash\n",
    "cat /etc/passwd | wc -l\n",
    "```\n",
    "\n",
    "### Find number of words in a file\n",
    "```bash\n",
    "cat /etc/test.txt | wc -w\n",
    "```"
   ]
  },
  {
   "cell_type": "markdown",
   "metadata": {
    "slideshow": {
     "slide_type": "slide"
    }
   },
   "source": [
    "## You probably have questions about \"piping\"...\n",
    "Optional but highly recommended reading about pipe and I/O redirection on the command line:\n",
    "\n",
    "\n",
    "* [I/O Redirection](http://linuxcommand.org/lts0060.php)\n",
    "* [Good examples of piping commands together](http://unix.stackexchange.com/questions/30759/whats-a-good-example-of-piping-commands-together)\n"
   ]
  },
  {
   "cell_type": "markdown",
   "metadata": {
    "slideshow": {
     "slide_type": "slide"
    }
   },
   "source": [
    "<a name=\"independent practice\"></a>\n",
    "## Independent Practice: Topic (10 minutes)\n",
    "Try out the mkdir, touch, cd, pwd, and ls commands on your own."
   ]
  },
  {
   "cell_type": "markdown",
   "metadata": {
    "slideshow": {
     "slide_type": "slide"
    }
   },
   "source": [
    "<a name=\"conclusion\"></a>\n",
    "## Conclusion (5 mins)\t\t \n",
    "Today we learned about the CLI commands mkdir, touch, cd, pwd, and ls. We also about absolute and relative paths.\n",
    "Take a breather and then keep practicing. The more you practice the more comfortable you'll get!\n",
    "\n",
    "In time, you might find that simple operations are actually faster to perform from command line."
   ]
  }
 ],
 "metadata": {
  "celltoolbar": "Slideshow",
  "kernelspec": {
   "display_name": "Python [dsi]",
   "language": "python",
   "name": "Python [dsi]"
  },
  "language_info": {
   "codemirror_mode": {
    "name": "ipython",
    "version": 2
   },
   "file_extension": ".py",
   "mimetype": "text/x-python",
   "name": "python",
   "nbconvert_exporter": "python",
   "pygments_lexer": "ipython2",
   "version": "2.7.12"
  }
 },
 "nbformat": 4,
 "nbformat_minor": 0
}
