{
 "cells": [
  {
   "cell_type": "markdown",
   "metadata": {},
   "source": [
    "<img src=\"https://ga-dash.s3.amazonaws.com/production/assets/logo-9f88ae6c9c3871690e33280fcf557f33.png\" style=\"float: left; margin: 15px;\">\n",
    "\n",
    "## Merging, Joining, Concatenation, and Grouping Practice\n",
    "\n",
    "Week 2 | Lesson 4.1\n",
    "\n",
    "---"
   ]
  },
  {
   "cell_type": "markdown",
   "metadata": {},
   "source": [
    "## Joining and concatenation\n",
    "\n",
    "\n",
    "Concatenation is taking two or more separately located things and placing them\n",
    "side-by-side next to each other so that they can now be treated as one thing. In\n",
    "computer programming and data processing, two or more character strings are sometimes\n",
    "concatenated for the purpose of saving space or so that they can be addressed as a\n",
    "single item.\n",
    "\n",
    "Joins using pandas happen when columns of two DataFrames are joined either on index\n",
    "or on a key column. Here is a representation of left, right, inner, and outer joins\n",
    "using Venn diagrams.\n",
    "\n",
    "![](./assets/joins.png)\n",
    "\n",
    "---\n",
    "\n",
    "### Concatenation in numpy"
   ]
  },
  {
   "cell_type": "code",
   "execution_count": 9,
   "metadata": {
    "collapsed": true
   },
   "outputs": [],
   "source": [
    "import numpy as np\n",
    "import pandas as pd"
   ]
  },
  {
   "cell_type": "code",
   "execution_count": 8,
   "metadata": {
    "collapsed": false
   },
   "outputs": [],
   "source": [
    "import imp\n",
    "caller = imp.load_source('caller', '/Users/kiefer/github-repos/DSI-SF-4/utils/student_caller/caller.py')\n",
    "sc = caller.StudentCaller()\n",
    "sc.load_resource(resource='students')"
   ]
  },
  {
   "cell_type": "code",
   "execution_count": 10,
   "metadata": {
    "collapsed": false
   },
   "outputs": [],
   "source": [
    "#sc.get_student()"
   ]
  },
  {
   "cell_type": "markdown",
   "metadata": {},
   "source": [
    "#### `np.concatenate()`"
   ]
  },
  {
   "cell_type": "code",
   "execution_count": 11,
   "metadata": {
    "collapsed": true
   },
   "outputs": [],
   "source": [
    "a, b = [1,2,3], [4,5,6]"
   ]
  },
  {
   "cell_type": "code",
   "execution_count": 13,
   "metadata": {
    "collapsed": false
   },
   "outputs": [
    {
     "data": {
      "text/plain": [
       "array([5, 7, 9])"
      ]
     },
     "execution_count": 13,
     "metadata": {},
     "output_type": "execute_result"
    }
   ],
   "source": [
    "np.array(a)+np.array(b)"
   ]
  },
  {
   "cell_type": "code",
   "execution_count": 15,
   "metadata": {
    "collapsed": false
   },
   "outputs": [
    {
     "data": {
      "text/plain": [
       "array([1, 2, 3, 4, 5, 6])"
      ]
     },
     "execution_count": 15,
     "metadata": {},
     "output_type": "execute_result"
    }
   ],
   "source": [
    "np.concatenate([a, b])"
   ]
  },
  {
   "cell_type": "code",
   "execution_count": null,
   "metadata": {
    "collapsed": true
   },
   "outputs": [],
   "source": []
  },
  {
   "cell_type": "markdown",
   "metadata": {},
   "source": [
    "#### What about stacking the two vectors vertically?"
   ]
  },
  {
   "cell_type": "markdown",
   "metadata": {},
   "source": [
    "Our two arrays are 1-dimensional. We can make them 2-dimensional by adding an axis with `np.newaxis`. (This is just one of many ways to do this."
   ]
  },
  {
   "cell_type": "code",
   "execution_count": null,
   "metadata": {
    "collapsed": true
   },
   "outputs": [],
   "source": [
    "# [[1,2,3],\n",
    "#  [4,5,6]]"
   ]
  },
  {
   "cell_type": "code",
   "execution_count": 16,
   "metadata": {
    "collapsed": false
   },
   "outputs": [
    {
     "data": {
      "text/plain": [
       "'davis'"
      ]
     },
     "execution_count": 16,
     "metadata": {},
     "output_type": "execute_result"
    }
   ],
   "source": [
    "sc.get_student()"
   ]
  },
  {
   "cell_type": "code",
   "execution_count": 20,
   "metadata": {
    "collapsed": false
   },
   "outputs": [
    {
     "data": {
      "text/plain": [
       "array([[1, 2, 3],\n",
       "       [4, 5, 6]])"
      ]
     },
     "execution_count": 20,
     "metadata": {},
     "output_type": "execute_result"
    }
   ],
   "source": [
    "np.array([a,b])"
   ]
  },
  {
   "cell_type": "code",
   "execution_count": 31,
   "metadata": {
    "collapsed": false
   },
   "outputs": [
    {
     "data": {
      "text/plain": [
       "(6,)"
      ]
     },
     "execution_count": 31,
     "metadata": {},
     "output_type": "execute_result"
    }
   ],
   "source": [
    "np.array([['1','b','d','e'],a,b,b,a,b]).shape"
   ]
  },
  {
   "cell_type": "code",
   "execution_count": null,
   "metadata": {
    "collapsed": true
   },
   "outputs": [],
   "source": []
  },
  {
   "cell_type": "code",
   "execution_count": 34,
   "metadata": {
    "collapsed": false
   },
   "outputs": [
    {
     "data": {
      "text/plain": [
       "array([[1],\n",
       "       [2],\n",
       "       [3]])"
      ]
     },
     "execution_count": 34,
     "metadata": {},
     "output_type": "execute_result"
    }
   ],
   "source": [
    "a = np.array(a)\n",
    "b = np.array(b)\n",
    "a[:, np.newaxis]"
   ]
  },
  {
   "cell_type": "code",
   "execution_count": 40,
   "metadata": {
    "collapsed": false
   },
   "outputs": [
    {
     "data": {
      "text/plain": [
       "array([[1, 4],\n",
       "       [2, 5],\n",
       "       [3, 6]])"
      ]
     },
     "execution_count": 40,
     "metadata": {},
     "output_type": "execute_result"
    }
   ],
   "source": [
    "a2 = np.concatenate([a[:, np.newaxis], b[:, np.newaxis]], axis=1)\n",
    "a2"
   ]
  },
  {
   "cell_type": "code",
   "execution_count": 42,
   "metadata": {
    "collapsed": false
   },
   "outputs": [
    {
     "data": {
      "text/plain": [
       "array([[ 1, 16],\n",
       "       [ 4, 25],\n",
       "       [ 9, 36]])"
      ]
     },
     "execution_count": 42,
     "metadata": {},
     "output_type": "execute_result"
    }
   ],
   "source": [
    "a2 * a2"
   ]
  },
  {
   "cell_type": "code",
   "execution_count": 38,
   "metadata": {
    "collapsed": false
   },
   "outputs": [
    {
     "data": {
      "text/plain": [
       "array([[1],\n",
       "       [2],\n",
       "       [3],\n",
       "       [4],\n",
       "       [5],\n",
       "       [6]])"
      ]
     },
     "execution_count": 38,
     "metadata": {},
     "output_type": "execute_result"
    }
   ],
   "source": [
    "np.concatenate([a[:, np.newaxis], b[:, np.newaxis]], axis=0)"
   ]
  },
  {
   "cell_type": "markdown",
   "metadata": {},
   "source": [
    "If the vectors are 2D we can concatenate along `axis=0` or `axis=1`."
   ]
  },
  {
   "cell_type": "code",
   "execution_count": 39,
   "metadata": {
    "collapsed": false
   },
   "outputs": [
    {
     "data": {
      "text/plain": [
       "array([[1, 2, 3],\n",
       "       [4, 5, 6]])"
      ]
     },
     "execution_count": 39,
     "metadata": {},
     "output_type": "execute_result"
    }
   ],
   "source": [
    "np.concatenate([a[:, np.newaxis], b[:, np.newaxis]], axis=1).T"
   ]
  },
  {
   "cell_type": "code",
   "execution_count": 35,
   "metadata": {
    "collapsed": false
   },
   "outputs": [
    {
     "data": {
      "text/plain": [
       "(3, 1)"
      ]
     },
     "execution_count": 35,
     "metadata": {},
     "output_type": "execute_result"
    }
   ],
   "source": [
    "a[:, np.newaxis].shape"
   ]
  },
  {
   "cell_type": "code",
   "execution_count": null,
   "metadata": {
    "collapsed": true
   },
   "outputs": [],
   "source": []
  },
  {
   "cell_type": "markdown",
   "metadata": {},
   "source": [
    "---\n",
    "\n",
    "### Concatenation in pandas"
   ]
  },
  {
   "cell_type": "code",
   "execution_count": 43,
   "metadata": {
    "collapsed": true
   },
   "outputs": [],
   "source": [
    "df1 = pd.DataFrame({'A': ['A0', 'A1', 'A2', 'A3'],\n",
    "                    'B': ['B0', 'B1', 'B2', 'B3'],\n",
    "                    'C': ['C0', 'C1', 'C2', 'C3'],\n",
    "                    'D': ['D0', 'D1', 'D2', 'D3']},\n",
    "                    index=[0, 1, 2, 3])\n",
    "\n",
    "df2 = pd.DataFrame({'A': ['A4', 'A5', 'A6', 'A7'],\n",
    "                    'B': ['B4', 'B5', 'B6', 'B7'],\n",
    "                    'C': ['C4', 'C5', 'C6', 'C7'],\n",
    "                    'D': ['D4', 'D5', 'D6', 'D7']},\n",
    "                    index=[4, 5, 6, 7])"
   ]
  },
  {
   "cell_type": "code",
   "execution_count": 50,
   "metadata": {
    "collapsed": false
   },
   "outputs": [
    {
     "data": {
      "text/html": [
       "<div>\n",
       "<table border=\"1\" class=\"dataframe\">\n",
       "  <thead>\n",
       "    <tr style=\"text-align: right;\">\n",
       "      <th></th>\n",
       "      <th>index</th>\n",
       "      <th>A</th>\n",
       "      <th>B</th>\n",
       "      <th>C</th>\n",
       "      <th>D</th>\n",
       "    </tr>\n",
       "  </thead>\n",
       "  <tbody>\n",
       "    <tr>\n",
       "      <th>0</th>\n",
       "      <td>4</td>\n",
       "      <td>A4</td>\n",
       "      <td>B4</td>\n",
       "      <td>C4</td>\n",
       "      <td>D4</td>\n",
       "    </tr>\n",
       "    <tr>\n",
       "      <th>1</th>\n",
       "      <td>5</td>\n",
       "      <td>A5</td>\n",
       "      <td>B5</td>\n",
       "      <td>C5</td>\n",
       "      <td>D5</td>\n",
       "    </tr>\n",
       "    <tr>\n",
       "      <th>2</th>\n",
       "      <td>6</td>\n",
       "      <td>A6</td>\n",
       "      <td>B6</td>\n",
       "      <td>C6</td>\n",
       "      <td>D6</td>\n",
       "    </tr>\n",
       "    <tr>\n",
       "      <th>3</th>\n",
       "      <td>7</td>\n",
       "      <td>A7</td>\n",
       "      <td>B7</td>\n",
       "      <td>C7</td>\n",
       "      <td>D7</td>\n",
       "    </tr>\n",
       "  </tbody>\n",
       "</table>\n",
       "</div>"
      ],
      "text/plain": [
       "   index   A   B   C   D\n",
       "0      4  A4  B4  C4  D4\n",
       "1      5  A5  B5  C5  D5\n",
       "2      6  A6  B6  C6  D6\n",
       "3      7  A7  B7  C7  D7"
      ]
     },
     "execution_count": 50,
     "metadata": {},
     "output_type": "execute_result"
    }
   ],
   "source": [
    "df2.reset_index(drop=False)"
   ]
  },
  {
   "cell_type": "code",
   "execution_count": 49,
   "metadata": {
    "collapsed": false
   },
   "outputs": [
    {
     "data": {
      "text/html": [
       "<div>\n",
       "<table border=\"1\" class=\"dataframe\">\n",
       "  <thead>\n",
       "    <tr style=\"text-align: right;\">\n",
       "      <th></th>\n",
       "      <th>A</th>\n",
       "      <th>B</th>\n",
       "      <th>C</th>\n",
       "      <th>D</th>\n",
       "      <th>index</th>\n",
       "      <th>A</th>\n",
       "      <th>B</th>\n",
       "      <th>C</th>\n",
       "      <th>D</th>\n",
       "    </tr>\n",
       "  </thead>\n",
       "  <tbody>\n",
       "    <tr>\n",
       "      <th>0</th>\n",
       "      <td>A0</td>\n",
       "      <td>B0</td>\n",
       "      <td>C0</td>\n",
       "      <td>D0</td>\n",
       "      <td>4</td>\n",
       "      <td>A4</td>\n",
       "      <td>B4</td>\n",
       "      <td>C4</td>\n",
       "      <td>D4</td>\n",
       "    </tr>\n",
       "    <tr>\n",
       "      <th>1</th>\n",
       "      <td>A1</td>\n",
       "      <td>B1</td>\n",
       "      <td>C1</td>\n",
       "      <td>D1</td>\n",
       "      <td>5</td>\n",
       "      <td>A5</td>\n",
       "      <td>B5</td>\n",
       "      <td>C5</td>\n",
       "      <td>D5</td>\n",
       "    </tr>\n",
       "    <tr>\n",
       "      <th>2</th>\n",
       "      <td>A2</td>\n",
       "      <td>B2</td>\n",
       "      <td>C2</td>\n",
       "      <td>D2</td>\n",
       "      <td>6</td>\n",
       "      <td>A6</td>\n",
       "      <td>B6</td>\n",
       "      <td>C6</td>\n",
       "      <td>D6</td>\n",
       "    </tr>\n",
       "    <tr>\n",
       "      <th>3</th>\n",
       "      <td>A3</td>\n",
       "      <td>B3</td>\n",
       "      <td>C3</td>\n",
       "      <td>D3</td>\n",
       "      <td>7</td>\n",
       "      <td>A7</td>\n",
       "      <td>B7</td>\n",
       "      <td>C7</td>\n",
       "      <td>D7</td>\n",
       "    </tr>\n",
       "  </tbody>\n",
       "</table>\n",
       "</div>"
      ],
      "text/plain": [
       "    A   B   C   D  index   A   B   C   D\n",
       "0  A0  B0  C0  D0      4  A4  B4  C4  D4\n",
       "1  A1  B1  C1  D1      5  A5  B5  C5  D5\n",
       "2  A2  B2  C2  D2      6  A6  B6  C6  D6\n",
       "3  A3  B3  C3  D3      7  A7  B7  C7  D7"
      ]
     },
     "execution_count": 49,
     "metadata": {},
     "output_type": "execute_result"
    }
   ],
   "source": [
    "pd.concat([df1, df2.reset_index(drop=False)], axis=1)"
   ]
  },
  {
   "cell_type": "markdown",
   "metadata": {},
   "source": [
    "---\n",
    "\n",
    "### Left, right, inner, outer joins\n",
    "\n",
    "Pandas `merge` function allows us to join together DataFrames using columns as keys.\n",
    "\n",
    "[(Same walkthrough can be found here.)](http://chrisalbon.com/python/pandas_join_merge_dataframe.html)"
   ]
  },
  {
   "cell_type": "code",
   "execution_count": 51,
   "metadata": {
    "collapsed": false
   },
   "outputs": [
    {
     "data": {
      "text/html": [
       "<div>\n",
       "<table border=\"1\" class=\"dataframe\">\n",
       "  <thead>\n",
       "    <tr style=\"text-align: right;\">\n",
       "      <th></th>\n",
       "      <th>first_name</th>\n",
       "      <th>last_name</th>\n",
       "      <th>subject_id</th>\n",
       "    </tr>\n",
       "  </thead>\n",
       "  <tbody>\n",
       "    <tr>\n",
       "      <th>0</th>\n",
       "      <td>Alex</td>\n",
       "      <td>Anderson</td>\n",
       "      <td>1</td>\n",
       "    </tr>\n",
       "    <tr>\n",
       "      <th>1</th>\n",
       "      <td>Amy</td>\n",
       "      <td>Ackerman</td>\n",
       "      <td>2</td>\n",
       "    </tr>\n",
       "    <tr>\n",
       "      <th>2</th>\n",
       "      <td>Allen</td>\n",
       "      <td>Ali</td>\n",
       "      <td>3</td>\n",
       "    </tr>\n",
       "    <tr>\n",
       "      <th>3</th>\n",
       "      <td>Alice</td>\n",
       "      <td>Aoni</td>\n",
       "      <td>4</td>\n",
       "    </tr>\n",
       "    <tr>\n",
       "      <th>4</th>\n",
       "      <td>Ayoung</td>\n",
       "      <td>Atiches</td>\n",
       "      <td>5</td>\n",
       "    </tr>\n",
       "  </tbody>\n",
       "</table>\n",
       "</div>"
      ],
      "text/plain": [
       "  first_name last_name subject_id\n",
       "0       Alex  Anderson          1\n",
       "1        Amy  Ackerman          2\n",
       "2      Allen       Ali          3\n",
       "3      Alice      Aoni          4\n",
       "4     Ayoung   Atiches          5"
      ]
     },
     "execution_count": 51,
     "metadata": {},
     "output_type": "execute_result"
    }
   ],
   "source": [
    "raw_data = {\n",
    "        'subject_id': ['1', '2', '3', '4', '5'],\n",
    "        'first_name': ['Alex', 'Amy', 'Allen', 'Alice', 'Ayoung'],\n",
    "        'last_name': ['Anderson', 'Ackerman', 'Ali', 'Aoni', 'Atiches']}\n",
    "df_a = pd.DataFrame(raw_data)\n",
    "df_a"
   ]
  },
  {
   "cell_type": "code",
   "execution_count": 52,
   "metadata": {
    "collapsed": false
   },
   "outputs": [
    {
     "data": {
      "text/html": [
       "<div>\n",
       "<table border=\"1\" class=\"dataframe\">\n",
       "  <thead>\n",
       "    <tr style=\"text-align: right;\">\n",
       "      <th></th>\n",
       "      <th>first_name</th>\n",
       "      <th>last_name</th>\n",
       "      <th>subject_id</th>\n",
       "    </tr>\n",
       "  </thead>\n",
       "  <tbody>\n",
       "    <tr>\n",
       "      <th>0</th>\n",
       "      <td>Billy</td>\n",
       "      <td>Bonder</td>\n",
       "      <td>4</td>\n",
       "    </tr>\n",
       "    <tr>\n",
       "      <th>1</th>\n",
       "      <td>Brian</td>\n",
       "      <td>Black</td>\n",
       "      <td>5</td>\n",
       "    </tr>\n",
       "    <tr>\n",
       "      <th>2</th>\n",
       "      <td>Bran</td>\n",
       "      <td>Balwner</td>\n",
       "      <td>6</td>\n",
       "    </tr>\n",
       "    <tr>\n",
       "      <th>3</th>\n",
       "      <td>Bryce</td>\n",
       "      <td>Brice</td>\n",
       "      <td>7</td>\n",
       "    </tr>\n",
       "    <tr>\n",
       "      <th>4</th>\n",
       "      <td>Betty</td>\n",
       "      <td>Btisan</td>\n",
       "      <td>8</td>\n",
       "    </tr>\n",
       "  </tbody>\n",
       "</table>\n",
       "</div>"
      ],
      "text/plain": [
       "  first_name last_name subject_id\n",
       "0      Billy    Bonder          4\n",
       "1      Brian     Black          5\n",
       "2       Bran   Balwner          6\n",
       "3      Bryce     Brice          7\n",
       "4      Betty    Btisan          8"
      ]
     },
     "execution_count": 52,
     "metadata": {},
     "output_type": "execute_result"
    }
   ],
   "source": [
    "raw_data = {\n",
    "        'subject_id': ['4', '5', '6', '7', '8'],\n",
    "        'first_name': ['Billy', 'Brian', 'Bran', 'Bryce', 'Betty'],\n",
    "        'last_name': ['Bonder', 'Black', 'Balwner', 'Brice', 'Btisan']}\n",
    "df_b = pd.DataFrame(raw_data)\n",
    "df_b"
   ]
  },
  {
   "cell_type": "code",
   "execution_count": 53,
   "metadata": {
    "collapsed": false
   },
   "outputs": [
    {
     "data": {
      "text/html": [
       "<div>\n",
       "<table border=\"1\" class=\"dataframe\">\n",
       "  <thead>\n",
       "    <tr style=\"text-align: right;\">\n",
       "      <th></th>\n",
       "      <th>subject_id</th>\n",
       "      <th>test_id</th>\n",
       "    </tr>\n",
       "  </thead>\n",
       "  <tbody>\n",
       "    <tr>\n",
       "      <th>0</th>\n",
       "      <td>1</td>\n",
       "      <td>51</td>\n",
       "    </tr>\n",
       "    <tr>\n",
       "      <th>1</th>\n",
       "      <td>2</td>\n",
       "      <td>15</td>\n",
       "    </tr>\n",
       "    <tr>\n",
       "      <th>2</th>\n",
       "      <td>3</td>\n",
       "      <td>15</td>\n",
       "    </tr>\n",
       "    <tr>\n",
       "      <th>3</th>\n",
       "      <td>4</td>\n",
       "      <td>61</td>\n",
       "    </tr>\n",
       "    <tr>\n",
       "      <th>4</th>\n",
       "      <td>5</td>\n",
       "      <td>16</td>\n",
       "    </tr>\n",
       "    <tr>\n",
       "      <th>5</th>\n",
       "      <td>7</td>\n",
       "      <td>14</td>\n",
       "    </tr>\n",
       "    <tr>\n",
       "      <th>6</th>\n",
       "      <td>8</td>\n",
       "      <td>15</td>\n",
       "    </tr>\n",
       "    <tr>\n",
       "      <th>7</th>\n",
       "      <td>9</td>\n",
       "      <td>1</td>\n",
       "    </tr>\n",
       "    <tr>\n",
       "      <th>8</th>\n",
       "      <td>10</td>\n",
       "      <td>61</td>\n",
       "    </tr>\n",
       "    <tr>\n",
       "      <th>9</th>\n",
       "      <td>11</td>\n",
       "      <td>16</td>\n",
       "    </tr>\n",
       "  </tbody>\n",
       "</table>\n",
       "</div>"
      ],
      "text/plain": [
       "  subject_id  test_id\n",
       "0          1       51\n",
       "1          2       15\n",
       "2          3       15\n",
       "3          4       61\n",
       "4          5       16\n",
       "5          7       14\n",
       "6          8       15\n",
       "7          9        1\n",
       "8         10       61\n",
       "9         11       16"
      ]
     },
     "execution_count": 53,
     "metadata": {},
     "output_type": "execute_result"
    }
   ],
   "source": [
    "raw_data = {\n",
    "        'subject_id': ['1', '2', '3', '4', '5', '7', '8', '9', '10', '11'],\n",
    "        'test_id': [51, 15, 15, 61, 16, 14, 15, 1, 61, 16]}\n",
    "df_n = pd.DataFrame(raw_data)\n",
    "df_n"
   ]
  },
  {
   "cell_type": "markdown",
   "metadata": {},
   "source": [
    "Now, we will merge with a left join produces a complete set of records from `df_a`, with the matching records (where available) in `df_b`. If there is no match, the right side will contain null.\n",
    "\n",
    "#### Left join `df_b` onto `df_a` by `subject_id`.\n",
    "\n"
   ]
  },
  {
   "cell_type": "code",
   "execution_count": 55,
   "metadata": {
    "collapsed": false
   },
   "outputs": [
    {
     "data": {
      "text/html": [
       "<div>\n",
       "<table border=\"1\" class=\"dataframe\">\n",
       "  <thead>\n",
       "    <tr style=\"text-align: right;\">\n",
       "      <th></th>\n",
       "      <th>first_name_fromA</th>\n",
       "      <th>last_name_fromA</th>\n",
       "      <th>subject_id</th>\n",
       "      <th>first_name_fromB</th>\n",
       "      <th>last_name_fromB</th>\n",
       "    </tr>\n",
       "  </thead>\n",
       "  <tbody>\n",
       "    <tr>\n",
       "      <th>0</th>\n",
       "      <td>Alex</td>\n",
       "      <td>Anderson</td>\n",
       "      <td>1</td>\n",
       "      <td>NaN</td>\n",
       "      <td>NaN</td>\n",
       "    </tr>\n",
       "    <tr>\n",
       "      <th>1</th>\n",
       "      <td>Amy</td>\n",
       "      <td>Ackerman</td>\n",
       "      <td>2</td>\n",
       "      <td>NaN</td>\n",
       "      <td>NaN</td>\n",
       "    </tr>\n",
       "    <tr>\n",
       "      <th>2</th>\n",
       "      <td>Allen</td>\n",
       "      <td>Ali</td>\n",
       "      <td>3</td>\n",
       "      <td>NaN</td>\n",
       "      <td>NaN</td>\n",
       "    </tr>\n",
       "    <tr>\n",
       "      <th>3</th>\n",
       "      <td>Alice</td>\n",
       "      <td>Aoni</td>\n",
       "      <td>4</td>\n",
       "      <td>Billy</td>\n",
       "      <td>Bonder</td>\n",
       "    </tr>\n",
       "    <tr>\n",
       "      <th>4</th>\n",
       "      <td>Ayoung</td>\n",
       "      <td>Atiches</td>\n",
       "      <td>5</td>\n",
       "      <td>Brian</td>\n",
       "      <td>Black</td>\n",
       "    </tr>\n",
       "  </tbody>\n",
       "</table>\n",
       "</div>"
      ],
      "text/plain": [
       "  first_name_fromA last_name_fromA subject_id first_name_fromB last_name_fromB\n",
       "0             Alex        Anderson          1              NaN             NaN\n",
       "1              Amy        Ackerman          2              NaN             NaN\n",
       "2            Allen             Ali          3              NaN             NaN\n",
       "3            Alice            Aoni          4            Billy          Bonder\n",
       "4           Ayoung         Atiches          5            Brian           Black"
      ]
     },
     "execution_count": 55,
     "metadata": {},
     "output_type": "execute_result"
    }
   ],
   "source": [
    "pd.merge(df_a, df_b, how='left', on='subject_id', suffixes=('_fromA', '_fromB'))"
   ]
  },
  {
   "cell_type": "markdown",
   "metadata": {},
   "source": [
    "#### Right join `df_b` onto `df_a` by `subject_id`\n",
    "\n",
    "Merge with a right join produces a complete set of records from `df_b`, with the matching records (where available) in `df_a`. If there is no match, the left side will contain null.\n"
   ]
  },
  {
   "cell_type": "code",
   "execution_count": 56,
   "metadata": {
    "collapsed": false
   },
   "outputs": [
    {
     "data": {
      "text/html": [
       "<div>\n",
       "<table border=\"1\" class=\"dataframe\">\n",
       "  <thead>\n",
       "    <tr style=\"text-align: right;\">\n",
       "      <th></th>\n",
       "      <th>first_name_fromA</th>\n",
       "      <th>last_name_fromA</th>\n",
       "      <th>subject_id</th>\n",
       "      <th>first_name_fromB</th>\n",
       "      <th>last_name_fromB</th>\n",
       "    </tr>\n",
       "  </thead>\n",
       "  <tbody>\n",
       "    <tr>\n",
       "      <th>0</th>\n",
       "      <td>Alice</td>\n",
       "      <td>Aoni</td>\n",
       "      <td>4</td>\n",
       "      <td>Billy</td>\n",
       "      <td>Bonder</td>\n",
       "    </tr>\n",
       "    <tr>\n",
       "      <th>1</th>\n",
       "      <td>Ayoung</td>\n",
       "      <td>Atiches</td>\n",
       "      <td>5</td>\n",
       "      <td>Brian</td>\n",
       "      <td>Black</td>\n",
       "    </tr>\n",
       "    <tr>\n",
       "      <th>2</th>\n",
       "      <td>NaN</td>\n",
       "      <td>NaN</td>\n",
       "      <td>6</td>\n",
       "      <td>Bran</td>\n",
       "      <td>Balwner</td>\n",
       "    </tr>\n",
       "    <tr>\n",
       "      <th>3</th>\n",
       "      <td>NaN</td>\n",
       "      <td>NaN</td>\n",
       "      <td>7</td>\n",
       "      <td>Bryce</td>\n",
       "      <td>Brice</td>\n",
       "    </tr>\n",
       "    <tr>\n",
       "      <th>4</th>\n",
       "      <td>NaN</td>\n",
       "      <td>NaN</td>\n",
       "      <td>8</td>\n",
       "      <td>Betty</td>\n",
       "      <td>Btisan</td>\n",
       "    </tr>\n",
       "  </tbody>\n",
       "</table>\n",
       "</div>"
      ],
      "text/plain": [
       "  first_name_fromA last_name_fromA subject_id first_name_fromB last_name_fromB\n",
       "0            Alice            Aoni          4            Billy          Bonder\n",
       "1           Ayoung         Atiches          5            Brian           Black\n",
       "2              NaN             NaN          6             Bran         Balwner\n",
       "3              NaN             NaN          7            Bryce           Brice\n",
       "4              NaN             NaN          8            Betty          Btisan"
      ]
     },
     "execution_count": 56,
     "metadata": {},
     "output_type": "execute_result"
    }
   ],
   "source": [
    "pd.merge(df_a, df_b, how='right', on='subject_id', suffixes=('_fromA', '_fromB'))"
   ]
  },
  {
   "cell_type": "markdown",
   "metadata": {},
   "source": [
    "#### Outer join `df_b` onto `df_a` by `subject_id`\n",
    "\n",
    "An outer join produces the set of all records in `df_a` and `df_b`, with matching records from both sides where available. If there is no match, the missing side will contain null."
   ]
  },
  {
   "cell_type": "code",
   "execution_count": 58,
   "metadata": {
    "collapsed": false
   },
   "outputs": [],
   "source": [
    "df_c = pd.merge(df_a, df_b, how='outer', on='subject_id', suffixes=('_fromA', '_fromB'))"
   ]
  },
  {
   "cell_type": "code",
   "execution_count": 59,
   "metadata": {
    "collapsed": false
   },
   "outputs": [
    {
     "name": "stdout",
     "output_type": "stream",
     "text": [
      "(5, 3) (5, 3) (8, 5)\n"
     ]
    }
   ],
   "source": [
    "print df_a.shape, df_b.shape, df_c.shape"
   ]
  },
  {
   "cell_type": "markdown",
   "metadata": {},
   "source": [
    "#### Inner join `df_b` onto `df_a` by `subject_id`\n",
    "\n",
    "An inner join produces only the set of records that match in both df_a and df_b."
   ]
  },
  {
   "cell_type": "code",
   "execution_count": 61,
   "metadata": {
    "collapsed": false
   },
   "outputs": [
    {
     "data": {
      "text/html": [
       "<div>\n",
       "<table border=\"1\" class=\"dataframe\">\n",
       "  <thead>\n",
       "    <tr style=\"text-align: right;\">\n",
       "      <th></th>\n",
       "      <th>first_name_fromA</th>\n",
       "      <th>last_name_fromA</th>\n",
       "      <th>subject_id</th>\n",
       "      <th>first_name_fromB</th>\n",
       "      <th>last_name_fromB</th>\n",
       "    </tr>\n",
       "  </thead>\n",
       "  <tbody>\n",
       "    <tr>\n",
       "      <th>0</th>\n",
       "      <td>Alice</td>\n",
       "      <td>Aoni</td>\n",
       "      <td>4</td>\n",
       "      <td>Billy</td>\n",
       "      <td>Bonder</td>\n",
       "    </tr>\n",
       "    <tr>\n",
       "      <th>1</th>\n",
       "      <td>Ayoung</td>\n",
       "      <td>Atiches</td>\n",
       "      <td>5</td>\n",
       "      <td>Brian</td>\n",
       "      <td>Black</td>\n",
       "    </tr>\n",
       "  </tbody>\n",
       "</table>\n",
       "</div>"
      ],
      "text/plain": [
       "  first_name_fromA last_name_fromA subject_id first_name_fromB last_name_fromB\n",
       "0            Alice            Aoni          4            Billy          Bonder\n",
       "1           Ayoung         Atiches          5            Brian           Black"
      ]
     },
     "execution_count": 61,
     "metadata": {},
     "output_type": "execute_result"
    }
   ],
   "source": [
    "pd.merge(df_a, df_b, how='inner', on='subject_id', suffixes=('_fromA', '_fromB'))"
   ]
  },
  {
   "cell_type": "code",
   "execution_count": 68,
   "metadata": {
    "collapsed": false
   },
   "outputs": [
    {
     "data": {
      "text/html": [
       "<div>\n",
       "<table border=\"1\" class=\"dataframe\">\n",
       "  <thead>\n",
       "    <tr style=\"text-align: right;\">\n",
       "      <th></th>\n",
       "      <th>first_name</th>\n",
       "      <th>last_name</th>\n",
       "      <th>subject_id</th>\n",
       "    </tr>\n",
       "  </thead>\n",
       "  <tbody>\n",
       "    <tr>\n",
       "      <th>0</th>\n",
       "      <td>Alex</td>\n",
       "      <td>Anderson</td>\n",
       "      <td>1</td>\n",
       "    </tr>\n",
       "    <tr>\n",
       "      <th>1</th>\n",
       "      <td>Amy</td>\n",
       "      <td>Ackerman</td>\n",
       "      <td>2</td>\n",
       "    </tr>\n",
       "    <tr>\n",
       "      <th>2</th>\n",
       "      <td>Allen</td>\n",
       "      <td>Ali</td>\n",
       "      <td>3</td>\n",
       "    </tr>\n",
       "    <tr>\n",
       "      <th>3</th>\n",
       "      <td>Alice</td>\n",
       "      <td>Aoni</td>\n",
       "      <td>4</td>\n",
       "    </tr>\n",
       "    <tr>\n",
       "      <th>4</th>\n",
       "      <td>Ayoung</td>\n",
       "      <td>Atiches</td>\n",
       "      <td>5</td>\n",
       "    </tr>\n",
       "    <tr>\n",
       "      <th>0</th>\n",
       "      <td>Frank</td>\n",
       "      <td>Bonder</td>\n",
       "      <td>4</td>\n",
       "    </tr>\n",
       "    <tr>\n",
       "      <th>1</th>\n",
       "      <td>Sally</td>\n",
       "      <td>Brice</td>\n",
       "      <td>5</td>\n",
       "    </tr>\n",
       "  </tbody>\n",
       "</table>\n",
       "</div>"
      ],
      "text/plain": [
       "  first_name last_name subject_id\n",
       "0       Alex  Anderson          1\n",
       "1        Amy  Ackerman          2\n",
       "2      Allen       Ali          3\n",
       "3      Alice      Aoni          4\n",
       "4     Ayoung   Atiches          5\n",
       "0      Frank    Bonder          4\n",
       "1      Sally     Brice          5"
      ]
     },
     "execution_count": 68,
     "metadata": {},
     "output_type": "execute_result"
    }
   ],
   "source": [
    "raw_data = {'first_name':['Frank', 'Sally'],\n",
    "            'last_name':['Bonder', 'Brice'],\n",
    "            'subject_id':['4','5']}\n",
    "df_c = pd.DataFrame(raw_data)\n",
    "df_a2 = pd.concat([df_a, df_c], axis=0)\n",
    "df_a2"
   ]
  },
  {
   "cell_type": "code",
   "execution_count": 70,
   "metadata": {
    "collapsed": false
   },
   "outputs": [
    {
     "data": {
      "text/html": [
       "<div>\n",
       "<table border=\"1\" class=\"dataframe\">\n",
       "  <thead>\n",
       "    <tr style=\"text-align: right;\">\n",
       "      <th></th>\n",
       "      <th>first_name</th>\n",
       "      <th>last_name</th>\n",
       "      <th>subject_id</th>\n",
       "    </tr>\n",
       "  </thead>\n",
       "  <tbody>\n",
       "    <tr>\n",
       "      <th>0</th>\n",
       "      <td>Billy</td>\n",
       "      <td>Bonder</td>\n",
       "      <td>4</td>\n",
       "    </tr>\n",
       "    <tr>\n",
       "      <th>1</th>\n",
       "      <td>Brian</td>\n",
       "      <td>Black</td>\n",
       "      <td>5</td>\n",
       "    </tr>\n",
       "    <tr>\n",
       "      <th>2</th>\n",
       "      <td>Bran</td>\n",
       "      <td>Balwner</td>\n",
       "      <td>6</td>\n",
       "    </tr>\n",
       "    <tr>\n",
       "      <th>3</th>\n",
       "      <td>Bryce</td>\n",
       "      <td>Brice</td>\n",
       "      <td>7</td>\n",
       "    </tr>\n",
       "    <tr>\n",
       "      <th>4</th>\n",
       "      <td>Betty</td>\n",
       "      <td>Btisan</td>\n",
       "      <td>8</td>\n",
       "    </tr>\n",
       "  </tbody>\n",
       "</table>\n",
       "</div>"
      ],
      "text/plain": [
       "  first_name last_name subject_id\n",
       "0      Billy    Bonder          4\n",
       "1      Brian     Black          5\n",
       "2       Bran   Balwner          6\n",
       "3      Bryce     Brice          7\n",
       "4      Betty    Btisan          8"
      ]
     },
     "execution_count": 70,
     "metadata": {},
     "output_type": "execute_result"
    }
   ],
   "source": [
    "df_b"
   ]
  },
  {
   "cell_type": "code",
   "execution_count": 69,
   "metadata": {
    "collapsed": false
   },
   "outputs": [
    {
     "data": {
      "text/html": [
       "<div>\n",
       "<table border=\"1\" class=\"dataframe\">\n",
       "  <thead>\n",
       "    <tr style=\"text-align: right;\">\n",
       "      <th></th>\n",
       "      <th>first_name_fromA</th>\n",
       "      <th>last_name</th>\n",
       "      <th>subject_id</th>\n",
       "      <th>first_name_fromB</th>\n",
       "    </tr>\n",
       "  </thead>\n",
       "  <tbody>\n",
       "    <tr>\n",
       "      <th>0</th>\n",
       "      <td>Frank</td>\n",
       "      <td>Bonder</td>\n",
       "      <td>4</td>\n",
       "      <td>Billy</td>\n",
       "    </tr>\n",
       "  </tbody>\n",
       "</table>\n",
       "</div>"
      ],
      "text/plain": [
       "  first_name_fromA last_name subject_id first_name_fromB\n",
       "0            Frank    Bonder          4            Billy"
      ]
     },
     "execution_count": 69,
     "metadata": {},
     "output_type": "execute_result"
    }
   ],
   "source": [
    "pd.merge(df_a2, df_b, how='inner', on=['subject_id','last_name'], suffixes=('_fromA', '_fromB'))"
   ]
  },
  {
   "cell_type": "markdown",
   "metadata": {},
   "source": [
    "#### Combine the information in `df_a`, `df_b` and `df_n` using joins\n",
    "\n",
    "No information should be lost."
   ]
  },
  {
   "cell_type": "code",
   "execution_count": 72,
   "metadata": {
    "collapsed": false
   },
   "outputs": [
    {
     "data": {
      "text/html": [
       "<div>\n",
       "<table border=\"1\" class=\"dataframe\">\n",
       "  <thead>\n",
       "    <tr style=\"text-align: right;\">\n",
       "      <th></th>\n",
       "      <th>first_name_x</th>\n",
       "      <th>last_name_x</th>\n",
       "      <th>subject_id</th>\n",
       "      <th>first_name_y</th>\n",
       "      <th>last_name_y</th>\n",
       "      <th>test_id</th>\n",
       "    </tr>\n",
       "  </thead>\n",
       "  <tbody>\n",
       "    <tr>\n",
       "      <th>0</th>\n",
       "      <td>Alex</td>\n",
       "      <td>Anderson</td>\n",
       "      <td>1</td>\n",
       "      <td>NaN</td>\n",
       "      <td>NaN</td>\n",
       "      <td>51.0</td>\n",
       "    </tr>\n",
       "    <tr>\n",
       "      <th>1</th>\n",
       "      <td>Amy</td>\n",
       "      <td>Ackerman</td>\n",
       "      <td>2</td>\n",
       "      <td>NaN</td>\n",
       "      <td>NaN</td>\n",
       "      <td>15.0</td>\n",
       "    </tr>\n",
       "    <tr>\n",
       "      <th>2</th>\n",
       "      <td>Allen</td>\n",
       "      <td>Ali</td>\n",
       "      <td>3</td>\n",
       "      <td>NaN</td>\n",
       "      <td>NaN</td>\n",
       "      <td>15.0</td>\n",
       "    </tr>\n",
       "    <tr>\n",
       "      <th>3</th>\n",
       "      <td>Alice</td>\n",
       "      <td>Aoni</td>\n",
       "      <td>4</td>\n",
       "      <td>Billy</td>\n",
       "      <td>Bonder</td>\n",
       "      <td>61.0</td>\n",
       "    </tr>\n",
       "    <tr>\n",
       "      <th>4</th>\n",
       "      <td>Ayoung</td>\n",
       "      <td>Atiches</td>\n",
       "      <td>5</td>\n",
       "      <td>Brian</td>\n",
       "      <td>Black</td>\n",
       "      <td>16.0</td>\n",
       "    </tr>\n",
       "    <tr>\n",
       "      <th>5</th>\n",
       "      <td>NaN</td>\n",
       "      <td>NaN</td>\n",
       "      <td>6</td>\n",
       "      <td>Bran</td>\n",
       "      <td>Balwner</td>\n",
       "      <td>NaN</td>\n",
       "    </tr>\n",
       "    <tr>\n",
       "      <th>6</th>\n",
       "      <td>NaN</td>\n",
       "      <td>NaN</td>\n",
       "      <td>7</td>\n",
       "      <td>Bryce</td>\n",
       "      <td>Brice</td>\n",
       "      <td>14.0</td>\n",
       "    </tr>\n",
       "    <tr>\n",
       "      <th>7</th>\n",
       "      <td>NaN</td>\n",
       "      <td>NaN</td>\n",
       "      <td>8</td>\n",
       "      <td>Betty</td>\n",
       "      <td>Btisan</td>\n",
       "      <td>15.0</td>\n",
       "    </tr>\n",
       "    <tr>\n",
       "      <th>8</th>\n",
       "      <td>NaN</td>\n",
       "      <td>NaN</td>\n",
       "      <td>9</td>\n",
       "      <td>NaN</td>\n",
       "      <td>NaN</td>\n",
       "      <td>1.0</td>\n",
       "    </tr>\n",
       "    <tr>\n",
       "      <th>9</th>\n",
       "      <td>NaN</td>\n",
       "      <td>NaN</td>\n",
       "      <td>10</td>\n",
       "      <td>NaN</td>\n",
       "      <td>NaN</td>\n",
       "      <td>61.0</td>\n",
       "    </tr>\n",
       "    <tr>\n",
       "      <th>10</th>\n",
       "      <td>NaN</td>\n",
       "      <td>NaN</td>\n",
       "      <td>11</td>\n",
       "      <td>NaN</td>\n",
       "      <td>NaN</td>\n",
       "      <td>16.0</td>\n",
       "    </tr>\n",
       "  </tbody>\n",
       "</table>\n",
       "</div>"
      ],
      "text/plain": [
       "   first_name_x last_name_x subject_id first_name_y last_name_y  test_id\n",
       "0          Alex    Anderson          1          NaN         NaN     51.0\n",
       "1           Amy    Ackerman          2          NaN         NaN     15.0\n",
       "2         Allen         Ali          3          NaN         NaN     15.0\n",
       "3         Alice        Aoni          4        Billy      Bonder     61.0\n",
       "4        Ayoung     Atiches          5        Brian       Black     16.0\n",
       "5           NaN         NaN          6         Bran     Balwner      NaN\n",
       "6           NaN         NaN          7        Bryce       Brice     14.0\n",
       "7           NaN         NaN          8        Betty      Btisan     15.0\n",
       "8           NaN         NaN          9          NaN         NaN      1.0\n",
       "9           NaN         NaN         10          NaN         NaN     61.0\n",
       "10          NaN         NaN         11          NaN         NaN     16.0"
      ]
     },
     "execution_count": 72,
     "metadata": {},
     "output_type": "execute_result"
    }
   ],
   "source": [
    "tmp = pd.merge(df_a, df_b, how='left', on='subject_id')\n",
    "pd.merge(tmp, df_n, how='outer', on='subject_id')"
   ]
  },
  {
   "cell_type": "markdown",
   "metadata": {},
   "source": [
    "#### Combine the information in the three datasets only where all columns are valid.b"
   ]
  },
  {
   "cell_type": "code",
   "execution_count": 73,
   "metadata": {
    "collapsed": false
   },
   "outputs": [
    {
     "data": {
      "text/html": [
       "<div>\n",
       "<table border=\"1\" class=\"dataframe\">\n",
       "  <thead>\n",
       "    <tr style=\"text-align: right;\">\n",
       "      <th></th>\n",
       "      <th>first_name_x</th>\n",
       "      <th>last_name_x</th>\n",
       "      <th>subject_id</th>\n",
       "      <th>first_name_y</th>\n",
       "      <th>last_name_y</th>\n",
       "      <th>test_id</th>\n",
       "    </tr>\n",
       "  </thead>\n",
       "  <tbody>\n",
       "    <tr>\n",
       "      <th>0</th>\n",
       "      <td>Alice</td>\n",
       "      <td>Aoni</td>\n",
       "      <td>4</td>\n",
       "      <td>Billy</td>\n",
       "      <td>Bonder</td>\n",
       "      <td>61</td>\n",
       "    </tr>\n",
       "    <tr>\n",
       "      <th>1</th>\n",
       "      <td>Ayoung</td>\n",
       "      <td>Atiches</td>\n",
       "      <td>5</td>\n",
       "      <td>Brian</td>\n",
       "      <td>Black</td>\n",
       "      <td>16</td>\n",
       "    </tr>\n",
       "  </tbody>\n",
       "</table>\n",
       "</div>"
      ],
      "text/plain": [
       "  first_name_x last_name_x subject_id first_name_y last_name_y  test_id\n",
       "0        Alice        Aoni          4        Billy      Bonder       61\n",
       "1       Ayoung     Atiches          5        Brian       Black       16"
      ]
     },
     "execution_count": 73,
     "metadata": {},
     "output_type": "execute_result"
    }
   ],
   "source": [
    "tmp = pd.merge(df_a, df_b, how='inner', on='subject_id')\n",
    "pd.merge(tmp, df_n, how='inner', on='subject_id')"
   ]
  },
  {
   "cell_type": "code",
   "execution_count": 75,
   "metadata": {
    "collapsed": false
   },
   "outputs": [
    {
     "data": {
      "text/html": [
       "<div>\n",
       "<table border=\"1\" class=\"dataframe\">\n",
       "  <thead>\n",
       "    <tr style=\"text-align: right;\">\n",
       "      <th></th>\n",
       "      <th>first_name_x</th>\n",
       "      <th>last_name_x</th>\n",
       "      <th>subject_id</th>\n",
       "      <th>first_name_y</th>\n",
       "      <th>last_name_y</th>\n",
       "      <th>test_id</th>\n",
       "    </tr>\n",
       "  </thead>\n",
       "  <tbody>\n",
       "    <tr>\n",
       "      <th>0</th>\n",
       "      <td>Alice</td>\n",
       "      <td>Aoni</td>\n",
       "      <td>4</td>\n",
       "      <td>Billy</td>\n",
       "      <td>Bonder</td>\n",
       "      <td>61</td>\n",
       "    </tr>\n",
       "    <tr>\n",
       "      <th>1</th>\n",
       "      <td>Ayoung</td>\n",
       "      <td>Atiches</td>\n",
       "      <td>5</td>\n",
       "      <td>Brian</td>\n",
       "      <td>Black</td>\n",
       "      <td>16</td>\n",
       "    </tr>\n",
       "  </tbody>\n",
       "</table>\n",
       "</div>"
      ],
      "text/plain": [
       "  first_name_x last_name_x subject_id first_name_y last_name_y  test_id\n",
       "0        Alice        Aoni          4        Billy      Bonder       61\n",
       "1       Ayoung     Atiches          5        Brian       Black       16"
      ]
     },
     "execution_count": 75,
     "metadata": {},
     "output_type": "execute_result"
    }
   ],
   "source": [
    "reduce(lambda df1, df2: pd.merge(df1, df2, on='subject_id', how='inner'),\n",
    "       [df_a, df_b, df_n])"
   ]
  },
  {
   "cell_type": "markdown",
   "metadata": {},
   "source": [
    "---\n",
    "\n",
    "## Pandas manipulation with chipotle order data\n",
    "\n",
    "Now we'll practice the pandas topics covered this far, especially more advanced split-apply-combine patterns, with a dataset on chipotle orders.\n",
    "\n",
    "\n",
    "### Load packages and data"
   ]
  },
  {
   "cell_type": "code",
   "execution_count": 78,
   "metadata": {
    "collapsed": true
   },
   "outputs": [],
   "source": [
    "import numpy as np\n",
    "import scipy.stats as stats\n",
    "import seaborn as sns\n",
    "import matplotlib.pyplot as plt\n",
    "import pandas as pd\n",
    "\n",
    "sns.set_style('whitegrid')\n",
    "\n",
    "%config InlineBackend.figure_format = 'retina'\n",
    "%matplotlib inline"
   ]
  },
  {
   "cell_type": "code",
   "execution_count": 79,
   "metadata": {
    "collapsed": true
   },
   "outputs": [],
   "source": [
    "chip_file = '/Users/kiefer/github-repos/DSI-SF-4/datasets/chipotle_orders/chipotle.tsv'"
   ]
  },
  {
   "cell_type": "markdown",
   "metadata": {},
   "source": [
    "The chipotle orders data is messy: the column with ingredients in the order is a list of lists, which will need to be dealt with. This specifically will also be practice with long and wide format data."
   ]
  },
  {
   "cell_type": "code",
   "execution_count": 82,
   "metadata": {
    "collapsed": false
   },
   "outputs": [
    {
     "data": {
      "text/html": [
       "<div>\n",
       "<table border=\"1\" class=\"dataframe\">\n",
       "  <thead>\n",
       "    <tr style=\"text-align: right;\">\n",
       "      <th></th>\n",
       "      <th>order_id</th>\n",
       "      <th>quantity</th>\n",
       "      <th>item_name</th>\n",
       "      <th>choice_description</th>\n",
       "      <th>item_price</th>\n",
       "    </tr>\n",
       "  </thead>\n",
       "  <tbody>\n",
       "    <tr>\n",
       "      <th>0</th>\n",
       "      <td>1</td>\n",
       "      <td>1</td>\n",
       "      <td>Chips and Fresh Tomato Salsa</td>\n",
       "      <td>NaN</td>\n",
       "      <td>$2.39</td>\n",
       "    </tr>\n",
       "    <tr>\n",
       "      <th>1</th>\n",
       "      <td>1</td>\n",
       "      <td>1</td>\n",
       "      <td>Izze</td>\n",
       "      <td>[Clementine]</td>\n",
       "      <td>$3.39</td>\n",
       "    </tr>\n",
       "    <tr>\n",
       "      <th>2</th>\n",
       "      <td>1</td>\n",
       "      <td>1</td>\n",
       "      <td>Nantucket Nectar</td>\n",
       "      <td>[Apple]</td>\n",
       "      <td>$3.39</td>\n",
       "    </tr>\n",
       "    <tr>\n",
       "      <th>3</th>\n",
       "      <td>1</td>\n",
       "      <td>1</td>\n",
       "      <td>Chips and Tomatillo-Green Chili Salsa</td>\n",
       "      <td>NaN</td>\n",
       "      <td>$2.39</td>\n",
       "    </tr>\n",
       "    <tr>\n",
       "      <th>4</th>\n",
       "      <td>2</td>\n",
       "      <td>2</td>\n",
       "      <td>Chicken Bowl</td>\n",
       "      <td>[Tomatillo-Red Chili Salsa (Hot), [Black Beans...</td>\n",
       "      <td>$16.98</td>\n",
       "    </tr>\n",
       "    <tr>\n",
       "      <th>5</th>\n",
       "      <td>3</td>\n",
       "      <td>1</td>\n",
       "      <td>Chicken Bowl</td>\n",
       "      <td>[Fresh Tomato Salsa (Mild), [Rice, Cheese, Sou...</td>\n",
       "      <td>$10.98</td>\n",
       "    </tr>\n",
       "    <tr>\n",
       "      <th>6</th>\n",
       "      <td>3</td>\n",
       "      <td>1</td>\n",
       "      <td>Side of Chips</td>\n",
       "      <td>NaN</td>\n",
       "      <td>$1.69</td>\n",
       "    </tr>\n",
       "    <tr>\n",
       "      <th>7</th>\n",
       "      <td>4</td>\n",
       "      <td>1</td>\n",
       "      <td>Steak Burrito</td>\n",
       "      <td>[Tomatillo Red Chili Salsa, [Fajita Vegetables...</td>\n",
       "      <td>$11.75</td>\n",
       "    </tr>\n",
       "    <tr>\n",
       "      <th>8</th>\n",
       "      <td>4</td>\n",
       "      <td>1</td>\n",
       "      <td>Steak Soft Tacos</td>\n",
       "      <td>[Tomatillo Green Chili Salsa, [Pinto Beans, Ch...</td>\n",
       "      <td>$9.25</td>\n",
       "    </tr>\n",
       "    <tr>\n",
       "      <th>9</th>\n",
       "      <td>5</td>\n",
       "      <td>1</td>\n",
       "      <td>Steak Burrito</td>\n",
       "      <td>[Fresh Tomato Salsa, [Rice, Black Beans, Pinto...</td>\n",
       "      <td>$9.25</td>\n",
       "    </tr>\n",
       "  </tbody>\n",
       "</table>\n",
       "</div>"
      ],
      "text/plain": [
       "   order_id  quantity                              item_name  \\\n",
       "0         1         1           Chips and Fresh Tomato Salsa   \n",
       "1         1         1                                   Izze   \n",
       "2         1         1                       Nantucket Nectar   \n",
       "3         1         1  Chips and Tomatillo-Green Chili Salsa   \n",
       "4         2         2                           Chicken Bowl   \n",
       "5         3         1                           Chicken Bowl   \n",
       "6         3         1                          Side of Chips   \n",
       "7         4         1                          Steak Burrito   \n",
       "8         4         1                       Steak Soft Tacos   \n",
       "9         5         1                          Steak Burrito   \n",
       "\n",
       "                                  choice_description item_price  \n",
       "0                                                NaN     $2.39   \n",
       "1                                       [Clementine]     $3.39   \n",
       "2                                            [Apple]     $3.39   \n",
       "3                                                NaN     $2.39   \n",
       "4  [Tomatillo-Red Chili Salsa (Hot), [Black Beans...    $16.98   \n",
       "5  [Fresh Tomato Salsa (Mild), [Rice, Cheese, Sou...    $10.98   \n",
       "6                                                NaN     $1.69   \n",
       "7  [Tomatillo Red Chili Salsa, [Fajita Vegetables...    $11.75   \n",
       "8  [Tomatillo Green Chili Salsa, [Pinto Beans, Ch...     $9.25   \n",
       "9  [Fresh Tomato Salsa, [Rice, Black Beans, Pinto...     $9.25   "
      ]
     },
     "execution_count": 82,
     "metadata": {},
     "output_type": "execute_result"
    }
   ],
   "source": [
    "chipotle = pd.read_csv(chip_file, delimiter='\\t')\n",
    "chipotle.head(10)"
   ]
  },
  {
   "cell_type": "code",
   "execution_count": 81,
   "metadata": {
    "collapsed": false
   },
   "outputs": [
    {
     "data": {
      "text/plain": [
       "['order_id\\tquantity\\titem_name\\tchoice_description\\titem_price\\n',\n",
       " '1\\t1\\tChips and Fresh Tomato Salsa\\tNULL\\t$2.39 \\n',\n",
       " '1\\t1\\tIzze\\t[Clementine]\\t$3.39 \\n',\n",
       " '1\\t1\\tNantucket Nectar\\t[Apple]\\t$3.39 \\n',\n",
       " '1\\t1\\tChips and Tomatillo-Green Chili Salsa\\tNULL\\t$2.39 \\n']"
      ]
     },
     "execution_count": 81,
     "metadata": {},
     "output_type": "execute_result"
    }
   ],
   "source": [
    "with open(chip_file, 'r') as f:\n",
    "    lines = f.readlines()\n",
    "lines[0:5]"
   ]
  },
  {
   "cell_type": "markdown",
   "metadata": {},
   "source": [
    "---\n",
    "\n",
    "### 1. Create a sub-id for each order-id\n",
    "\n",
    "We have an identifier for each order already in `order_id`, but no unique identifier for each _sub-order_ within the overall order.\n",
    "\n",
    "Use grouping to assign sub-ids for orders."
   ]
  },
  {
   "cell_type": "code",
   "execution_count": 88,
   "metadata": {
    "collapsed": false,
    "scrolled": true
   },
   "outputs": [
    {
     "data": {
      "text/html": [
       "<div>\n",
       "<table border=\"1\" class=\"dataframe\">\n",
       "  <thead>\n",
       "    <tr style=\"text-align: right;\">\n",
       "      <th></th>\n",
       "      <th>order_id</th>\n",
       "      <th>quantity</th>\n",
       "      <th>item_name</th>\n",
       "      <th>choice_description</th>\n",
       "      <th>item_price</th>\n",
       "      <th>sub_order_id</th>\n",
       "    </tr>\n",
       "  </thead>\n",
       "  <tbody>\n",
       "    <tr>\n",
       "      <th>0</th>\n",
       "      <td>1</td>\n",
       "      <td>1</td>\n",
       "      <td>Chips and Fresh Tomato Salsa</td>\n",
       "      <td>NaN</td>\n",
       "      <td>$2.39</td>\n",
       "      <td>0</td>\n",
       "    </tr>\n",
       "    <tr>\n",
       "      <th>1</th>\n",
       "      <td>1</td>\n",
       "      <td>1</td>\n",
       "      <td>Izze</td>\n",
       "      <td>[Clementine]</td>\n",
       "      <td>$3.39</td>\n",
       "      <td>1</td>\n",
       "    </tr>\n",
       "    <tr>\n",
       "      <th>2</th>\n",
       "      <td>1</td>\n",
       "      <td>1</td>\n",
       "      <td>Nantucket Nectar</td>\n",
       "      <td>[Apple]</td>\n",
       "      <td>$3.39</td>\n",
       "      <td>2</td>\n",
       "    </tr>\n",
       "    <tr>\n",
       "      <th>3</th>\n",
       "      <td>1</td>\n",
       "      <td>1</td>\n",
       "      <td>Chips and Tomatillo-Green Chili Salsa</td>\n",
       "      <td>NaN</td>\n",
       "      <td>$2.39</td>\n",
       "      <td>3</td>\n",
       "    </tr>\n",
       "    <tr>\n",
       "      <th>4</th>\n",
       "      <td>2</td>\n",
       "      <td>2</td>\n",
       "      <td>Chicken Bowl</td>\n",
       "      <td>[Tomatillo-Red Chili Salsa (Hot), [Black Beans...</td>\n",
       "      <td>$16.98</td>\n",
       "      <td>0</td>\n",
       "    </tr>\n",
       "    <tr>\n",
       "      <th>5</th>\n",
       "      <td>3</td>\n",
       "      <td>1</td>\n",
       "      <td>Chicken Bowl</td>\n",
       "      <td>[Fresh Tomato Salsa (Mild), [Rice, Cheese, Sou...</td>\n",
       "      <td>$10.98</td>\n",
       "      <td>0</td>\n",
       "    </tr>\n",
       "    <tr>\n",
       "      <th>6</th>\n",
       "      <td>3</td>\n",
       "      <td>1</td>\n",
       "      <td>Side of Chips</td>\n",
       "      <td>NaN</td>\n",
       "      <td>$1.69</td>\n",
       "      <td>1</td>\n",
       "    </tr>\n",
       "    <tr>\n",
       "      <th>7</th>\n",
       "      <td>4</td>\n",
       "      <td>1</td>\n",
       "      <td>Steak Burrito</td>\n",
       "      <td>[Tomatillo Red Chili Salsa, [Fajita Vegetables...</td>\n",
       "      <td>$11.75</td>\n",
       "      <td>0</td>\n",
       "    </tr>\n",
       "    <tr>\n",
       "      <th>8</th>\n",
       "      <td>4</td>\n",
       "      <td>1</td>\n",
       "      <td>Steak Soft Tacos</td>\n",
       "      <td>[Tomatillo Green Chili Salsa, [Pinto Beans, Ch...</td>\n",
       "      <td>$9.25</td>\n",
       "      <td>1</td>\n",
       "    </tr>\n",
       "    <tr>\n",
       "      <th>9</th>\n",
       "      <td>5</td>\n",
       "      <td>1</td>\n",
       "      <td>Steak Burrito</td>\n",
       "      <td>[Fresh Tomato Salsa, [Rice, Black Beans, Pinto...</td>\n",
       "      <td>$9.25</td>\n",
       "      <td>0</td>\n",
       "    </tr>\n",
       "  </tbody>\n",
       "</table>\n",
       "</div>"
      ],
      "text/plain": [
       "   order_id  quantity                              item_name  \\\n",
       "0         1         1           Chips and Fresh Tomato Salsa   \n",
       "1         1         1                                   Izze   \n",
       "2         1         1                       Nantucket Nectar   \n",
       "3         1         1  Chips and Tomatillo-Green Chili Salsa   \n",
       "4         2         2                           Chicken Bowl   \n",
       "5         3         1                           Chicken Bowl   \n",
       "6         3         1                          Side of Chips   \n",
       "7         4         1                          Steak Burrito   \n",
       "8         4         1                       Steak Soft Tacos   \n",
       "9         5         1                          Steak Burrito   \n",
       "\n",
       "                                  choice_description item_price  sub_order_id  \n",
       "0                                                NaN     $2.39              0  \n",
       "1                                       [Clementine]     $3.39              1  \n",
       "2                                            [Apple]     $3.39              2  \n",
       "3                                                NaN     $2.39              3  \n",
       "4  [Tomatillo-Red Chili Salsa (Hot), [Black Beans...    $16.98              0  \n",
       "5  [Fresh Tomato Salsa (Mild), [Rice, Cheese, Sou...    $10.98              0  \n",
       "6                                                NaN     $1.69              1  \n",
       "7  [Tomatillo Red Chili Salsa, [Fajita Vegetables...    $11.75              0  \n",
       "8  [Tomatillo Green Chili Salsa, [Pinto Beans, Ch...     $9.25              1  \n",
       "9  [Fresh Tomato Salsa, [Rice, Black Beans, Pinto...     $9.25              0  "
      ]
     },
     "execution_count": 88,
     "metadata": {},
     "output_type": "execute_result"
    }
   ],
   "source": [
    "def make_suborder(sub_df):\n",
    "    sub_df['sub_order_id'] = np.arange(sub_df.shape[0])\n",
    "    return sub_df\n",
    "\n",
    "chipotle = chipotle.groupby('order_id').apply(make_suborder)\n",
    "\n",
    "chipotle.head(10)"
   ]
  },
  {
   "cell_type": "code",
   "execution_count": 84,
   "metadata": {
    "collapsed": false,
    "scrolled": true
   },
   "outputs": [
    {
     "data": {
      "text/html": [
       "<div>\n",
       "<table border=\"1\" class=\"dataframe\">\n",
       "  <thead>\n",
       "    <tr style=\"text-align: right;\">\n",
       "      <th></th>\n",
       "      <th>order_id</th>\n",
       "      <th>quantity</th>\n",
       "      <th>item_name</th>\n",
       "      <th>choice_description</th>\n",
       "      <th>item_price</th>\n",
       "      <th>sub_order_id</th>\n",
       "    </tr>\n",
       "  </thead>\n",
       "  <tbody>\n",
       "    <tr>\n",
       "      <th>0</th>\n",
       "      <td>1</td>\n",
       "      <td>1</td>\n",
       "      <td>Chips and Fresh Tomato Salsa</td>\n",
       "      <td>NaN</td>\n",
       "      <td>$2.39</td>\n",
       "      <td>1</td>\n",
       "    </tr>\n",
       "    <tr>\n",
       "      <th>1</th>\n",
       "      <td>1</td>\n",
       "      <td>1</td>\n",
       "      <td>Izze</td>\n",
       "      <td>[Clementine]</td>\n",
       "      <td>$3.39</td>\n",
       "      <td>2</td>\n",
       "    </tr>\n",
       "    <tr>\n",
       "      <th>2</th>\n",
       "      <td>1</td>\n",
       "      <td>1</td>\n",
       "      <td>Nantucket Nectar</td>\n",
       "      <td>[Apple]</td>\n",
       "      <td>$3.39</td>\n",
       "      <td>3</td>\n",
       "    </tr>\n",
       "    <tr>\n",
       "      <th>3</th>\n",
       "      <td>1</td>\n",
       "      <td>1</td>\n",
       "      <td>Chips and Tomatillo-Green Chili Salsa</td>\n",
       "      <td>NaN</td>\n",
       "      <td>$2.39</td>\n",
       "      <td>4</td>\n",
       "    </tr>\n",
       "    <tr>\n",
       "      <th>4</th>\n",
       "      <td>2</td>\n",
       "      <td>2</td>\n",
       "      <td>Chicken Bowl</td>\n",
       "      <td>[Tomatillo-Red Chili Salsa (Hot), [Black Beans...</td>\n",
       "      <td>$16.98</td>\n",
       "      <td>1</td>\n",
       "    </tr>\n",
       "    <tr>\n",
       "      <th>5</th>\n",
       "      <td>3</td>\n",
       "      <td>1</td>\n",
       "      <td>Chicken Bowl</td>\n",
       "      <td>[Fresh Tomato Salsa (Mild), [Rice, Cheese, Sou...</td>\n",
       "      <td>$10.98</td>\n",
       "      <td>1</td>\n",
       "    </tr>\n",
       "    <tr>\n",
       "      <th>6</th>\n",
       "      <td>3</td>\n",
       "      <td>1</td>\n",
       "      <td>Side of Chips</td>\n",
       "      <td>NaN</td>\n",
       "      <td>$1.69</td>\n",
       "      <td>2</td>\n",
       "    </tr>\n",
       "    <tr>\n",
       "      <th>7</th>\n",
       "      <td>4</td>\n",
       "      <td>1</td>\n",
       "      <td>Steak Burrito</td>\n",
       "      <td>[Tomatillo Red Chili Salsa, [Fajita Vegetables...</td>\n",
       "      <td>$11.75</td>\n",
       "      <td>1</td>\n",
       "    </tr>\n",
       "    <tr>\n",
       "      <th>8</th>\n",
       "      <td>4</td>\n",
       "      <td>1</td>\n",
       "      <td>Steak Soft Tacos</td>\n",
       "      <td>[Tomatillo Green Chili Salsa, [Pinto Beans, Ch...</td>\n",
       "      <td>$9.25</td>\n",
       "      <td>2</td>\n",
       "    </tr>\n",
       "    <tr>\n",
       "      <th>9</th>\n",
       "      <td>5</td>\n",
       "      <td>1</td>\n",
       "      <td>Steak Burrito</td>\n",
       "      <td>[Fresh Tomato Salsa, [Rice, Black Beans, Pinto...</td>\n",
       "      <td>$9.25</td>\n",
       "      <td>1</td>\n",
       "    </tr>\n",
       "    <tr>\n",
       "      <th>10</th>\n",
       "      <td>5</td>\n",
       "      <td>1</td>\n",
       "      <td>Chips and Guacamole</td>\n",
       "      <td>NaN</td>\n",
       "      <td>$4.45</td>\n",
       "      <td>2</td>\n",
       "    </tr>\n",
       "    <tr>\n",
       "      <th>11</th>\n",
       "      <td>6</td>\n",
       "      <td>1</td>\n",
       "      <td>Chicken Crispy Tacos</td>\n",
       "      <td>[Roasted Chili Corn Salsa, [Fajita Vegetables,...</td>\n",
       "      <td>$8.75</td>\n",
       "      <td>1</td>\n",
       "    </tr>\n",
       "    <tr>\n",
       "      <th>12</th>\n",
       "      <td>6</td>\n",
       "      <td>1</td>\n",
       "      <td>Chicken Soft Tacos</td>\n",
       "      <td>[Roasted Chili Corn Salsa, [Rice, Black Beans,...</td>\n",
       "      <td>$8.75</td>\n",
       "      <td>2</td>\n",
       "    </tr>\n",
       "    <tr>\n",
       "      <th>13</th>\n",
       "      <td>7</td>\n",
       "      <td>1</td>\n",
       "      <td>Chicken Bowl</td>\n",
       "      <td>[Fresh Tomato Salsa, [Fajita Vegetables, Rice,...</td>\n",
       "      <td>$11.25</td>\n",
       "      <td>1</td>\n",
       "    </tr>\n",
       "    <tr>\n",
       "      <th>14</th>\n",
       "      <td>7</td>\n",
       "      <td>1</td>\n",
       "      <td>Chips and Guacamole</td>\n",
       "      <td>NaN</td>\n",
       "      <td>$4.45</td>\n",
       "      <td>2</td>\n",
       "    </tr>\n",
       "  </tbody>\n",
       "</table>\n",
       "</div>"
      ],
      "text/plain": [
       "    order_id  quantity                              item_name  \\\n",
       "0          1         1           Chips and Fresh Tomato Salsa   \n",
       "1          1         1                                   Izze   \n",
       "2          1         1                       Nantucket Nectar   \n",
       "3          1         1  Chips and Tomatillo-Green Chili Salsa   \n",
       "4          2         2                           Chicken Bowl   \n",
       "5          3         1                           Chicken Bowl   \n",
       "6          3         1                          Side of Chips   \n",
       "7          4         1                          Steak Burrito   \n",
       "8          4         1                       Steak Soft Tacos   \n",
       "9          5         1                          Steak Burrito   \n",
       "10         5         1                    Chips and Guacamole   \n",
       "11         6         1                   Chicken Crispy Tacos   \n",
       "12         6         1                     Chicken Soft Tacos   \n",
       "13         7         1                           Chicken Bowl   \n",
       "14         7         1                    Chips and Guacamole   \n",
       "\n",
       "                                   choice_description item_price  sub_order_id  \n",
       "0                                                 NaN     $2.39              1  \n",
       "1                                        [Clementine]     $3.39              2  \n",
       "2                                             [Apple]     $3.39              3  \n",
       "3                                                 NaN     $2.39              4  \n",
       "4   [Tomatillo-Red Chili Salsa (Hot), [Black Beans...    $16.98              1  \n",
       "5   [Fresh Tomato Salsa (Mild), [Rice, Cheese, Sou...    $10.98              1  \n",
       "6                                                 NaN     $1.69              2  \n",
       "7   [Tomatillo Red Chili Salsa, [Fajita Vegetables...    $11.75              1  \n",
       "8   [Tomatillo Green Chili Salsa, [Pinto Beans, Ch...     $9.25              2  \n",
       "9   [Fresh Tomato Salsa, [Rice, Black Beans, Pinto...     $9.25              1  \n",
       "10                                                NaN     $4.45              2  \n",
       "11  [Roasted Chili Corn Salsa, [Fajita Vegetables,...     $8.75              1  \n",
       "12  [Roasted Chili Corn Salsa, [Rice, Black Beans,...     $8.75              2  \n",
       "13  [Fresh Tomato Salsa, [Fajita Vegetables, Rice,...    $11.25              1  \n",
       "14                                                NaN     $4.45              2  "
      ]
     },
     "execution_count": 84,
     "metadata": {},
     "output_type": "execute_result"
    }
   ],
   "source": [
    "chipotle['sub_order_id'] = chipotle.groupby(['order_id']).cumcount()+1\n",
    "chipotle.head(15)"
   ]
  },
  {
   "cell_type": "markdown",
   "metadata": {},
   "source": [
    "---\n",
    "\n",
    "### 2. Clean up the price column \n",
    "\n",
    "We want the price column to be a numeric float value. Currently it is a string (and has the dollar sign in it)."
   ]
  },
  {
   "cell_type": "code",
   "execution_count": null,
   "metadata": {
    "collapsed": true
   },
   "outputs": [],
   "source": [
    "def try_to_convert(x):\n",
    "    try:\n",
    "        return float(x.replace('$',''))\n",
    "    except:\n",
    "        return np.nan\n",
    "    \n",
    "chipotle['item_price'] = chipotle['item_price'].map(try_to_convert)"
   ]
  },
  {
   "cell_type": "code",
   "execution_count": 91,
   "metadata": {
    "collapsed": false
   },
   "outputs": [
    {
     "data": {
      "text/html": [
       "<div>\n",
       "<table border=\"1\" class=\"dataframe\">\n",
       "  <thead>\n",
       "    <tr style=\"text-align: right;\">\n",
       "      <th></th>\n",
       "      <th>order_id</th>\n",
       "      <th>quantity</th>\n",
       "      <th>item_name</th>\n",
       "      <th>choice_description</th>\n",
       "      <th>item_price</th>\n",
       "      <th>sub_order_id</th>\n",
       "    </tr>\n",
       "  </thead>\n",
       "  <tbody>\n",
       "    <tr>\n",
       "      <th>0</th>\n",
       "      <td>1</td>\n",
       "      <td>1</td>\n",
       "      <td>Chips and Fresh Tomato Salsa</td>\n",
       "      <td>NaN</td>\n",
       "      <td>2.39</td>\n",
       "      <td>0</td>\n",
       "    </tr>\n",
       "    <tr>\n",
       "      <th>1</th>\n",
       "      <td>1</td>\n",
       "      <td>1</td>\n",
       "      <td>Izze</td>\n",
       "      <td>[Clementine]</td>\n",
       "      <td>3.39</td>\n",
       "      <td>1</td>\n",
       "    </tr>\n",
       "    <tr>\n",
       "      <th>2</th>\n",
       "      <td>1</td>\n",
       "      <td>1</td>\n",
       "      <td>Nantucket Nectar</td>\n",
       "      <td>[Apple]</td>\n",
       "      <td>3.39</td>\n",
       "      <td>2</td>\n",
       "    </tr>\n",
       "    <tr>\n",
       "      <th>3</th>\n",
       "      <td>1</td>\n",
       "      <td>1</td>\n",
       "      <td>Chips and Tomatillo-Green Chili Salsa</td>\n",
       "      <td>NaN</td>\n",
       "      <td>2.39</td>\n",
       "      <td>3</td>\n",
       "    </tr>\n",
       "    <tr>\n",
       "      <th>4</th>\n",
       "      <td>2</td>\n",
       "      <td>2</td>\n",
       "      <td>Chicken Bowl</td>\n",
       "      <td>[Tomatillo-Red Chili Salsa (Hot), [Black Beans...</td>\n",
       "      <td>16.98</td>\n",
       "      <td>0</td>\n",
       "    </tr>\n",
       "  </tbody>\n",
       "</table>\n",
       "</div>"
      ],
      "text/plain": [
       "   order_id  quantity                              item_name  \\\n",
       "0         1         1           Chips and Fresh Tomato Salsa   \n",
       "1         1         1                                   Izze   \n",
       "2         1         1                       Nantucket Nectar   \n",
       "3         1         1  Chips and Tomatillo-Green Chili Salsa   \n",
       "4         2         2                           Chicken Bowl   \n",
       "\n",
       "                                  choice_description  item_price  sub_order_id  \n",
       "0                                                NaN        2.39             0  \n",
       "1                                       [Clementine]        3.39             1  \n",
       "2                                            [Apple]        3.39             2  \n",
       "3                                                NaN        2.39             3  \n",
       "4  [Tomatillo-Red Chili Salsa (Hot), [Black Beans...       16.98             0  "
      ]
     },
     "execution_count": 91,
     "metadata": {},
     "output_type": "execute_result"
    }
   ],
   "source": [
    "chipotle['item_price'] = chipotle['item_price'].str.replace(\"$\",\"\").astype(float)\n",
    "chipotle.head()"
   ]
  },
  {
   "cell_type": "code",
   "execution_count": 92,
   "metadata": {
    "collapsed": false
   },
   "outputs": [
    {
     "data": {
      "text/plain": [
       "array(['Chips and Fresh Tomato Salsa', 'Izze', 'Nantucket Nectar',\n",
       "       'Chips and Tomatillo-Green Chili Salsa', 'Chicken Bowl',\n",
       "       'Side of Chips', 'Steak Burrito', 'Steak Soft Tacos',\n",
       "       'Chips and Guacamole', 'Chicken Crispy Tacos', 'Chicken Soft Tacos',\n",
       "       'Chicken Burrito', 'Canned Soda', 'Barbacoa Burrito',\n",
       "       'Carnitas Burrito', 'Carnitas Bowl', 'Bottled Water',\n",
       "       'Chips and Tomatillo Green Chili Salsa', 'Barbacoa Bowl', 'Chips',\n",
       "       'Chicken Salad Bowl', 'Steak Bowl', 'Barbacoa Soft Tacos',\n",
       "       'Veggie Burrito', 'Veggie Bowl', 'Steak Crispy Tacos',\n",
       "       'Chips and Tomatillo Red Chili Salsa', 'Barbacoa Crispy Tacos',\n",
       "       'Veggie Salad Bowl', 'Chips and Roasted Chili-Corn Salsa',\n",
       "       'Chips and Roasted Chili Corn Salsa', 'Carnitas Soft Tacos',\n",
       "       'Chicken Salad', 'Canned Soft Drink', 'Steak Salad Bowl',\n",
       "       '6 Pack Soft Drink', 'Chips and Tomatillo-Red Chili Salsa', 'Bowl',\n",
       "       'Burrito', 'Crispy Tacos', 'Carnitas Crispy Tacos', 'Steak Salad',\n",
       "       'Chips and Mild Fresh Tomato Salsa', 'Veggie Soft Tacos',\n",
       "       'Carnitas Salad Bowl', 'Barbacoa Salad Bowl', 'Salad',\n",
       "       'Veggie Crispy Tacos', 'Veggie Salad', 'Carnitas Salad'], dtype=object)"
      ]
     },
     "execution_count": 92,
     "metadata": {},
     "output_type": "execute_result"
    }
   ],
   "source": [
    "chipotle.item_name.unique()"
   ]
  },
  {
   "cell_type": "markdown",
   "metadata": {},
   "source": [
    "---\n",
    "\n",
    "### 3. Make a new categorical column for broader item type\n",
    "\n",
    "Currently we have many different item types. Make a new column that only has 5 different broad item types. You should have these types in the new column in your DataFrame:\n",
    "\n",
    "    chips\n",
    "    drink\n",
    "    burrito\n",
    "    taco\n",
    "    salad\n",
    "    \n",
    "(Put the `bowl` items into `burrito` category)."
   ]
  },
  {
   "cell_type": "code",
   "execution_count": 93,
   "metadata": {
    "collapsed": true
   },
   "outputs": [],
   "source": [
    "def item_cat(x) :\n",
    "    if 'chips' in x.lower() :\n",
    "        return 'chips'\n",
    "    elif 'salad' in x.lower():\n",
    "        return 'salad'\n",
    "    elif 'tacos' in x.lower() :\n",
    "        return 'tacos'\n",
    "    elif 'burrito' in x.lower() or 'bowl' in x.lower() :\n",
    "        return 'burrito'\n",
    "    else :\n",
    "        return 'drink'\n",
    "    \n",
    "chipotle['item_category'] = chipotle['item_name'].map(item_cat)"
   ]
  },
  {
   "cell_type": "code",
   "execution_count": 96,
   "metadata": {
    "collapsed": false
   },
   "outputs": [
    {
     "data": {
      "text/plain": [
       "burrito    2330\n",
       "chips      1084\n",
       "drink       668\n",
       "tacos       345\n",
       "salad       195\n",
       "Name: item_category, dtype: int64"
      ]
     },
     "execution_count": 96,
     "metadata": {},
     "output_type": "execute_result"
    }
   ],
   "source": [
    "chipotle.item_category.value_counts()"
   ]
  },
  {
   "cell_type": "code",
   "execution_count": 94,
   "metadata": {
    "collapsed": false
   },
   "outputs": [
    {
     "data": {
      "text/html": [
       "<div>\n",
       "<table border=\"1\" class=\"dataframe\">\n",
       "  <thead>\n",
       "    <tr style=\"text-align: right;\">\n",
       "      <th></th>\n",
       "      <th>order_id</th>\n",
       "      <th>quantity</th>\n",
       "      <th>item_name</th>\n",
       "      <th>choice_description</th>\n",
       "      <th>item_price</th>\n",
       "      <th>sub_order_id</th>\n",
       "      <th>item_category</th>\n",
       "    </tr>\n",
       "  </thead>\n",
       "  <tbody>\n",
       "    <tr>\n",
       "      <th>0</th>\n",
       "      <td>1</td>\n",
       "      <td>1</td>\n",
       "      <td>Chips and Fresh Tomato Salsa</td>\n",
       "      <td>NaN</td>\n",
       "      <td>2.39</td>\n",
       "      <td>0</td>\n",
       "      <td>chips</td>\n",
       "    </tr>\n",
       "    <tr>\n",
       "      <th>1</th>\n",
       "      <td>1</td>\n",
       "      <td>1</td>\n",
       "      <td>Izze</td>\n",
       "      <td>[Clementine]</td>\n",
       "      <td>3.39</td>\n",
       "      <td>1</td>\n",
       "      <td>drink</td>\n",
       "    </tr>\n",
       "    <tr>\n",
       "      <th>2</th>\n",
       "      <td>1</td>\n",
       "      <td>1</td>\n",
       "      <td>Nantucket Nectar</td>\n",
       "      <td>[Apple]</td>\n",
       "      <td>3.39</td>\n",
       "      <td>2</td>\n",
       "      <td>drink</td>\n",
       "    </tr>\n",
       "    <tr>\n",
       "      <th>3</th>\n",
       "      <td>1</td>\n",
       "      <td>1</td>\n",
       "      <td>Chips and Tomatillo-Green Chili Salsa</td>\n",
       "      <td>NaN</td>\n",
       "      <td>2.39</td>\n",
       "      <td>3</td>\n",
       "      <td>chips</td>\n",
       "    </tr>\n",
       "    <tr>\n",
       "      <th>4</th>\n",
       "      <td>2</td>\n",
       "      <td>2</td>\n",
       "      <td>Chicken Bowl</td>\n",
       "      <td>[Tomatillo-Red Chili Salsa (Hot), [Black Beans...</td>\n",
       "      <td>16.98</td>\n",
       "      <td>0</td>\n",
       "      <td>burrito</td>\n",
       "    </tr>\n",
       "    <tr>\n",
       "      <th>5</th>\n",
       "      <td>3</td>\n",
       "      <td>1</td>\n",
       "      <td>Chicken Bowl</td>\n",
       "      <td>[Fresh Tomato Salsa (Mild), [Rice, Cheese, Sou...</td>\n",
       "      <td>10.98</td>\n",
       "      <td>0</td>\n",
       "      <td>burrito</td>\n",
       "    </tr>\n",
       "    <tr>\n",
       "      <th>6</th>\n",
       "      <td>3</td>\n",
       "      <td>1</td>\n",
       "      <td>Side of Chips</td>\n",
       "      <td>NaN</td>\n",
       "      <td>1.69</td>\n",
       "      <td>1</td>\n",
       "      <td>chips</td>\n",
       "    </tr>\n",
       "    <tr>\n",
       "      <th>7</th>\n",
       "      <td>4</td>\n",
       "      <td>1</td>\n",
       "      <td>Steak Burrito</td>\n",
       "      <td>[Tomatillo Red Chili Salsa, [Fajita Vegetables...</td>\n",
       "      <td>11.75</td>\n",
       "      <td>0</td>\n",
       "      <td>burrito</td>\n",
       "    </tr>\n",
       "    <tr>\n",
       "      <th>8</th>\n",
       "      <td>4</td>\n",
       "      <td>1</td>\n",
       "      <td>Steak Soft Tacos</td>\n",
       "      <td>[Tomatillo Green Chili Salsa, [Pinto Beans, Ch...</td>\n",
       "      <td>9.25</td>\n",
       "      <td>1</td>\n",
       "      <td>tacos</td>\n",
       "    </tr>\n",
       "    <tr>\n",
       "      <th>9</th>\n",
       "      <td>5</td>\n",
       "      <td>1</td>\n",
       "      <td>Steak Burrito</td>\n",
       "      <td>[Fresh Tomato Salsa, [Rice, Black Beans, Pinto...</td>\n",
       "      <td>9.25</td>\n",
       "      <td>0</td>\n",
       "      <td>burrito</td>\n",
       "    </tr>\n",
       "    <tr>\n",
       "      <th>10</th>\n",
       "      <td>5</td>\n",
       "      <td>1</td>\n",
       "      <td>Chips and Guacamole</td>\n",
       "      <td>NaN</td>\n",
       "      <td>4.45</td>\n",
       "      <td>1</td>\n",
       "      <td>chips</td>\n",
       "    </tr>\n",
       "    <tr>\n",
       "      <th>11</th>\n",
       "      <td>6</td>\n",
       "      <td>1</td>\n",
       "      <td>Chicken Crispy Tacos</td>\n",
       "      <td>[Roasted Chili Corn Salsa, [Fajita Vegetables,...</td>\n",
       "      <td>8.75</td>\n",
       "      <td>0</td>\n",
       "      <td>tacos</td>\n",
       "    </tr>\n",
       "    <tr>\n",
       "      <th>12</th>\n",
       "      <td>6</td>\n",
       "      <td>1</td>\n",
       "      <td>Chicken Soft Tacos</td>\n",
       "      <td>[Roasted Chili Corn Salsa, [Rice, Black Beans,...</td>\n",
       "      <td>8.75</td>\n",
       "      <td>1</td>\n",
       "      <td>tacos</td>\n",
       "    </tr>\n",
       "    <tr>\n",
       "      <th>13</th>\n",
       "      <td>7</td>\n",
       "      <td>1</td>\n",
       "      <td>Chicken Bowl</td>\n",
       "      <td>[Fresh Tomato Salsa, [Fajita Vegetables, Rice,...</td>\n",
       "      <td>11.25</td>\n",
       "      <td>0</td>\n",
       "      <td>burrito</td>\n",
       "    </tr>\n",
       "    <tr>\n",
       "      <th>14</th>\n",
       "      <td>7</td>\n",
       "      <td>1</td>\n",
       "      <td>Chips and Guacamole</td>\n",
       "      <td>NaN</td>\n",
       "      <td>4.45</td>\n",
       "      <td>1</td>\n",
       "      <td>chips</td>\n",
       "    </tr>\n",
       "    <tr>\n",
       "      <th>15</th>\n",
       "      <td>8</td>\n",
       "      <td>1</td>\n",
       "      <td>Chips and Tomatillo-Green Chili Salsa</td>\n",
       "      <td>NaN</td>\n",
       "      <td>2.39</td>\n",
       "      <td>0</td>\n",
       "      <td>chips</td>\n",
       "    </tr>\n",
       "    <tr>\n",
       "      <th>16</th>\n",
       "      <td>8</td>\n",
       "      <td>1</td>\n",
       "      <td>Chicken Burrito</td>\n",
       "      <td>[Tomatillo-Green Chili Salsa (Medium), [Pinto ...</td>\n",
       "      <td>8.49</td>\n",
       "      <td>1</td>\n",
       "      <td>burrito</td>\n",
       "    </tr>\n",
       "    <tr>\n",
       "      <th>17</th>\n",
       "      <td>9</td>\n",
       "      <td>1</td>\n",
       "      <td>Chicken Burrito</td>\n",
       "      <td>[Fresh Tomato Salsa (Mild), [Black Beans, Rice...</td>\n",
       "      <td>8.49</td>\n",
       "      <td>0</td>\n",
       "      <td>burrito</td>\n",
       "    </tr>\n",
       "    <tr>\n",
       "      <th>18</th>\n",
       "      <td>9</td>\n",
       "      <td>2</td>\n",
       "      <td>Canned Soda</td>\n",
       "      <td>[Sprite]</td>\n",
       "      <td>2.18</td>\n",
       "      <td>1</td>\n",
       "      <td>drink</td>\n",
       "    </tr>\n",
       "    <tr>\n",
       "      <th>19</th>\n",
       "      <td>10</td>\n",
       "      <td>1</td>\n",
       "      <td>Chicken Bowl</td>\n",
       "      <td>[Tomatillo Red Chili Salsa, [Fajita Vegetables...</td>\n",
       "      <td>8.75</td>\n",
       "      <td>0</td>\n",
       "      <td>burrito</td>\n",
       "    </tr>\n",
       "  </tbody>\n",
       "</table>\n",
       "</div>"
      ],
      "text/plain": [
       "    order_id  quantity                              item_name  \\\n",
       "0          1         1           Chips and Fresh Tomato Salsa   \n",
       "1          1         1                                   Izze   \n",
       "2          1         1                       Nantucket Nectar   \n",
       "3          1         1  Chips and Tomatillo-Green Chili Salsa   \n",
       "4          2         2                           Chicken Bowl   \n",
       "5          3         1                           Chicken Bowl   \n",
       "6          3         1                          Side of Chips   \n",
       "7          4         1                          Steak Burrito   \n",
       "8          4         1                       Steak Soft Tacos   \n",
       "9          5         1                          Steak Burrito   \n",
       "10         5         1                    Chips and Guacamole   \n",
       "11         6         1                   Chicken Crispy Tacos   \n",
       "12         6         1                     Chicken Soft Tacos   \n",
       "13         7         1                           Chicken Bowl   \n",
       "14         7         1                    Chips and Guacamole   \n",
       "15         8         1  Chips and Tomatillo-Green Chili Salsa   \n",
       "16         8         1                        Chicken Burrito   \n",
       "17         9         1                        Chicken Burrito   \n",
       "18         9         2                            Canned Soda   \n",
       "19        10         1                           Chicken Bowl   \n",
       "\n",
       "                                   choice_description  item_price  \\\n",
       "0                                                 NaN        2.39   \n",
       "1                                        [Clementine]        3.39   \n",
       "2                                             [Apple]        3.39   \n",
       "3                                                 NaN        2.39   \n",
       "4   [Tomatillo-Red Chili Salsa (Hot), [Black Beans...       16.98   \n",
       "5   [Fresh Tomato Salsa (Mild), [Rice, Cheese, Sou...       10.98   \n",
       "6                                                 NaN        1.69   \n",
       "7   [Tomatillo Red Chili Salsa, [Fajita Vegetables...       11.75   \n",
       "8   [Tomatillo Green Chili Salsa, [Pinto Beans, Ch...        9.25   \n",
       "9   [Fresh Tomato Salsa, [Rice, Black Beans, Pinto...        9.25   \n",
       "10                                                NaN        4.45   \n",
       "11  [Roasted Chili Corn Salsa, [Fajita Vegetables,...        8.75   \n",
       "12  [Roasted Chili Corn Salsa, [Rice, Black Beans,...        8.75   \n",
       "13  [Fresh Tomato Salsa, [Fajita Vegetables, Rice,...       11.25   \n",
       "14                                                NaN        4.45   \n",
       "15                                                NaN        2.39   \n",
       "16  [Tomatillo-Green Chili Salsa (Medium), [Pinto ...        8.49   \n",
       "17  [Fresh Tomato Salsa (Mild), [Black Beans, Rice...        8.49   \n",
       "18                                           [Sprite]        2.18   \n",
       "19  [Tomatillo Red Chili Salsa, [Fajita Vegetables...        8.75   \n",
       "\n",
       "    sub_order_id item_category  \n",
       "0              0         chips  \n",
       "1              1         drink  \n",
       "2              2         drink  \n",
       "3              3         chips  \n",
       "4              0       burrito  \n",
       "5              0       burrito  \n",
       "6              1         chips  \n",
       "7              0       burrito  \n",
       "8              1         tacos  \n",
       "9              0       burrito  \n",
       "10             1         chips  \n",
       "11             0         tacos  \n",
       "12             1         tacos  \n",
       "13             0       burrito  \n",
       "14             1         chips  \n",
       "15             0         chips  \n",
       "16             1       burrito  \n",
       "17             0       burrito  \n",
       "18             1         drink  \n",
       "19             0       burrito  "
      ]
     },
     "execution_count": 94,
     "metadata": {},
     "output_type": "execute_result"
    }
   ],
   "source": [
    "chipotle.head(20)"
   ]
  },
  {
   "cell_type": "markdown",
   "metadata": {},
   "source": [
    "---\n",
    "\n",
    "### 4. Calculate the total price by `order_id` and add as a new as column `order_total_price`.\n",
    "\n",
    "There are a variety of different ways you can tackle this problem. One way is a grouped apply on the price and then a merge by `order_id` with the total price.\n",
    "\n",
    "Hints:\n",
    "\n",
    "- Merging DataFrames with series doesn't work, you need to merge 2 DataFrames.\n",
    "- A series object coming out of a groupby with an apply will have the groupby as potentially hierarchical indices. Using `reset_index()` will turn these back into columns and also convert to a DataFrame, which can be used to merge on."
   ]
  },
  {
   "cell_type": "code",
   "execution_count": 99,
   "metadata": {
    "collapsed": false
   },
   "outputs": [
    {
     "data": {
      "text/html": [
       "<div>\n",
       "<table border=\"1\" class=\"dataframe\">\n",
       "  <thead>\n",
       "    <tr style=\"text-align: right;\">\n",
       "      <th></th>\n",
       "      <th>order_id</th>\n",
       "      <th>total_order_price</th>\n",
       "    </tr>\n",
       "  </thead>\n",
       "  <tbody>\n",
       "    <tr>\n",
       "      <th>0</th>\n",
       "      <td>1</td>\n",
       "      <td>11.56</td>\n",
       "    </tr>\n",
       "    <tr>\n",
       "      <th>1</th>\n",
       "      <td>2</td>\n",
       "      <td>16.98</td>\n",
       "    </tr>\n",
       "    <tr>\n",
       "      <th>2</th>\n",
       "      <td>3</td>\n",
       "      <td>12.67</td>\n",
       "    </tr>\n",
       "  </tbody>\n",
       "</table>\n",
       "</div>"
      ],
      "text/plain": [
       "   order_id  total_order_price\n",
       "0         1              11.56\n",
       "1         2              16.98\n",
       "2         3              12.67"
      ]
     },
     "execution_count": 99,
     "metadata": {},
     "output_type": "execute_result"
    }
   ],
   "source": [
    "order_prices = chipotle.groupby('order_id').item_price.apply(np.sum).reset_index()\n",
    "#order_prices.head(10)c \n",
    "order_prices.columns = ['order_id', 'total_order_price']\n",
    "order_prices.head(3)"
   ]
  },
  {
   "cell_type": "code",
   "execution_count": 100,
   "metadata": {
    "collapsed": false
   },
   "outputs": [
    {
     "data": {
      "text/html": [
       "<div>\n",
       "<table border=\"1\" class=\"dataframe\">\n",
       "  <thead>\n",
       "    <tr style=\"text-align: right;\">\n",
       "      <th></th>\n",
       "      <th>order_id</th>\n",
       "      <th>quantity</th>\n",
       "      <th>item_name</th>\n",
       "      <th>choice_description</th>\n",
       "      <th>item_price</th>\n",
       "      <th>sub_order_id</th>\n",
       "      <th>item_category</th>\n",
       "      <th>total_order_price</th>\n",
       "    </tr>\n",
       "  </thead>\n",
       "  <tbody>\n",
       "    <tr>\n",
       "      <th>0</th>\n",
       "      <td>1</td>\n",
       "      <td>1</td>\n",
       "      <td>Chips and Fresh Tomato Salsa</td>\n",
       "      <td>NaN</td>\n",
       "      <td>2.39</td>\n",
       "      <td>0</td>\n",
       "      <td>chips</td>\n",
       "      <td>11.56</td>\n",
       "    </tr>\n",
       "    <tr>\n",
       "      <th>1</th>\n",
       "      <td>1</td>\n",
       "      <td>1</td>\n",
       "      <td>Izze</td>\n",
       "      <td>[Clementine]</td>\n",
       "      <td>3.39</td>\n",
       "      <td>1</td>\n",
       "      <td>drink</td>\n",
       "      <td>11.56</td>\n",
       "    </tr>\n",
       "    <tr>\n",
       "      <th>2</th>\n",
       "      <td>1</td>\n",
       "      <td>1</td>\n",
       "      <td>Nantucket Nectar</td>\n",
       "      <td>[Apple]</td>\n",
       "      <td>3.39</td>\n",
       "      <td>2</td>\n",
       "      <td>drink</td>\n",
       "      <td>11.56</td>\n",
       "    </tr>\n",
       "    <tr>\n",
       "      <th>3</th>\n",
       "      <td>1</td>\n",
       "      <td>1</td>\n",
       "      <td>Chips and Tomatillo-Green Chili Salsa</td>\n",
       "      <td>NaN</td>\n",
       "      <td>2.39</td>\n",
       "      <td>3</td>\n",
       "      <td>chips</td>\n",
       "      <td>11.56</td>\n",
       "    </tr>\n",
       "    <tr>\n",
       "      <th>4</th>\n",
       "      <td>2</td>\n",
       "      <td>2</td>\n",
       "      <td>Chicken Bowl</td>\n",
       "      <td>[Tomatillo-Red Chili Salsa (Hot), [Black Beans...</td>\n",
       "      <td>16.98</td>\n",
       "      <td>0</td>\n",
       "      <td>burrito</td>\n",
       "      <td>16.98</td>\n",
       "    </tr>\n",
       "    <tr>\n",
       "      <th>5</th>\n",
       "      <td>3</td>\n",
       "      <td>1</td>\n",
       "      <td>Chicken Bowl</td>\n",
       "      <td>[Fresh Tomato Salsa (Mild), [Rice, Cheese, Sou...</td>\n",
       "      <td>10.98</td>\n",
       "      <td>0</td>\n",
       "      <td>burrito</td>\n",
       "      <td>12.67</td>\n",
       "    </tr>\n",
       "    <tr>\n",
       "      <th>6</th>\n",
       "      <td>3</td>\n",
       "      <td>1</td>\n",
       "      <td>Side of Chips</td>\n",
       "      <td>NaN</td>\n",
       "      <td>1.69</td>\n",
       "      <td>1</td>\n",
       "      <td>chips</td>\n",
       "      <td>12.67</td>\n",
       "    </tr>\n",
       "    <tr>\n",
       "      <th>7</th>\n",
       "      <td>4</td>\n",
       "      <td>1</td>\n",
       "      <td>Steak Burrito</td>\n",
       "      <td>[Tomatillo Red Chili Salsa, [Fajita Vegetables...</td>\n",
       "      <td>11.75</td>\n",
       "      <td>0</td>\n",
       "      <td>burrito</td>\n",
       "      <td>21.00</td>\n",
       "    </tr>\n",
       "    <tr>\n",
       "      <th>8</th>\n",
       "      <td>4</td>\n",
       "      <td>1</td>\n",
       "      <td>Steak Soft Tacos</td>\n",
       "      <td>[Tomatillo Green Chili Salsa, [Pinto Beans, Ch...</td>\n",
       "      <td>9.25</td>\n",
       "      <td>1</td>\n",
       "      <td>tacos</td>\n",
       "      <td>21.00</td>\n",
       "    </tr>\n",
       "    <tr>\n",
       "      <th>9</th>\n",
       "      <td>5</td>\n",
       "      <td>1</td>\n",
       "      <td>Steak Burrito</td>\n",
       "      <td>[Fresh Tomato Salsa, [Rice, Black Beans, Pinto...</td>\n",
       "      <td>9.25</td>\n",
       "      <td>0</td>\n",
       "      <td>burrito</td>\n",
       "      <td>13.70</td>\n",
       "    </tr>\n",
       "    <tr>\n",
       "      <th>10</th>\n",
       "      <td>5</td>\n",
       "      <td>1</td>\n",
       "      <td>Chips and Guacamole</td>\n",
       "      <td>NaN</td>\n",
       "      <td>4.45</td>\n",
       "      <td>1</td>\n",
       "      <td>chips</td>\n",
       "      <td>13.70</td>\n",
       "    </tr>\n",
       "    <tr>\n",
       "      <th>11</th>\n",
       "      <td>6</td>\n",
       "      <td>1</td>\n",
       "      <td>Chicken Crispy Tacos</td>\n",
       "      <td>[Roasted Chili Corn Salsa, [Fajita Vegetables,...</td>\n",
       "      <td>8.75</td>\n",
       "      <td>0</td>\n",
       "      <td>tacos</td>\n",
       "      <td>17.50</td>\n",
       "    </tr>\n",
       "  </tbody>\n",
       "</table>\n",
       "</div>"
      ],
      "text/plain": [
       "    order_id  quantity                              item_name  \\\n",
       "0          1         1           Chips and Fresh Tomato Salsa   \n",
       "1          1         1                                   Izze   \n",
       "2          1         1                       Nantucket Nectar   \n",
       "3          1         1  Chips and Tomatillo-Green Chili Salsa   \n",
       "4          2         2                           Chicken Bowl   \n",
       "5          3         1                           Chicken Bowl   \n",
       "6          3         1                          Side of Chips   \n",
       "7          4         1                          Steak Burrito   \n",
       "8          4         1                       Steak Soft Tacos   \n",
       "9          5         1                          Steak Burrito   \n",
       "10         5         1                    Chips and Guacamole   \n",
       "11         6         1                   Chicken Crispy Tacos   \n",
       "\n",
       "                                   choice_description  item_price  \\\n",
       "0                                                 NaN        2.39   \n",
       "1                                        [Clementine]        3.39   \n",
       "2                                             [Apple]        3.39   \n",
       "3                                                 NaN        2.39   \n",
       "4   [Tomatillo-Red Chili Salsa (Hot), [Black Beans...       16.98   \n",
       "5   [Fresh Tomato Salsa (Mild), [Rice, Cheese, Sou...       10.98   \n",
       "6                                                 NaN        1.69   \n",
       "7   [Tomatillo Red Chili Salsa, [Fajita Vegetables...       11.75   \n",
       "8   [Tomatillo Green Chili Salsa, [Pinto Beans, Ch...        9.25   \n",
       "9   [Fresh Tomato Salsa, [Rice, Black Beans, Pinto...        9.25   \n",
       "10                                                NaN        4.45   \n",
       "11  [Roasted Chili Corn Salsa, [Fajita Vegetables,...        8.75   \n",
       "\n",
       "    sub_order_id item_category  total_order_price  \n",
       "0              0         chips              11.56  \n",
       "1              1         drink              11.56  \n",
       "2              2         drink              11.56  \n",
       "3              3         chips              11.56  \n",
       "4              0       burrito              16.98  \n",
       "5              0       burrito              12.67  \n",
       "6              1         chips              12.67  \n",
       "7              0       burrito              21.00  \n",
       "8              1         tacos              21.00  \n",
       "9              0       burrito              13.70  \n",
       "10             1         chips              13.70  \n",
       "11             0         tacos              17.50  "
      ]
     },
     "execution_count": 100,
     "metadata": {},
     "output_type": "execute_result"
    }
   ],
   "source": [
    "chipotle = chipotle.merge(order_prices, on='order_id')\n",
    "chipotle.head(12)"
   ]
  },
  {
   "cell_type": "markdown",
   "metadata": {},
   "source": [
    "---\n",
    "\n",
    "### 5. Make an `adjusted_item_price` column to account for multiple orders per row.\n",
    "\n",
    "Some items have multiple orders per row, as indicated by the quantity. Adjust the price to account for the number of orders in a new column."
   ]
  },
  {
   "cell_type": "code",
   "execution_count": 101,
   "metadata": {
    "collapsed": false
   },
   "outputs": [
    {
     "data": {
      "text/html": [
       "<div>\n",
       "<table border=\"1\" class=\"dataframe\">\n",
       "  <thead>\n",
       "    <tr style=\"text-align: right;\">\n",
       "      <th></th>\n",
       "      <th>order_id</th>\n",
       "      <th>quantity</th>\n",
       "      <th>item_name</th>\n",
       "      <th>choice_description</th>\n",
       "      <th>item_price</th>\n",
       "      <th>sub_order_id</th>\n",
       "      <th>item_category</th>\n",
       "      <th>total_order_price</th>\n",
       "    </tr>\n",
       "  </thead>\n",
       "  <tbody>\n",
       "    <tr>\n",
       "      <th>0</th>\n",
       "      <td>1</td>\n",
       "      <td>1</td>\n",
       "      <td>Chips and Fresh Tomato Salsa</td>\n",
       "      <td>NaN</td>\n",
       "      <td>2.39</td>\n",
       "      <td>0</td>\n",
       "      <td>chips</td>\n",
       "      <td>11.56</td>\n",
       "    </tr>\n",
       "  </tbody>\n",
       "</table>\n",
       "</div>"
      ],
      "text/plain": [
       "   order_id  quantity                     item_name choice_description  \\\n",
       "0         1         1  Chips and Fresh Tomato Salsa                NaN   \n",
       "\n",
       "   item_price  sub_order_id item_category  total_order_price  \n",
       "0        2.39             0         chips              11.56  "
      ]
     },
     "execution_count": 101,
     "metadata": {},
     "output_type": "execute_result"
    }
   ],
   "source": [
    "chipotle.head(1)"
   ]
  },
  {
   "cell_type": "code",
   "execution_count": 102,
   "metadata": {
    "collapsed": true
   },
   "outputs": [],
   "source": [
    "adj_item_price = [x / y for x, y in zip(chipotle['item_price'], chipotle['quantity'])]\n",
    "chipotle.insert(6, 'adj_item_price', adj_item_price)"
   ]
  },
  {
   "cell_type": "code",
   "execution_count": 104,
   "metadata": {
    "collapsed": true
   },
   "outputs": [],
   "source": [
    "chipotle['adj_item_price'] = chipotle.item_price / chipotle.quantity"
   ]
  },
  {
   "cell_type": "code",
   "execution_count": 105,
   "metadata": {
    "collapsed": false,
    "scrolled": true
   },
   "outputs": [
    {
     "data": {
      "text/html": [
       "<div>\n",
       "<table border=\"1\" class=\"dataframe\">\n",
       "  <thead>\n",
       "    <tr style=\"text-align: right;\">\n",
       "      <th></th>\n",
       "      <th>order_id</th>\n",
       "      <th>quantity</th>\n",
       "      <th>item_name</th>\n",
       "      <th>choice_description</th>\n",
       "      <th>item_price</th>\n",
       "      <th>sub_order_id</th>\n",
       "      <th>adj_item_price</th>\n",
       "      <th>item_category</th>\n",
       "      <th>total_order_price</th>\n",
       "    </tr>\n",
       "  </thead>\n",
       "  <tbody>\n",
       "    <tr>\n",
       "      <th>0</th>\n",
       "      <td>1</td>\n",
       "      <td>1</td>\n",
       "      <td>Chips and Fresh Tomato Salsa</td>\n",
       "      <td>NaN</td>\n",
       "      <td>2.39</td>\n",
       "      <td>0</td>\n",
       "      <td>2.39</td>\n",
       "      <td>chips</td>\n",
       "      <td>11.56</td>\n",
       "    </tr>\n",
       "    <tr>\n",
       "      <th>1</th>\n",
       "      <td>1</td>\n",
       "      <td>1</td>\n",
       "      <td>Izze</td>\n",
       "      <td>[Clementine]</td>\n",
       "      <td>3.39</td>\n",
       "      <td>1</td>\n",
       "      <td>3.39</td>\n",
       "      <td>drink</td>\n",
       "      <td>11.56</td>\n",
       "    </tr>\n",
       "    <tr>\n",
       "      <th>2</th>\n",
       "      <td>1</td>\n",
       "      <td>1</td>\n",
       "      <td>Nantucket Nectar</td>\n",
       "      <td>[Apple]</td>\n",
       "      <td>3.39</td>\n",
       "      <td>2</td>\n",
       "      <td>3.39</td>\n",
       "      <td>drink</td>\n",
       "      <td>11.56</td>\n",
       "    </tr>\n",
       "    <tr>\n",
       "      <th>3</th>\n",
       "      <td>1</td>\n",
       "      <td>1</td>\n",
       "      <td>Chips and Tomatillo-Green Chili Salsa</td>\n",
       "      <td>NaN</td>\n",
       "      <td>2.39</td>\n",
       "      <td>3</td>\n",
       "      <td>2.39</td>\n",
       "      <td>chips</td>\n",
       "      <td>11.56</td>\n",
       "    </tr>\n",
       "    <tr>\n",
       "      <th>4</th>\n",
       "      <td>2</td>\n",
       "      <td>2</td>\n",
       "      <td>Chicken Bowl</td>\n",
       "      <td>[Tomatillo-Red Chili Salsa (Hot), [Black Beans...</td>\n",
       "      <td>16.98</td>\n",
       "      <td>0</td>\n",
       "      <td>8.49</td>\n",
       "      <td>burrito</td>\n",
       "      <td>16.98</td>\n",
       "    </tr>\n",
       "  </tbody>\n",
       "</table>\n",
       "</div>"
      ],
      "text/plain": [
       "   order_id  quantity                              item_name  \\\n",
       "0         1         1           Chips and Fresh Tomato Salsa   \n",
       "1         1         1                                   Izze   \n",
       "2         1         1                       Nantucket Nectar   \n",
       "3         1         1  Chips and Tomatillo-Green Chili Salsa   \n",
       "4         2         2                           Chicken Bowl   \n",
       "\n",
       "                                  choice_description  item_price  \\\n",
       "0                                                NaN        2.39   \n",
       "1                                       [Clementine]        3.39   \n",
       "2                                            [Apple]        3.39   \n",
       "3                                                NaN        2.39   \n",
       "4  [Tomatillo-Red Chili Salsa (Hot), [Black Beans...       16.98   \n",
       "\n",
       "   sub_order_id  adj_item_price item_category  total_order_price  \n",
       "0             0            2.39         chips              11.56  \n",
       "1             1            3.39         drink              11.56  \n",
       "2             2            3.39         drink              11.56  \n",
       "3             3            2.39         chips              11.56  \n",
       "4             0            8.49       burrito              16.98  "
      ]
     },
     "execution_count": 105,
     "metadata": {},
     "output_type": "execute_result"
    }
   ],
   "source": [
    "chipotle.head()"
   ]
  },
  {
   "cell_type": "markdown",
   "metadata": {},
   "source": [
    "---\n",
    "\n",
    "### 6. What is the min, max, count, mean and standard deviation price per the `item_name`?\n",
    "\n",
    "Pivot table works well for this. Remember you can pass multiple functions into the `aggfunc` argument.\n",
    "\n",
    "The count won't just be the length of each order's subset - remember that there are multiple orders per row sometimes as shown in the quantity column!"
   ]
  },
  {
   "cell_type": "code",
   "execution_count": 112,
   "metadata": {
    "collapsed": false,
    "scrolled": true
   },
   "outputs": [
    {
     "data": {
      "text/html": [
       "<div>\n",
       "<table border=\"1\" class=\"dataframe\">\n",
       "  <thead>\n",
       "    <tr style=\"text-align: right;\">\n",
       "      <th></th>\n",
       "      <th>item_name</th>\n",
       "      <th>amax</th>\n",
       "      <th>amin</th>\n",
       "      <th>mean</th>\n",
       "      <th>std</th>\n",
       "    </tr>\n",
       "  </thead>\n",
       "  <tbody>\n",
       "    <tr>\n",
       "      <th>0</th>\n",
       "      <td>6 Pack Soft Drink</td>\n",
       "      <td>6.49</td>\n",
       "      <td>6.49</td>\n",
       "      <td>6.490000</td>\n",
       "      <td>0.000000</td>\n",
       "    </tr>\n",
       "    <tr>\n",
       "      <th>1</th>\n",
       "      <td>Barbacoa Bowl</td>\n",
       "      <td>11.75</td>\n",
       "      <td>8.69</td>\n",
       "      <td>10.187273</td>\n",
       "      <td>1.260994</td>\n",
       "    </tr>\n",
       "    <tr>\n",
       "      <th>2</th>\n",
       "      <td>Barbacoa Burrito</td>\n",
       "      <td>11.75</td>\n",
       "      <td>8.69</td>\n",
       "      <td>9.832418</td>\n",
       "      <td>1.139519</td>\n",
       "    </tr>\n",
       "    <tr>\n",
       "      <th>3</th>\n",
       "      <td>Barbacoa Crispy Tacos</td>\n",
       "      <td>11.75</td>\n",
       "      <td>8.99</td>\n",
       "      <td>10.087273</td>\n",
       "      <td>1.270701</td>\n",
       "    </tr>\n",
       "    <tr>\n",
       "      <th>4</th>\n",
       "      <td>Barbacoa Salad Bowl</td>\n",
       "      <td>11.89</td>\n",
       "      <td>9.39</td>\n",
       "      <td>10.640000</td>\n",
       "      <td>1.317616</td>\n",
       "    </tr>\n",
       "  </tbody>\n",
       "</table>\n",
       "</div>"
      ],
      "text/plain": [
       "               item_name   amax  amin       mean       std\n",
       "0      6 Pack Soft Drink   6.49  6.49   6.490000  0.000000\n",
       "1          Barbacoa Bowl  11.75  8.69  10.187273  1.260994\n",
       "2       Barbacoa Burrito  11.75  8.69   9.832418  1.139519\n",
       "3  Barbacoa Crispy Tacos  11.75  8.99  10.087273  1.270701\n",
       "4    Barbacoa Salad Bowl  11.89  9.39  10.640000  1.317616"
      ]
     },
     "execution_count": 112,
     "metadata": {},
     "output_type": "execute_result"
    }
   ],
   "source": [
    "item_summaries = pd.pivot_table(chipotle, values='adj_item_price',\n",
    "                                columns=['item_name'], \n",
    "                                aggfunc=[np.max, np.min, np.mean, np.std])\n",
    "item_summaries = item_summaries.reset_index()\n",
    "item_summaries.head()"
   ]
  },
  {
   "cell_type": "code",
   "execution_count": 116,
   "metadata": {
    "collapsed": false
   },
   "outputs": [
    {
     "data": {
      "text/html": [
       "<div>\n",
       "<table border=\"1\" class=\"dataframe\">\n",
       "  <thead>\n",
       "    <tr style=\"text-align: right;\">\n",
       "      <th></th>\n",
       "      <th>item_name</th>\n",
       "      <th>quantity</th>\n",
       "    </tr>\n",
       "  </thead>\n",
       "  <tbody>\n",
       "    <tr>\n",
       "      <th>0</th>\n",
       "      <td>6 Pack Soft Drink</td>\n",
       "      <td>55</td>\n",
       "    </tr>\n",
       "    <tr>\n",
       "      <th>1</th>\n",
       "      <td>Barbacoa Bowl</td>\n",
       "      <td>66</td>\n",
       "    </tr>\n",
       "    <tr>\n",
       "      <th>2</th>\n",
       "      <td>Barbacoa Burrito</td>\n",
       "      <td>91</td>\n",
       "    </tr>\n",
       "    <tr>\n",
       "      <th>3</th>\n",
       "      <td>Barbacoa Crispy Tacos</td>\n",
       "      <td>12</td>\n",
       "    </tr>\n",
       "    <tr>\n",
       "      <th>4</th>\n",
       "      <td>Barbacoa Salad Bowl</td>\n",
       "      <td>10</td>\n",
       "    </tr>\n",
       "  </tbody>\n",
       "</table>\n",
       "</div>"
      ],
      "text/plain": [
       "               item_name  quantity\n",
       "0      6 Pack Soft Drink        55\n",
       "1          Barbacoa Bowl        66\n",
       "2       Barbacoa Burrito        91\n",
       "3  Barbacoa Crispy Tacos        12\n",
       "4    Barbacoa Salad Bowl        10"
      ]
     },
     "execution_count": 116,
     "metadata": {},
     "output_type": "execute_result"
    }
   ],
   "source": [
    "item_counts = pd.pivot_table(chipotle, values='quantity', columns='item_name',\n",
    "                             aggfunc=np.sum)\n",
    "item_counts = item_counts.reset_index()\n",
    "item_counts.head()"
   ]
  },
  {
   "cell_type": "code",
   "execution_count": 118,
   "metadata": {
    "collapsed": false
   },
   "outputs": [],
   "source": [
    "item_summaries = item_summaries.merge(item_counts, on='item_name').head(10)"
   ]
  },
  {
   "cell_type": "code",
   "execution_count": 110,
   "metadata": {
    "collapsed": false,
    "scrolled": true
   },
   "outputs": [
    {
     "data": {
      "text/html": [
       "<div>\n",
       "<table border=\"1\" class=\"dataframe\">\n",
       "  <thead>\n",
       "    <tr style=\"text-align: right;\">\n",
       "      <th></th>\n",
       "      <th>mean</th>\n",
       "      <th>amax</th>\n",
       "      <th>amin</th>\n",
       "      <th>len</th>\n",
       "      <th>std</th>\n",
       "    </tr>\n",
       "    <tr>\n",
       "      <th>item_name</th>\n",
       "      <th></th>\n",
       "      <th></th>\n",
       "      <th></th>\n",
       "      <th></th>\n",
       "      <th></th>\n",
       "    </tr>\n",
       "  </thead>\n",
       "  <tbody>\n",
       "    <tr>\n",
       "      <th>6 Pack Soft Drink</th>\n",
       "      <td>6.490000</td>\n",
       "      <td>6.49</td>\n",
       "      <td>6.49</td>\n",
       "      <td>54.0</td>\n",
       "      <td>0.000000e+00</td>\n",
       "    </tr>\n",
       "    <tr>\n",
       "      <th>Barbacoa Bowl</th>\n",
       "      <td>10.187273</td>\n",
       "      <td>11.75</td>\n",
       "      <td>8.69</td>\n",
       "      <td>66.0</td>\n",
       "      <td>1.260994e+00</td>\n",
       "    </tr>\n",
       "    <tr>\n",
       "      <th>Barbacoa Burrito</th>\n",
       "      <td>9.832418</td>\n",
       "      <td>11.75</td>\n",
       "      <td>8.69</td>\n",
       "      <td>91.0</td>\n",
       "      <td>1.139519e+00</td>\n",
       "    </tr>\n",
       "    <tr>\n",
       "      <th>Barbacoa Crispy Tacos</th>\n",
       "      <td>10.087273</td>\n",
       "      <td>11.75</td>\n",
       "      <td>8.99</td>\n",
       "      <td>11.0</td>\n",
       "      <td>1.270701e+00</td>\n",
       "    </tr>\n",
       "    <tr>\n",
       "      <th>Barbacoa Salad Bowl</th>\n",
       "      <td>10.640000</td>\n",
       "      <td>11.89</td>\n",
       "      <td>9.39</td>\n",
       "      <td>10.0</td>\n",
       "      <td>1.317616e+00</td>\n",
       "    </tr>\n",
       "    <tr>\n",
       "      <th>Barbacoa Soft Tacos</th>\n",
       "      <td>10.018400</td>\n",
       "      <td>11.75</td>\n",
       "      <td>8.99</td>\n",
       "      <td>25.0</td>\n",
       "      <td>1.191937e+00</td>\n",
       "    </tr>\n",
       "    <tr>\n",
       "      <th>Bottled Water</th>\n",
       "      <td>1.431667</td>\n",
       "      <td>1.50</td>\n",
       "      <td>1.09</td>\n",
       "      <td>162.0</td>\n",
       "      <td>1.532718e-01</td>\n",
       "    </tr>\n",
       "    <tr>\n",
       "      <th>Bowl</th>\n",
       "      <td>7.400000</td>\n",
       "      <td>7.40</td>\n",
       "      <td>7.40</td>\n",
       "      <td>2.0</td>\n",
       "      <td>0.000000e+00</td>\n",
       "    </tr>\n",
       "    <tr>\n",
       "      <th>Burrito</th>\n",
       "      <td>7.400000</td>\n",
       "      <td>7.40</td>\n",
       "      <td>7.40</td>\n",
       "      <td>6.0</td>\n",
       "      <td>0.000000e+00</td>\n",
       "    </tr>\n",
       "    <tr>\n",
       "      <th>Canned Soda</th>\n",
       "      <td>1.090000</td>\n",
       "      <td>1.09</td>\n",
       "      <td>1.09</td>\n",
       "      <td>104.0</td>\n",
       "      <td>0.000000e+00</td>\n",
       "    </tr>\n",
       "    <tr>\n",
       "      <th>Canned Soft Drink</th>\n",
       "      <td>1.250000</td>\n",
       "      <td>1.25</td>\n",
       "      <td>1.25</td>\n",
       "      <td>301.0</td>\n",
       "      <td>0.000000e+00</td>\n",
       "    </tr>\n",
       "    <tr>\n",
       "      <th>Carnitas Bowl</th>\n",
       "      <td>10.315588</td>\n",
       "      <td>11.75</td>\n",
       "      <td>8.99</td>\n",
       "      <td>68.0</td>\n",
       "      <td>1.258350e+00</td>\n",
       "    </tr>\n",
       "    <tr>\n",
       "      <th>Carnitas Burrito</th>\n",
       "      <td>9.975932</td>\n",
       "      <td>11.75</td>\n",
       "      <td>8.69</td>\n",
       "      <td>59.0</td>\n",
       "      <td>1.199415e+00</td>\n",
       "    </tr>\n",
       "    <tr>\n",
       "      <th>Carnitas Crispy Tacos</th>\n",
       "      <td>9.852857</td>\n",
       "      <td>11.75</td>\n",
       "      <td>8.99</td>\n",
       "      <td>7.0</td>\n",
       "      <td>1.301201e+00</td>\n",
       "    </tr>\n",
       "    <tr>\n",
       "      <th>Carnitas Salad</th>\n",
       "      <td>8.990000</td>\n",
       "      <td>8.99</td>\n",
       "      <td>8.99</td>\n",
       "      <td>1.0</td>\n",
       "      <td>NaN</td>\n",
       "    </tr>\n",
       "    <tr>\n",
       "      <th>Carnitas Salad Bowl</th>\n",
       "      <td>11.056667</td>\n",
       "      <td>11.89</td>\n",
       "      <td>9.39</td>\n",
       "      <td>6.0</td>\n",
       "      <td>1.290994e+00</td>\n",
       "    </tr>\n",
       "    <tr>\n",
       "      <th>Carnitas Soft Tacos</th>\n",
       "      <td>9.398500</td>\n",
       "      <td>11.75</td>\n",
       "      <td>8.99</td>\n",
       "      <td>40.0</td>\n",
       "      <td>6.845082e-01</td>\n",
       "    </tr>\n",
       "    <tr>\n",
       "      <th>Chicken Bowl</th>\n",
       "      <td>9.657727</td>\n",
       "      <td>11.25</td>\n",
       "      <td>8.19</td>\n",
       "      <td>726.0</td>\n",
       "      <td>1.235294e+00</td>\n",
       "    </tr>\n",
       "    <tr>\n",
       "      <th>Chicken Burrito</th>\n",
       "      <td>9.475949</td>\n",
       "      <td>11.25</td>\n",
       "      <td>8.19</td>\n",
       "      <td>553.0</td>\n",
       "      <td>1.184982e+00</td>\n",
       "    </tr>\n",
       "    <tr>\n",
       "      <th>Chicken Crispy Tacos</th>\n",
       "      <td>9.492340</td>\n",
       "      <td>11.25</td>\n",
       "      <td>8.49</td>\n",
       "      <td>47.0</td>\n",
       "      <td>1.208494e+00</td>\n",
       "    </tr>\n",
       "    <tr>\n",
       "      <th>Chicken Salad</th>\n",
       "      <td>9.010000</td>\n",
       "      <td>10.98</td>\n",
       "      <td>8.19</td>\n",
       "      <td>9.0</td>\n",
       "      <td>1.121194e+00</td>\n",
       "    </tr>\n",
       "    <tr>\n",
       "      <th>Chicken Salad Bowl</th>\n",
       "      <td>9.909091</td>\n",
       "      <td>11.25</td>\n",
       "      <td>8.75</td>\n",
       "      <td>110.0</td>\n",
       "      <td>1.252396e+00</td>\n",
       "    </tr>\n",
       "    <tr>\n",
       "      <th>Chicken Soft Tacos</th>\n",
       "      <td>9.240261</td>\n",
       "      <td>11.25</td>\n",
       "      <td>8.49</td>\n",
       "      <td>115.0</td>\n",
       "      <td>1.074877e+00</td>\n",
       "    </tr>\n",
       "    <tr>\n",
       "      <th>Chips</th>\n",
       "      <td>2.149242</td>\n",
       "      <td>2.15</td>\n",
       "      <td>1.99</td>\n",
       "      <td>211.0</td>\n",
       "      <td>1.101485e-02</td>\n",
       "    </tr>\n",
       "    <tr>\n",
       "      <th>Chips and Fresh Tomato Salsa</th>\n",
       "      <td>2.748727</td>\n",
       "      <td>2.95</td>\n",
       "      <td>2.29</td>\n",
       "      <td>110.0</td>\n",
       "      <td>2.732781e-01</td>\n",
       "    </tr>\n",
       "    <tr>\n",
       "      <th>Chips and Guacamole</th>\n",
       "      <td>4.345616</td>\n",
       "      <td>4.45</td>\n",
       "      <td>3.89</td>\n",
       "      <td>479.0</td>\n",
       "      <td>1.943544e-01</td>\n",
       "    </tr>\n",
       "    <tr>\n",
       "      <th>Chips and Mild Fresh Tomato Salsa</th>\n",
       "      <td>3.000000</td>\n",
       "      <td>3.00</td>\n",
       "      <td>3.00</td>\n",
       "      <td>1.0</td>\n",
       "      <td>NaN</td>\n",
       "    </tr>\n",
       "    <tr>\n",
       "      <th>Chips and Roasted Chili Corn Salsa</th>\n",
       "      <td>2.950000</td>\n",
       "      <td>2.95</td>\n",
       "      <td>2.95</td>\n",
       "      <td>22.0</td>\n",
       "      <td>0.000000e+00</td>\n",
       "    </tr>\n",
       "    <tr>\n",
       "      <th>Chips and Roasted Chili-Corn Salsa</th>\n",
       "      <td>2.390000</td>\n",
       "      <td>2.39</td>\n",
       "      <td>2.39</td>\n",
       "      <td>18.0</td>\n",
       "      <td>0.000000e+00</td>\n",
       "    </tr>\n",
       "    <tr>\n",
       "      <th>Chips and Tomatillo Green Chili Salsa</th>\n",
       "      <td>2.950000</td>\n",
       "      <td>2.95</td>\n",
       "      <td>2.95</td>\n",
       "      <td>43.0</td>\n",
       "      <td>0.000000e+00</td>\n",
       "    </tr>\n",
       "    <tr>\n",
       "      <th>Chips and Tomatillo Red Chili Salsa</th>\n",
       "      <td>2.950000</td>\n",
       "      <td>2.95</td>\n",
       "      <td>2.95</td>\n",
       "      <td>48.0</td>\n",
       "      <td>0.000000e+00</td>\n",
       "    </tr>\n",
       "    <tr>\n",
       "      <th>Chips and Tomatillo-Green Chili Salsa</th>\n",
       "      <td>2.390000</td>\n",
       "      <td>2.39</td>\n",
       "      <td>2.39</td>\n",
       "      <td>31.0</td>\n",
       "      <td>0.000000e+00</td>\n",
       "    </tr>\n",
       "    <tr>\n",
       "      <th>Chips and Tomatillo-Red Chili Salsa</th>\n",
       "      <td>2.390000</td>\n",
       "      <td>2.39</td>\n",
       "      <td>2.39</td>\n",
       "      <td>20.0</td>\n",
       "      <td>0.000000e+00</td>\n",
       "    </tr>\n",
       "    <tr>\n",
       "      <th>Crispy Tacos</th>\n",
       "      <td>7.400000</td>\n",
       "      <td>7.40</td>\n",
       "      <td>7.40</td>\n",
       "      <td>2.0</td>\n",
       "      <td>0.000000e+00</td>\n",
       "    </tr>\n",
       "    <tr>\n",
       "      <th>Izze</th>\n",
       "      <td>3.390000</td>\n",
       "      <td>3.39</td>\n",
       "      <td>3.39</td>\n",
       "      <td>20.0</td>\n",
       "      <td>0.000000e+00</td>\n",
       "    </tr>\n",
       "    <tr>\n",
       "      <th>Nantucket Nectar</th>\n",
       "      <td>3.390000</td>\n",
       "      <td>3.39</td>\n",
       "      <td>3.39</td>\n",
       "      <td>27.0</td>\n",
       "      <td>0.000000e+00</td>\n",
       "    </tr>\n",
       "    <tr>\n",
       "      <th>Salad</th>\n",
       "      <td>7.400000</td>\n",
       "      <td>7.40</td>\n",
       "      <td>7.40</td>\n",
       "      <td>2.0</td>\n",
       "      <td>0.000000e+00</td>\n",
       "    </tr>\n",
       "    <tr>\n",
       "      <th>Side of Chips</th>\n",
       "      <td>1.690000</td>\n",
       "      <td>1.69</td>\n",
       "      <td>1.69</td>\n",
       "      <td>101.0</td>\n",
       "      <td>2.220446e-17</td>\n",
       "    </tr>\n",
       "    <tr>\n",
       "      <th>Steak Bowl</th>\n",
       "      <td>10.232559</td>\n",
       "      <td>11.75</td>\n",
       "      <td>8.69</td>\n",
       "      <td>211.0</td>\n",
       "      <td>1.280389e+00</td>\n",
       "    </tr>\n",
       "    <tr>\n",
       "      <th>Steak Burrito</th>\n",
       "      <td>9.993424</td>\n",
       "      <td>11.75</td>\n",
       "      <td>8.69</td>\n",
       "      <td>368.0</td>\n",
       "      <td>1.234669e+00</td>\n",
       "    </tr>\n",
       "    <tr>\n",
       "      <th>Steak Crispy Tacos</th>\n",
       "      <td>9.952857</td>\n",
       "      <td>11.75</td>\n",
       "      <td>8.69</td>\n",
       "      <td>35.0</td>\n",
       "      <td>1.241225e+00</td>\n",
       "    </tr>\n",
       "    <tr>\n",
       "      <th>Steak Salad</th>\n",
       "      <td>8.915000</td>\n",
       "      <td>8.99</td>\n",
       "      <td>8.69</td>\n",
       "      <td>4.0</td>\n",
       "      <td>1.500000e-01</td>\n",
       "    </tr>\n",
       "    <tr>\n",
       "      <th>Steak Salad Bowl</th>\n",
       "      <td>11.027931</td>\n",
       "      <td>11.89</td>\n",
       "      <td>9.39</td>\n",
       "      <td>29.0</td>\n",
       "      <td>1.209313e+00</td>\n",
       "    </tr>\n",
       "    <tr>\n",
       "      <th>Steak Soft Tacos</th>\n",
       "      <td>9.578182</td>\n",
       "      <td>11.75</td>\n",
       "      <td>8.99</td>\n",
       "      <td>55.0</td>\n",
       "      <td>9.373072e-01</td>\n",
       "    </tr>\n",
       "    <tr>\n",
       "      <th>Veggie Bowl</th>\n",
       "      <td>10.011882</td>\n",
       "      <td>11.25</td>\n",
       "      <td>8.49</td>\n",
       "      <td>85.0</td>\n",
       "      <td>1.299605e+00</td>\n",
       "    </tr>\n",
       "    <tr>\n",
       "      <th>Veggie Burrito</th>\n",
       "      <td>9.602842</td>\n",
       "      <td>11.25</td>\n",
       "      <td>8.49</td>\n",
       "      <td>95.0</td>\n",
       "      <td>1.303630e+00</td>\n",
       "    </tr>\n",
       "    <tr>\n",
       "      <th>Veggie Crispy Tacos</th>\n",
       "      <td>8.490000</td>\n",
       "      <td>8.49</td>\n",
       "      <td>8.49</td>\n",
       "      <td>1.0</td>\n",
       "      <td>NaN</td>\n",
       "    </tr>\n",
       "    <tr>\n",
       "      <th>Veggie Salad</th>\n",
       "      <td>8.490000</td>\n",
       "      <td>8.49</td>\n",
       "      <td>8.49</td>\n",
       "      <td>6.0</td>\n",
       "      <td>0.000000e+00</td>\n",
       "    </tr>\n",
       "    <tr>\n",
       "      <th>Veggie Salad Bowl</th>\n",
       "      <td>10.138889</td>\n",
       "      <td>11.25</td>\n",
       "      <td>8.75</td>\n",
       "      <td>18.0</td>\n",
       "      <td>1.278275e+00</td>\n",
       "    </tr>\n",
       "    <tr>\n",
       "      <th>Veggie Soft Tacos</th>\n",
       "      <td>9.352857</td>\n",
       "      <td>11.25</td>\n",
       "      <td>8.49</td>\n",
       "      <td>7.0</td>\n",
       "      <td>1.301201e+00</td>\n",
       "    </tr>\n",
       "  </tbody>\n",
       "</table>\n",
       "</div>"
      ],
      "text/plain": [
       "                                            mean   amax  amin    len  \\\n",
       "item_name                                                              \n",
       "6 Pack Soft Drink                       6.490000   6.49  6.49   54.0   \n",
       "Barbacoa Bowl                          10.187273  11.75  8.69   66.0   \n",
       "Barbacoa Burrito                        9.832418  11.75  8.69   91.0   \n",
       "Barbacoa Crispy Tacos                  10.087273  11.75  8.99   11.0   \n",
       "Barbacoa Salad Bowl                    10.640000  11.89  9.39   10.0   \n",
       "Barbacoa Soft Tacos                    10.018400  11.75  8.99   25.0   \n",
       "Bottled Water                           1.431667   1.50  1.09  162.0   \n",
       "Bowl                                    7.400000   7.40  7.40    2.0   \n",
       "Burrito                                 7.400000   7.40  7.40    6.0   \n",
       "Canned Soda                             1.090000   1.09  1.09  104.0   \n",
       "Canned Soft Drink                       1.250000   1.25  1.25  301.0   \n",
       "Carnitas Bowl                          10.315588  11.75  8.99   68.0   \n",
       "Carnitas Burrito                        9.975932  11.75  8.69   59.0   \n",
       "Carnitas Crispy Tacos                   9.852857  11.75  8.99    7.0   \n",
       "Carnitas Salad                          8.990000   8.99  8.99    1.0   \n",
       "Carnitas Salad Bowl                    11.056667  11.89  9.39    6.0   \n",
       "Carnitas Soft Tacos                     9.398500  11.75  8.99   40.0   \n",
       "Chicken Bowl                            9.657727  11.25  8.19  726.0   \n",
       "Chicken Burrito                         9.475949  11.25  8.19  553.0   \n",
       "Chicken Crispy Tacos                    9.492340  11.25  8.49   47.0   \n",
       "Chicken Salad                           9.010000  10.98  8.19    9.0   \n",
       "Chicken Salad Bowl                      9.909091  11.25  8.75  110.0   \n",
       "Chicken Soft Tacos                      9.240261  11.25  8.49  115.0   \n",
       "Chips                                   2.149242   2.15  1.99  211.0   \n",
       "Chips and Fresh Tomato Salsa            2.748727   2.95  2.29  110.0   \n",
       "Chips and Guacamole                     4.345616   4.45  3.89  479.0   \n",
       "Chips and Mild Fresh Tomato Salsa       3.000000   3.00  3.00    1.0   \n",
       "Chips and Roasted Chili Corn Salsa      2.950000   2.95  2.95   22.0   \n",
       "Chips and Roasted Chili-Corn Salsa      2.390000   2.39  2.39   18.0   \n",
       "Chips and Tomatillo Green Chili Salsa   2.950000   2.95  2.95   43.0   \n",
       "Chips and Tomatillo Red Chili Salsa     2.950000   2.95  2.95   48.0   \n",
       "Chips and Tomatillo-Green Chili Salsa   2.390000   2.39  2.39   31.0   \n",
       "Chips and Tomatillo-Red Chili Salsa     2.390000   2.39  2.39   20.0   \n",
       "Crispy Tacos                            7.400000   7.40  7.40    2.0   \n",
       "Izze                                    3.390000   3.39  3.39   20.0   \n",
       "Nantucket Nectar                        3.390000   3.39  3.39   27.0   \n",
       "Salad                                   7.400000   7.40  7.40    2.0   \n",
       "Side of Chips                           1.690000   1.69  1.69  101.0   \n",
       "Steak Bowl                             10.232559  11.75  8.69  211.0   \n",
       "Steak Burrito                           9.993424  11.75  8.69  368.0   \n",
       "Steak Crispy Tacos                      9.952857  11.75  8.69   35.0   \n",
       "Steak Salad                             8.915000   8.99  8.69    4.0   \n",
       "Steak Salad Bowl                       11.027931  11.89  9.39   29.0   \n",
       "Steak Soft Tacos                        9.578182  11.75  8.99   55.0   \n",
       "Veggie Bowl                            10.011882  11.25  8.49   85.0   \n",
       "Veggie Burrito                          9.602842  11.25  8.49   95.0   \n",
       "Veggie Crispy Tacos                     8.490000   8.49  8.49    1.0   \n",
       "Veggie Salad                            8.490000   8.49  8.49    6.0   \n",
       "Veggie Salad Bowl                      10.138889  11.25  8.75   18.0   \n",
       "Veggie Soft Tacos                       9.352857  11.25  8.49    7.0   \n",
       "\n",
       "                                                std  \n",
       "item_name                                            \n",
       "6 Pack Soft Drink                      0.000000e+00  \n",
       "Barbacoa Bowl                          1.260994e+00  \n",
       "Barbacoa Burrito                       1.139519e+00  \n",
       "Barbacoa Crispy Tacos                  1.270701e+00  \n",
       "Barbacoa Salad Bowl                    1.317616e+00  \n",
       "Barbacoa Soft Tacos                    1.191937e+00  \n",
       "Bottled Water                          1.532718e-01  \n",
       "Bowl                                   0.000000e+00  \n",
       "Burrito                                0.000000e+00  \n",
       "Canned Soda                            0.000000e+00  \n",
       "Canned Soft Drink                      0.000000e+00  \n",
       "Carnitas Bowl                          1.258350e+00  \n",
       "Carnitas Burrito                       1.199415e+00  \n",
       "Carnitas Crispy Tacos                  1.301201e+00  \n",
       "Carnitas Salad                                  NaN  \n",
       "Carnitas Salad Bowl                    1.290994e+00  \n",
       "Carnitas Soft Tacos                    6.845082e-01  \n",
       "Chicken Bowl                           1.235294e+00  \n",
       "Chicken Burrito                        1.184982e+00  \n",
       "Chicken Crispy Tacos                   1.208494e+00  \n",
       "Chicken Salad                          1.121194e+00  \n",
       "Chicken Salad Bowl                     1.252396e+00  \n",
       "Chicken Soft Tacos                     1.074877e+00  \n",
       "Chips                                  1.101485e-02  \n",
       "Chips and Fresh Tomato Salsa           2.732781e-01  \n",
       "Chips and Guacamole                    1.943544e-01  \n",
       "Chips and Mild Fresh Tomato Salsa               NaN  \n",
       "Chips and Roasted Chili Corn Salsa     0.000000e+00  \n",
       "Chips and Roasted Chili-Corn Salsa     0.000000e+00  \n",
       "Chips and Tomatillo Green Chili Salsa  0.000000e+00  \n",
       "Chips and Tomatillo Red Chili Salsa    0.000000e+00  \n",
       "Chips and Tomatillo-Green Chili Salsa  0.000000e+00  \n",
       "Chips and Tomatillo-Red Chili Salsa    0.000000e+00  \n",
       "Crispy Tacos                           0.000000e+00  \n",
       "Izze                                   0.000000e+00  \n",
       "Nantucket Nectar                       0.000000e+00  \n",
       "Salad                                  0.000000e+00  \n",
       "Side of Chips                          2.220446e-17  \n",
       "Steak Bowl                             1.280389e+00  \n",
       "Steak Burrito                          1.234669e+00  \n",
       "Steak Crispy Tacos                     1.241225e+00  \n",
       "Steak Salad                            1.500000e-01  \n",
       "Steak Salad Bowl                       1.209313e+00  \n",
       "Steak Soft Tacos                       9.373072e-01  \n",
       "Veggie Bowl                            1.299605e+00  \n",
       "Veggie Burrito                         1.303630e+00  \n",
       "Veggie Crispy Tacos                             NaN  \n",
       "Veggie Salad                           0.000000e+00  \n",
       "Veggie Salad Bowl                      1.278275e+00  \n",
       "Veggie Soft Tacos                      1.301201e+00  "
      ]
     },
     "execution_count": 110,
     "metadata": {},
     "output_type": "execute_result"
    }
   ],
   "source": [
    "group = chipotle.groupby('item_name')\n",
    "group['adj_item_price'].agg([np.mean, np.max, np.min, len, np.std])"
   ]
  },
  {
   "cell_type": "markdown",
   "metadata": {},
   "source": [
    "---\n",
    "\n",
    "### 7. Plot the mean price of items against the count (popularity)\n",
    "\n",
    "You have this info in your summary table from the previous question."
   ]
  },
  {
   "cell_type": "code",
   "execution_count": 119,
   "metadata": {
    "collapsed": false
   },
   "outputs": [
    {
     "data": {
      "text/plain": [
       "<matplotlib.axes._subplots.AxesSubplot at 0x118a17890>"
      ]
     },
     "execution_count": 119,
     "metadata": {},
     "output_type": "execute_result"
    },
    {
     "data": {
      "image/png": "[encoded data removed]",
      "text/plain": [
       "<matplotlib.figure.Figure at 0x10464e050>"
      ]
     },
     "metadata": {
      "image/png": {
       "height": 273,
       "width": 393
      }
     },
     "output_type": "display_data"
    }
   ],
   "source": [
    "item_summaries.plot.scatter('mean', 'quantity')"
   ]
  },
  {
   "cell_type": "markdown",
   "metadata": {},
   "source": [
    "---\n",
    "\n",
    "### 7.2 Plot the max price of items against the count (popularity)\n"
   ]
  },
  {
   "cell_type": "code",
   "execution_count": 121,
   "metadata": {
    "collapsed": false
   },
   "outputs": [
    {
     "data": {
      "text/plain": [
       "<seaborn.axisgrid.JointGrid at 0x117fd8b50>"
      ]
     },
     "execution_count": 121,
     "metadata": {},
     "output_type": "execute_result"
    },
    {
     "data": {
      "image/png": "[encoded data removed]",
      "text/plain": [
       "<matplotlib.figure.Figure at 0x117fd8a50>"
      ]
     },
     "metadata": {
      "image/png": {
       "height": 426,
       "width": 428
      }
     },
     "output_type": "display_data"
    }
   ],
   "source": [
    "sns.jointplot(x='amax', y='quantity', data=item_summaries,\n",
    "              joint_kws={'s':100, 'alpha':0.6})"
   ]
  },
  {
   "cell_type": "markdown",
   "metadata": {},
   "source": [
    "---\n",
    "\n",
    "### 8. Calculate the mean of adjusted price for broad category\n",
    "\n",
    "You can handle these with a single function if you want, or another way if you prefer.\n",
    "\n",
    "Just FYI, apply functions can have keyword arguments that you pass in when you call the apply chained to the groupby.\n",
    "\n",
    "for example:\n",
    "\n",
    "```python\n",
    "def my_applier(df, my_kwarg='placeholder'):\n",
    "    df['newcol_'+placeholder] = 1.\n",
    "    return df\n",
    "    \n",
    "data = data.groupby('variable').apply(my_applier, my_kwarg='colsuffix').reset_index(drop=True)\n",
    "```\n"
   ]
  },
  {
   "cell_type": "code",
   "execution_count": null,
   "metadata": {
    "collapsed": true
   },
   "outputs": [],
   "source": []
  },
  {
   "cell_type": "markdown",
   "metadata": {},
   "source": [
    "### 8.2 Make a barplot of your price mean by the broad type category\n"
   ]
  },
  {
   "cell_type": "code",
   "execution_count": null,
   "metadata": {
    "collapsed": true
   },
   "outputs": [],
   "source": []
  },
  {
   "cell_type": "markdown",
   "metadata": {},
   "source": [
    "---\n",
    "\n",
    "### 9. [HARD] Parse the `choice_description` column into two new columns: `order_customizations` and `order_customization_id`\n",
    "\n",
    "Here is what your inputs and outputs would look like for a hypotheical section of the DataFrame (I'm just showing some of the columns to give you an idea of what the output format will be):\n",
    "\n",
    "**Input:**\n",
    "\n",
    "```python\n",
    "                                  choice_description     item_name  order_id  \\\n",
    "0                                       [Clementine]          Izze         1   \n",
    "1  [Red Salsa, [Black Beans, Guacamole, Sour Cream]]  Chicken Bowl         1   \n",
    "\n",
    "   sub_order_id  \n",
    "0             1  \n",
    "1             2\n",
    "```\n",
    "\n",
    "**Output:**\n",
    "\n",
    "```python\n",
    "   order_customization_id order_customizations  \\\n",
    "0                       0           Clementine   \n",
    "1                       0            Red Salsa   \n",
    "2                       1          Black Beans   \n",
    "3                       2            Guacamole   \n",
    "4                       3           Sour Cream   \n",
    "\n",
    "                                  choice_description     item_name  order_id  \\\n",
    "0                                       [Clementine]          Izze         1   \n",
    "1  [Red Salsa, [Black Beans, Guacamole, Sour Cream]]  Chicken Bowl         1   \n",
    "2  [Red Salsa, [Black Beans, Guacamole, Sour Cream]]  Chicken Bowl         1   \n",
    "3  [Red Salsa, [Black Beans, Guacamole, Sour Cream]]  Chicken Bowl         1   \n",
    "4  [Red Salsa, [Black Beans, Guacamole, Sour Cream]]  Chicken Bowl         1   \n",
    "\n",
    "   sub_order_id  \n",
    "0             1  \n",
    "1             2  \n",
    "2             2  \n",
    "3             2  \n",
    "4             2 \n",
    "```\n",
    "\n",
    "Hints:\n",
    "\n",
    "- Remember you can write your own function and pass it into apply. In this case there will be one item per group, since we have to do this parsing for every row, but you may be able to get a solution with `.iterrows()` if you want to try that out.\n",
    "- Within a function that you are passing into `.apply()`, you can create a _new DataFrame and return that._ This is one of the things that makes apply so powerful, since you can essentially perform any operations you want on a subset of your original DataFrame as long as you return DataFrames/groups that can be recombined.\n",
    "\n",
    "**Note: the function may take awhile to complete. `apply` isn't terribly efficient with complicated custom operations per row like this.**"
   ]
  },
  {
   "cell_type": "code",
   "execution_count": null,
   "metadata": {
    "collapsed": true
   },
   "outputs": [],
   "source": []
  }
 ],
 "metadata": {
  "kernelspec": {
   "display_name": "Python 2",
   "language": "python",
   "name": "python2"
  },
  "language_info": {
   "codemirror_mode": {
    "name": "ipython",
    "version": 2
   },
   "file_extension": ".py",
   "mimetype": "text/x-python",
   "name": "python",
   "nbconvert_exporter": "python",
   "pygments_lexer": "ipython2",
   "version": "2.7.12"
  }
 },
 "nbformat": 4,
 "nbformat_minor": 0
}
