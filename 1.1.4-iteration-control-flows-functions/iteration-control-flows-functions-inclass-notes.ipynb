{
 "cells": [
  {
   "cell_type": "markdown",
   "metadata": {},
   "source": [
    "<img src=\"https://ga-dash.s3.amazonaws.com/production/assets/logo-9f88ae6c9c3871690e33280fcf557f33.png\" style=\"float: left; margin: 15px;\">\n",
    "\n",
    "## Review python iteration, control flows, and functions\n",
    "\n",
    "Week 1 | Lesson 1.4\n",
    "\n",
    "---"
   ]
  },
  {
   "cell_type": "code",
   "execution_count": 18,
   "metadata": {
    "collapsed": true
   },
   "outputs": [],
   "source": [
    "import numpy as np\n",
    "import imp"
   ]
  },
  {
   "cell_type": "code",
   "execution_count": 22,
   "metadata": {
    "collapsed": false
   },
   "outputs": [
    {
     "name": "stdout",
     "output_type": "stream",
     "text": [
      "22\n"
     ]
    }
   ],
   "source": [
    "student_names = ['jim','andrew s.','ty','jyotsna','laura','harrison','spencer','chris',\n",
    "                 'aneel','reem','austin','vinnie','katerina','andrew w.',\n",
    "                 'medhi','amlan','george','luke','davis','wen','rashim','ben']\n",
    "print len(student_names)"
   ]
  },
  {
   "cell_type": "code",
   "execution_count": 23,
   "metadata": {
    "collapsed": false
   },
   "outputs": [],
   "source": [
    "caller = imp.load_source('caller', '/Users/kiefer/github-repos/DSI-SF-4/utils/student_caller/caller.py')\n",
    "caller = caller.StudentCaller(names=student_names, ask_questions=False)"
   ]
  },
  {
   "cell_type": "code",
   "execution_count": null,
   "metadata": {
    "collapsed": true
   },
   "outputs": [],
   "source": []
  },
  {
   "cell_type": "markdown",
   "metadata": {},
   "source": [
    "---\n",
    "\n",
    "### 1. Write an if-else statement to check whether the suitcase is over 50lb.\n",
    "\n",
    "Print a message indicating whether or not the suitcase is over 50lbs."
   ]
  },
  {
   "cell_type": "code",
   "execution_count": 29,
   "metadata": {
    "collapsed": false
   },
   "outputs": [
    {
     "name": "stdout",
     "output_type": "stream",
     "text": [
      "How many pounds does your suitcase weigh? 50\n"
     ]
    }
   ],
   "source": [
    "weight = float(input(\"How many pounds does your suitcase weigh? \"))"
   ]
  },
  {
   "cell_type": "code",
   "execution_count": 25,
   "metadata": {
    "collapsed": false
   },
   "outputs": [
    {
     "name": "stdout",
     "output_type": "stream",
     "text": [
      "ben\n"
     ]
    }
   ],
   "source": [
    "caller()"
   ]
  },
  {
   "cell_type": "code",
   "execution_count": 30,
   "metadata": {
    "collapsed": false
   },
   "outputs": [
    {
     "name": "stdout",
     "output_type": "stream",
     "text": [
      "less than or equal to 50\n"
     ]
    }
   ],
   "source": [
    "if weight > 50:\n",
    "    print (\"more than 50\")\n",
    "else :\n",
    "    print (\"less than or equal to 50\")"
   ]
  },
  {
   "cell_type": "markdown",
   "metadata": {},
   "source": [
    "---\n",
    "\n",
    "### 2. Write an if-else statement for multiple conditions.\n",
    "\n",
    "Print out these recommendations based on the weather conditions:\n",
    "\n",
    "1. Temperature over 60 and rain: bring an umbrella.\n",
    "2. Temperature less than or equal to 60 and rain: bring and umbrella and a jacket.\n",
    "3. Temperature over 60 and shine: wear a t-shirt.\n",
    "4. Temperature less than or equal to 60 and shine: bring a jacket."
   ]
  },
  {
   "cell_type": "code",
   "execution_count": 33,
   "metadata": {
    "collapsed": false
   },
   "outputs": [
    {
     "name": "stdout",
     "output_type": "stream",
     "text": [
      "What is the temperature? 65\n",
      "What is the weather? (rain or shine) rain\n"
     ]
    }
   ],
   "source": [
    "temperature = float(input('What is the temperature? '))\n",
    "weather = raw_input('What is the weather? (rain or shine) ')"
   ]
  },
  {
   "cell_type": "code",
   "execution_count": 32,
   "metadata": {
    "collapsed": false
   },
   "outputs": [
    {
     "name": "stdout",
     "output_type": "stream",
     "text": [
      "spencer\n"
     ]
    }
   ],
   "source": [
    "caller()"
   ]
  },
  {
   "cell_type": "code",
   "execution_count": 34,
   "metadata": {
    "collapsed": false
   },
   "outputs": [
    {
     "name": "stdout",
     "output_type": "stream",
     "text": [
      "bring an umbrella\n"
     ]
    }
   ],
   "source": [
    "if temperature > 60 and weather == 'rain':\n",
    "    print (\"bring an umbrella\")\n",
    "elif temperature <= 60 and weather == 'rain':\n",
    "    print (\"bring an umbrella and a jacket\")\n",
    "elif temperature > 60 and weather == \"shine\":\n",
    "    print (\"wear a t-shirt\")\n",
    "else:\n",
    "    print (\"bring a jacket\")"
   ]
  },
  {
   "cell_type": "code",
   "execution_count": null,
   "metadata": {
    "collapsed": true
   },
   "outputs": [],
   "source": [
    "if temperature > 60:\n",
    "    if weather == 'rain':\n",
    "        print('bring and umbrella')\n",
    "    else:\n",
    "        print('wear a t-shirt')\n",
    "else:\n",
    "    if weather == 'rain':\n",
    "        print('bring and umbrella and jacket')\n",
    "    else:\n",
    "        print('bring a jacket')"
   ]
  },
  {
   "cell_type": "markdown",
   "metadata": {},
   "source": [
    "---\n",
    "\n",
    "### 3. Write a for-loop that iterates from the number 1 to the number 15.\n",
    "\n",
    "On each iteration, print out the number."
   ]
  },
  {
   "cell_type": "code",
   "execution_count": 35,
   "metadata": {
    "collapsed": false
   },
   "outputs": [
    {
     "name": "stdout",
     "output_type": "stream",
     "text": [
      "andrew\n"
     ]
    }
   ],
   "source": [
    "caller()"
   ]
  },
  {
   "cell_type": "code",
   "execution_count": 36,
   "metadata": {
    "collapsed": false
   },
   "outputs": [
    {
     "name": "stdout",
     "output_type": "stream",
     "text": [
      "andrew w.\n"
     ]
    }
   ],
   "source": [
    "caller()"
   ]
  },
  {
   "cell_type": "code",
   "execution_count": 40,
   "metadata": {
    "collapsed": false
   },
   "outputs": [],
   "source": [
    "x = range(0, 100)"
   ]
  },
  {
   "cell_type": "code",
   "execution_count": 41,
   "metadata": {
    "collapsed": false
   },
   "outputs": [
    {
     "name": "stdout",
     "output_type": "stream",
     "text": [
      "3\n",
      "6\n",
      "9\n",
      "12\n",
      "15\n",
      "18\n",
      "21\n",
      "24\n",
      "27\n",
      "30\n",
      "33\n",
      "36\n",
      "39\n",
      "42\n",
      "45\n"
     ]
    }
   ],
   "source": [
    "for i in range(1,16):\n",
    "    print x[i*3]"
   ]
  },
  {
   "cell_type": "markdown",
   "metadata": {},
   "source": [
    "---\n",
    "\n",
    "### 4. Iterate from 1 to 15, printing whether the number is odd or even.\n",
    "\n",
    "Hint: The modulus operator, `%`, can be used to take the remainder. For example:\n",
    "\n",
    "```python\n",
    "9 % 5 == 4\n",
    "```\n",
    "\n",
    "Or in other words, the remainder of dividing 9 by 5 is 4. "
   ]
  },
  {
   "cell_type": "code",
   "execution_count": 42,
   "metadata": {
    "collapsed": false
   },
   "outputs": [
    {
     "name": "stdout",
     "output_type": "stream",
     "text": [
      "laura\n"
     ]
    }
   ],
   "source": [
    "caller()"
   ]
  },
  {
   "cell_type": "code",
   "execution_count": 43,
   "metadata": {
    "collapsed": false
   },
   "outputs": [
    {
     "name": "stdout",
     "output_type": "stream",
     "text": [
      "The number is odd\n",
      "The number is even\n",
      "The number is odd\n",
      "The number is even\n",
      "The number is odd\n",
      "The number is even\n",
      "The number is odd\n",
      "The number is even\n",
      "The number is odd\n",
      "The number is even\n",
      "The number is odd\n",
      "The number is even\n",
      "The number is odd\n",
      "The number is even\n",
      "The number is odd\n"
     ]
    }
   ],
   "source": [
    "for i in range(1, 16):\n",
    "    if i % 2 == 0:\n",
    "        print(\"The number is even\")\n",
    "    else:\n",
    "        print(\"The number is odd\")\n",
    "        "
   ]
  },
  {
   "cell_type": "markdown",
   "metadata": {},
   "source": [
    "---\n",
    "\n",
    "### 5. Iterate from 1 to 30 with the following instructions:\n",
    "\n",
    "1. If a number is divisible by 3, print 'fizz'. \n",
    "2. If a number is divisible by 5, print 'buzz'. \n",
    "3. If a number is both divisible by 3 and 5 print 'fizzbuzz'.\n",
    "4. Otherwise, print just the number."
   ]
  },
  {
   "cell_type": "code",
   "execution_count": 44,
   "metadata": {
    "collapsed": false
   },
   "outputs": [
    {
     "name": "stdout",
     "output_type": "stream",
     "text": [
      "andrew w.\n"
     ]
    }
   ],
   "source": [
    "caller()"
   ]
  },
  {
   "cell_type": "code",
   "execution_count": 45,
   "metadata": {
    "collapsed": false
   },
   "outputs": [
    {
     "name": "stdout",
     "output_type": "stream",
     "text": [
      "1\n",
      "2\n",
      "fizz\n",
      "4\n",
      "buzz\n",
      "fizz\n",
      "7\n",
      "8\n",
      "fizz\n",
      "buzz\n",
      "11\n",
      "fizz\n",
      "13\n",
      "14\n",
      "fizzbuzz\n",
      "16\n",
      "17\n",
      "fizz\n",
      "19\n",
      "buzz\n",
      "fizz\n",
      "22\n",
      "23\n",
      "fizz\n",
      "buzz\n",
      "26\n",
      "fizz\n",
      "28\n",
      "29\n",
      "fizzbuzz\n"
     ]
    }
   ],
   "source": [
    "for n in range(1,31):\n",
    "    result = ''\n",
    "    if n % 3 == 0:\n",
    "        result += 'fizz'\n",
    "    if n % 5 == 0:\n",
    "        result += 'buzz'\n",
    "    if len(result) == 0:\n",
    "        print n\n",
    "    else:\n",
    "        print result"
   ]
  },
  {
   "cell_type": "markdown",
   "metadata": {},
   "source": [
    "---\n",
    "\n",
    "### 6. Iterate through the list of animals and print each one, but in all caps."
   ]
  },
  {
   "cell_type": "code",
   "execution_count": 46,
   "metadata": {
    "collapsed": false
   },
   "outputs": [
    {
     "name": "stdout",
     "output_type": "stream",
     "text": [
      "ben\n"
     ]
    }
   ],
   "source": [
    "caller()"
   ]
  },
  {
   "cell_type": "code",
   "execution_count": 48,
   "metadata": {
    "collapsed": true
   },
   "outputs": [],
   "source": [
    "animals = ['duck', 'rat', 'boar', 'slug', 'mammoth', 'gazelle']"
   ]
  },
  {
   "cell_type": "code",
   "execution_count": 50,
   "metadata": {
    "collapsed": false
   },
   "outputs": [
    {
     "name": "stdout",
     "output_type": "stream",
     "text": [
      "DUCK\n",
      "RAT\n",
      "BOAR\n",
      "SLUG\n",
      "MAMMOTH\n",
      "GAZELLE\n"
     ]
    }
   ],
   "source": [
    "for x in animals  :\n",
    "    print (x.upper())"
   ]
  },
  {
   "cell_type": "markdown",
   "metadata": {},
   "source": [
    "---\n",
    "\n",
    "### 7. Iterate through the animals. Capitalize the first letter and append the modified animals to a new list."
   ]
  },
  {
   "cell_type": "code",
   "execution_count": 51,
   "metadata": {
    "collapsed": false
   },
   "outputs": [
    {
     "name": "stdout",
     "output_type": "stream",
     "text": [
      "chris\n"
     ]
    }
   ],
   "source": [
    "caller()"
   ]
  },
  {
   "cell_type": "code",
   "execution_count": 54,
   "metadata": {
    "collapsed": false
   },
   "outputs": [
    {
     "name": "stdout",
     "output_type": "stream",
     "text": [
      "['Duck', 'Rat', 'Boar', 'Slug', 'Mammoth', 'Gazelle']\n"
     ]
    }
   ],
   "source": [
    "new_list = []\n",
    "for i in animals:\n",
    "    x = i.capitalize()\n",
    "    new_list.append(x)\n",
    "\n",
    "print(new_list)"
   ]
  },
  {
   "cell_type": "code",
   "execution_count": 55,
   "metadata": {
    "collapsed": false
   },
   "outputs": [
    {
     "name": "stdout",
     "output_type": "stream",
     "text": [
      "h\n",
      "e\n",
      "l\n",
      "l\n",
      "o\n"
     ]
    }
   ],
   "source": [
    "for char in 'hello':\n",
    "    print char"
   ]
  },
  {
   "cell_type": "code",
   "execution_count": 59,
   "metadata": {
    "collapsed": false
   },
   "outputs": [
    {
     "name": "stdout",
     "output_type": "stream",
     "text": [
      "['Duck', 'Rat', 'Boar', 'Slug', 'Mammoth', 'Gazelle']\n"
     ]
    }
   ],
   "source": [
    "new_list = []\n",
    "for a in animals:\n",
    "    new_list.append(a.capitalize())\n",
    "print new_list"
   ]
  },
  {
   "cell_type": "markdown",
   "metadata": {},
   "source": [
    "---\n",
    "\n",
    "### 8. Iterate through the animals. Print out the animal name and the number of vowels in the name."
   ]
  },
  {
   "cell_type": "code",
   "execution_count": 60,
   "metadata": {
    "collapsed": false
   },
   "outputs": [
    {
     "name": "stdout",
     "output_type": "stream",
     "text": [
      "jyotsna\n"
     ]
    }
   ],
   "source": [
    "caller()"
   ]
  },
  {
   "cell_type": "code",
   "execution_count": 65,
   "metadata": {
    "collapsed": false
   },
   "outputs": [
    {
     "name": "stdout",
     "output_type": "stream",
     "text": [
      "duck The number of vowels is 1\n",
      "rat The number of vowels is 1\n",
      "boar The number of vowels is 2\n",
      "slug The number of vowels is 1\n",
      "mammoth The number of vowels is 2\n",
      "gazelle The number of vowels is 3\n"
     ]
    }
   ],
   "source": [
    "vowels = ['a', 'e', 'i', 'o', 'u']\n",
    "for animal in animals:\n",
    "    count = 0\n",
    "    for item in animal:\n",
    "        if item in vowels:\n",
    "            count +=1\n",
    "    print(animal +\" \"+ \"The number of vowels is\"+\" \" + str(count))\n",
    "            "
   ]
  },
  {
   "cell_type": "code",
   "execution_count": 67,
   "metadata": {
    "collapsed": false
   },
   "outputs": [
    {
     "name": "stdout",
     "output_type": "stream",
     "text": [
      "duck has 1 vowels\n",
      "rat has 1 vowels\n",
      "boar has 2 vowels\n",
      "slug has 1 vowels\n",
      "mammoth has 2 vowels\n",
      "gazelle has 3 vowels\n"
     ]
    }
   ],
   "source": [
    "vowels = 'aeiou'\n",
    "for animal in animals:\n",
    "    count = 0\n",
    "    for char in animal:\n",
    "        if char in vowels:\n",
    "            count += 1\n",
    "    print animal, 'has', count, 'vowels'"
   ]
  },
  {
   "cell_type": "markdown",
   "metadata": {},
   "source": [
    "---\n",
    "\n",
    "### 9. Write a function that takes word as an argument and returns the number of vowels in the word.\n",
    "\n",
    "Try it out on 3 words."
   ]
  },
  {
   "cell_type": "code",
   "execution_count": 68,
   "metadata": {
    "collapsed": false
   },
   "outputs": [
    {
     "name": "stdout",
     "output_type": "stream",
     "text": [
      "spencer\n"
     ]
    }
   ],
   "source": [
    "caller()"
   ]
  },
  {
   "cell_type": "code",
   "execution_count": 71,
   "metadata": {
    "collapsed": false
   },
   "outputs": [],
   "source": [
    "def vowel_count(x):\n",
    "    count = 0\n",
    "    for char in x:\n",
    "        if char in 'aeiou':\n",
    "            count += 1\n",
    "    return count"
   ]
  },
  {
   "cell_type": "code",
   "execution_count": 74,
   "metadata": {
    "collapsed": true
   },
   "outputs": [],
   "source": [
    "def arbitrary_count(my_string, has_chars):\n",
    "    count = 0\n",
    "    for char in my_string:\n",
    "        if char in has_chars:\n",
    "            count += 1\n",
    "    return count"
   ]
  },
  {
   "cell_type": "code",
   "execution_count": 83,
   "metadata": {
    "collapsed": false
   },
   "outputs": [
    {
     "data": {
      "text/plain": [
       "2"
      ]
     },
     "execution_count": 83,
     "metadata": {},
     "output_type": "execute_result"
    }
   ],
   "source": [
    "arbitrary_count('a short sentence', 'ABC')"
   ]
  },
  {
   "cell_type": "markdown",
   "metadata": {},
   "source": [
    "### 9B: Re-write `arbitrary_count` so that case doesn't matter"
   ]
  },
  {
   "cell_type": "code",
   "execution_count": 77,
   "metadata": {
    "collapsed": false
   },
   "outputs": [
    {
     "data": {
      "text/plain": [
       "False"
      ]
     },
     "execution_count": 77,
     "metadata": {},
     "output_type": "execute_result"
    }
   ],
   "source": [
    "'a' == 'A'"
   ]
  },
  {
   "cell_type": "code",
   "execution_count": 79,
   "metadata": {
    "collapsed": false
   },
   "outputs": [
    {
     "name": "stdout",
     "output_type": "stream",
     "text": [
      "davis\n"
     ]
    }
   ],
   "source": [
    "caller()"
   ]
  },
  {
   "cell_type": "code",
   "execution_count": 82,
   "metadata": {
    "collapsed": true
   },
   "outputs": [],
   "source": [
    "def arbitrary_count(my_string, has_chars):\n",
    "    count = 0\n",
    "    for char in my_string.lower():\n",
    "        if char in has_chars.lower():\n",
    "            count += 1\n",
    "    return count"
   ]
  },
  {
   "cell_type": "code",
   "execution_count": null,
   "metadata": {
    "collapsed": true
   },
   "outputs": [],
   "source": []
  },
  {
   "cell_type": "markdown",
   "metadata": {},
   "source": [
    "---\n",
    "\n",
    "### 10. Write a function to calculate the area of a triangle from a height and width.\n",
    "\n",
    "Test it out."
   ]
  },
  {
   "cell_type": "code",
   "execution_count": 84,
   "metadata": {
    "collapsed": false
   },
   "outputs": [
    {
     "name": "stdout",
     "output_type": "stream",
     "text": [
      "katerina\n"
     ]
    }
   ],
   "source": [
    "caller()"
   ]
  },
  {
   "cell_type": "code",
   "execution_count": 91,
   "metadata": {
    "collapsed": false
   },
   "outputs": [
    {
     "data": {
      "text/plain": [
       "10.5"
      ]
     },
     "execution_count": 91,
     "metadata": {},
     "output_type": "execute_result"
    }
   ],
   "source": [
    "def area (height, width):\n",
    "    tarea=(float(height)*width)/2\n",
    "    return tarea\n",
    "\n",
    "area (7,3)"
   ]
  },
  {
   "cell_type": "markdown",
   "metadata": {},
   "source": [
    "---\n",
    "\n",
    "### 11. While loops and strings.\n",
    "\n",
    "Iterate over the following sentence over and over again, counting the number of vowels in the sentence until you have counted 1 million vowels. Print out the number of iterations it took to reach one million."
   ]
  },
  {
   "cell_type": "code",
   "execution_count": 6,
   "metadata": {
    "collapsed": true
   },
   "outputs": [],
   "source": [
    "sentence = 'if the zoo bans me for hollering at the animals i will face god and walk backwards into hell'"
   ]
  },
  {
   "cell_type": "code",
   "execution_count": 95,
   "metadata": {
    "collapsed": false
   },
   "outputs": [
    {
     "name": "stdout",
     "output_type": "stream",
     "text": [
      "harrison\n"
     ]
    }
   ],
   "source": [
    "caller()"
   ]
  },
  {
   "cell_type": "code",
   "execution_count": 101,
   "metadata": {
    "collapsed": false
   },
   "outputs": [
    {
     "name": "stdout",
     "output_type": "stream",
     "text": [
      "37038\n"
     ]
    }
   ],
   "source": [
    "sentence = 'if the zoo bans me for hollering at the animals i will face god and walk backwards into hell'\n",
    "vowels = \"aeiou\"\n",
    "iteration = 0\n",
    "vol_count = 0\n",
    "while vol_count <= 1000000:\n",
    "    for char in sentence:\n",
    "        if char in vowels:\n",
    "            vol_count += 1\n",
    "    iteration += 1\n",
    "print iteration\n",
    "            "
   ]
  },
  {
   "cell_type": "code",
   "execution_count": null,
   "metadata": {
    "collapsed": true
   },
   "outputs": [],
   "source": []
  },
  {
   "cell_type": "markdown",
   "metadata": {},
   "source": [
    "---\n",
    "\n",
    "### 12. Try to convert elements in a list to floats.\n",
    "\n",
    "Create a new list with the converted numbers. If something cannot be converted, skip it and append nothing to the new list.\n",
    "\n",
    "Hint: look up python EAFP"
   ]
  },
  {
   "cell_type": "code",
   "execution_count": 105,
   "metadata": {
    "collapsed": false
   },
   "outputs": [
    {
     "ename": "ValueError",
     "evalue": "could not convert string to float: !1",
     "output_type": "error",
     "traceback": [
      "\u001b[0;31m---------------------------------------------------------------------------\u001b[0m",
      "\u001b[0;31mValueError\u001b[0m                                Traceback (most recent call last)",
      "\u001b[0;32m<ipython-input-105-1be42ca65750>\u001b[0m in \u001b[0;36m<module>\u001b[0;34m()\u001b[0m\n\u001b[1;32m      2\u001b[0m \u001b[0mfloat_list\u001b[0m \u001b[0;34m=\u001b[0m \u001b[0;34m[\u001b[0m\u001b[0;34m]\u001b[0m\u001b[0;34m\u001b[0m\u001b[0m\n\u001b[1;32m      3\u001b[0m \u001b[0;32mfor\u001b[0m \u001b[0mi\u001b[0m \u001b[0;32min\u001b[0m \u001b[0mcorrupted\u001b[0m\u001b[0;34m:\u001b[0m\u001b[0;34m\u001b[0m\u001b[0m\n\u001b[0;32m----> 4\u001b[0;31m     \u001b[0mfloat_list\u001b[0m\u001b[0;34m.\u001b[0m\u001b[0mappend\u001b[0m\u001b[0;34m(\u001b[0m\u001b[0mfloat\u001b[0m\u001b[0;34m(\u001b[0m\u001b[0mi\u001b[0m\u001b[0;34m)\u001b[0m\u001b[0;34m)\u001b[0m\u001b[0;34m\u001b[0m\u001b[0m\n\u001b[0m\u001b[1;32m      5\u001b[0m     \u001b[0;31m#try:\u001b[0m\u001b[0;34m\u001b[0m\u001b[0;34m\u001b[0m\u001b[0m\n\u001b[1;32m      6\u001b[0m     \u001b[0;31m#    float_list.append(float(i))\u001b[0m\u001b[0;34m\u001b[0m\u001b[0;34m\u001b[0m\u001b[0m\n",
      "\u001b[0;31mValueError\u001b[0m: could not convert string to float: !1"
     ]
    }
   ],
   "source": [
    "corrupted = ['!1', '23.1', '23.4.5', '??12', '.12', '12-12', '-11.1', '0-1', '*12.1', '1000', ]\n",
    "float_list = []\n",
    "for i in corrupted:\n",
    "    float_list.append(float(i))\n",
    "    #try:\n",
    "    #    float_list.append(float(i))\n",
    "    #except:\n",
    "    #    pass\n",
    "\n",
    "print(float_list)"
   ]
  },
  {
   "cell_type": "code",
   "execution_count": 103,
   "metadata": {
    "collapsed": false
   },
   "outputs": [
    {
     "name": "stdout",
     "output_type": "stream",
     "text": [
      "austin\n"
     ]
    }
   ],
   "source": [
    "caller()"
   ]
  },
  {
   "cell_type": "code",
   "execution_count": null,
   "metadata": {
    "collapsed": true
   },
   "outputs": [],
   "source": []
  },
  {
   "cell_type": "markdown",
   "metadata": {},
   "source": [
    "---\n",
    "\n",
    "### 13. Load coffee preference data from file and print\n",
    "\n",
    "The code to load in the data is provided below. \n",
    "\n",
    "The `with open(..., 'r') as f:` opens up a file in \"read\" mode (rather than \"write\"), and assigns this opened file to `f`. \n",
    "\n",
    "We can then use the `.readlines()` built-in function to split the csv file on newlines and assign it to the variable `lines`."
   ]
  },
  {
   "cell_type": "code",
   "execution_count": 8,
   "metadata": {
    "collapsed": true
   },
   "outputs": [],
   "source": [
    "with open('/Users/kiefer/github-repos/DSI-SF-4/datasets/coffee_preferences/coffee-preferences.csv','r') as f:\n",
    "    lines = f.readlines()"
   ]
  },
  {
   "cell_type": "markdown",
   "metadata": {},
   "source": [
    "#### Iterate through lines and print them out"
   ]
  },
  {
   "cell_type": "code",
   "execution_count": null,
   "metadata": {
    "collapsed": false
   },
   "outputs": [],
   "source": []
  },
  {
   "cell_type": "markdown",
   "metadata": {},
   "source": [
    "#### Print out just the lines object by typing `lines` in a cell and hitting enter."
   ]
  },
  {
   "cell_type": "code",
   "execution_count": null,
   "metadata": {
    "collapsed": false
   },
   "outputs": [],
   "source": []
  },
  {
   "cell_type": "markdown",
   "metadata": {},
   "source": [
    "---\n",
    "\n",
    "### 14. Remove the remaining newline `'\\n'` characters with a for-loop.\n",
    "\n",
    "Iterate through the lines of the data and remove the unwanted newline characters.\n",
    "\n",
    "**`.replace('\\n', '')`** is a built-in string function that will take as the first argument the substring you want to replace, and as its second argument the string you want to replace it with."
   ]
  },
  {
   "cell_type": "code",
   "execution_count": null,
   "metadata": {
    "collapsed": false
   },
   "outputs": [],
   "source": []
  },
  {
   "cell_type": "markdown",
   "metadata": {},
   "source": [
    "---\n",
    "\n",
    "### 15. Split the lines into \"header\" and \"data\" variables.\n",
    "\n",
    "The header is the first string in the list of strings. It contains the column names of our data."
   ]
  },
  {
   "cell_type": "code",
   "execution_count": null,
   "metadata": {
    "collapsed": true
   },
   "outputs": [],
   "source": []
  },
  {
   "cell_type": "markdown",
   "metadata": {},
   "source": [
    "---\n",
    "\n",
    "### 16. Split the header and the data strings on commas.\n",
    "\n",
    "To split a string on the comma character, use the **`.split(',')`** built-in function. \n",
    "\n",
    "Split the header on commas first and print it. You can see that the original string is now a list, with items that were originally separated by commas."
   ]
  },
  {
   "cell_type": "code",
   "execution_count": null,
   "metadata": {
    "collapsed": false
   },
   "outputs": [],
   "source": []
  },
  {
   "cell_type": "markdown",
   "metadata": {},
   "source": [
    "---\n",
    "\n",
    "### 17. Remove the \"Timestamp\" column.\n",
    "\n",
    "We aren't interested in the Timestamp column in our data, so remove it from the header and the data list.\n",
    "\n",
    "Removing the Timestamp from the header can be done with list functions or slicing. To remove the header column from the data, use a for-loop.\n",
    "\n",
    "Print out the new data object with the timestamps removed."
   ]
  },
  {
   "cell_type": "code",
   "execution_count": null,
   "metadata": {
    "collapsed": true
   },
   "outputs": [],
   "source": []
  },
  {
   "cell_type": "markdown",
   "metadata": {},
   "source": [
    "---\n",
    "\n",
    "### 18. Convert numeric columns to floats and empty fields to `None`.\n",
    "\n",
    "Iterate through the data and construct a new data list of lists that has the numeric ratings converted from strings to floats, and the empty fields (which are empty strings `''`) replaced with the `None` object.\n",
    "\n",
    "Use a nested for-loop (for-loop within another for-loop) to get the job done. You will likely need to use if/else conditional statements as well.\n",
    "\n",
    "Print out the new data object to make sure it worked."
   ]
  },
  {
   "cell_type": "code",
   "execution_count": null,
   "metadata": {
    "collapsed": true
   },
   "outputs": [],
   "source": []
  },
  {
   "cell_type": "markdown",
   "metadata": {},
   "source": [
    "---\n",
    "\n",
    "### 19. Count the `None` values per person and put counts in a dictionary.\n",
    "\n",
    "Use a for loop to count the number of `None` values per person. Create a dictionary with the names of the people as keys, and the counts of `None` as values.\n",
    "\n",
    "Who rated the most coffee brands? Who rated the least?"
   ]
  },
  {
   "cell_type": "code",
   "execution_count": null,
   "metadata": {
    "collapsed": false
   },
   "outputs": [],
   "source": []
  },
  {
   "cell_type": "markdown",
   "metadata": {},
   "source": [
    "---\n",
    "\n",
    "### 20. Calculate average rating per coffee brand.\n",
    "\n",
    "**Excluding `None` values**, calculate the average rating per brand of coffee.\n",
    "\n",
    "The final output should be a dictionary with keys as the coffee brand names, and their average rating as the values.\n",
    "\n",
    "Remember that average can be calculated as the sum of the ratings over the number of ratings:\n",
    "\n",
    "```python\n",
    "average_rating = float(sum(ratings_list))/len(ratings_list)\n",
    "```\n",
    "\n",
    "Print your dictionary to see the average brand ratings."
   ]
  },
  {
   "cell_type": "code",
   "execution_count": null,
   "metadata": {
    "collapsed": false
   },
   "outputs": [],
   "source": []
  },
  {
   "cell_type": "markdown",
   "metadata": {},
   "source": [
    "---\n",
    "\n",
    "### 21. Create a list of just the people's names."
   ]
  },
  {
   "cell_type": "code",
   "execution_count": null,
   "metadata": {
    "collapsed": false
   },
   "outputs": [],
   "source": []
  },
  {
   "cell_type": "markdown",
   "metadata": {},
   "source": [
    "---\n",
    "\n",
    "### 22. Picking a name at random: odds of choosing the same name 3 times in a row.\n",
    "\n",
    "Now we'll use a while-loop to \"brute force\" the odds of choosing the same name 3 times in a row randomly from the list of names.\n",
    "\n",
    "Below I've imported the **`random`** package, which has the essential function for this code **`random.choice()`**.\n",
    "The function takes a list as an argument, and returns one of the elements of that list at random."
   ]
  },
  {
   "cell_type": "code",
   "execution_count": 9,
   "metadata": {
    "collapsed": true
   },
   "outputs": [],
   "source": [
    "import random\n",
    "# Choose a random person from the list of people:\n",
    "# random.choice(people)"
   ]
  },
  {
   "cell_type": "markdown",
   "metadata": {},
   "source": [
    "Write a function to choose a person from the list randomly 3 times and check if they are all the same\n",
    "\n",
    "Define a function that has the following properties:\n",
    "\n",
    "1. Takes a list (your list of names) as an argument.\n",
    "2. Selects a name using `random.choice(people)` three separate times.\n",
    "3. Returns `True` if the name was the same all three times. Otherwise returns `False`."
   ]
  },
  {
   "cell_type": "code",
   "execution_count": null,
   "metadata": {
    "collapsed": true
   },
   "outputs": [],
   "source": []
  },
  {
   "cell_type": "markdown",
   "metadata": {},
   "source": [
    "---\n",
    "\n",
    "### 23. Construct a while loop to run the choosing function until it returns True.\n",
    "\n",
    "Run the function until you draw the same person 3 times using a while-loop. Keep track of how many tries it took and print out the number of tries after it runs."
   ]
  },
  {
   "cell_type": "code",
   "execution_count": null,
   "metadata": {
    "collapsed": false
   },
   "outputs": [],
   "source": []
  }
 ],
 "metadata": {
  "kernelspec": {
   "display_name": "Python 2",
   "language": "python",
   "name": "python2"
  },
  "language_info": {
   "codemirror_mode": {
    "name": "ipython",
    "version": 2
   },
   "file_extension": ".py",
   "mimetype": "text/x-python",
   "name": "python",
   "nbconvert_exporter": "python",
   "pygments_lexer": "ipython2",
   "version": "2.7.12"
  }
 },
 "nbformat": 4,
 "nbformat_minor": 0
}
