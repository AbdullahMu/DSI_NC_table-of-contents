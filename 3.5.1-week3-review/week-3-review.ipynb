{
 "cells": [
  {
   "cell_type": "markdown",
   "metadata": {},
   "source": [
    "# Week 3 Review - Regression, etc."
   ]
  },
  {
   "cell_type": "code",
   "execution_count": 1,
   "metadata": {
    "collapsed": true
   },
   "outputs": [],
   "source": [
    "import numpy as np\n",
    "import scipy \n",
    "import seaborn as sns\n",
    "import pandas as pd\n",
    "\n",
    "from sklearn.linear_model import (LinearRegression, Lasso, Ridge,\n",
    "                                  ElasticNet, LassoCV, RidgeCV,\n",
    "                                  ElasticNetCV)\n",
    "from sklearn.cross_validation import cross_val_score, KFold\n",
    "from sklearn.grid_search import GridSearchCV\n",
    "\n",
    "import matplotlib\n",
    "import matplotlib.pyplot as plt\n",
    "\n",
    "%config InlineBackend.figure_format = 'retina'\n",
    "%matplotlib inline\n",
    "\n",
    "plt.style.use('fivethirtyeight')"
   ]
  },
  {
   "cell_type": "code",
   "execution_count": 2,
   "metadata": {
    "collapsed": true
   },
   "outputs": [],
   "source": [
    "students = ['Denise','Alex','Alex K', 'Carlos', 'Vanessa','Ryan','Cecilia','Tim',\n",
    "            'Kat','Kyle','Divya','Amos','Caitlin','Lenny','Ovid','Chris',\n",
    "            'Nick','Paul','Daniel','Edward','Nivetha','Nicholle']\n",
    "random_student = np.random.choice(students, size=len(students), replace=False).tolist()\n",
    "\n",
    "kobe = pd.read_csv('/Users/kiefer/github-repos/DSI-SF-2/datasets/kobe_bryant/kobe_superwide_games.csv')\n",
    "wine = pd.read_csv('/Users/kiefer/github-repos/DSI-SF-2/datasets/wine_quality/winequality_merged.csv')"
   ]
  },
  {
   "cell_type": "code",
   "execution_count": null,
   "metadata": {
    "collapsed": true
   },
   "outputs": [],
   "source": []
  }
 ],
 "metadata": {
  "kernelspec": {
   "display_name": "Python 2",
   "language": "python",
   "name": "python2"
  },
  "language_info": {
   "codemirror_mode": {
    "name": "ipython",
    "version": 2
   },
   "file_extension": ".py",
   "mimetype": "text/x-python",
   "name": "python",
   "nbconvert_exporter": "python",
   "pygments_lexer": "ipython2",
   "version": "2.7.12"
  }
 },
 "nbformat": 4,
 "nbformat_minor": 0
}
