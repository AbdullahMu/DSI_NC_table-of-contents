{
 "cells": [
  {
   "cell_type": "markdown",
   "metadata": {},
   "source": [
    "<img src=\"http://imgur.com/1ZcRyrc.png\" style=\"float: left; margin: 15px; height: 80px\">\n",
    "\n",
    "# List and dictionary comprehensions\n",
    "\n",
    "Week 1 | Lesson 3.1\n",
    "\n",
    "---\n",
    "\n",
    "This codealong covers the essentials of performing list and dictionary comprehensions in python.\n",
    "\n",
    "---\n",
    "\n",
    "### Section 1: Basic list comprehensions"
   ]
  },
  {
   "cell_type": "code",
   "execution_count": 1,
   "metadata": {
    "collapsed": true
   },
   "outputs": [],
   "source": [
    "import numpy as np\n",
    "import string"
   ]
  },
  {
   "cell_type": "markdown",
   "metadata": {},
   "source": [
    "##### 1-A) Add 1 to every element in the list"
   ]
  },
  {
   "cell_type": "code",
   "execution_count": 2,
   "metadata": {
    "collapsed": false
   },
   "outputs": [
    {
     "name": "stdout",
     "output_type": "stream",
     "text": [
      "[7, 8, 9, 10]\n"
     ]
    }
   ],
   "source": [
    "numbers = [0,1,2,3,4,5,6,7,8,9]\n",
    "\n",
    "# for-loop version:\n",
    "new_nums = []\n",
    "for n in numbers:\n",
    "    if n > 5:\n",
    "        new_nums.append(n+1)\n",
    "    \n",
    "print new_nums"
   ]
  },
  {
   "cell_type": "code",
   "execution_count": 3,
   "metadata": {
    "collapsed": false
   },
   "outputs": [
    {
     "name": "stdout",
     "output_type": "stream",
     "text": [
      "[7, 8, 9, 10]\n"
     ]
    }
   ],
   "source": [
    "# list comprehension version\n",
    "lc_nums = [n+1 for n in numbers if n>5]\n",
    "\n",
    "print lc_nums"
   ]
  },
  {
   "cell_type": "markdown",
   "metadata": {},
   "source": [
    "#### Section 2: List comprehension conditional logic\n",
    "\n",
    "##### 2-A) \"Binarize\" n so that any value greater than or equal to the mean of n is 1, otherwise 0"
   ]
  },
  {
   "cell_type": "code",
   "execution_count": 4,
   "metadata": {
    "collapsed": false
   },
   "outputs": [
    {
     "data": {
      "text/plain": [
       "2.5"
      ]
     },
     "execution_count": 4,
     "metadata": {},
     "output_type": "execute_result"
    }
   ],
   "source": [
    "np.mean([1,2,3,4])"
   ]
  },
  {
   "cell_type": "code",
   "execution_count": 5,
   "metadata": {
    "collapsed": true
   },
   "outputs": [],
   "source": [
    "n = [1, 2, 7, 21, 3, 1, 62, 3, 34, 12, 73, 44, 12, 11, 9]\n"
   ]
  },
  {
   "cell_type": "code",
   "execution_count": 6,
   "metadata": {
    "collapsed": false
   },
   "outputs": [
    {
     "name": "stdout",
     "output_type": "stream",
     "text": [
      "[0, 0, 0, 1, 0, 0, 1, 0, 1, 0, 1, 1, 0, 0, 0]\n"
     ]
    }
   ],
   "source": [
    "# for loop\n",
    "new_n = []\n",
    "for num in n:\n",
    "    if num >= np.mean(n):\n",
    "        new_n.append(1)\n",
    "    else:\n",
    "        new_n.append(0)\n",
    "\n",
    "print new_n\n"
   ]
  },
  {
   "cell_type": "code",
   "execution_count": 7,
   "metadata": {
    "collapsed": false
   },
   "outputs": [
    {
     "data": {
      "text/plain": [
       "[0, 0, 0, 1, 0, 0, 1, 0, 1, 0, 1, 1, 0, 0, 0]"
      ]
     },
     "execution_count": 7,
     "metadata": {},
     "output_type": "execute_result"
    }
   ],
   "source": [
    "# list comprehension\n",
    "\n",
    "new_n2 = [1 if x>np.mean(n) else 0 for x in n]\n",
    "new_n2"
   ]
  },
  {
   "cell_type": "markdown",
   "metadata": {},
   "source": [
    "##### 2-B) Swap 1s to 0s and 0s to 1s. If the element is neither a 0 nor 1, make it None"
   ]
  },
  {
   "cell_type": "code",
   "execution_count": 8,
   "metadata": {
    "collapsed": true
   },
   "outputs": [],
   "source": [
    "n = [0, 1, 0, 1, 2, 3, 5, 2, 1, 0]\n"
   ]
  },
  {
   "cell_type": "code",
   "execution_count": 9,
   "metadata": {
    "collapsed": false
   },
   "outputs": [
    {
     "name": "stdout",
     "output_type": "stream",
     "text": [
      "[1, 0, 1, 0, None, None, None, None, 0, 1]\n"
     ]
    }
   ],
   "source": [
    "# for loop\n",
    "something = []\n",
    "for num in n:\n",
    "    if num == 1:\n",
    "        something.append(0)\n",
    "    elif num == 0:\n",
    "        something.append(1)\n",
    "    else:\n",
    "        something.append(None)\n",
    "print something"
   ]
  },
  {
   "cell_type": "code",
   "execution_count": 10,
   "metadata": {
    "collapsed": false
   },
   "outputs": [
    {
     "name": "stdout",
     "output_type": "stream",
     "text": [
      "[1, 0, 1, 0, None, None, None, None, 0, 1]\n"
     ]
    }
   ],
   "source": [
    "# list comprehension\n",
    "lc_new = [\n",
    "    1 if num == 0 \n",
    "    else 0 if num == 1 \n",
    "    else None \n",
    "    for num in n\n",
    "]\n",
    "\n",
    "print lc_new"
   ]
  },
  {
   "cell_type": "markdown",
   "metadata": {},
   "source": [
    "#### Section 3: Nested list comprehensions\n",
    "\n",
    "##### 3-A) Get the square and square root of all non-negative numbers in the list"
   ]
  },
  {
   "cell_type": "code",
   "execution_count": 11,
   "metadata": {
    "collapsed": false
   },
   "outputs": [
    {
     "name": "stdout",
     "output_type": "stream",
     "text": [
      "5.0\n",
      "25\n"
     ]
    }
   ],
   "source": [
    "print np.sqrt(25)\n",
    "print 5**2"
   ]
  },
  {
   "cell_type": "code",
   "execution_count": 12,
   "metadata": {
    "collapsed": true
   },
   "outputs": [],
   "source": [
    "n = [0, 1, 50, -23, -1, 75, -3]\n"
   ]
  },
  {
   "cell_type": "code",
   "execution_count": 13,
   "metadata": {
    "collapsed": false
   },
   "outputs": [
    {
     "name": "stdout",
     "output_type": "stream",
     "text": [
      "[[1.0, 1], [7.0710678118654755, 2500], [8.6602540378443873, 5625]]\n"
     ]
    }
   ],
   "source": [
    "# for loop\n",
    "\n",
    "new_n = []\n",
    "for num in n:\n",
    "    if num > 0:\n",
    "        new_n.append([np.sqrt(num), num**2])\n",
    "\n",
    "print new_n"
   ]
  },
  {
   "cell_type": "code",
   "execution_count": 14,
   "metadata": {
    "collapsed": false
   },
   "outputs": [
    {
     "data": {
      "text/plain": [
       "[(1.0, 1), (7.0710678118654755, 2500), (8.6602540378443873, 5625)]"
      ]
     },
     "execution_count": 14,
     "metadata": {},
     "output_type": "execute_result"
    }
   ],
   "source": [
    "# list comprehension\n",
    "\n",
    "new_s = [ (np.sqrt(x),x**2) for x in n if x > 0]\n",
    "\n",
    "new_s"
   ]
  },
  {
   "cell_type": "markdown",
   "metadata": {},
   "source": [
    "#### Section 4: Functions in list comprehensions\n",
    "\n",
    "##### 4-A) Combine elements of these two lists item by item into list pairs"
   ]
  },
  {
   "cell_type": "code",
   "execution_count": 15,
   "metadata": {
    "collapsed": false
   },
   "outputs": [
    {
     "name": "stdout",
     "output_type": "stream",
     "text": [
      "[[0, 'a'], [1, 'b'], [2, 'c']]\n",
      "[[0, 1, 'a'], [1, 2, 'b'], [2, 3, 'c']]\n"
     ]
    }
   ],
   "source": [
    "# enumerate:\n",
    "print [[i, x] for i, x in enumerate(['a','b','c'])]\n",
    "\n",
    "# zip\n",
    "a = [1,2,3]\n",
    "b = ['a','b','c']\n",
    "print [[index, a_item, b_item] for index, (a_item, b_item) in enumerate(zip(a,b))]"
   ]
  },
  {
   "cell_type": "code",
   "execution_count": 16,
   "metadata": {
    "collapsed": true
   },
   "outputs": [],
   "source": [
    "a = ['a','b','c','d']\n",
    "z = ['z','y','x','w']\n"
   ]
  },
  {
   "cell_type": "code",
   "execution_count": 17,
   "metadata": {
    "collapsed": false
   },
   "outputs": [
    {
     "data": {
      "text/plain": [
       "[3, 8, 13, 18, 23, 28, 33, 38, 43, 48]"
      ]
     },
     "execution_count": 17,
     "metadata": {},
     "output_type": "execute_result"
    }
   ],
   "source": [
    "# range(integer) --> goes from 0 to integer (exclusive)\n",
    "# range(int1, int2) --> makes a list [int1 ..... int2-1]\n",
    "# range(int1, int2, step) --> list from [int1 ... int2-1] with step size step\n",
    "\n",
    "range(3, 50, 5)"
   ]
  },
  {
   "cell_type": "code",
   "execution_count": 18,
   "metadata": {
    "collapsed": false
   },
   "outputs": [
    {
     "data": {
      "text/plain": [
       "[0, 1, 2, 3]"
      ]
     },
     "execution_count": 18,
     "metadata": {},
     "output_type": "execute_result"
    }
   ],
   "source": [
    "range(len(a))"
   ]
  },
  {
   "cell_type": "code",
   "execution_count": 19,
   "metadata": {
    "collapsed": false
   },
   "outputs": [
    {
     "name": "stdout",
     "output_type": "stream",
     "text": [
      "0 a z\n",
      "1 b y\n",
      "2 c x\n",
      "3 d w\n",
      "[['a', 'z'], ['b', 'y'], ['c', 'x'], ['d', 'w']]\n"
     ]
    }
   ],
   "source": [
    "# for loop\n",
    "new_list = []\n",
    "for index in range(len(a)):\n",
    "    print index, a[index], z[index]\n",
    "    new_list.append([a[index], z[index]])\n",
    "print new_list\n"
   ]
  },
  {
   "cell_type": "code",
   "execution_count": 20,
   "metadata": {
    "collapsed": false
   },
   "outputs": [
    {
     "data": {
      "text/plain": [
       "[['a', 'z'], ['b', 'y'], ['c', 'x'], ['d', 'w']]"
      ]
     },
     "execution_count": 20,
     "metadata": {},
     "output_type": "execute_result"
    }
   ],
   "source": [
    "# list comprehension\n",
    "new_list2 = [[a[index],z[index]] for index in range (len(a))]\n",
    "new_list2"
   ]
  },
  {
   "cell_type": "markdown",
   "metadata": {},
   "source": [
    "##### 4-B) Pair each index and element of this list into list pairs"
   ]
  },
  {
   "cell_type": "code",
   "execution_count": 21,
   "metadata": {
    "collapsed": true
   },
   "outputs": [],
   "source": [
    "a = ['a','b','c','d']\n"
   ]
  },
  {
   "cell_type": "markdown",
   "metadata": {},
   "source": [
    "##### 4-C) For each element of each list, calculate the first list element times the index divided by the element of the second list"
   ]
  },
  {
   "cell_type": "code",
   "execution_count": 22,
   "metadata": {
    "collapsed": true
   },
   "outputs": [],
   "source": [
    "list_one = [10, 15, 20, 25, 40]\n",
    "list_two = [1, 2, 3, 4, 5]\n"
   ]
  },
  {
   "cell_type": "markdown",
   "metadata": {},
   "source": [
    "#### Section 5: Nested list comprehensions\n",
    "\n",
    "##### 5-A) Create all the alphabet \"syllables\" defined as consonant-vowel pairs in a flattened list [USING FOR LOOP ITERATION]"
   ]
  },
  {
   "cell_type": "code",
   "execution_count": 23,
   "metadata": {
    "collapsed": true
   },
   "outputs": [],
   "source": [
    "vowels = ['a', 'e', 'i', 'o', 'u']\n",
    "alphabet = string.ascii_lowercase\n"
   ]
  },
  {
   "cell_type": "markdown",
   "metadata": {},
   "source": [
    "##### 5-B) Create all the alphabet \"syllables\" defined as consonant-vowel pairs in a flattened list [USING A LIST COMPREHENSION]"
   ]
  },
  {
   "cell_type": "code",
   "execution_count": 24,
   "metadata": {
    "collapsed": true
   },
   "outputs": [],
   "source": [
    "listoflists = [[1,2],[3,4]]\n",
    "\n",
    "flat = [x \n",
    "        for sublist in listoflists \n",
    "        for x in sublist]\n",
    "\n",
    "# for sublist in listoflists:\n",
    "#    for x in sublist\n",
    "#        flat.append(x)\n"
   ]
  },
  {
   "cell_type": "code",
   "execution_count": 26,
   "metadata": {
    "collapsed": true
   },
   "outputs": [],
   "source": [
    "consonants = [ch for ch in alphabet if not ch in vowels]"
   ]
  },
  {
   "cell_type": "code",
   "execution_count": 27,
   "metadata": {
    "collapsed": false
   },
   "outputs": [
    {
     "data": {
      "text/plain": [
       "['ba',\n",
       " 'ca',\n",
       " 'da',\n",
       " 'fa',\n",
       " 'ga',\n",
       " 'ha',\n",
       " 'ja',\n",
       " 'ka',\n",
       " 'la',\n",
       " 'ma',\n",
       " 'na',\n",
       " 'pa',\n",
       " 'qa',\n",
       " 'ra',\n",
       " 'sa',\n",
       " 'ta',\n",
       " 'va',\n",
       " 'wa',\n",
       " 'xa',\n",
       " 'ya',\n",
       " 'za']"
      ]
     },
     "execution_count": 27,
     "metadata": {},
     "output_type": "execute_result"
    }
   ],
   "source": [
    "syllables = [\n",
    "    [consonant+vowel for consonant in consonants] \n",
    "    for vowel in vowels\n",
    "]\n",
    "len(syllables[0])\n",
    "syllables[0]"
   ]
  },
  {
   "cell_type": "code",
   "execution_count": 28,
   "metadata": {
    "collapsed": false
   },
   "outputs": [
    {
     "name": "stdout",
     "output_type": "stream",
     "text": [
      "['ba', 'be', 'bi', 'bo', 'bu', 'ca', 'ce', 'ci', 'co', 'cu', 'da', 'de', 'di', 'do', 'du', 'fa', 'fe', 'fi', 'fo', 'fu', 'ga', 'ge', 'gi', 'go', 'gu', 'ha', 'he', 'hi', 'ho', 'hu', 'ja', 'je', 'ji', 'jo', 'ju', 'ka', 'ke', 'ki', 'ko', 'ku', 'la', 'le', 'li', 'lo', 'lu', 'ma', 'me', 'mi', 'mo', 'mu', 'na', 'ne', 'ni', 'no', 'nu', 'pa', 'pe', 'pi', 'po', 'pu', 'qa', 'qe', 'qi', 'qo', 'qu', 'ra', 're', 'ri', 'ro', 'ru', 'sa', 'se', 'si', 'so', 'su', 'ta', 'te', 'ti', 'to', 'tu', 'va', 've', 'vi', 'vo', 'vu', 'wa', 'we', 'wi', 'wo', 'wu', 'xa', 'xe', 'xi', 'xo', 'xu', 'ya', 'ye', 'yi', 'yo', 'yu', 'za', 'ze', 'zi', 'zo', 'zu']\n"
     ]
    }
   ],
   "source": [
    "vowels = ['a', 'e', 'i', 'o', 'u']\n",
    "alphabet = string.ascii_lowercase\n",
    "\n",
    "consonants = [ch for ch in alphabet if ch not in vowels]\n",
    "\n",
    "syllables = [\n",
    "    [consonant+vowel for vowel in vowels] \n",
    "    for consonant in consonants\n",
    "]\n",
    "\n",
    "flat_syllables = [syllable for sublist in syllables for syllable in sublist]\n",
    "\n",
    "\n",
    "print flat_syllables\n"
   ]
  },
  {
   "cell_type": "code",
   "execution_count": 29,
   "metadata": {
    "collapsed": false
   },
   "outputs": [
    {
     "data": {
      "text/plain": [
       "[['ba', 'be', 'bi', 'bo', 'bu'],\n",
       " ['ca', 'ce', 'ci', 'co', 'cu'],\n",
       " ['da', 'de', 'di', 'do', 'du'],\n",
       " ['fa', 'fe', 'fi', 'fo', 'fu'],\n",
       " ['ga', 'ge', 'gi', 'go', 'gu'],\n",
       " ['ha', 'he', 'hi', 'ho', 'hu'],\n",
       " ['ja', 'je', 'ji', 'jo', 'ju'],\n",
       " ['ka', 'ke', 'ki', 'ko', 'ku'],\n",
       " ['la', 'le', 'li', 'lo', 'lu'],\n",
       " ['ma', 'me', 'mi', 'mo', 'mu'],\n",
       " ['na', 'ne', 'ni', 'no', 'nu'],\n",
       " ['pa', 'pe', 'pi', 'po', 'pu'],\n",
       " ['qa', 'qe', 'qi', 'qo', 'qu'],\n",
       " ['ra', 're', 'ri', 'ro', 'ru'],\n",
       " ['sa', 'se', 'si', 'so', 'su'],\n",
       " ['ta', 'te', 'ti', 'to', 'tu'],\n",
       " ['va', 've', 'vi', 'vo', 'vu'],\n",
       " ['wa', 'we', 'wi', 'wo', 'wu'],\n",
       " ['xa', 'xe', 'xi', 'xo', 'xu'],\n",
       " ['ya', 'ye', 'yi', 'yo', 'yu'],\n",
       " ['za', 'ze', 'zi', 'zo', 'zu']]"
      ]
     },
     "execution_count": 29,
     "metadata": {},
     "output_type": "execute_result"
    }
   ],
   "source": [
    "[[consonant+vowel for vowel in vowels] for consonant in consonants]"
   ]
  },
  {
   "cell_type": "markdown",
   "metadata": {},
   "source": [
    "#### Section 6: Dictionary comprehensions\n",
    "\n",
    "##### 6-A) Make a dictionary where keys are animals and values are lists with the number value of each character in the key\n",
    "\n",
    "Hint: use the **ord()** function to convert characters to numbers."
   ]
  },
  {
   "cell_type": "code",
   "execution_count": 30,
   "metadata": {
    "collapsed": true
   },
   "outputs": [],
   "source": [
    "keys = ['dog', 'cat', 'bird', 'horse']\n"
   ]
  },
  {
   "cell_type": "code",
   "execution_count": 31,
   "metadata": {
    "collapsed": false
   },
   "outputs": [
    {
     "name": "stdout",
     "output_type": "stream",
     "text": [
      "{'bird': [98, 105, 114, 100], 'horse': [104, 111, 114, 115, 101], 'dog': [100, 111, 103], 'cat': [99, 97, 116]}\n"
     ]
    }
   ],
   "source": [
    "d = {k:[ord(x) for x in k]for k in keys}\n",
    "print d"
   ]
  },
  {
   "cell_type": "markdown",
   "metadata": {},
   "source": [
    "##### 6-B) Create a dictionary with these column names and corresponding column values"
   ]
  },
  {
   "cell_type": "code",
   "execution_count": 32,
   "metadata": {
    "collapsed": true
   },
   "outputs": [],
   "source": [
    "column_names = ['height','weight','is_male']\n",
    "values = [[62, 54, 60, 50], [180, 120, 200, 100], [True, False, True, False]]"
   ]
  },
  {
   "cell_type": "code",
   "execution_count": 33,
   "metadata": {
    "collapsed": false
   },
   "outputs": [
    {
     "name": "stdout",
     "output_type": "stream",
     "text": [
      "{'is_male': [True, False, True, False], 'weight': [180, 120, 200, 100], 'height': [62, 54, 60, 50]}\n"
     ]
    }
   ],
   "source": [
    "d = {k:v for k,v in zip(column_names, values)}\n",
    "print d"
   ]
  }
 ],
 "metadata": {
  "kernelspec": {
   "display_name": "Python 2",
   "language": "python",
   "name": "python2"
  },
  "language_info": {
   "codemirror_mode": {
    "name": "ipython",
    "version": 2
   },
   "file_extension": ".py",
   "mimetype": "text/x-python",
   "name": "python",
   "nbconvert_exporter": "python",
   "pygments_lexer": "ipython2",
   "version": "2.7.12"
  }
 },
 "nbformat": 4,
 "nbformat_minor": 0
}
