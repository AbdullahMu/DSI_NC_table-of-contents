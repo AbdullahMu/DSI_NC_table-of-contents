{
 "cells": [
  {
   "cell_type": "markdown",
   "metadata": {},
   "source": [
    "<img src=\"http://imgur.com/1ZcRyrc.png\" style=\"float: left; margin: 15px; height: 80px\">\n",
    "\n",
    "# List and dictionary comprehensions\n",
    "\n",
    "Week 1 | Lesson 3.1\n",
    "\n",
    "---\n",
    "\n",
    "This codealong covers the essentials of performing list and dictionary comprehensions in python.\n",
    "\n",
    "---\n",
    "\n",
    "### Section 1: Basic list comprehensions"
   ]
  },
  {
   "cell_type": "code",
   "execution_count": 3,
   "metadata": {
    "collapsed": true
   },
   "outputs": [],
   "source": [
    "import numpy as np\n",
    "import imp\n",
    "import string"
   ]
  },
  {
   "cell_type": "code",
   "execution_count": 4,
   "metadata": {
    "collapsed": true
   },
   "outputs": [],
   "source": [
    "student_names = ['jim','andrew s.','ty','jyotsna','laura','harrison','spencer','chris',\n",
    "                 'aneel','reem','austin','vinnie','katerina','andrew w.',\n",
    "                 'medhi','amlan','george','luke','davis','wen','rashim','ben']\n",
    "caller = imp.load_source('caller', '/Users/kiefer/github-repos/DSI-SF-4/utils/student_caller/caller.py')\n",
    "caller = caller.StudentCaller(names=student_names, ask_questions=False)"
   ]
  },
  {
   "cell_type": "code",
   "execution_count": 14,
   "metadata": {
    "collapsed": false
   },
   "outputs": [
    {
     "name": "stdout",
     "output_type": "stream",
     "text": [
      "[1, 4, 7]\n"
     ]
    }
   ],
   "source": [
    "## REVIEW:\n",
    "# list slicing\n",
    "a = [1,2,3,4,5,6,7,8,9]\n",
    "print a[::3]"
   ]
  },
  {
   "cell_type": "code",
   "execution_count": 25,
   "metadata": {
    "collapsed": false
   },
   "outputs": [
    {
     "name": "stdout",
     "output_type": "stream",
     "text": [
      "(1, 2, 3) (1, 2, 3, 1, 2)\n"
     ]
    }
   ],
   "source": [
    "tup = (1,2,3)\n",
    "tup2 = tup + (1,2)\n",
    "print tup, tup2\n",
    "tup."
   ]
  },
  {
   "cell_type": "code",
   "execution_count": 26,
   "metadata": {
    "collapsed": true
   },
   "outputs": [],
   "source": [
    "l = [1,2,3]\n",
    "l."
   ]
  },
  {
   "cell_type": "code",
   "execution_count": 35,
   "metadata": {
    "collapsed": false
   },
   "outputs": [
    {
     "name": "stdout",
     "output_type": "stream",
     "text": [
      "{'a': [1, 2, 3], 'c': [5, 6], 'b': [1, 4, 7], 'X': 4}\n"
     ]
    }
   ],
   "source": [
    "d = {'a':[1,2,3], 'b':[1,4,7], 3:['a','b'], 'c':[5,6], 'X':4}\n",
    "\n",
    "dlist = d.items()\n",
    "#print dlist\n",
    "\n",
    "# for item in d.items():\n",
    "#     print item\n",
    "\n",
    "# for (k, v) in d.items():\n",
    "#     print k, v, type(k), type(v)\n",
    "\n",
    "for k in d.keys():\n",
    "    if isinstance(k, int):\n",
    "        del d[k]\n",
    "    \n",
    "print d\n",
    "\n",
    "    # eqivalent to:\n",
    "#for k in d.keys():"
   ]
  },
  {
   "cell_type": "markdown",
   "metadata": {},
   "source": [
    "##### 1-A) Add 1 to every element in the list"
   ]
  },
  {
   "cell_type": "code",
   "execution_count": 36,
   "metadata": {
    "collapsed": false
   },
   "outputs": [
    {
     "name": "stdout",
     "output_type": "stream",
     "text": [
      "[1, 2, 3, 4, 5, 6, 7, 8, 9, 10]\n"
     ]
    }
   ],
   "source": [
    "numbers = [0,1,2,3,4,5,6,7,8,9]\n",
    "\n",
    "# for-loop version:\n",
    "new_numbers = []\n",
    "for num in numbers:\n",
    "    new_numbers.append(function2(num))\n",
    "print new_numbers"
   ]
  },
  {
   "cell_type": "code",
   "execution_count": 37,
   "metadata": {
    "collapsed": false
   },
   "outputs": [
    {
     "name": "stdout",
     "output_type": "stream",
     "text": [
      "[1, 2, 3, 4, 5, 6, 7, 8, 9, 10]\n"
     ]
    }
   ],
   "source": [
    "# list comprehension version\n",
    "new_numbers = [num + 1 for num in numbers]\n",
    "print new_numbers"
   ]
  },
  {
   "cell_type": "markdown",
   "metadata": {},
   "source": [
    "#### Section 2: List comprehension conditional logic\n",
    "\n",
    "##### 2-A) \"Binarize\" n so that any value greater than or equal to the mean of n is 1, otherwise 0"
   ]
  },
  {
   "cell_type": "code",
   "execution_count": 41,
   "metadata": {
    "collapsed": true
   },
   "outputs": [],
   "source": [
    "n = [1, 2, 7, 21, 3, 1, 62, 3, 34, 12, 73, 44, 12, 11, 9]"
   ]
  },
  {
   "cell_type": "code",
   "execution_count": 40,
   "metadata": {
    "collapsed": false
   },
   "outputs": [
    {
     "name": "stdout",
     "output_type": "stream",
     "text": [
      "[0, 0, 0, 1, 0, 0, 1, 0, 1, 0, 1, 1, 0, 0, 0]\n"
     ]
    }
   ],
   "source": [
    "# for loop\n",
    "n = [1, 2, 7, 21, 3, 1, 62, 3, 34, 12, 73, 44, 12, 11, 9]\n",
    "mean_n = float(sum(n))/len(n)\n",
    "new_n=[]\n",
    "for i in range(len(n)):\n",
    "    if n[i] >= mean_n:\n",
    "        n[i] = 1\n",
    "    else:\n",
    "        n[i] = 0\n",
    "    new_n.append(n[i])\n",
    "    \n",
    "print new_n\n"
   ]
  },
  {
   "cell_type": "code",
   "execution_count": null,
   "metadata": {
    "collapsed": true
   },
   "outputs": [],
   "source": []
  },
  {
   "cell_type": "code",
   "execution_count": 44,
   "metadata": {
    "collapsed": false
   },
   "outputs": [
    {
     "name": "stdout",
     "output_type": "stream",
     "text": [
      "0 1\n",
      "1 2\n",
      "2 7\n",
      "3 21\n",
      "4 3\n",
      "5 1\n",
      "6 62\n",
      "7 3\n",
      "8 34\n",
      "9 12\n",
      "10 73\n",
      "11 44\n",
      "12 12\n",
      "13 11\n",
      "14 9\n",
      "[0, 0, 0, 1, 0, 0, 1, 0, 1, 0, 1, 1, 0, 0, 0]\n"
     ]
    }
   ],
   "source": [
    "n = [1, 2, 7, 21, 3, 1, 62, 3, 34, 12, 73, 44, 12, 11, 9]\n",
    "new_n = []\n",
    "for i, item in enumerate(n):\n",
    "    print i, item\n",
    "    if item >= mean_n:\n",
    "        new_n.append(1)\n",
    "    else:\n",
    "        new_n.append(0)\n",
    "print new_n"
   ]
  },
  {
   "cell_type": "code",
   "execution_count": 48,
   "metadata": {
    "collapsed": false
   },
   "outputs": [
    {
     "name": "stdout",
     "output_type": "stream",
     "text": [
      "[0, 1, 1, 0, 1, 0]\n"
     ]
    }
   ],
   "source": [
    "# list comprehension\n",
    "new_n = [\n",
    "    1 if num >= mean_n\n",
    "    else 0\n",
    "    for num in n\n",
    "    if num % 2 == 0\n",
    "]\n",
    "print new_n\n",
    "\n",
    "# equivalent to:\n",
    "new_n = []\n",
    "for num in n:\n",
    "    if num % 2 == 0:\n",
    "        if num >= mean_n:\n",
    "            new_n.append(1)\n",
    "        else:\n",
    "            new_n.append(0)"
   ]
  },
  {
   "cell_type": "code",
   "execution_count": 50,
   "metadata": {
    "collapsed": false
   },
   "outputs": [
    {
     "data": {
      "text/plain": [
       "True"
      ]
     },
     "execution_count": 50,
     "metadata": {},
     "output_type": "execute_result"
    }
   ],
   "source": []
  },
  {
   "cell_type": "markdown",
   "metadata": {},
   "source": [
    "##### 2-B) Swap 1s to 0s and 0s to 1s. If the element is neither a 0 nor 1, make it None"
   ]
  },
  {
   "cell_type": "code",
   "execution_count": 52,
   "metadata": {
    "collapsed": true
   },
   "outputs": [],
   "source": [
    "n = [0, 1, 0, 1, 2, 3, 5, 2, 1, 0]"
   ]
  },
  {
   "cell_type": "code",
   "execution_count": 53,
   "metadata": {
    "collapsed": false
   },
   "outputs": [
    {
     "name": "stdout",
     "output_type": "stream",
     "text": [
      "[1, 0, 1, 0, None, None, None, None, 0, 1]\n"
     ]
    }
   ],
   "source": [
    "# for loop\n",
    "n2 = []\n",
    "for num in n:\n",
    "    if num == 0:\n",
    "        n2.append(1)\n",
    "    elif num == 1:\n",
    "        n2.append(0)\n",
    "    else:\n",
    "        n2.append(None)\n",
    "print n2\n"
   ]
  },
  {
   "cell_type": "code",
   "execution_count": 54,
   "metadata": {
    "collapsed": false
   },
   "outputs": [
    {
     "name": "stdout",
     "output_type": "stream",
     "text": [
      "[1, 0, 1, 0, None, None, None, None, 0, 1]\n"
     ]
    }
   ],
   "source": [
    "# list comprehension\n",
    "n3 = [1 if num == 0 \n",
    "      else 0 if num == 1 \n",
    "      else None \n",
    "      for num in n]\n",
    "print n3"
   ]
  },
  {
   "cell_type": "code",
   "execution_count": null,
   "metadata": {
    "collapsed": true
   },
   "outputs": [],
   "source": []
  },
  {
   "cell_type": "code",
   "execution_count": null,
   "metadata": {
    "collapsed": false
   },
   "outputs": [],
   "source": []
  },
  {
   "cell_type": "markdown",
   "metadata": {},
   "source": [
    "#### Section 3: Nested list comprehensions\n",
    "\n",
    "##### 3-A) Get the square and square root of all non-negative numbers in the list"
   ]
  },
  {
   "cell_type": "code",
   "execution_count": 62,
   "metadata": {
    "collapsed": true
   },
   "outputs": [],
   "source": [
    "n = [0, 1, 50, -23, -1, 75, -3]"
   ]
  },
  {
   "cell_type": "code",
   "execution_count": 63,
   "metadata": {
    "collapsed": false
   },
   "outputs": [
    {
     "name": "stdout",
     "output_type": "stream",
     "text": [
      "[[0.0, 0.0], [1.0, 1.0], [2500.0, 7.0710678118654755], [5625.0, 8.660254037844387]]\n"
     ]
    }
   ],
   "source": [
    "# for loop\n",
    "new_nums = []\n",
    "for num in n:\n",
    "    if num >= 0:\n",
    "        new_nums.append([float(num)**2, float(num)**0.5])\n",
    "print new_nums"
   ]
  },
  {
   "cell_type": "code",
   "execution_count": 68,
   "metadata": {
    "collapsed": false
   },
   "outputs": [
    {
     "name": "stdout",
     "output_type": "stream",
     "text": [
      "[[0.0, 0.0], [1.0, 1.0], [2500.0, 7.0710678118654755], [5625.0, 8.660254037844387]]\n"
     ]
    }
   ],
   "source": [
    "# list comprehension\n",
    "new_nums = [[float(z)**2, float(z)**0.5] for z in n if z >= 0]\n",
    "print new_nums"
   ]
  },
  {
   "cell_type": "code",
   "execution_count": 74,
   "metadata": {
    "collapsed": false
   },
   "outputs": [
    {
     "data": {
      "text/plain": [
       "[['even'],\n",
       " ['even', 'odd'],\n",
       " ['even', 'odd', 'even'],\n",
       " ['even', 'odd', 'even', 'odd'],\n",
       " ['even', 'odd', 'even', 'odd', 'even'],\n",
       " ['even', 'odd', 'even', 'odd', 'even', 'odd'],\n",
       " ['even', 'odd', 'even', 'odd', 'even', 'odd', 'even'],\n",
       " ['even', 'odd', 'even', 'odd', 'even', 'odd', 'even', 'odd'],\n",
       " ['even', 'odd', 'even', 'odd', 'even', 'odd', 'even', 'odd', 'even']]"
      ]
     },
     "execution_count": 74,
     "metadata": {},
     "output_type": "execute_result"
    }
   ],
   "source": [
    "nested = []\n",
    "for y in range(1,10):\n",
    "    sublist = []\n",
    "    for x in range(y):\n",
    "        if x % 2 == 0:\n",
    "            sublist.append('even')\n",
    "        else:\n",
    "            sublist.append('odd')\n",
    "    nested.append(sublist)\n",
    "nested\n",
    "            "
   ]
  },
  {
   "cell_type": "code",
   "execution_count": 70,
   "metadata": {
    "collapsed": false
   },
   "outputs": [
    {
     "data": {
      "text/plain": [
       "[['even'],\n",
       " ['even', 'odd'],\n",
       " ['even', 'odd', 'even'],\n",
       " ['even', 'odd', 'even', 'odd'],\n",
       " ['even', 'odd', 'even', 'odd', 'even'],\n",
       " ['even', 'odd', 'even', 'odd', 'even', 'odd'],\n",
       " ['even', 'odd', 'even', 'odd', 'even', 'odd', 'even'],\n",
       " ['even', 'odd', 'even', 'odd', 'even', 'odd', 'even', 'odd'],\n",
       " ['even', 'odd', 'even', 'odd', 'even', 'odd', 'even', 'odd', 'even']]"
      ]
     },
     "execution_count": 70,
     "metadata": {},
     "output_type": "execute_result"
    }
   ],
   "source": [
    "nested = [\n",
    "    ['even' if x % 2 == 0 else 'odd' for x in range(y)]\n",
    "    for y in range(1,10)\n",
    "]\n",
    "nested"
   ]
  },
  {
   "cell_type": "markdown",
   "metadata": {},
   "source": [
    "#### Section 4: Functions in list comprehensions\n",
    "\n",
    "##### 4-A) Combine elements of these two lists item by item into list pairs"
   ]
  },
  {
   "cell_type": "code",
   "execution_count": 76,
   "metadata": {
    "collapsed": true
   },
   "outputs": [],
   "source": [
    "a = ['a','b','c','d']\n",
    "z = ['z','y','x','w']"
   ]
  },
  {
   "cell_type": "code",
   "execution_count": 79,
   "metadata": {
    "collapsed": false
   },
   "outputs": [
    {
     "name": "stdout",
     "output_type": "stream",
     "text": [
      "[('a', 'z'), ('b', 'y'), ('c', 'x'), ('d', 'w')]\n"
     ]
    }
   ],
   "source": [
    "answer = zip(a,z)\n",
    "print answer"
   ]
  },
  {
   "cell_type": "code",
   "execution_count": 80,
   "metadata": {
    "collapsed": false
   },
   "outputs": [
    {
     "name": "stdout",
     "output_type": "stream",
     "text": [
      "[['a', 'z'], ['b', 'y'], ['c', 'x'], ['d', 'w']]\n"
     ]
    }
   ],
   "source": [
    "# for loop\n",
    "answer = []\n",
    "for a_item, z_item in zip(a, z):\n",
    "    answer.append([a_item, z_item])\n",
    "print answer"
   ]
  },
  {
   "cell_type": "code",
   "execution_count": 81,
   "metadata": {
    "collapsed": false
   },
   "outputs": [
    {
     "data": {
      "text/plain": [
       "[['z', 'a'], ['y', 'b'], ['x', 'c'], ['w', 'd']]"
      ]
     },
     "execution_count": 81,
     "metadata": {},
     "output_type": "execute_result"
    }
   ],
   "source": [
    "def reverse_order_items(item1, item2):\n",
    "    return [item2, item1]\n",
    "\n",
    "[reverse_order_items(a_item, z_item) for a_item, z_item in zip(a,z)]"
   ]
  },
  {
   "cell_type": "code",
   "execution_count": null,
   "metadata": {
    "collapsed": true
   },
   "outputs": [],
   "source": []
  },
  {
   "cell_type": "markdown",
   "metadata": {},
   "source": [
    "##### 4-B) Pair each index and element of this list into list pairs"
   ]
  },
  {
   "cell_type": "code",
   "execution_count": 85,
   "metadata": {
    "collapsed": false
   },
   "outputs": [
    {
     "data": {
      "text/plain": [
       "[(0, 'a'), (1, 'b'), (2, 'c'), (3, 'd')]"
      ]
     },
     "execution_count": 85,
     "metadata": {},
     "output_type": "execute_result"
    }
   ],
   "source": [
    "a = ['a','b','c','d']\n",
    "[x for x in enumerate(a)]"
   ]
  },
  {
   "cell_type": "code",
   "execution_count": 82,
   "metadata": {
    "collapsed": false
   },
   "outputs": [
    {
     "data": {
      "text/plain": [
       "[['a', 0], ['b', 1], ['c', 2], ['d', 3]]"
      ]
     },
     "execution_count": 82,
     "metadata": {},
     "output_type": "execute_result"
    }
   ],
   "source": [
    "[[item, a.index(item)] for item in a]\n"
   ]
  },
  {
   "cell_type": "markdown",
   "metadata": {},
   "source": [
    "##### 4-C) For each element of each list, calculate the first list element times the index divided by the element of the second list"
   ]
  },
  {
   "cell_type": "code",
   "execution_count": 17,
   "metadata": {
    "collapsed": true
   },
   "outputs": [],
   "source": [
    "list_one = [10, 15, 20, 25, 40]\n",
    "list_two = [1, 2, 3, 4, 5]"
   ]
  },
  {
   "cell_type": "markdown",
   "metadata": {},
   "source": [
    "#### Section 5: Nested list comprehensions\n",
    "\n",
    "##### 5-A) Create all the alphabet \"syllables\" defined as consonant-vowel pairs in a flattened list [USING FOR LOOP ITERATION]"
   ]
  },
  {
   "cell_type": "code",
   "execution_count": 87,
   "metadata": {
    "collapsed": false
   },
   "outputs": [
    {
     "name": "stdout",
     "output_type": "stream",
     "text": [
      "abcdefghijklmnopqrstuvwxyz\n",
      "['ba', 'be', 'bi', 'bo', 'bu', 'ca', 'ce', 'ci', 'co', 'cu', 'da', 'de', 'di', 'do', 'du', 'fa', 'fe', 'fi', 'fo', 'fu', 'ga', 'ge', 'gi', 'go', 'gu', 'ha', 'he', 'hi', 'ho', 'hu', 'ja', 'je', 'ji', 'jo', 'ju', 'ka', 'ke', 'ki', 'ko', 'ku', 'la', 'le', 'li', 'lo', 'lu', 'ma', 'me', 'mi', 'mo', 'mu', 'na', 'ne', 'ni', 'no', 'nu', 'pa', 'pe', 'pi', 'po', 'pu', 'qa', 'qe', 'qi', 'qo', 'qu', 'ra', 're', 'ri', 'ro', 'ru', 'sa', 'se', 'si', 'so', 'su', 'ta', 'te', 'ti', 'to', 'tu', 'va', 've', 'vi', 'vo', 'vu', 'wa', 'we', 'wi', 'wo', 'wu', 'xa', 'xe', 'xi', 'xo', 'xu', 'ya', 'ye', 'yi', 'yo', 'yu', 'za', 'ze', 'zi', 'zo', 'zu']\n",
      "105\n"
     ]
    }
   ],
   "source": [
    "import string\n",
    "vowels = ['a', 'e', 'i', 'o', 'u']\n",
    "alphabet = string.ascii_lowercase\n",
    "print alphabet\n",
    "\n",
    "# for example:\n",
    "# ['ba','be','bi','bo','bu','ca','ce','ci', ...etc]\n",
    "\n",
    "finished_list = []\n",
    "for char in alphabet:\n",
    "    if char not in vowels:\n",
    "        for vow in vowels:\n",
    "            finished_list.append(char + vow)\n",
    "            \n",
    "print(finished_list)\n",
    "print(len(finished_list))"
   ]
  },
  {
   "cell_type": "markdown",
   "metadata": {},
   "source": [
    "##### 5-B) Create all the alphabet \"syllables\" defined as consonant-vowel pairs in a flattened list [USING A LIST COMPREHENSION]"
   ]
  },
  {
   "cell_type": "code",
   "execution_count": 90,
   "metadata": {
    "collapsed": false
   },
   "outputs": [
    {
     "data": {
      "text/plain": [
       "['ba',\n",
       " 'be',\n",
       " 'bi',\n",
       " 'bo',\n",
       " 'bu',\n",
       " 'ca',\n",
       " 'ce',\n",
       " 'ci',\n",
       " 'co',\n",
       " 'cu',\n",
       " 'da',\n",
       " 'de',\n",
       " 'di',\n",
       " 'do',\n",
       " 'du',\n",
       " 'fa',\n",
       " 'fe',\n",
       " 'fi',\n",
       " 'fo',\n",
       " 'fu',\n",
       " 'ga',\n",
       " 'ge',\n",
       " 'gi',\n",
       " 'go',\n",
       " 'gu',\n",
       " 'ha',\n",
       " 'he',\n",
       " 'hi',\n",
       " 'ho',\n",
       " 'hu',\n",
       " 'ja',\n",
       " 'je',\n",
       " 'ji',\n",
       " 'jo',\n",
       " 'ju',\n",
       " 'ka',\n",
       " 'ke',\n",
       " 'ki',\n",
       " 'ko',\n",
       " 'ku',\n",
       " 'la',\n",
       " 'le',\n",
       " 'li',\n",
       " 'lo',\n",
       " 'lu',\n",
       " 'ma',\n",
       " 'me',\n",
       " 'mi',\n",
       " 'mo',\n",
       " 'mu',\n",
       " 'na',\n",
       " 'ne',\n",
       " 'ni',\n",
       " 'no',\n",
       " 'nu',\n",
       " 'pa',\n",
       " 'pe',\n",
       " 'pi',\n",
       " 'po',\n",
       " 'pu',\n",
       " 'qa',\n",
       " 'qe',\n",
       " 'qi',\n",
       " 'qo',\n",
       " 'qu',\n",
       " 'ra',\n",
       " 're',\n",
       " 'ri',\n",
       " 'ro',\n",
       " 'ru',\n",
       " 'sa',\n",
       " 'se',\n",
       " 'si',\n",
       " 'so',\n",
       " 'su',\n",
       " 'ta',\n",
       " 'te',\n",
       " 'ti',\n",
       " 'to',\n",
       " 'tu',\n",
       " 'va',\n",
       " 've',\n",
       " 'vi',\n",
       " 'vo',\n",
       " 'vu',\n",
       " 'wa',\n",
       " 'we',\n",
       " 'wi',\n",
       " 'wo',\n",
       " 'wu',\n",
       " 'xa',\n",
       " 'xe',\n",
       " 'xi',\n",
       " 'xo',\n",
       " 'xu',\n",
       " 'ya',\n",
       " 'ye',\n",
       " 'yi',\n",
       " 'yo',\n",
       " 'yu',\n",
       " 'za',\n",
       " 'ze',\n",
       " 'zi',\n",
       " 'zo',\n",
       " 'zu']"
      ]
     },
     "execution_count": 90,
     "metadata": {},
     "output_type": "execute_result"
    }
   ],
   "source": [
    "finished = [\n",
    "    char+v \n",
    "    for char in [ch for ch in alphabet if not ch in vowels]\n",
    "    for v in vowels\n",
    "    if char not in vowels\n",
    "]\n"
   ]
  },
  {
   "cell_type": "markdown",
   "metadata": {},
   "source": [
    "#### Section 6: Dictionary comprehensions\n",
    "\n",
    "##### 6-A) Make a dictionary where keys are animals and values are lists with the number value of each character in the key\n",
    "\n",
    "Hint: use the **ord()** function to convert characters to numbers."
   ]
  },
  {
   "cell_type": "code",
   "execution_count": 19,
   "metadata": {
    "collapsed": true
   },
   "outputs": [],
   "source": [
    "keys = ['dog', 'cat', 'bird', 'horse']"
   ]
  },
  {
   "cell_type": "markdown",
   "metadata": {},
   "source": [
    "##### 6-B) Create a dictionary with these column names and corresponding column values"
   ]
  },
  {
   "cell_type": "code",
   "execution_count": 20,
   "metadata": {
    "collapsed": true
   },
   "outputs": [],
   "source": [
    "column_names = ['height','weight','is_male']\n",
    "values = [[62, 54, 60, 50], [180, 120, 200, 100], [True, False, True, False]]"
   ]
  },
  {
   "cell_type": "code",
   "execution_count": 91,
   "metadata": {
    "collapsed": false
   },
   "outputs": [
    {
     "data": {
      "text/plain": [
       "{'a': 1,\n",
       " 'b': 2,\n",
       " 'c': 3,\n",
       " 'd': 4,\n",
       " 'e': 5,\n",
       " 'f': 6,\n",
       " 'g': 7,\n",
       " 'h': 8,\n",
       " 'i': 9,\n",
       " 'j': 10,\n",
       " 'k': 11,\n",
       " 'l': 12,\n",
       " 'm': 13,\n",
       " 'n': 14,\n",
       " 'o': 15,\n",
       " 'p': 16,\n",
       " 'q': 17,\n",
       " 'r': 18,\n",
       " 's': 19,\n",
       " 't': 20,\n",
       " 'u': 21,\n",
       " 'v': 22,\n",
       " 'w': 23,\n",
       " 'x': 24,\n",
       " 'y': 25,\n",
       " 'z': 26}"
      ]
     },
     "execution_count": 91,
     "metadata": {},
     "output_type": "execute_result"
    }
   ],
   "source": [
    "{letter:i+1 for i, letter in enumerate(alphabet)}\n",
    "\n",
    "output = {}\n",
    "for i, letter in enumerate(alphabet):\n",
    "    output[letter] = i+1"
   ]
  },
  {
   "cell_type": "code",
   "execution_count": null,
   "metadata": {
    "collapsed": true
   },
   "outputs": [],
   "source": []
  }
 ],
 "metadata": {
  "kernelspec": {
   "display_name": "Python 2",
   "language": "python",
   "name": "python2"
  },
  "language_info": {
   "codemirror_mode": {
    "name": "ipython",
    "version": 2
   },
   "file_extension": ".py",
   "mimetype": "text/x-python",
   "name": "python",
   "nbconvert_exporter": "python",
   "pygments_lexer": "ipython2",
   "version": "2.7.12"
  }
 },
 "nbformat": 4,
 "nbformat_minor": 0
}
