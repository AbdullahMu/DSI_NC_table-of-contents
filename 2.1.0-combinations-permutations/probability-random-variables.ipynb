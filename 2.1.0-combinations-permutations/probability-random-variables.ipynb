{
 "cells": [
  {
   "cell_type": "markdown",
   "metadata": {
    "slideshow": {
     "slide_type": "slide"
    }
   },
   "source": [
    "<img src=\"https://ga-dash.s3.amazonaws.com/production/assets/logo-9f88ae6c9c3871690e33280fcf557f33.png\" style=\"float: left; margin: 15px;\">\n",
    "\n",
    "## Introduction to basic probability\n",
    "\n",
    "Week 1 | Lesson 4.3\n",
    "\n",
    "---\n",
    "\n",
    "_Credit to Paul Martin. Adapted by Kiefer Katovich._\n",
    "\n",
    "\n",
    "### Probability Concepts\n",
    "\n",
    "- [Probability Axioms](#probability_axioms)\n",
    "- [Counting Principle](#counting_principal)\n",
    "- [Permutations](#permutation)\n",
    "- [Combinations](#combination)\n",
    "- [Distinguishable and Indistinguishable](#distinguishable_indistinguishable)\n"
   ]
  },
  {
   "cell_type": "markdown",
   "metadata": {
    "slideshow": {
     "slide_type": "slide"
    }
   },
   "source": [
    "<a id='probability_axioms'></a>\n",
    "\n",
    "### Probability Axioms\n",
    "\n",
    "---\n",
    "\n",
    "**First Axiom**\n",
    "\n",
    "Probabilities are non-negative, real numbers. The lowest probability possible is zero, and probability cannot be infinite.\n",
    "\n",
    "**Second Axiom**\n",
    "\n",
    "The probability of the sample space $S$ of events is one:\n",
    "\n",
    "### $$ P(S) = 1 $$\n",
    "\n",
    "**Third Axiom**\n",
    "\n",
    "The probability of two _mutually exclusive_ events, here denoted $E_1$ and $E_2$, is equal to the sum of their individual probabilities:\n",
    "\n",
    "### $$ P(E_1 \\cup E_2) = P(E_1) + P(E_2) $$\n",
    "\n",
    "This is also known as additivity.\n"
   ]
  },
  {
   "cell_type": "markdown",
   "metadata": {
    "hide_input": false,
    "slideshow": {
     "slide_type": "slide"
    }
   },
   "source": [
    "<a id='counting_principle'></a>\n",
    "\n",
    "### Counting Principle\n",
    "\n",
    "---\n",
    "\n",
    "Counting, combinations, and permutations are essential to understanding probability. The counting principal says that:\n",
    "\n",
    "If $A$ can occur in $n$ ways \n",
    "\n",
    "and $B$ can occur in $m$ ways\n",
    "\n",
    "then $A$ and $B$ can occur in $n * m$ ways.\n"
   ]
  },
  {
   "cell_type": "markdown",
   "metadata": {
    "slideshow": {
     "slide_type": "fragment"
    }
   },
   "source": [
    "**Q: If you have two groups of students, 10 freshman and 11 sophmores, how many teams of 2 can be formed with one member from each class?**"
   ]
  },
  {
   "cell_type": "markdown",
   "metadata": {
    "slideshow": {
     "slide_type": "slide"
    }
   },
   "source": [
    "<a id='permutation'></a>\n",
    "\n",
    "### Permutations\n",
    "\n",
    "---\n",
    "\n",
    "A permutation is an arragement of objects where the order is important, or in other words, a permutation is the number of arrangements that are possible.\n",
    "\n",
    "With a set of items of size $n$ and arrangements of length $k$, the permutations are calculated as\n",
    "\n",
    "### $$ \\text{permutations}(n, k) = n * (n - 1) * (n - 2) \\; ... \\; (n - k + 1)$$\n",
    "\n",
    "which is 0 when $k > n$"
   ]
  },
  {
   "cell_type": "markdown",
   "metadata": {
    "slideshow": {
     "slide_type": "fragment"
    }
   },
   "source": [
    "**Q: There are 5 qualified candidates to fill 3 positions.  How many ways can the roles be filled assuming 1 person per position?**"
   ]
  },
  {
   "cell_type": "markdown",
   "metadata": {
    "slideshow": {
     "slide_type": "slide"
    }
   },
   "source": [
    "### The factorial function\n",
    "\n",
    "---\n",
    "\n",
    "The factorial function is defined as \n",
    "\n",
    "### $$ n! = n * (n-1) * (n-2) \\; ... \\; (n-1) $$\n",
    "\n",
    "and is an important part of permutations. When $n = k$, permutations of $n$ in $k$ arrangements is equivalent to $n!$\n",
    "\n",
    "The permutation function can be rewritten using factorials:\n",
    "\n",
    "### $$  \\text{permutations}(n, k) = \\frac{n!}{(n-k)!} $$"
   ]
  },
  {
   "cell_type": "markdown",
   "metadata": {
    "slideshow": {
     "slide_type": "fragment"
    }
   },
   "source": [
    "**Q: If there are 9 players on a baseball team, how many possibilities are there for the first 3 players in the batting lineup?**"
   ]
  },
  {
   "cell_type": "markdown",
   "metadata": {
    "slideshow": {
     "slide_type": "slide"
    }
   },
   "source": [
    "### Practice: code the factorial function\n",
    "\n",
    "As a challenge, try coding a function that will compute the factorial of a number."
   ]
  },
  {
   "cell_type": "markdown",
   "metadata": {
    "slideshow": {
     "slide_type": "slide"
    }
   },
   "source": [
    "<a id='combination'></a>\n",
    "\n",
    "### Combinations\n",
    "\n",
    "---\n",
    "\n",
    "Like permutations, combinations are arrangements of objects, but in the case of combinations the order of the objects does not matter.\n",
    "\n",
    "With a set of items of size $n$ and arrangements of length $k$, the combinations are calculated as\n",
    "\n",
    "### $$ \\text{combinations}(n, k) = \\frac{ \\text{permutations}(n,k) }{ \\text{permutations}(k, k) } = \\frac{n!}{(n-k)!k!}$$\n",
    "\n",
    "An intuitive way to think about this is that we take the number of permutations, then we divide by the number of possible orderings we could have in the available slots $k$."
   ]
  },
  {
   "cell_type": "markdown",
   "metadata": {
    "slideshow": {
     "slide_type": "fragment"
    }
   },
   "source": [
    "**Q: How many possible 5 card hands are there with a deck of 52 cards?**"
   ]
  },
  {
   "cell_type": "markdown",
   "metadata": {
    "slideshow": {
     "slide_type": "slide"
    }
   },
   "source": [
    "### Some practice problems\n",
    "\n",
    "A restaurant has 22 employees, including:\n",
    "\n",
    "- 6 chefs\n",
    "- 5 waiters\n",
    "- 7 busboys \n",
    "\n",
    "The owner has requested a few things from you the manager:\n",
    "\n",
    "1. A private party is coming on Tuesday and wants to know how many teams of 1 chef and 2 waiters can be formed?\n",
    "2. Each busboy works just one day of the week. He wants to know how many different versions of the weekly busboy assignments there can be. \n",
    "3. He wants his favorite waiter to serve him and his wife for their anniversary on Sunday, along with 2 other waiters.  How many teams of 3 waiters can serve him?"
   ]
  },
  {
   "cell_type": "markdown",
   "metadata": {
    "slideshow": {
     "slide_type": "slide"
    }
   },
   "source": [
    "**Q: What is the probability that you are dealt 2 cards and they turn out to both be aces from a 52-card deck?**"
   ]
  },
  {
   "cell_type": "markdown",
   "metadata": {
    "slideshow": {
     "slide_type": "slide"
    }
   },
   "source": [
    "**Q: What is the probability of getting 2 queens and 3 kings in a 5-card hand?**"
   ]
  },
  {
   "cell_type": "markdown",
   "metadata": {
    "slideshow": {
     "slide_type": "slide"
    }
   },
   "source": [
    "**Q: For 10 coin-flips, print out the probability of getting 0 heads through 10 heads.**\n",
    "\n",
    "Also print out the sum of the probabilities."
   ]
  },
  {
   "cell_type": "markdown",
   "metadata": {
    "slideshow": {
     "slide_type": "slide"
    }
   },
   "source": [
    "<a id='distinguishable_indistinguishable'></a>\n",
    "\n",
    "### Distinguishable vs. Indistinguishable _(\"balls and urns\")_\n",
    "\n",
    "---\n",
    "\n",
    "Toy, textbook probability problems are famous form using \"balls\" and \"urns\" in their examples, where some number of balls must be placed in some number of urns. \n",
    "\n",
    "If the balls or urns are **distinguishable,** it means that there is a characteristic that distinguishes the items from each other, such as a marking. Similarly, if they are **indistinguishable** then there is no way to tell them apart. \n",
    "\n",
    "Depending on whether the balls and urns are distinguishable or indistinguishable, there are different numbers of distinct arrangements."
   ]
  },
  {
   "cell_type": "markdown",
   "metadata": {
    "slideshow": {
     "slide_type": "slide"
    }
   },
   "source": [
    "#### Distinguishable urns and distinguishable balls\n",
    "\n",
    "---\n",
    "\n",
    "In this scenario, our urns are labeled and the balls are labeled. Distinct arrangements are affected by the labeling. For example:\n",
    "\n",
    "1. It matters whether urn A has 1 ball vs. urn B has 1 ball (distinguishable urns).\n",
    "2. It matters whether ball X was placed in urn A vs. ball Y was placed in urn A (distinguishable balls).\n",
    "\n",
    "Since we have an option of 3 urns for each ball, we can calculate the arrangements with:\n",
    "\n",
    "`(3 urns) * (3 urns) == (3 urns)**(2 balls) == 9`\n"
   ]
  },
  {
   "cell_type": "markdown",
   "metadata": {
    "slideshow": {
     "slide_type": "slide"
    }
   },
   "source": [
    "#### Distinguishable urns and indistinguishable balls\n",
    "\n",
    "---\n",
    "\n",
    "Now our 3 urns are still labeled, but the balls are indistinguishable – there is no way to tell them apart in arrangements. We can only tell arrangements apart by how many balls are in each labeled urn.\n",
    "\n",
    "Imagine our balls are represented by the character `o`. We also have \"separator\" character `|` that divides the balls between urns. So if all balls were in the first urn it would look like this:\n",
    "\n",
    "    'oo||'\n",
    "    \n",
    "Or one ball in the first and one in the second:\n",
    "    \n",
    "    'o|o|'\n",
    "    \n",
    "Or one in the first and one in the third:\n",
    "\n",
    "    'o||o'\n",
    "    \n",
    "To find all the distinct arrangements of the 2 indistinguishable balls among the 3 distinguishable urns, we need to find all the combinations of the separators in the string, or `comb(4, 2)`.\n",
    "\n",
    "The general formula for the arrangements of $n$ indistinguishable items among $k$ distinguishable places is:\n",
    "\n",
    "### $$ \\text{combinations}(n+k-1, k-1)$$\n"
   ]
  },
  {
   "cell_type": "markdown",
   "metadata": {
    "slideshow": {
     "slide_type": "slide"
    }
   },
   "source": [
    "**Q: Suppose you have a game where you can toss a ball and it will land in one of 5 buckets.**\n",
    "\n",
    "**You toss 2 balls and they each land in a bucket. If the balls are indistinguishable from each other, how many different outcomes (distributions of balls in buckets) are there?**\n"
   ]
  },
  {
   "cell_type": "markdown",
   "metadata": {
    "slideshow": {
     "slide_type": "slide"
    }
   },
   "source": [
    "**Q: How many solutions are there to the formula:**\n",
    "\n",
    "$X_1 + X_2 + X_3 + X_4 = 15$\n",
    "\n",
    "Where the order of numbers matters?"
   ]
  },
  {
   "cell_type": "markdown",
   "metadata": {
    "slideshow": {
     "slide_type": "slide"
    }
   },
   "source": [
    "#### Indistinguishable urns and distinguishable balls\n",
    "\n",
    "#### Indistinguishable urns and indistinguishable balls\n",
    "\n",
    "---\n",
    "\n",
    "I'm not going to cover the two remaining and more scenarios in class, but here are a few resources that cover them (and even further conditions). The solutions to these two conditions are significantly more involved.\n",
    "\n",
    "http://www.careerbless.com/aptitude/qa/permutations_combinations_imp7.php#p2\n",
    "\n",
    "http://www.elcamino.edu/faculty/gfry/210/DistributeBallsBoxes.pdf\n",
    "\n",
    "https://en.wikipedia.org/wiki/Stirling_numbers_of_the_second_kind\n",
    "\n",
    "https://brilliant.org/wiki/distinct-objects-into-identical-bins/\n"
   ]
  }
 ],
 "metadata": {
  "celltoolbar": "Slideshow",
  "kernelspec": {
   "display_name": "Python 2",
   "language": "python",
   "name": "python2"
  },
  "language_info": {
   "codemirror_mode": {
    "name": "ipython",
    "version": 2
   },
   "file_extension": ".py",
   "mimetype": "text/x-python",
   "name": "python",
   "nbconvert_exporter": "python",
   "pygments_lexer": "ipython2",
   "version": "2.7.12"
  }
 },
 "nbformat": 4,
 "nbformat_minor": 0
}
