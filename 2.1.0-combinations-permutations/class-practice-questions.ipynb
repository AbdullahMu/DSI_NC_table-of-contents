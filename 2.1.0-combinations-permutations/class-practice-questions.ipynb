{
 "cells": [
  {
   "cell_type": "markdown",
   "metadata": {},
   "source": [
    "### Q1.\n",
    "\n",
    "If you have two groups of students, 10 freshman and 11 sophmores, how many teams of 2 can be formed with one member from each class?"
   ]
  },
  {
   "cell_type": "code",
   "execution_count": null,
   "metadata": {
    "collapsed": true
   },
   "outputs": [],
   "source": []
  },
  {
   "cell_type": "markdown",
   "metadata": {},
   "source": [
    "### Q2.\n",
    "\n",
    "There are 5 qualified candidates to fill 3 positions.  How many ways can the roles be filled assuming 1 person per position?"
   ]
  },
  {
   "cell_type": "code",
   "execution_count": null,
   "metadata": {
    "collapsed": true
   },
   "outputs": [],
   "source": []
  },
  {
   "cell_type": "markdown",
   "metadata": {},
   "source": [
    "### Q3.\n",
    "\n",
    "If there are 9 players on a baseball team, how many possibilities are there for the first 3 players in the batting lineup?"
   ]
  },
  {
   "cell_type": "code",
   "execution_count": 2,
   "metadata": {
    "collapsed": false
   },
   "outputs": [
    {
     "ename": "SyntaxError",
     "evalue": "invalid syntax (<ipython-input-2-fb8183735910>, line 4)",
     "output_type": "error",
     "traceback": [
      "\u001b[0;36m  File \u001b[0;32m\"<ipython-input-2-fb8183735910>\"\u001b[0;36m, line \u001b[0;32m4\u001b[0m\n\u001b[0;31m    5!\u001b[0m\n\u001b[0m     ^\u001b[0m\n\u001b[0;31mSyntaxError\u001b[0m\u001b[0;31m:\u001b[0m invalid syntax\n"
     ]
    }
   ],
   "source": [
    "from math import factorial\n",
    "\n",
    "factorial(9) / factorial(9-3)\n",
    "5!\n"
   ]
  },
  {
   "cell_type": "markdown",
   "metadata": {},
   "source": [
    "### Q4. \n",
    "\n",
    "Code a function to compute the factorial of a number."
   ]
  },
  {
   "cell_type": "code",
   "execution_count": 4,
   "metadata": {
    "collapsed": false
   },
   "outputs": [
    {
     "name": "stdout",
     "output_type": "stream",
     "text": [
      "120\n"
     ]
    }
   ],
   "source": [
    "def myfactorial(n) :\n",
    "    result = 1\n",
    "    while n > 1 :\n",
    "        result *= n\n",
    "        n = n -1\n",
    "    return result\n",
    "\n",
    "print myfactorial(5)"
   ]
  },
  {
   "cell_type": "code",
   "execution_count": 9,
   "metadata": {
    "collapsed": false
   },
   "outputs": [
    {
     "name": "stdout",
     "output_type": "stream",
     "text": [
      "n is not an integer.\n",
      "None\n"
     ]
    }
   ],
   "source": [
    "def fact_calc(n):\n",
    "    if n > 1 and isinstance(n, int):\n",
    "        return n*fact_calc(n-1)\n",
    "    elif not isinstance(n, int):\n",
    "        print(\"n is not an integer.\")\n",
    "    elif n < 0:\n",
    "        print(\"n is negative.\")\n",
    "    else:\n",
    "        return 1\n",
    "    \n",
    "print fact_calc(1.1)"
   ]
  },
  {
   "cell_type": "markdown",
   "metadata": {},
   "source": [
    "### Q5.\n",
    "\n",
    "How many possible 5 card hands are there with a deck of 52 cards?"
   ]
  },
  {
   "cell_type": "code",
   "execution_count": 11,
   "metadata": {
    "collapsed": false
   },
   "outputs": [
    {
     "name": "stdout",
     "output_type": "stream",
     "text": [
      "2598960\n"
     ]
    }
   ],
   "source": [
    "print factorial(52) / (factorial(52-5) * factorial(5))"
   ]
  },
  {
   "cell_type": "markdown",
   "metadata": {},
   "source": [
    "### Q7.\n",
    "\n",
    "A restaurant has 22 employees, including:\n",
    "\n",
    "- 6 chefs\n",
    "- 5 waiters\n",
    "- 7 busboys \n",
    "\n",
    "The owner has requested a few things from you the manager:\n",
    "\n",
    "1. A private party is coming on Tuesday and wants to know how many teams of 1 chef and 2 waiters can be formed?\n",
    "2. Each busboy works just one day of the week. He wants to know how many different versions of the weekly busboy assignments there can be. \n",
    "3. He wants his favorite waiter to serve him and his wife for their anniversary on Sunday, along with 2 other waiters.  How many teams of 3 waiters can serve him?"
   ]
  },
  {
   "cell_type": "code",
   "execution_count": 12,
   "metadata": {
    "collapsed": true
   },
   "outputs": [],
   "source": [
    "def perm(n, k):\n",
    "    return factorial(n) / factorial(n-k)\n",
    "\n",
    "def comb(n, k):\n",
    "    return perm(n, k) / perm(k, k)"
   ]
  },
  {
   "cell_type": "code",
   "execution_count": 13,
   "metadata": {
    "collapsed": false
   },
   "outputs": [
    {
     "name": "stdout",
     "output_type": "stream",
     "text": [
      "60\n"
     ]
    }
   ],
   "source": [
    "waiter_combs = comb(5, 2)\n",
    "print waiter_combs * 6"
   ]
  },
  {
   "cell_type": "code",
   "execution_count": 14,
   "metadata": {
    "collapsed": false
   },
   "outputs": [
    {
     "data": {
      "text/plain": [
       "5040"
      ]
     },
     "execution_count": 14,
     "metadata": {},
     "output_type": "execute_result"
    }
   ],
   "source": [
    "perm(7, 7)"
   ]
  },
  {
   "cell_type": "code",
   "execution_count": 15,
   "metadata": {
    "collapsed": false
   },
   "outputs": [
    {
     "data": {
      "text/plain": [
       "6"
      ]
     },
     "execution_count": 15,
     "metadata": {},
     "output_type": "execute_result"
    }
   ],
   "source": [
    "comb(4,2)"
   ]
  },
  {
   "cell_type": "markdown",
   "metadata": {},
   "source": [
    "### Q8.\n",
    "\n",
    "What is the probability that you are dealt 2 cards and they turn out to both be aces from a 52-card deck?"
   ]
  },
  {
   "cell_type": "code",
   "execution_count": 16,
   "metadata": {
    "collapsed": false
   },
   "outputs": [
    {
     "name": "stdout",
     "output_type": "stream",
     "text": [
      "0.0769230769231\n"
     ]
    }
   ],
   "source": [
    "# a = comb(52, 4)\n",
    "# b = comb(51, 3)\n",
    "# c = 1. / a*b\n",
    "# print c"
   ]
  },
  {
   "cell_type": "code",
   "execution_count": 17,
   "metadata": {
    "collapsed": false
   },
   "outputs": [
    {
     "name": "stdout",
     "output_type": "stream",
     "text": [
      "0.00452488687783\n"
     ]
    }
   ],
   "source": [
    "aces = comb(4, 2)\n",
    "hands = comb(52, 2)\n",
    "print float(aces) / hands"
   ]
  },
  {
   "cell_type": "markdown",
   "metadata": {},
   "source": [
    "### Q9.\n",
    "\n",
    "What is the probability of getting 2 queens and 3 kings in a 5-card hand?"
   ]
  },
  {
   "cell_type": "code",
   "execution_count": 20,
   "metadata": {
    "collapsed": false
   },
   "outputs": [
    {
     "name": "stdout",
     "output_type": "stream",
     "text": [
      "9.23446301598e-06\n"
     ]
    }
   ],
   "source": [
    "queens = comb(4, 2)\n",
    "kings  = comb(4, 3)\n",
    "hands = comb(52, 5)\n",
    "\n",
    "print float(kings*queens) / hands"
   ]
  },
  {
   "cell_type": "markdown",
   "metadata": {},
   "source": [
    "### Q10.\n",
    "\n",
    "For 10 coin-flips, print out the probability of getting 0 heads through 10 heads.\n",
    "\n",
    "Also print out the sum of the probabilities."
   ]
  },
  {
   "cell_type": "code",
   "execution_count": 22,
   "metadata": {
    "collapsed": true
   },
   "outputs": [],
   "source": [
    "def calculate_p_heads(heads, outcomes, flips):\n",
    "    head_combs = comb(flips, heads)\n",
    "    return float(head_combs) / outcomes\n",
    "     "
   ]
  },
  {
   "cell_type": "code",
   "execution_count": 24,
   "metadata": {
    "collapsed": false
   },
   "outputs": [
    {
     "name": "stdout",
     "output_type": "stream",
     "text": [
      "P(Heads =  0 ) =  2.98023223877e-08\n",
      "P(Heads =  1 ) =  7.45058059692e-07\n",
      "P(Heads =  2 ) =  8.94069671631e-06\n",
      "P(Heads =  3 ) =  6.85453414917e-05\n",
      "P(Heads =  4 ) =  0.000376999378204\n",
      "P(Heads =  5 ) =  0.00158339738846\n",
      "P(Heads =  6 ) =  0.00527799129486\n",
      "P(Heads =  7 ) =  0.0143259763718\n",
      "P(Heads =  8 ) =  0.0322334468365\n",
      "P(Heads =  9 ) =  0.06088539958\n",
      "P(Heads =  10 ) =  0.097416639328\n",
      "P(Heads =  11 ) =  0.132840871811\n",
      "P(Heads =  12 ) =  0.154981017113\n",
      "P(Heads =  13 ) =  0.154981017113\n",
      "P(Heads =  14 ) =  0.132840871811\n",
      "P(Heads =  15 ) =  0.097416639328\n",
      "P(Heads =  16 ) =  0.06088539958\n",
      "P(Heads =  17 ) =  0.0322334468365\n",
      "P(Heads =  18 ) =  0.0143259763718\n",
      "P(Heads =  19 ) =  0.00527799129486\n",
      "P(Heads =  20 ) =  0.00158339738846\n",
      "P(Heads =  21 ) =  0.000376999378204\n",
      "P(Heads =  22 ) =  6.85453414917e-05\n",
      "P(Heads =  23 ) =  8.94069671631e-06\n",
      "P(Heads =  24 ) =  7.45058059692e-07\n",
      "P(Heads =  25 ) =  2.98023223877e-08\n",
      "1.0\n"
     ]
    }
   ],
   "source": [
    "\n",
    "\n",
    "possible_outcomes = 2**25\n",
    "\n",
    "probabilities = []\n",
    "for i in range(0, 26):\n",
    "    flip_p = calculate_p_heads(i, possible_outcomes, 25)\n",
    "    print 'P(Heads = ', i, ') = ', flip_p\n",
    "    probabilities.append(flip_p)\n",
    "    \n",
    "print sum(probabilities)"
   ]
  },
  {
   "cell_type": "markdown",
   "metadata": {},
   "source": [
    "### Q11.\n",
    "\n",
    "Suppose you have a game where you can toss a ball and it will land in one of 5 buckets.\n",
    "\n",
    "You toss 2 balls and they each land in a bucket. If the balls are indistinguishable from each other, how many different outcomes (distributions of balls in buckets) are there?"
   ]
  },
  {
   "cell_type": "code",
   "execution_count": null,
   "metadata": {
    "collapsed": true
   },
   "outputs": [],
   "source": []
  },
  {
   "cell_type": "markdown",
   "metadata": {},
   "source": [
    "### Q12.\n",
    "\n",
    "How many solutions are there to the formula:\n",
    "\n",
    "$X_1 + X_2 + X_3 + X_4 = 15$\n",
    "\n",
    "Where the order of numbers matters?"
   ]
  },
  {
   "cell_type": "code",
   "execution_count": null,
   "metadata": {
    "collapsed": true
   },
   "outputs": [],
   "source": []
  }
 ],
 "metadata": {
  "kernelspec": {
   "display_name": "Python 2",
   "language": "python",
   "name": "python2"
  },
  "language_info": {
   "codemirror_mode": {
    "name": "ipython",
    "version": 2
   },
   "file_extension": ".py",
   "mimetype": "text/x-python",
   "name": "python",
   "nbconvert_exporter": "python",
   "pygments_lexer": "ipython2",
   "version": "2.7.12"
  }
 },
 "nbformat": 4,
 "nbformat_minor": 0
}
