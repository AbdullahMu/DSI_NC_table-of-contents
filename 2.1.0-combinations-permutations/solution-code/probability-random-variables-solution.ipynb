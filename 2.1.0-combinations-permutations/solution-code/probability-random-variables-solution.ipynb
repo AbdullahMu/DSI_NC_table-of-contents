{
 "cells": [
  {
   "cell_type": "markdown",
   "metadata": {
    "slideshow": {
     "slide_type": "slide"
    }
   },
   "source": [
    "<img src=\"https://ga-dash.s3.amazonaws.com/production/assets/logo-9f88ae6c9c3871690e33280fcf557f33.png\" style=\"float: left; margin: 15px;\">\n",
    "\n",
    "## Introduction to basic probability\n",
    "\n",
    "Week 1 | Lesson 4.3\n",
    "\n",
    "---\n",
    "\n",
    "_Credit to Paul Martin. Adapted by Kiefer Katovich._\n",
    "\n",
    "\n",
    "### Probability Concepts\n",
    "\n",
    "- [Probability Axioms](#probability_axioms)\n",
    "- [Counting Principle](#counting_principal)\n",
    "- [Permutations](#permutation)\n",
    "- [Combinations](#combination)\n",
    "- [Distinguishable and Indistinguishable](#distinguishable_indistinguishable)\n"
   ]
  },
  {
   "cell_type": "markdown",
   "metadata": {
    "slideshow": {
     "slide_type": "slide"
    }
   },
   "source": [
    "<a id='probability_axioms'></a>\n",
    "\n",
    "### Probability Axioms\n",
    "\n",
    "---\n",
    "\n",
    "**First Axiom**\n",
    "\n",
    "Probabilities are non-negative, real numbers. The lowest probability possible is zero, and probability cannot be infinite.\n",
    "\n",
    "**Second Axiom**\n",
    "\n",
    "The probability of the sample space $S$ of events is one:\n",
    "\n",
    "### $$ P(S) = 1 $$\n",
    "\n",
    "**Third Axiom**\n",
    "\n",
    "The probability of two _mutually exclusive_ events, here denoted $E_1$ and $E_2$, is equal to the sum of their individual probabilities:\n",
    "\n",
    "### $$ P(E_1 \\cup E_2) = P(E_1) + P(E_2) $$\n",
    "\n",
    "This is also known as additivity.\n"
   ]
  },
  {
   "cell_type": "markdown",
   "metadata": {
    "hide_input": false,
    "slideshow": {
     "slide_type": "slide"
    }
   },
   "source": [
    "<a id='counting_principle'></a>\n",
    "\n",
    "### Counting Principle\n",
    "\n",
    "---\n",
    "\n",
    "Counting, combinations, and permutations are essential to understanding probability. The counting principal says that:\n",
    "\n",
    "If $A$ can occur in $n$ ways \n",
    "\n",
    "and $B$ can occur in $m$ ways\n",
    "\n",
    "then $A$ and $B$ can occur in $n * m$ ways.\n"
   ]
  },
  {
   "cell_type": "markdown",
   "metadata": {
    "slideshow": {
     "slide_type": "fragment"
    }
   },
   "source": [
    "**Q: If you have two groups of students, 10 freshman and 11 sophmores, how many teams of 2 can be formed with one member from each class?**"
   ]
  },
  {
   "cell_type": "code",
   "execution_count": 1,
   "metadata": {
    "collapsed": false,
    "slideshow": {
     "slide_type": "fragment"
    }
   },
   "outputs": [
    {
     "data": {
      "text/plain": [
       "110"
      ]
     },
     "execution_count": 1,
     "metadata": {},
     "output_type": "execute_result"
    }
   ],
   "source": [
    "teams_of_2 = 10 * 11\n",
    "teams_of_2"
   ]
  },
  {
   "cell_type": "markdown",
   "metadata": {
    "slideshow": {
     "slide_type": "slide"
    }
   },
   "source": [
    "<a id='permutation'></a>\n",
    "\n",
    "### Permutations\n",
    "\n",
    "---\n",
    "\n",
    "A permutation is an arragement of objects where the order is important, or in other words, a permutation is the number of arrangements that are possible.\n",
    "\n",
    "With a set of items of size $n$ and arrangements of length $k$, the permutations are calculated as\n",
    "\n",
    "### $$ \\text{permutations}(n, k) = n * (n - 1) * (n - 2) \\; ... \\; (n - k + 1)$$\n",
    "\n",
    "which is 0 when $k > n$"
   ]
  },
  {
   "cell_type": "markdown",
   "metadata": {
    "slideshow": {
     "slide_type": "fragment"
    }
   },
   "source": [
    "**Q: There are 5 qualified candidates to fill 3 positions.  How many ways can the roles be filled assuming 1 person per position?**"
   ]
  },
  {
   "cell_type": "code",
   "execution_count": 2,
   "metadata": {
    "collapsed": false,
    "slideshow": {
     "slide_type": "fragment"
    }
   },
   "outputs": [
    {
     "data": {
      "text/plain": [
       "60"
      ]
     },
     "execution_count": 2,
     "metadata": {},
     "output_type": "execute_result"
    }
   ],
   "source": [
    "cands  = 5 * 4 * 3\n",
    "cands"
   ]
  },
  {
   "cell_type": "markdown",
   "metadata": {
    "slideshow": {
     "slide_type": "slide"
    }
   },
   "source": [
    "### The factorial function\n",
    "\n",
    "---\n",
    "\n",
    "The factorial function is defined as \n",
    "\n",
    "### $$ n! = n * (n-1) * (n-2) \\; ... \\; (n-1) $$\n",
    "\n",
    "and is an important part of permutations. When $n = k$, permutations of $n$ in $k$ arrangements is equivalent to $n!$\n",
    "\n",
    "The permutation function can be rewritten using factorials:\n",
    "\n",
    "### $$  \\text{permutations}(n, k) = \\frac{n!}{(n-k)!} $$"
   ]
  },
  {
   "cell_type": "markdown",
   "metadata": {
    "slideshow": {
     "slide_type": "fragment"
    }
   },
   "source": [
    "**Q: If there are 9 players on a baseball team, how many possibilities are there for the first 3 players in the batting lineup?**"
   ]
  },
  {
   "cell_type": "code",
   "execution_count": 3,
   "metadata": {
    "collapsed": false,
    "slideshow": {
     "slide_type": "fragment"
    }
   },
   "outputs": [
    {
     "name": "stdout",
     "output_type": "stream",
     "text": [
      "504\n"
     ]
    }
   ],
   "source": [
    "from math import factorial\n",
    "\n",
    "print factorial(9)/factorial(9-3)"
   ]
  },
  {
   "cell_type": "markdown",
   "metadata": {
    "slideshow": {
     "slide_type": "slide"
    }
   },
   "source": [
    "### Practice: code the factorial function\n",
    "\n",
    "As a challenge, try coding a function that will compute the factorial of a number."
   ]
  },
  {
   "cell_type": "code",
   "execution_count": 4,
   "metadata": {
    "collapsed": true,
    "slideshow": {
     "slide_type": "fragment"
    }
   },
   "outputs": [],
   "source": [
    "def factorial(x):\n",
    "    if x < 0:\n",
    "        print(\"Must be a non-negative integer.\")\n",
    "    if x == 0:\n",
    "        return 1\n",
    "    else:\n",
    "        if x != int(x):\n",
    "            print(\"Must be an integer.\")\n",
    "        else:    \n",
    "            return x * factorial(x-1)"
   ]
  },
  {
   "cell_type": "markdown",
   "metadata": {
    "slideshow": {
     "slide_type": "slide"
    }
   },
   "source": [
    "<a id='combination'></a>\n",
    "\n",
    "### Combinations\n",
    "\n",
    "---\n",
    "\n",
    "Like permutations, combinations are arrangements of objects, but in the case of combinations the order of the objects does not matter.\n",
    "\n",
    "With a set of items of size $n$ and arrangements of length $k$, the combinations are calculated as\n",
    "\n",
    "### $$ \\text{combinations}(n, k) = \\frac{ \\text{permutations}(n,k) }{ \\text{permutations}(k, k) } = \\frac{n!}{(n-k)!k!}$$\n",
    "\n",
    "An intuitive way to think about this is that we take the number of permutations, then we divide by the number of possible orderings we could have in the available slots $k$."
   ]
  },
  {
   "cell_type": "markdown",
   "metadata": {
    "slideshow": {
     "slide_type": "fragment"
    }
   },
   "source": [
    "**Q: How many possible 5 card hands are there with a deck of 52 cards?**"
   ]
  },
  {
   "cell_type": "code",
   "execution_count": 5,
   "metadata": {
    "collapsed": false,
    "slideshow": {
     "slide_type": "fragment"
    }
   },
   "outputs": [
    {
     "name": "stdout",
     "output_type": "stream",
     "text": [
      "2598960\n"
     ]
    }
   ],
   "source": [
    "print factorial(52) / (factorial(52-5) * factorial(5))"
   ]
  },
  {
   "cell_type": "markdown",
   "metadata": {
    "slideshow": {
     "slide_type": "slide"
    }
   },
   "source": [
    "### Some practice problems\n",
    "\n",
    "A restaurant has 22 employees, including:\n",
    "\n",
    "- 6 chefs\n",
    "- 5 waiters\n",
    "- 7 busboys \n",
    "\n",
    "The owner has requested a few things from you the manager:\n",
    "\n",
    "1. A private party is coming on Tuesday and wants to know how many teams of 1 chef and 2 waiters can be formed?\n",
    "2. Each busboy works just one day of the week. He wants to know how many different versions of the weekly busboy assignments there can be. \n",
    "3. He wants his favorite waiter to serve him and his wife for their anniversary on Sunday, along with 2 other waiters.  How many teams of 3 waiters can serve him?"
   ]
  },
  {
   "cell_type": "code",
   "execution_count": 6,
   "metadata": {
    "collapsed": false,
    "slideshow": {
     "slide_type": "fragment"
    }
   },
   "outputs": [
    {
     "name": "stdout",
     "output_type": "stream",
     "text": [
      "60.0\n"
     ]
    }
   ],
   "source": [
    "# 1:\n",
    "chefs = 6\n",
    "waiters = 5\n",
    "busboys = 7\n",
    "\n",
    "# set up permutation and combination functions:\n",
    "def perm(n, k):\n",
    "    return float(factorial(n)) / factorial(n-k)\n",
    "\n",
    "def comb(n, k):\n",
    "    return float(perm(n, k)) / perm(k, k)\n",
    "\n",
    "# first figure out how many combinations of 2 waiters there are:\n",
    "waiter_combs = comb(waiters, 2)\n",
    "\n",
    "# for each combination of waiters you have 6 possible pairings with chefs:\n",
    "groups = chefs * waiter_combs\n",
    "\n",
    "print groups"
   ]
  },
  {
   "cell_type": "code",
   "execution_count": 7,
   "metadata": {
    "collapsed": false,
    "slideshow": {
     "slide_type": "fragment"
    }
   },
   "outputs": [
    {
     "name": "stdout",
     "output_type": "stream",
     "text": [
      "5040.0\n"
     ]
    }
   ],
   "source": [
    "# 2:\n",
    "# calculate the permutations of busboys. There are 7 busboys and \n",
    "# we want to know the possible orderings of them during the week.\n",
    "print perm(busboys, 7)"
   ]
  },
  {
   "cell_type": "code",
   "execution_count": 8,
   "metadata": {
    "collapsed": false,
    "slideshow": {
     "slide_type": "fragment"
    }
   },
   "outputs": [
    {
     "name": "stdout",
     "output_type": "stream",
     "text": [
      "6.0\n"
     ]
    }
   ],
   "source": [
    "# 3:\n",
    "# We have to remove his favorite waiter, who must be present, then\n",
    "# calculate the combinations.\n",
    "print comb(waiters-1, 2)"
   ]
  },
  {
   "cell_type": "markdown",
   "metadata": {
    "slideshow": {
     "slide_type": "slide"
    }
   },
   "source": [
    "**Q: What is the probability that you are dealt 2 cards and they turn out to both be aces from a 52-card deck?**"
   ]
  },
  {
   "cell_type": "code",
   "execution_count": 9,
   "metadata": {
    "collapsed": false,
    "slideshow": {
     "slide_type": "fragment"
    }
   },
   "outputs": [
    {
     "name": "stdout",
     "output_type": "stream",
     "text": [
      "0.00452488687783\n"
     ]
    }
   ],
   "source": [
    "# Find the number of different 2-ace hands you can have:\n",
    "ace_hands = comb(4,2)\n",
    "\n",
    "# find the number of possible 2-card hands you can have from the deck:\n",
    "hands = comb(52,2)\n",
    "\n",
    "print ace_hands / hands"
   ]
  },
  {
   "cell_type": "markdown",
   "metadata": {
    "slideshow": {
     "slide_type": "slide"
    }
   },
   "source": [
    "**Q: What is the probability of getting 2 queens and 3 kings in a 5-card hand?**"
   ]
  },
  {
   "cell_type": "code",
   "execution_count": 10,
   "metadata": {
    "collapsed": false,
    "slideshow": {
     "slide_type": "fragment"
    }
   },
   "outputs": [
    {
     "name": "stdout",
     "output_type": "stream",
     "text": [
      "9.23446301598e-06\n"
     ]
    }
   ],
   "source": [
    "# calculate the number of 3-king combinations:\n",
    "kings = comb(4,3)\n",
    "\n",
    "# calculate the number of queens:\n",
    "queens = comb(4,2)\n",
    "\n",
    "# all possible 5-card combinations:\n",
    "hands = comb(52,5)\n",
    "\n",
    "# grid of possible king combinations and queen combinations (counting principle):\n",
    "full = kings*queens\n",
    "\n",
    "print full / hands"
   ]
  },
  {
   "cell_type": "markdown",
   "metadata": {
    "slideshow": {
     "slide_type": "slide"
    }
   },
   "source": [
    "**Q: For 10 coin-flips, print out the probability of getting 0 heads through 10 heads.**\n",
    "\n",
    "Also print out the sum of the probabilities."
   ]
  },
  {
   "cell_type": "code",
   "execution_count": 11,
   "metadata": {
    "collapsed": false,
    "slideshow": {
     "slide_type": "fragment"
    }
   },
   "outputs": [
    {
     "name": "stdout",
     "output_type": "stream",
     "text": [
      "Heads: 0 P =  0.0009765625\n",
      "Heads: 1 P =  0.009765625\n",
      "Heads: 2 P =  0.0439453125\n",
      "Heads: 3 P =  0.1171875\n",
      "Heads: 4 P =  0.205078125\n",
      "Heads: 5 P =  0.24609375\n",
      "Heads: 6 P =  0.205078125\n",
      "Heads: 7 P =  0.1171875\n",
      "Heads: 8 P =  0.0439453125\n",
      "Heads: 9 P =  0.009765625\n",
      "Heads: 10 P =  0.0009765625\n",
      "Total probability: 1.0\n"
     ]
    }
   ],
   "source": [
    "def flip_prob(heads, total):\n",
    "    head_combs = comb(total, heads)\n",
    "    total_possibilities = 2**total\n",
    "    return head_combs / total_possibilities\n",
    "    \n",
    "probs = []\n",
    "for i in range(0, 11):\n",
    "    flip = flip_prob(i, 10)\n",
    "    print 'Heads:', i, 'P = ', flip\n",
    "    probs.append(flip)\n",
    "    \n",
    "print 'Total probability:', sum(probs)"
   ]
  },
  {
   "cell_type": "markdown",
   "metadata": {
    "slideshow": {
     "slide_type": "slide"
    }
   },
   "source": [
    "<a id='distinguishable_indistinguishable'></a>\n",
    "\n",
    "### Distinguishable vs. Indistinguishable _(\"balls and urns\")_\n",
    "\n",
    "---\n",
    "\n",
    "Toy, textbook probability problems are famous form using \"balls\" and \"urns\" in their examples, where some number of balls must be placed in some number of urns. \n",
    "\n",
    "If the balls or urns are **distinguishable,** it means that there is a characteristic that distinguishes the items from each other, such as a marking. Similarly, if they are **indistinguishable** then there is no way to tell them apart. \n",
    "\n",
    "Depending on whether the items are distinguishable or indistinguishable, there are different numbers of distinct arrangements."
   ]
  },
  {
   "cell_type": "markdown",
   "metadata": {
    "slideshow": {
     "slide_type": "slide"
    }
   },
   "source": [
    "#### Distinguishable urns and distinguishable balls\n",
    "\n",
    "---\n",
    "\n",
    "In this scenario, our urns are labeled and the balls are labeled. Distinct arrangements are affected by the labeling. For example:\n",
    "\n",
    "1. It matters whether urn A has 1 ball vs. urn B has 1 ball (distinguishable urns).\n",
    "2. It matters whether ball X was placed in urn A vs. ball Y was placed in urn A (distinguishable balls).\n",
    "\n",
    "Since we have an option of 3 urns for each ball, we can calculate the arrangements with:\n",
    "\n",
    "`(3 urns) * (3 urns) == (3 urns)**(2 balls) == 9`\n"
   ]
  },
  {
   "cell_type": "markdown",
   "metadata": {
    "slideshow": {
     "slide_type": "slide"
    }
   },
   "source": [
    "#### Distinguishable urns and indistinguishable balls\n",
    "\n",
    "---\n",
    "\n",
    "Now our 3 urns are still labeled, but the balls are indistinguishable – there is no way to tell them apart in arrangements. We can only tell arrangements apart by how many balls are in each labeled urn.\n",
    "\n",
    "Imagine our balls are represented by the character `o`. We also have \"separator\" character `|` that divides the balls between urns. So if all balls were in the first urn it would look like this:\n",
    "\n",
    "    'oo||'\n",
    "    \n",
    "Or one ball in the first and one in the second:\n",
    "    \n",
    "    'o|o|'\n",
    "    \n",
    "Or one in the first and one in the third:\n",
    "\n",
    "    'o||o'\n",
    "    \n",
    "To find all the distinct arrangements of the 2 indistinguishable balls among the 3 distinguishable urns, we need to find all the combinations of the separators in the string, or `comb(4, 2)`.\n",
    "\n",
    "The general formula for the arrangements of $n$ indistinguishable items among $k$ distinguishable places is:\n",
    "\n",
    "### $$ \\text{combinations}(n+k-1, k-1)$$\n"
   ]
  },
  {
   "cell_type": "markdown",
   "metadata": {
    "slideshow": {
     "slide_type": "slide"
    }
   },
   "source": [
    "**Q: Suppose you have a game where you can toss a ball and it will land in one of 5 buckets.**\n",
    "\n",
    "**You toss 2 balls and they each land in a bucket. If the balls are indistinguishable from each other, how many different outcomes (distributions of balls in buckets) are there?**\n"
   ]
  },
  {
   "cell_type": "markdown",
   "metadata": {
    "slideshow": {
     "slide_type": "fragment"
    }
   },
   "source": [
    "\n",
    "    1.|BB |  2.|   |  3.|   |  4.|   |  5.|   |\n",
    "    1.|   |  2.|BB |  3.|   |  4.|   |  5.|   |\n",
    "    1.|   |  2.|   |  3.|BB |  4.|   |  5.|   |\n",
    "    1.|   |  2.|   |  3.|   |  4.|BB |  5.|   |\n",
    "    1.|   |  2.|   |  3.|   |  4.|   |  5.|BB |\n",
    "    1.|B  |  2.|B  |  3.|   |  4.|   |  5.|   |\n",
    "    1.|B  |  2.|   |  3.|B  |  4.|   |  5.|   |\n",
    "    1.|B  |  2.|   |  3.|   |  4.|B  |  5.|   |\n",
    "    1.|B  |  2.|   |  3.|   |  4.|   |  5.|B  |\n",
    "    1.|   |  2.|B  |  3.|B  |  4.|   |  5.|   |\n",
    "    1.|   |  2.|B  |  3.|   |  4.|B  |  5.|   |\n",
    "    1.|   |  2.|B  |  3.|   |  4.|   |  5.|B  |\n",
    "    1.|   |  2.|   |  3.|B  |  4.|B  |  5.|   |\n",
    "    1.|   |  2.|   |  3.|B  |  4.|   |  5.|B  |\n",
    "    1.|   |  2.|   |  3.|   |  4.|B  |  5.|B  |\n",
    "    "
   ]
  },
  {
   "cell_type": "code",
   "execution_count": 12,
   "metadata": {
    "collapsed": false,
    "slideshow": {
     "slide_type": "fragment"
    }
   },
   "outputs": [
    {
     "data": {
      "text/plain": [
       "15.0"
      ]
     },
     "execution_count": 12,
     "metadata": {},
     "output_type": "execute_result"
    }
   ],
   "source": [
    "comb(5+2-1, 5-1)"
   ]
  },
  {
   "cell_type": "markdown",
   "metadata": {
    "slideshow": {
     "slide_type": "slide"
    }
   },
   "source": [
    "**Q: How many solutions are there to the formula:**\n",
    "\n",
    "$X_1 + X_2 + X_3 + X_4 = 15$\n",
    "\n",
    "Where the order of numbers matters?"
   ]
  },
  {
   "cell_type": "code",
   "execution_count": 13,
   "metadata": {
    "collapsed": false,
    "slideshow": {
     "slide_type": "fragment"
    }
   },
   "outputs": [
    {
     "name": "stdout",
     "output_type": "stream",
     "text": [
      "816.0\n"
     ]
    }
   ],
   "source": [
    "# Conceptualize this as a balls and urns problem:\n",
    "balls = 15\n",
    "urns = 4\n",
    "\n",
    "# The balls are indistinguishable (just because X_1 is 3 doesn't mean 3 versions, \n",
    "# or in other words 1 is indistinguishable from another 1 in 1+1+1).\n",
    "solutions = comb(balls + urns - 1, urns - 1)\n",
    "print solutions"
   ]
  },
  {
   "cell_type": "markdown",
   "metadata": {
    "slideshow": {
     "slide_type": "slide"
    }
   },
   "source": [
    "#### Indistinguishable urns and distinguishable balls\n",
    "\n",
    "#### Indistinguishable urns and indistinguishable balls\n",
    "\n",
    "---\n",
    "\n",
    "I'm not going to cover the two remaining and more scenarios in class, but here are a few resources that cover them (and even further conditions). The solutions to these two conditions are significantly more involved.\n",
    "\n",
    "http://www.careerbless.com/aptitude/qa/permutations_combinations_imp7.php#p2\n",
    "\n",
    "http://www.elcamino.edu/faculty/gfry/210/DistributeBallsBoxes.pdf\n",
    "\n",
    "https://en.wikipedia.org/wiki/Stirling_numbers_of_the_second_kind\n",
    "\n",
    "https://brilliant.org/wiki/distinct-objects-into-identical-bins/\n"
   ]
  }
 ],
 "metadata": {
  "celltoolbar": "Slideshow",
  "kernelspec": {
   "display_name": "Python 2",
   "language": "python",
   "name": "python2"
  },
  "language_info": {
   "codemirror_mode": {
    "name": "ipython",
    "version": 2
   },
   "file_extension": ".py",
   "mimetype": "text/x-python",
   "name": "python",
   "nbconvert_exporter": "python",
   "pygments_lexer": "ipython2",
   "version": "2.7.12"
  }
 },
 "nbformat": 4,
 "nbformat_minor": 0
}
