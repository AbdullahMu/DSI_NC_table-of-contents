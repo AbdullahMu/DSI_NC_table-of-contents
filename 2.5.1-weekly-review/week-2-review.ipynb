{
 "cells": [
  {
   "cell_type": "markdown",
   "metadata": {},
   "source": [
    "## Week 2 Review\n",
    "\n",
    "Topics:\n",
    "\n",
    "1. split-apply-combine (6)\n",
    "2. plotting (5)\n",
    "3. long/wide, pivot, melt (5)\n",
    "4. data cleaning (3)\n",
    "5. use cases of data structure (1)"
   ]
  },
  {
   "cell_type": "code",
   "execution_count": 1,
   "metadata": {
    "collapsed": true
   },
   "outputs": [],
   "source": [
    "import numpy as np\n",
    "import scipy.stats as stats\n",
    "import seaborn as sns\n",
    "import matplotlib.pyplot as plt\n",
    "import pandas as pd\n",
    "import imp\n",
    "\n",
    "sns.set_style('whitegrid')\n",
    "\n",
    "%config InlineBackend.figure_format = 'retina'\n",
    "%matplotlib inline"
   ]
  },
  {
   "cell_type": "code",
   "execution_count": 1,
   "metadata": {
    "collapsed": false
   },
   "outputs": [],
   "source": [
    "import sys\n",
    "sys.path.append(\"../../../utils/student_caller/\")\n",
    "\n",
    "from caller import StudentCaller\n",
    "\n",
    "sc = StudentCaller()\n",
    "sc.set_resource(\"students\", \"students-dsi-sf-4.txt\")\n",
    "sc.load_resource(\"students\", randomize=True)\n",
    "# sc.set_absent_students([\"reem\"])"
   ]
  },
  {
   "cell_type": "code",
   "execution_count": 3,
   "metadata": {
    "collapsed": false
   },
   "outputs": [],
   "source": [
    "d = pd.read_csv('../../../datasets/pretrial_inmates_ct/accused_pretrial_inmates_ct.csv')"
   ]
  },
  {
   "cell_type": "code",
   "execution_count": 4,
   "metadata": {
    "collapsed": false
   },
   "outputs": [
    {
     "data": {
      "text/html": [
       "<div>\n",
       "<table border=\"1\" class=\"dataframe\">\n",
       "  <thead>\n",
       "    <tr style=\"text-align: right;\">\n",
       "      <th></th>\n",
       "      <th>DOWNLOAD DATE</th>\n",
       "      <th>IDENTIFIER</th>\n",
       "      <th>LATEST ADMISSION DATE</th>\n",
       "      <th>RACE</th>\n",
       "      <th>GENDER</th>\n",
       "      <th>AGE</th>\n",
       "      <th>BOND AMOUNT</th>\n",
       "      <th>OFFENSE</th>\n",
       "      <th>FACILITY</th>\n",
       "      <th>DETAINER</th>\n",
       "    </tr>\n",
       "  </thead>\n",
       "  <tbody>\n",
       "    <tr>\n",
       "      <th>0</th>\n",
       "      <td>07/01/2016</td>\n",
       "      <td>ZZEBBEWZ</td>\n",
       "      <td>06/17/2016</td>\n",
       "      <td>WHITE</td>\n",
       "      <td>M</td>\n",
       "      <td>63</td>\n",
       "      <td>5000</td>\n",
       "      <td>ASSAULT, THIRD DEGREE                 AM</td>\n",
       "      <td>CORRIGAN CI</td>\n",
       "      <td>NONE</td>\n",
       "    </tr>\n",
       "    <tr>\n",
       "      <th>1</th>\n",
       "      <td>07/01/2016</td>\n",
       "      <td>ZZEBBRZC</td>\n",
       "      <td>06/30/2016</td>\n",
       "      <td>BLACK</td>\n",
       "      <td>M</td>\n",
       "      <td>42</td>\n",
       "      <td>500</td>\n",
       "      <td>FAILURE TO APPEAR, SECOND DEGREE      AM</td>\n",
       "      <td>HARTFORD CC</td>\n",
       "      <td>NONE</td>\n",
       "    </tr>\n",
       "    <tr>\n",
       "      <th>2</th>\n",
       "      <td>07/01/2016</td>\n",
       "      <td>ZZEBCBHC</td>\n",
       "      <td>06/06/2016</td>\n",
       "      <td>WHITE</td>\n",
       "      <td>M</td>\n",
       "      <td>60</td>\n",
       "      <td>40000</td>\n",
       "      <td>EVADING RESPONSIBILITY                 M</td>\n",
       "      <td>HARTFORD CC</td>\n",
       "      <td>NONE</td>\n",
       "    </tr>\n",
       "    <tr>\n",
       "      <th>3</th>\n",
       "      <td>07/01/2016</td>\n",
       "      <td>ZZEBCCWL</td>\n",
       "      <td>04/25/2016</td>\n",
       "      <td>HISPANIC</td>\n",
       "      <td>M</td>\n",
       "      <td>44</td>\n",
       "      <td>125000</td>\n",
       "      <td>CRIMINAL POSSESSION OF A PISTOL       DF</td>\n",
       "      <td>HARTFORD CC</td>\n",
       "      <td>NONE</td>\n",
       "    </tr>\n",
       "    <tr>\n",
       "      <th>4</th>\n",
       "      <td>07/01/2016</td>\n",
       "      <td>ZZEBCHBZ</td>\n",
       "      <td>06/21/2016</td>\n",
       "      <td>HISPANIC</td>\n",
       "      <td>M</td>\n",
       "      <td>58</td>\n",
       "      <td>2500</td>\n",
       "      <td>BREACH OF PEACE                       BM</td>\n",
       "      <td>CORRIGAN CI</td>\n",
       "      <td>NONE</td>\n",
       "    </tr>\n",
       "  </tbody>\n",
       "</table>\n",
       "</div>"
      ],
      "text/plain": [
       "  DOWNLOAD DATE IDENTIFIER LATEST ADMISSION DATE      RACE GENDER  AGE  \\\n",
       "0    07/01/2016   ZZEBBEWZ            06/17/2016     WHITE      M   63   \n",
       "1    07/01/2016   ZZEBBRZC            06/30/2016     BLACK      M   42   \n",
       "2    07/01/2016   ZZEBCBHC            06/06/2016     WHITE      M   60   \n",
       "3    07/01/2016   ZZEBCCWL            04/25/2016  HISPANIC      M   44   \n",
       "4    07/01/2016   ZZEBCHBZ            06/21/2016  HISPANIC      M   58   \n",
       "\n",
       "   BOND AMOUNT                                   OFFENSE     FACILITY  \\\n",
       "0         5000  ASSAULT, THIRD DEGREE                 AM  CORRIGAN CI   \n",
       "1          500  FAILURE TO APPEAR, SECOND DEGREE      AM  HARTFORD CC   \n",
       "2        40000  EVADING RESPONSIBILITY                 M  HARTFORD CC   \n",
       "3       125000  CRIMINAL POSSESSION OF A PISTOL       DF  HARTFORD CC   \n",
       "4         2500  BREACH OF PEACE                       BM  CORRIGAN CI   \n",
       "\n",
       "  DETAINER                                          \n",
       "0                                             NONE  \n",
       "1                                             NONE  \n",
       "2                                             NONE  \n",
       "3                                             NONE  \n",
       "4                                             NONE  "
      ]
     },
     "execution_count": 4,
     "metadata": {},
     "output_type": "execute_result"
    }
   ],
   "source": [
    "d.head()"
   ]
  },
  {
   "cell_type": "code",
   "execution_count": 5,
   "metadata": {
    "collapsed": false
   },
   "outputs": [
    {
     "data": {
      "text/plain": [
       "DOWNLOAD DATE                                       object\n",
       "IDENTIFIER                                          object\n",
       "LATEST ADMISSION DATE                               object\n",
       "RACE                                                object\n",
       "GENDER                                              object\n",
       "AGE                                                  int64\n",
       "BOND AMOUNT                                          int64\n",
       "OFFENSE                                             object\n",
       "FACILITY                                            object\n",
       "DETAINER                                            object\n",
       "dtype: object"
      ]
     },
     "execution_count": 5,
     "metadata": {},
     "output_type": "execute_result"
    }
   ],
   "source": [
    "d.dtypes"
   ]
  },
  {
   "cell_type": "code",
   "execution_count": 6,
   "metadata": {
    "collapsed": true
   },
   "outputs": [],
   "source": [
    "# 1. What is the mean and standard deviation of age by gender?"
   ]
  },
  {
   "cell_type": "code",
   "execution_count": 7,
   "metadata": {
    "collapsed": false
   },
   "outputs": [],
   "source": [
    "age_by_gender = pd.pivot_table(data=d, columns='GENDER', values='AGE', aggfunc=[np.mean, np.std])\n",
    "abg_reset = age_by_gender.reset_index()"
   ]
  },
  {
   "cell_type": "code",
   "execution_count": 8,
   "metadata": {
    "collapsed": false
   },
   "outputs": [
    {
     "data": {
      "text/html": [
       "<div>\n",
       "<table border=\"1\" class=\"dataframe\">\n",
       "  <thead>\n",
       "    <tr style=\"text-align: right;\">\n",
       "      <th></th>\n",
       "      <th>mean</th>\n",
       "      <th>std</th>\n",
       "    </tr>\n",
       "    <tr>\n",
       "      <th>GENDER</th>\n",
       "      <th></th>\n",
       "      <th></th>\n",
       "    </tr>\n",
       "  </thead>\n",
       "  <tbody>\n",
       "    <tr>\n",
       "      <th>F</th>\n",
       "      <td>33.660816</td>\n",
       "      <td>10.165089</td>\n",
       "    </tr>\n",
       "    <tr>\n",
       "      <th>M</th>\n",
       "      <td>33.629099</td>\n",
       "      <td>11.334901</td>\n",
       "    </tr>\n",
       "  </tbody>\n",
       "</table>\n",
       "</div>"
      ],
      "text/plain": [
       "             mean        std\n",
       "GENDER                      \n",
       "F       33.660816  10.165089\n",
       "M       33.629099  11.334901"
      ]
     },
     "execution_count": 8,
     "metadata": {},
     "output_type": "execute_result"
    }
   ],
   "source": [
    "age_by_gender"
   ]
  },
  {
   "cell_type": "code",
   "execution_count": 9,
   "metadata": {
    "collapsed": false
   },
   "outputs": [
    {
     "data": {
      "text/html": [
       "<div>\n",
       "<table border=\"1\" class=\"dataframe\">\n",
       "  <thead>\n",
       "    <tr style=\"text-align: right;\">\n",
       "      <th></th>\n",
       "      <th>GENDER</th>\n",
       "      <th>mean</th>\n",
       "      <th>std</th>\n",
       "    </tr>\n",
       "  </thead>\n",
       "  <tbody>\n",
       "    <tr>\n",
       "      <th>0</th>\n",
       "      <td>F</td>\n",
       "      <td>33.660816</td>\n",
       "      <td>10.165089</td>\n",
       "    </tr>\n",
       "    <tr>\n",
       "      <th>1</th>\n",
       "      <td>M</td>\n",
       "      <td>33.629099</td>\n",
       "      <td>11.334901</td>\n",
       "    </tr>\n",
       "  </tbody>\n",
       "</table>\n",
       "</div>"
      ],
      "text/plain": [
       "  GENDER       mean        std\n",
       "0      F  33.660816  10.165089\n",
       "1      M  33.629099  11.334901"
      ]
     },
     "execution_count": 9,
     "metadata": {},
     "output_type": "execute_result"
    }
   ],
   "source": [
    "abg_reset"
   ]
  },
  {
   "cell_type": "code",
   "execution_count": 10,
   "metadata": {
    "collapsed": true
   },
   "outputs": [],
   "source": [
    "# 2. for age_by_gender and abg_reset, get out the value of male mean age"
   ]
  },
  {
   "cell_type": "code",
   "execution_count": 11,
   "metadata": {
    "collapsed": false
   },
   "outputs": [
    {
     "data": {
      "text/plain": [
       "'jim'"
      ]
     },
     "execution_count": 11,
     "metadata": {},
     "output_type": "execute_result"
    }
   ],
   "source": [
    "sc.get_student()"
   ]
  },
  {
   "cell_type": "code",
   "execution_count": 12,
   "metadata": {
    "collapsed": false
   },
   "outputs": [
    {
     "data": {
      "text/plain": [
       "33.629099229968247"
      ]
     },
     "execution_count": 12,
     "metadata": {},
     "output_type": "execute_result"
    }
   ],
   "source": [
    "age_by_gender.loc['M','mean']"
   ]
  },
  {
   "cell_type": "code",
   "execution_count": 13,
   "metadata": {
    "collapsed": false
   },
   "outputs": [
    {
     "data": {
      "text/plain": [
       "1    33.629099\n",
       "Name: mean, dtype: float64"
      ]
     },
     "execution_count": 13,
     "metadata": {},
     "output_type": "execute_result"
    }
   ],
   "source": [
    "abg_reset['mean'][abg_reset['GENDER']=='M']"
   ]
  },
  {
   "cell_type": "code",
   "execution_count": 14,
   "metadata": {
    "collapsed": false
   },
   "outputs": [
    {
     "data": {
      "text/plain": [
       "1    33.629099\n",
       "Name: mean, dtype: float64"
      ]
     },
     "execution_count": 14,
     "metadata": {},
     "output_type": "execute_result"
    }
   ],
   "source": [
    "abg_reset[abg_reset['GENDER'] == 'M']['mean']"
   ]
  },
  {
   "cell_type": "code",
   "execution_count": 15,
   "metadata": {
    "collapsed": false
   },
   "outputs": [
    {
     "data": {
      "text/plain": [
       "1    33.629099\n",
       "Name: mean, dtype: float64"
      ]
     },
     "execution_count": 15,
     "metadata": {},
     "output_type": "execute_result"
    }
   ],
   "source": [
    "abg_reset.loc[abg_reset.GENDER == 'M', 'mean']"
   ]
  },
  {
   "cell_type": "code",
   "execution_count": 16,
   "metadata": {
    "collapsed": true
   },
   "outputs": [],
   "source": [
    "a = 3"
   ]
  },
  {
   "cell_type": "code",
   "execution_count": 17,
   "metadata": {
    "collapsed": false
   },
   "outputs": [
    {
     "data": {
      "text/plain": [
       "True"
      ]
     },
     "execution_count": 17,
     "metadata": {},
     "output_type": "execute_result"
    }
   ],
   "source": [
    "a == 3"
   ]
  },
  {
   "cell_type": "code",
   "execution_count": 18,
   "metadata": {
    "collapsed": true
   },
   "outputs": [],
   "source": [
    "# 3. get mean and standard deviation of age by race (with split-apply-combine)"
   ]
  },
  {
   "cell_type": "code",
   "execution_count": 19,
   "metadata": {
    "collapsed": false
   },
   "outputs": [
    {
     "data": {
      "text/plain": [
       "RACE\n",
       "AMER IND    32.207354\n",
       "ASIAN       34.999482\n",
       "BLACK       32.217038\n",
       "HISPANIC    32.799393\n",
       "WHITE       35.844300\n",
       "Name: AGE, dtype: float64"
      ]
     },
     "execution_count": 19,
     "metadata": {},
     "output_type": "execute_result"
    }
   ],
   "source": [
    "mean_race = d.groupby(['RACE'])['AGE'].mean()\n",
    "mean_race"
   ]
  },
  {
   "cell_type": "code",
   "execution_count": 20,
   "metadata": {
    "collapsed": false
   },
   "outputs": [
    {
     "data": {
      "text/plain": [
       "RACE\n",
       "AMER IND     8.101409\n",
       "ASIAN       11.888450\n",
       "BLACK       11.262700\n",
       "HISPANIC    10.413491\n",
       "WHITE       11.419087\n",
       "Name: AGE, dtype: float64"
      ]
     },
     "execution_count": 20,
     "metadata": {},
     "output_type": "execute_result"
    }
   ],
   "source": [
    "std_race = d.groupby(['RACE'])['AGE'].std()\n",
    "std_race"
   ]
  },
  {
   "cell_type": "code",
   "execution_count": 21,
   "metadata": {
    "collapsed": false
   },
   "outputs": [
    {
     "data": {
      "text/html": [
       "<div>\n",
       "<table border=\"1\" class=\"dataframe\">\n",
       "  <thead>\n",
       "    <tr style=\"text-align: right;\">\n",
       "      <th></th>\n",
       "      <th>RACE</th>\n",
       "      <th>std</th>\n",
       "      <th>mean</th>\n",
       "    </tr>\n",
       "  </thead>\n",
       "  <tbody>\n",
       "    <tr>\n",
       "      <th>0</th>\n",
       "      <td>AMER IND</td>\n",
       "      <td>8.101409</td>\n",
       "      <td>32.207354</td>\n",
       "    </tr>\n",
       "    <tr>\n",
       "      <th>1</th>\n",
       "      <td>ASIAN</td>\n",
       "      <td>11.888450</td>\n",
       "      <td>34.999482</td>\n",
       "    </tr>\n",
       "    <tr>\n",
       "      <th>2</th>\n",
       "      <td>BLACK</td>\n",
       "      <td>11.262700</td>\n",
       "      <td>32.217038</td>\n",
       "    </tr>\n",
       "    <tr>\n",
       "      <th>3</th>\n",
       "      <td>HISPANIC</td>\n",
       "      <td>10.413491</td>\n",
       "      <td>32.799393</td>\n",
       "    </tr>\n",
       "    <tr>\n",
       "      <th>4</th>\n",
       "      <td>WHITE</td>\n",
       "      <td>11.419087</td>\n",
       "      <td>35.844300</td>\n",
       "    </tr>\n",
       "  </tbody>\n",
       "</table>\n",
       "</div>"
      ],
      "text/plain": [
       "       RACE        std       mean\n",
       "0  AMER IND   8.101409  32.207354\n",
       "1     ASIAN  11.888450  34.999482\n",
       "2     BLACK  11.262700  32.217038\n",
       "3  HISPANIC  10.413491  32.799393\n",
       "4     WHITE  11.419087  35.844300"
      ]
     },
     "execution_count": 21,
     "metadata": {},
     "output_type": "execute_result"
    }
   ],
   "source": [
    "mean_std = d.groupby(['RACE'])['AGE'].agg([np.std,np.mean]).reset_index()#std()\n",
    "mean_std"
   ]
  },
  {
   "cell_type": "code",
   "execution_count": 22,
   "metadata": {
    "collapsed": false
   },
   "outputs": [
    {
     "data": {
      "text/plain": [
       "'medhi'"
      ]
     },
     "execution_count": 22,
     "metadata": {},
     "output_type": "execute_result"
    }
   ],
   "source": [
    "sc.get_student()"
   ]
  },
  {
   "cell_type": "code",
   "execution_count": 23,
   "metadata": {
    "collapsed": false
   },
   "outputs": [
    {
     "data": {
      "text/plain": [
       "RACE\n",
       "AMER IND    32.207354\n",
       "ASIAN       34.999482\n",
       "BLACK       32.217038\n",
       "HISPANIC    32.799393\n",
       "WHITE       35.844300\n",
       "Name: AGE, dtype: float64"
      ]
     },
     "execution_count": 23,
     "metadata": {},
     "output_type": "execute_result"
    }
   ],
   "source": [
    "mean_race"
   ]
  },
  {
   "cell_type": "code",
   "execution_count": 24,
   "metadata": {
    "collapsed": false
   },
   "outputs": [
    {
     "data": {
      "text/html": [
       "<div>\n",
       "<table border=\"1\" class=\"dataframe\">\n",
       "  <thead>\n",
       "    <tr style=\"text-align: right;\">\n",
       "      <th></th>\n",
       "      <th>AGE</th>\n",
       "    </tr>\n",
       "    <tr>\n",
       "      <th>RACE</th>\n",
       "      <th></th>\n",
       "    </tr>\n",
       "  </thead>\n",
       "  <tbody>\n",
       "    <tr>\n",
       "      <th>AMER IND</th>\n",
       "      <td>8.101409</td>\n",
       "    </tr>\n",
       "    <tr>\n",
       "      <th>ASIAN</th>\n",
       "      <td>11.888450</td>\n",
       "    </tr>\n",
       "    <tr>\n",
       "      <th>BLACK</th>\n",
       "      <td>11.262700</td>\n",
       "    </tr>\n",
       "    <tr>\n",
       "      <th>HISPANIC</th>\n",
       "      <td>10.413491</td>\n",
       "    </tr>\n",
       "    <tr>\n",
       "      <th>WHITE</th>\n",
       "      <td>11.419087</td>\n",
       "    </tr>\n",
       "  </tbody>\n",
       "</table>\n",
       "</div>"
      ],
      "text/plain": [
       "                AGE\n",
       "RACE               \n",
       "AMER IND   8.101409\n",
       "ASIAN     11.888450\n",
       "BLACK     11.262700\n",
       "HISPANIC  10.413491\n",
       "WHITE     11.419087"
      ]
     },
     "execution_count": 24,
     "metadata": {},
     "output_type": "execute_result"
    }
   ],
   "source": [
    "pd.DataFrame(std_race)"
   ]
  },
  {
   "cell_type": "code",
   "execution_count": 25,
   "metadata": {
    "collapsed": true
   },
   "outputs": [],
   "source": [
    "# 4. combine mean_race and std_race into a single dataframe using race as a key"
   ]
  },
  {
   "cell_type": "code",
   "execution_count": 26,
   "metadata": {
    "collapsed": false
   },
   "outputs": [
    {
     "data": {
      "text/html": [
       "<div>\n",
       "<table border=\"1\" class=\"dataframe\">\n",
       "  <thead>\n",
       "    <tr style=\"text-align: right;\">\n",
       "      <th></th>\n",
       "      <th>RACE</th>\n",
       "      <th>AGE_MEAN</th>\n",
       "      <th>AGE_STD</th>\n",
       "    </tr>\n",
       "  </thead>\n",
       "  <tbody>\n",
       "    <tr>\n",
       "      <th>0</th>\n",
       "      <td>AMER IND</td>\n",
       "      <td>32.207354</td>\n",
       "      <td>8.101409</td>\n",
       "    </tr>\n",
       "    <tr>\n",
       "      <th>1</th>\n",
       "      <td>ASIAN</td>\n",
       "      <td>34.999482</td>\n",
       "      <td>11.888450</td>\n",
       "    </tr>\n",
       "    <tr>\n",
       "      <th>2</th>\n",
       "      <td>BLACK</td>\n",
       "      <td>32.217038</td>\n",
       "      <td>11.262700</td>\n",
       "    </tr>\n",
       "    <tr>\n",
       "      <th>3</th>\n",
       "      <td>HISPANIC</td>\n",
       "      <td>32.799393</td>\n",
       "      <td>10.413491</td>\n",
       "    </tr>\n",
       "    <tr>\n",
       "      <th>4</th>\n",
       "      <td>WHITE</td>\n",
       "      <td>35.844300</td>\n",
       "      <td>11.419087</td>\n",
       "    </tr>\n",
       "  </tbody>\n",
       "</table>\n",
       "</div>"
      ],
      "text/plain": [
       "       RACE   AGE_MEAN    AGE_STD\n",
       "0  AMER IND  32.207354   8.101409\n",
       "1     ASIAN  34.999482  11.888450\n",
       "2     BLACK  32.217038  11.262700\n",
       "3  HISPANIC  32.799393  10.413491\n",
       "4     WHITE  35.844300  11.419087"
      ]
     },
     "execution_count": 26,
     "metadata": {},
     "output_type": "execute_result"
    }
   ],
   "source": [
    "\n",
    "pd.merge(mean_race.reset_index(),std_race.reset_index(), \n",
    "         how='outer', on='RACE', suffixes=['_MEAN','_STD'])\n"
   ]
  },
  {
   "cell_type": "code",
   "execution_count": 27,
   "metadata": {
    "collapsed": false
   },
   "outputs": [],
   "source": [
    "# 5. Mean age and mean bond amount for gender-by-race\n",
    "# d.groupby(['GENDER','RACE']).agg({'AGE': np.mean,'BOND AMOUNT':np.mean})\n",
    "age_bond = d.groupby(['GENDER','RACE'])[['AGE','BOND AMOUNT']].agg(np.mean)"
   ]
  },
  {
   "cell_type": "code",
   "execution_count": 28,
   "metadata": {
    "collapsed": false
   },
   "outputs": [
    {
     "data": {
      "text/html": [
       "<div>\n",
       "<table border=\"1\" class=\"dataframe\">\n",
       "  <thead>\n",
       "    <tr style=\"text-align: right;\">\n",
       "      <th></th>\n",
       "      <th>GENDER</th>\n",
       "      <th>RACE</th>\n",
       "      <th>AGE</th>\n",
       "      <th>BOND AMOUNT</th>\n",
       "    </tr>\n",
       "  </thead>\n",
       "  <tbody>\n",
       "    <tr>\n",
       "      <th>1</th>\n",
       "      <td>F</td>\n",
       "      <td>ASIAN</td>\n",
       "      <td>32.409357</td>\n",
       "      <td>64035.657895</td>\n",
       "    </tr>\n",
       "    <tr>\n",
       "      <th>0</th>\n",
       "      <td>F</td>\n",
       "      <td>AMER IND</td>\n",
       "      <td>39.061372</td>\n",
       "      <td>73394.584838</td>\n",
       "    </tr>\n",
       "    <tr>\n",
       "      <th>4</th>\n",
       "      <td>F</td>\n",
       "      <td>WHITE</td>\n",
       "      <td>34.304306</td>\n",
       "      <td>94180.795646</td>\n",
       "    </tr>\n",
       "    <tr>\n",
       "      <th>2</th>\n",
       "      <td>F</td>\n",
       "      <td>BLACK</td>\n",
       "      <td>33.482964</td>\n",
       "      <td>110086.211640</td>\n",
       "    </tr>\n",
       "    <tr>\n",
       "      <th>3</th>\n",
       "      <td>F</td>\n",
       "      <td>HISPANIC</td>\n",
       "      <td>32.014262</td>\n",
       "      <td>151820.763202</td>\n",
       "    </tr>\n",
       "    <tr>\n",
       "      <th>5</th>\n",
       "      <td>M</td>\n",
       "      <td>AMER IND</td>\n",
       "      <td>29.502849</td>\n",
       "      <td>107540.384615</td>\n",
       "    </tr>\n",
       "    <tr>\n",
       "      <th>9</th>\n",
       "      <td>M</td>\n",
       "      <td>WHITE</td>\n",
       "      <td>36.133428</td>\n",
       "      <td>127555.353206</td>\n",
       "    </tr>\n",
       "    <tr>\n",
       "      <th>6</th>\n",
       "      <td>M</td>\n",
       "      <td>ASIAN</td>\n",
       "      <td>35.556954</td>\n",
       "      <td>163587.319069</td>\n",
       "    </tr>\n",
       "    <tr>\n",
       "      <th>8</th>\n",
       "      <td>M</td>\n",
       "      <td>HISPANIC</td>\n",
       "      <td>32.867327</td>\n",
       "      <td>203990.422943</td>\n",
       "    </tr>\n",
       "    <tr>\n",
       "      <th>7</th>\n",
       "      <td>M</td>\n",
       "      <td>BLACK</td>\n",
       "      <td>32.129487</td>\n",
       "      <td>263885.782629</td>\n",
       "    </tr>\n",
       "  </tbody>\n",
       "</table>\n",
       "</div>"
      ],
      "text/plain": [
       "  GENDER      RACE        AGE    BOND AMOUNT\n",
       "1      F     ASIAN  32.409357   64035.657895\n",
       "0      F  AMER IND  39.061372   73394.584838\n",
       "4      F     WHITE  34.304306   94180.795646\n",
       "2      F     BLACK  33.482964  110086.211640\n",
       "3      F  HISPANIC  32.014262  151820.763202\n",
       "5      M  AMER IND  29.502849  107540.384615\n",
       "9      M     WHITE  36.133428  127555.353206\n",
       "6      M     ASIAN  35.556954  163587.319069\n",
       "8      M  HISPANIC  32.867327  203990.422943\n",
       "7      M     BLACK  32.129487  263885.782629"
      ]
     },
     "execution_count": 28,
     "metadata": {},
     "output_type": "execute_result"
    }
   ],
   "source": [
    "age_bond.reset_index().sort_values(['GENDER','BOND AMOUNT'])"
   ]
  },
  {
   "cell_type": "code",
   "execution_count": 29,
   "metadata": {
    "collapsed": false,
    "scrolled": false
   },
   "outputs": [
    {
     "data": {
      "text/plain": [
       "array(['ASSAULT, THIRD DEGREE                 AM',\n",
       "       'FAILURE TO APPEAR, SECOND DEGREE      AM',\n",
       "       'EVADING RESPONSIBILITY                 M',\n",
       "       'CRIMINAL POSSESSION OF A PISTOL       DF',\n",
       "       'BREACH OF PEACE                       BM',\n",
       "       'VIOLATION OF PROBATION OR COND DISCHG',\n",
       "       'CARRYING WEAPONS WITHOUT A PERMIT      F',\n",
       "       'STRANGULATION 2ND DEGREE              DF',\n",
       "       'SALE OF HEROIN, COC BY NON-DEPENDENT',\n",
       "       'ASSAULT, FIRST DEGREE                 BF',\n",
       "       'SALE OF CONTROLLED SUBSTANCE           F',\n",
       "       'ARSON, FIRST DEGREE                   AF',\n",
       "       'CRIM VIOL OF PROTECTIVE ORDER         DF',\n",
       "       'EMPLOYING MINOR IN OBSCENE PERFORMNCE AF',\n",
       "       'ASSAULT, SECOND DEGREE                DF',\n",
       "       'ROBBERY, FIRST DEGREE                 BF',\n",
       "       'SEXUAL ASSAULT, FIRST DEGREE           F',\n",
       "       'SALE OF NARC/AMPHET BY NON-DEPENDENT   F',\n",
       "       'ROBBERY, THIRD DEGREE                 DF',\n",
       "       'POSSESSION OF NARCOTICS',\n",
       "       'BURGLARY, THIRD DEGREE                DF',\n",
       "       'ORGANIZED RETAIL THEFT                 F',\n",
       "       'RECKLESS ENDANGERMENT, FIRST DEGREE   AM',\n",
       "       'ASSAULT ON POLICE OR FIRE OFFICER     CF',\n",
       "       'THREATENING                           AM', 'CRIMINAL ATTEMPT',\n",
       "       'IDENTITY THEFT 2ND DEGREE             CF',\n",
       "       'LARCENY, FIRST DEGREE                 BF',\n",
       "       'INJURY OR RISK OF INJURY TO MINOR      F',\n",
       "       'KIDNAPPING, 2ND DEGREE                BF',\n",
       "       'REG PERSON WHO COMM SEX VIOL OFF      DF',\n",
       "       'CRIMINAL TROVER, 1ST DEGREE            F',\n",
       "       'CRIM VIOL ST CRIM RESTR ORDER         DF',\n",
       "       'OPERATE UNDER INFLU OF LIQ OR DRUGS',\n",
       "       'SALE OF HALLUCIGEN/NARCOTIC SUBSTANCE  F',\n",
       "       'CRIM VIOL RES ORDER                   AM',\n",
       "       'ROBBERY, FIRST DEGREE                BF',\n",
       "       'LARCENY, THIRD DEGREE                 DF',\n",
       "       'CRIMINAL TRESPASS, THIRD DEGREE       CM',\n",
       "       'INTERFERING WITH AN OFFICER           AM',\n",
       "       'BURGLARY, SECOND DEGREE               CF',\n",
       "       'DISORDERLY CONDUCT                    CM',\n",
       "       'LARCENY, SIXTH DEGREE                 CM',\n",
       "       'TAMPERING WITH OR FABRICATING EVIDNC  DF',\n",
       "       'STRANGULATION 1ST DEGREE              CF',\n",
       "       'CRIMINAL IMPERSONATION                BM',\n",
       "       'CONVEY UNAUTHZD ITEMS INTO INST       DF',\n",
       "       'ASSAULT 3RD DEGREE, VICTIM OVER 59    AM',\n",
       "       'DRUG PARAPHERNALIA IN DRUG FACTORY     F',\n",
       "       'REG PERSON WHO COMM OFF AGAINST MINOR DF',\n",
       "       'FAILURE TO APPEAR, FIRST DEGREE       DF', 'ARREST WARRANT',\n",
       "       'HOME INVASION                         AF',\n",
       "       'ROBBERY, SECOND DEGREE                CF',\n",
       "       'MURDER                                AF',\n",
       "       'BURGLARY, FIRST DEGREE                BF', '53A021',\n",
       "       'CRIM VIOL OF PROTECTIVE ORDER         AM',\n",
       "       'CRIMINAL TRESPASS, FIRST DEGREE       AM',\n",
       "       'LARCENY, SECOND DEGREE                CF',\n",
       "       'CRIMINAL MISCHIEF, FIRST DEGREE       DF',\n",
       "       'OPERATING UNDER SUSPENDED LIC OR REG.  M',\n",
       "       'LARCENY, FIFTH DEGREE                 BM',\n",
       "       'INTIMIDATION BSD BIGOTRY/BIAS         DF',\n",
       "       'SEXUAL ASSAULT 1ST DEGREE-AGGRVTD      F',\n",
       "       'CARRYING OR SALE OF DANGEROUS WEAPON',\n",
       "       'CRIMINAL TRESPASS, SECOND DEGREE      BM',\n",
       "       'FLR KEEP NARC IN ORG CONTAINER         F',\n",
       "       'SEXUAL ASSAULT, THIRD DEGREE          DF',\n",
       "       'UNLAWFUL RESTRAINT, FIRST DEGREE      DF',\n",
       "       'PROHIB ACTS RE: DRUG PARAPHERNALIA',\n",
       "       'HARASSMENT 1ST DEGREE                 DF',\n",
       "       'POSSESS OF HALLUC OR 4+ OZ MARIJUANA   F',\n",
       "       'PURGE CIVIL COMMITMENT', 'ILLEGAL MANUFACTUAL OR SALE OF DRUGS',\n",
       "       'FORGERY, FIRST DEGREE                 CF',\n",
       "       'ARREST WITHOUT WARRANT',\n",
       "       'KIDNAPPING, FIRST DEGREE              AF',\n",
       "       'FAILURE TO PAY OR PLEAD                M',\n",
       "       'POSSESSION OF SHOTGUN OR SILENCER     DF',\n",
       "       'STEALING A FIREARM                    DF',\n",
       "       'FELONY MURDER                         AF', 'CONSPIRACY',\n",
       "       'INJURY/RISK OF INJURY TO MINOR- SEXUAL C',\n",
       "       'BURGLARY, FIRST DEGREE: 53A101A(2)    BF',\n",
       "       'CRIMINAL MISCHIEF, SECOND DEGREE      AM',\n",
       "       'ALTERING OR REMOVING IDENT NUMBER      F',\n",
       "       'ILLEGAL POSSES OF SHOP LIFTING DEVICE AM',\n",
       "       'CARRYING WEAPON IN A MOTOR VEHICLE     F',\n",
       "       'POSSESS OF LT 4 OZ MJ OR CONTROLD SUB',\n",
       "       'STALKING, 3RD DEGREE                  BM',\n",
       "       'ASSAULT, 1ST VICTIM 60 OR OVER        BF',\n",
       "       'CRIMINAL POSS OF PISTOL/REVOLVER      DF',\n",
       "       'SEXUAL ASSAULT, SECOND DEGREE          F',\n",
       "       'RECKLESS ENDANGERMENT, SECOND DEGREE  BM',\n",
       "       'MANSLAUGHTER 2ND WITH MV (INTOX)      CF',\n",
       "       'FAILURE TO OBEY AN OFFICER',\n",
       "       'STALKING, 2ND DEGREE                  AM',\n",
       "       'FORGERY, SECOND DEGREE                DF',\n",
       "       'ESCAPE, FIRST DEGREE                  CF',\n",
       "       'FORGERY, THIRD DEGREE                 BM',\n",
       "       'CARRY PIST/RVOLV W/O PERMIT', 'VIOLATION OF CONDITIONS OF RELEASE',\n",
       "       'INTERFERING WITH AN EMERGENCY CALL    AM',\n",
       "       'STRANGULATION 3RD DEGREE',\n",
       "       'CRIMINAL MISCHIEF, FOURTH DEGREE      CM',\n",
       "       'MANSLAUGHTER, FIRST DEGREE, FIREARM   BF', 'SPECIAL PAROLE',\n",
       "       'CRIMINAL MISCHIEF, THIRD DEGREE       BM',\n",
       "       'CRIMINAL LIABILITY FOR ANOTHER PERSON',\n",
       "       'CRIM DAMAGE PROPERTY 1ST DEG          DF',\n",
       "       'MANUF OR POSSESSION OF BURGLAR TOOLS  AM',\n",
       "       'LEAV CHILD UNSUPERV IN PUBL/MOT VEH    C',\n",
       "       'PROMOTING PROSTITUTION, SECOND DEGREE CF',\n",
       "       'SELLING WEAPONS TO ALIENS PROHIBITED   F', 'ESCAPE FROM CUSTODY',\n",
       "       'IDENTITY THEFT 1ST DEGREE             BF',\n",
       "       'IDENTITY THEFT 3RD DEGREE             DF',\n",
       "       'MANSLAUGHTER, FIRST DEGREE            BF',\n",
       "       'MISREP OF SUB AS CONTROLLED SUB       DF',\n",
       "       'KIDNAPPING 2ND DEG W/ FIREARM         BF',\n",
       "       'THREATENING 1ST DEGREE                DF',\n",
       "       'POSS OF WEAPON IN A CCI               BF',\n",
       "       'BURGLARY, SECOND DEGREE WITH FIREARM  CF',\n",
       "       'INJUNCTION AND RESTRAINING ORDER',\n",
       "       'HARASSMENT, 2ND DEGREE                CM',\n",
       "       'DRIVING WHILE LICENSE SUSP FOR DWI',\n",
       "       'MANSLAUGHTER, SECOND DEGREE           CF',\n",
       "       'ASSAULT 2ND WITH MV WHILE INTOXICATED DF',\n",
       "       'CRIMINAL USE OF A FIREARM             DF',\n",
       "       'ILL CARRY FIREARM-UI DRUGS/ALC', 'DRUGS NEAR PROBIBITED PLACE',\n",
       "       'TAMPERING WITH WITNESS                DF',\n",
       "       'RECKLESS BURNING                      DF',\n",
       "       'SEXUAL ASSAULT, FOURTH DEGREE         AM',\n",
       "       'USING MOTOR VEHICLE W/O PERMISSION',\n",
       "       'ILLEGAL REFUSAL OF DNA TESTING',\n",
       "       'CAPITAL FELONY                         F',\n",
       "       'UNLAWFUL RESTRAINT, SECOND DEGREE     AM', 'CREDIT CARD THEFT',\n",
       "       'NEGLIGENT HOMICIDE W/ MOTOR VEHICLE   BM',\n",
       "       'CRIMINALLY NEGLIGENT HOMICIDE         AM', 'PROHIBITED ACTIVITIES',\n",
       "       'PROMOTING PROSTITUTION, FIRST DEGREE  BF',\n",
       "       'PROSTITUTION                          AM',\n",
       "       'RECEIVING STOLEN PROPERTY, LARCENY     M',\n",
       "       'ILL POSSESS CHILD PORN 3RD DEG        DF',\n",
       "       'IMPORTING CHILD PORNOGRAPHY            F',\n",
       "       'TRAFFICKING IN PERSONS                BF',\n",
       "       'PROHIB ACTS RE: DRUG PARA, SCHOOL',\n",
       "       'IMPERSONATION OF POLICE OFFICER       DF',\n",
       "       'KIDNAPPING 1ST DEG W/ FIREARM         AF',\n",
       "       'INTIMIDATING A WITNESS                CF',\n",
       "       'POSSESSING CHILD PORNOGRAPH            F',\n",
       "       'BURGLARY, THIRD DEGREE WITH FIREARM   DF', 'YOUTHFUL OFFENDER',\n",
       "       'POSS OF ASSAULT WEAPON PROHIBITED',\n",
       "       'SEX ASLT, SPOUSE/COHAB RELATIONSHIP   BF',\n",
       "       'STALKING, 1ST DEGREE                  DF',\n",
       "       'MISCONDUCT WITH A MOTOR VEHICLE       DF',\n",
       "       'MISAPPLICATION OF PROPERTY            AM',\n",
       "       'USE OF MACHINE GUN IN A CRIME  DELETED F',\n",
       "       'SALE, CARRY & BRAND OF FACSIMILE',\n",
       "       'ASSAULT 2ND DEGREE WITH A FIREARM     DF',\n",
       "       'UNLAWFUL REPRODUCTION OF CREDIT CARD  DF',\n",
       "       'LARCENY, FOURTH DEGREE                AM',\n",
       "       'RAPE, SECOND DEGREE                   CF',\n",
       "       'PERMITTING PROSTITUTION               AM',\n",
       "       'HINDERING PROSECUTION 2ND DEG',\n",
       "       'REGULATION OF RESTRICTED SUBSTANCES',\n",
       "       'FOLLOW TOO CLOSELY W/ INTENT TO HARASS M',\n",
       "       'PRACTICE OF LAW BY NON-ATTORNEYS       M',\n",
       "       'AGGAVTD SEX ASSLT-VCTM < 13YR         AF',\n",
       "       'INTERSTATE PAROLE COMPACT',\n",
       "       'POSS WEAPON ON SCHOOL GROUNDS         DF',\n",
       "       'PRIMARY OFFENSE NOT DETERMINED',\n",
       "       'PUBLIC INDECENCY                      BM',\n",
       "       'ILLEGAL POSSESSION OF EXPLOSIVES       F',\n",
       "       'VIOLATE COND OF RELEASE-2ND DEG       AM',\n",
       "       'HINDER PROSECUTION, FIRST DEGREE      DF', 'ISSUING A BAD CHECK',\n",
       "       'ILLEGAL USE OF CREDIT CARD',\n",
       "       'DRINKING WHILE OPERATING MOTOR VEHICL CM', 'SIMPLE TRESPASS',\n",
       "       'AFFIRMATIVE DEFENSES TO CIMINAL TRESPASS',\n",
       "       'DIVERT FR STATE BENE LBR EMPLOYEES    AM',\n",
       "       'APPLICATION TO PURCHASE A FIREARM', 'FOLLOWING TOO CLOSELY',\n",
       "       'INJURY TO BAGGAGE ON PUBLIC CONVEYANCE M',\n",
       "       'TAMPERING W/AIRPORT OR AIRWAYS',\n",
       "       'EVADING RESPONSIBILITY, OTHER THAN MV  M',\n",
       "       'ILL AFFIX FRAUDULENT                   F',\n",
       "       'ARSON, THIRD DEGREE                   CF',\n",
       "       'ARSON, SECOND DEGREE                  BF',\n",
       "       'OPERATE UNDER INFLU OF LIQ OR DRUGS    M',\n",
       "       'ABUSE OF PERSONS-1ST DEGREE           CF',\n",
       "       'CRIMINAL CONTEMPT                      M',\n",
       "       'HINDERING PROSECUTION 3RD DEG         DF',\n",
       "       'OPERATING MV W/O INSURANCE            CM', 'TEMPORARY SURRENDER',\n",
       "       'FAILURE TO PAY WAGES', 'CREATING A PUBLIC DISTURBANCE',\n",
       "       'INCITING INJURY TO PERSONS OR PROPTY  CF',\n",
       "       'INJURY TO FENCES, GATES, OTHER PROP    M',\n",
       "       'USING MACHINE GUN IN CRIME             F',\n",
       "       'ILLEGAL GAIN FROM CREDIT CARD         AM',\n",
       "       'NOTICES IN SALES AGRREMENT           UM',\n",
       "       'FALSELY REPORTING AN INCIDENT 2ND     AM',\n",
       "       'THEFT OF POULTRY                       M', 'CRUELTY TO ANIMALS',\n",
       "       'RECKLESS DRIVING                       M',\n",
       "       'PROMOTING PROSTITUTION, THIRD DEGREE  DF',\n",
       "       'FAILURE TO OBEY STOP SIGN', '(REPEALED) 53-173',\n",
       "       'IL TRAFFIC IN PERSONAL ID INFO        DF',\n",
       "       'SPEEDING                               M',\n",
       "       'DRIVING IMPROPERLY ON MULTI-LANE HWY',\n",
       "       'ABUSE OF PERSONS-2ND DEGREE           DF',\n",
       "       'ASSAULT 2ND, VICTIM 60 OR OVER        DF', 'COERCION',\n",
       "       'COMMIT SEXUAL OFF IN ANOTHER JURIS    DF',\n",
       "       'OBTAINING DRUGS ILLEGALLY', 'VOYEURISM', 'FORGERY RELATED',\n",
       "       'ILL OP MV WO IGNITION DEVICE          CM',\n",
       "       'VIO DEADLY WEAPON REGIST REQS         DF',\n",
       "       'UNFAIR OR DECEPTIVE PRAC OR ACT',\n",
       "       'CRIMINAL MISREPRESENTATION            CF',\n",
       "       'STARTING OR BACKING VEHICLE',\n",
       "       'IMPROPER USE OF MARKER, LICENSE, REG   M', 'EXTRADITION',\n",
       "       'CRIM DAMAGE PROPERTY 2ND DEG          AM',\n",
       "       'PATRONIZING A PROSTITUTE              AM',\n",
       "       'ENCOURAGING THE COMMISSION OF ABORTION M',\n",
       "       'USE OF HIGHWAY BY PEDESTRIAN           M',\n",
       "       'COUNTERFEITING MARKER PLATES           M',\n",
       "       'IL POS LRG CAP MAG OBT AF 4/13        DF',\n",
       "       'SHOTGUNS AND RIFLES IN VEHICLE         M',\n",
       "       'FORGERY OF SYMBOLS                    AM',\n",
       "       'MONEY LAUNDERING FOURTH DEGREE        AM',\n",
       "       'SOLICITING RIDES FROM MOTOR VEHICLES   M',\n",
       "       'IDENTITY THEFT DEFINED                DF',\n",
       "       'FAILURE TO CARRY MIN INSURANCE         M',\n",
       "       'OPERATING MV W/O A LICENSE',\n",
       "       'INTIMIDATION BSD BIGOTRY/BIAS, 1ST    CF',\n",
       "       'FAILURE TO OBEY TRAFFIC SIGNALS', 'CHEATING AT GAMBLING',\n",
       "       'FALSELY REPORTING INCIDENT'], dtype=object)"
      ]
     },
     "execution_count": 29,
     "metadata": {},
     "output_type": "execute_result"
    }
   ],
   "source": [
    "d.OFFENSE.unique()"
   ]
  },
  {
   "cell_type": "code",
   "execution_count": 30,
   "metadata": {
    "collapsed": true
   },
   "outputs": [],
   "source": [
    "# 6. Create a new column `offence_code` with the code of the \n",
    "# offense if it exists (otherwise nan)"
   ]
  },
  {
   "cell_type": "code",
   "execution_count": 31,
   "metadata": {
    "collapsed": false
   },
   "outputs": [
    {
     "data": {
      "text/html": [
       "<div>\n",
       "<table border=\"1\" class=\"dataframe\">\n",
       "  <thead>\n",
       "    <tr style=\"text-align: right;\">\n",
       "      <th></th>\n",
       "      <th>DOWNLOAD DATE</th>\n",
       "      <th>IDENTIFIER</th>\n",
       "      <th>LATEST ADMISSION DATE</th>\n",
       "      <th>RACE</th>\n",
       "      <th>GENDER</th>\n",
       "      <th>AGE</th>\n",
       "      <th>BOND AMOUNT</th>\n",
       "      <th>OFFENSE</th>\n",
       "      <th>FACILITY</th>\n",
       "      <th>offense_code</th>\n",
       "      <th>DETAINER</th>\n",
       "    </tr>\n",
       "  </thead>\n",
       "  <tbody>\n",
       "    <tr>\n",
       "      <th>0</th>\n",
       "      <td>07/01/2016</td>\n",
       "      <td>ZZEBBEWZ</td>\n",
       "      <td>06/17/2016</td>\n",
       "      <td>WHITE</td>\n",
       "      <td>M</td>\n",
       "      <td>63</td>\n",
       "      <td>5000</td>\n",
       "      <td>ASSAULT, THIRD DEGREE                 AM</td>\n",
       "      <td>CORRIGAN CI</td>\n",
       "      <td>AM</td>\n",
       "      <td>NONE</td>\n",
       "    </tr>\n",
       "    <tr>\n",
       "      <th>1</th>\n",
       "      <td>07/01/2016</td>\n",
       "      <td>ZZEBBRZC</td>\n",
       "      <td>06/30/2016</td>\n",
       "      <td>BLACK</td>\n",
       "      <td>M</td>\n",
       "      <td>42</td>\n",
       "      <td>500</td>\n",
       "      <td>FAILURE TO APPEAR, SECOND DEGREE      AM</td>\n",
       "      <td>HARTFORD CC</td>\n",
       "      <td>AM</td>\n",
       "      <td>NONE</td>\n",
       "    </tr>\n",
       "    <tr>\n",
       "      <th>2</th>\n",
       "      <td>07/01/2016</td>\n",
       "      <td>ZZEBCBHC</td>\n",
       "      <td>06/06/2016</td>\n",
       "      <td>WHITE</td>\n",
       "      <td>M</td>\n",
       "      <td>60</td>\n",
       "      <td>40000</td>\n",
       "      <td>EVADING RESPONSIBILITY                 M</td>\n",
       "      <td>HARTFORD CC</td>\n",
       "      <td>M</td>\n",
       "      <td>NONE</td>\n",
       "    </tr>\n",
       "    <tr>\n",
       "      <th>3</th>\n",
       "      <td>07/01/2016</td>\n",
       "      <td>ZZEBCCWL</td>\n",
       "      <td>04/25/2016</td>\n",
       "      <td>HISPANIC</td>\n",
       "      <td>M</td>\n",
       "      <td>44</td>\n",
       "      <td>125000</td>\n",
       "      <td>CRIMINAL POSSESSION OF A PISTOL       DF</td>\n",
       "      <td>HARTFORD CC</td>\n",
       "      <td>DF</td>\n",
       "      <td>NONE</td>\n",
       "    </tr>\n",
       "    <tr>\n",
       "      <th>4</th>\n",
       "      <td>07/01/2016</td>\n",
       "      <td>ZZEBCHBZ</td>\n",
       "      <td>06/21/2016</td>\n",
       "      <td>HISPANIC</td>\n",
       "      <td>M</td>\n",
       "      <td>58</td>\n",
       "      <td>2500</td>\n",
       "      <td>BREACH OF PEACE                       BM</td>\n",
       "      <td>CORRIGAN CI</td>\n",
       "      <td>BM</td>\n",
       "      <td>NONE</td>\n",
       "    </tr>\n",
       "  </tbody>\n",
       "</table>\n",
       "</div>"
      ],
      "text/plain": [
       "  DOWNLOAD DATE IDENTIFIER LATEST ADMISSION DATE      RACE GENDER  AGE  \\\n",
       "0    07/01/2016   ZZEBBEWZ            06/17/2016     WHITE      M   63   \n",
       "1    07/01/2016   ZZEBBRZC            06/30/2016     BLACK      M   42   \n",
       "2    07/01/2016   ZZEBCBHC            06/06/2016     WHITE      M   60   \n",
       "3    07/01/2016   ZZEBCCWL            04/25/2016  HISPANIC      M   44   \n",
       "4    07/01/2016   ZZEBCHBZ            06/21/2016  HISPANIC      M   58   \n",
       "\n",
       "   BOND AMOUNT                                   OFFENSE     FACILITY  \\\n",
       "0         5000  ASSAULT, THIRD DEGREE                 AM  CORRIGAN CI   \n",
       "1          500  FAILURE TO APPEAR, SECOND DEGREE      AM  HARTFORD CC   \n",
       "2        40000  EVADING RESPONSIBILITY                 M  HARTFORD CC   \n",
       "3       125000  CRIMINAL POSSESSION OF A PISTOL       DF  HARTFORD CC   \n",
       "4         2500  BREACH OF PEACE                       BM  CORRIGAN CI   \n",
       "\n",
       "  offense_code DETAINER                                          \n",
       "0           AM                                             NONE  \n",
       "1           AM                                             NONE  \n",
       "2            M                                             NONE  \n",
       "3           DF                                             NONE  \n",
       "4           BM                                             NONE  "
      ]
     },
     "execution_count": 31,
     "metadata": {},
     "output_type": "execute_result"
    }
   ],
   "source": [
    "def find_offense_code(value):\n",
    "    if ' ' in value[-3:]:\n",
    "        return value[-2:].replace(' ','')\n",
    "    else:\n",
    "        return np.nan\n",
    "    \n",
    "d.insert(9, 'offense_code', d['OFFENSE'].apply(find_offense_code))\n",
    "d.head()\n",
    "    \n"
   ]
  },
  {
   "cell_type": "code",
   "execution_count": 32,
   "metadata": {
    "collapsed": false
   },
   "outputs": [],
   "source": [
    "def parse_code(x):\n",
    "    x = x.split()\n",
    "    if len(x[-1]) < 3:\n",
    "        return x[-1]\n",
    "    else:\n",
    "        return np.nan\n",
    "\n",
    "d['offense_code2'] = d.OFFENSE.map(parse_code)"
   ]
  },
  {
   "cell_type": "code",
   "execution_count": 33,
   "metadata": {
    "collapsed": false
   },
   "outputs": [
    {
     "data": {
      "text/plain": [
       "'goodbye'"
      ]
     },
     "execution_count": 33,
     "metadata": {},
     "output_type": "execute_result"
    }
   ],
   "source": [
    "'hello person              goodbye'.split()[-1]"
   ]
  },
  {
   "cell_type": "code",
   "execution_count": 34,
   "metadata": {
    "collapsed": false
   },
   "outputs": [
    {
     "data": {
      "text/html": [
       "<div>\n",
       "<table border=\"1\" class=\"dataframe\">\n",
       "  <thead>\n",
       "    <tr style=\"text-align: right;\">\n",
       "      <th></th>\n",
       "      <th>DOWNLOAD DATE</th>\n",
       "      <th>IDENTIFIER</th>\n",
       "      <th>LATEST ADMISSION DATE</th>\n",
       "      <th>RACE</th>\n",
       "      <th>GENDER</th>\n",
       "      <th>AGE</th>\n",
       "      <th>BOND AMOUNT</th>\n",
       "      <th>OFFENSE</th>\n",
       "      <th>FACILITY</th>\n",
       "      <th>offense_code</th>\n",
       "      <th>DETAINER</th>\n",
       "      <th>offense_code2</th>\n",
       "    </tr>\n",
       "  </thead>\n",
       "  <tbody>\n",
       "    <tr>\n",
       "      <th>0</th>\n",
       "      <td>07/01/2016</td>\n",
       "      <td>ZZEBBEWZ</td>\n",
       "      <td>06/17/2016</td>\n",
       "      <td>WHITE</td>\n",
       "      <td>M</td>\n",
       "      <td>63</td>\n",
       "      <td>5000</td>\n",
       "      <td>ASSAULT, THIRD DEGREE                 AM</td>\n",
       "      <td>CORRIGAN CI</td>\n",
       "      <td>AM</td>\n",
       "      <td>NONE</td>\n",
       "      <td>AM</td>\n",
       "    </tr>\n",
       "    <tr>\n",
       "      <th>1</th>\n",
       "      <td>07/01/2016</td>\n",
       "      <td>ZZEBBRZC</td>\n",
       "      <td>06/30/2016</td>\n",
       "      <td>BLACK</td>\n",
       "      <td>M</td>\n",
       "      <td>42</td>\n",
       "      <td>500</td>\n",
       "      <td>FAILURE TO APPEAR, SECOND DEGREE      AM</td>\n",
       "      <td>HARTFORD CC</td>\n",
       "      <td>AM</td>\n",
       "      <td>NONE</td>\n",
       "      <td>AM</td>\n",
       "    </tr>\n",
       "  </tbody>\n",
       "</table>\n",
       "</div>"
      ],
      "text/plain": [
       "  DOWNLOAD DATE IDENTIFIER LATEST ADMISSION DATE   RACE GENDER  AGE  \\\n",
       "0    07/01/2016   ZZEBBEWZ            06/17/2016  WHITE      M   63   \n",
       "1    07/01/2016   ZZEBBRZC            06/30/2016  BLACK      M   42   \n",
       "\n",
       "   BOND AMOUNT                                   OFFENSE     FACILITY  \\\n",
       "0         5000  ASSAULT, THIRD DEGREE                 AM  CORRIGAN CI   \n",
       "1          500  FAILURE TO APPEAR, SECOND DEGREE      AM  HARTFORD CC   \n",
       "\n",
       "  offense_code DETAINER                                         offense_code2  \n",
       "0           AM                                             NONE            AM  \n",
       "1           AM                                             NONE            AM  "
      ]
     },
     "execution_count": 34,
     "metadata": {},
     "output_type": "execute_result"
    }
   ],
   "source": [
    "d.head(2)"
   ]
  },
  {
   "cell_type": "code",
   "execution_count": 35,
   "metadata": {
    "collapsed": false
   },
   "outputs": [
    {
     "data": {
      "text/plain": [
       "DF    81794\n",
       "F     53796\n",
       "BF    41618\n",
       "AM    35172\n",
       "AF    23048\n",
       "CF    20752\n",
       "CM     5036\n",
       "BM     3561\n",
       "M      1524\n",
       "C      1038\n",
       "UM        1\n",
       "Name: offense_code2, dtype: int64"
      ]
     },
     "execution_count": 35,
     "metadata": {},
     "output_type": "execute_result"
    }
   ],
   "source": [
    "d.offense_code2.value_counts()"
   ]
  },
  {
   "cell_type": "code",
   "execution_count": 36,
   "metadata": {
    "collapsed": false
   },
   "outputs": [
    {
     "data": {
      "text/plain": [
       "112350    NOTICES IN SALES AGRREMENT           UM\n",
       "Name: OFFENSE, dtype: object"
      ]
     },
     "execution_count": 36,
     "metadata": {},
     "output_type": "execute_result"
    }
   ],
   "source": [
    "d[d.offense_code2 == 'UM'].OFFENSE"
   ]
  },
  {
   "cell_type": "code",
   "execution_count": 37,
   "metadata": {
    "collapsed": false
   },
   "outputs": [],
   "source": [
    "mask = (~d.offense_code.isnull()) & (d.offense_code != d.offense_code2)"
   ]
  },
  {
   "cell_type": "code",
   "execution_count": 38,
   "metadata": {
    "collapsed": false
   },
   "outputs": [
    {
     "data": {
      "text/plain": [
       "0"
      ]
     },
     "execution_count": 38,
     "metadata": {},
     "output_type": "execute_result"
    }
   ],
   "source": [
    "mask.sum()"
   ]
  },
  {
   "cell_type": "code",
   "execution_count": 39,
   "metadata": {
    "collapsed": false
   },
   "outputs": [
    {
     "data": {
      "text/html": [
       "<div>\n",
       "<table border=\"1\" class=\"dataframe\">\n",
       "  <thead>\n",
       "    <tr style=\"text-align: right;\">\n",
       "      <th></th>\n",
       "      <th>DOWNLOAD DATE</th>\n",
       "      <th>IDENTIFIER</th>\n",
       "      <th>LATEST ADMISSION DATE</th>\n",
       "      <th>RACE</th>\n",
       "      <th>GENDER</th>\n",
       "      <th>AGE</th>\n",
       "      <th>BOND AMOUNT</th>\n",
       "      <th>OFFENSE</th>\n",
       "      <th>FACILITY</th>\n",
       "      <th>offense_code</th>\n",
       "      <th>DETAINER</th>\n",
       "      <th>offense_code2</th>\n",
       "    </tr>\n",
       "  </thead>\n",
       "  <tbody>\n",
       "    <tr>\n",
       "      <th>0</th>\n",
       "      <td>07/01/2016</td>\n",
       "      <td>ZZEBBEWZ</td>\n",
       "      <td>06/17/2016</td>\n",
       "      <td>WHITE</td>\n",
       "      <td>M</td>\n",
       "      <td>63</td>\n",
       "      <td>5000</td>\n",
       "      <td>ASSAULT, THIRD DEGREE                 AM</td>\n",
       "      <td>CORRIGAN CI</td>\n",
       "      <td>AM</td>\n",
       "      <td>NONE</td>\n",
       "      <td>AM</td>\n",
       "    </tr>\n",
       "    <tr>\n",
       "      <th>1</th>\n",
       "      <td>07/01/2016</td>\n",
       "      <td>ZZEBBRZC</td>\n",
       "      <td>06/30/2016</td>\n",
       "      <td>BLACK</td>\n",
       "      <td>M</td>\n",
       "      <td>42</td>\n",
       "      <td>500</td>\n",
       "      <td>FAILURE TO APPEAR, SECOND DEGREE      AM</td>\n",
       "      <td>HARTFORD CC</td>\n",
       "      <td>AM</td>\n",
       "      <td>NONE</td>\n",
       "      <td>AM</td>\n",
       "    </tr>\n",
       "    <tr>\n",
       "      <th>2</th>\n",
       "      <td>07/01/2016</td>\n",
       "      <td>ZZEBCBHC</td>\n",
       "      <td>06/06/2016</td>\n",
       "      <td>WHITE</td>\n",
       "      <td>M</td>\n",
       "      <td>60</td>\n",
       "      <td>40000</td>\n",
       "      <td>EVADING RESPONSIBILITY                 M</td>\n",
       "      <td>HARTFORD CC</td>\n",
       "      <td>M</td>\n",
       "      <td>NONE</td>\n",
       "      <td>M</td>\n",
       "    </tr>\n",
       "    <tr>\n",
       "      <th>3</th>\n",
       "      <td>07/01/2016</td>\n",
       "      <td>ZZEBCCWL</td>\n",
       "      <td>04/25/2016</td>\n",
       "      <td>HISPANIC</td>\n",
       "      <td>M</td>\n",
       "      <td>44</td>\n",
       "      <td>125000</td>\n",
       "      <td>CRIMINAL POSSESSION OF A PISTOL       DF</td>\n",
       "      <td>HARTFORD CC</td>\n",
       "      <td>DF</td>\n",
       "      <td>NONE</td>\n",
       "      <td>DF</td>\n",
       "    </tr>\n",
       "    <tr>\n",
       "      <th>4</th>\n",
       "      <td>07/01/2016</td>\n",
       "      <td>ZZEBCHBZ</td>\n",
       "      <td>06/21/2016</td>\n",
       "      <td>HISPANIC</td>\n",
       "      <td>M</td>\n",
       "      <td>58</td>\n",
       "      <td>2500</td>\n",
       "      <td>BREACH OF PEACE                       BM</td>\n",
       "      <td>CORRIGAN CI</td>\n",
       "      <td>BM</td>\n",
       "      <td>NONE</td>\n",
       "      <td>BM</td>\n",
       "    </tr>\n",
       "  </tbody>\n",
       "</table>\n",
       "</div>"
      ],
      "text/plain": [
       "  DOWNLOAD DATE IDENTIFIER LATEST ADMISSION DATE      RACE GENDER  AGE  \\\n",
       "0    07/01/2016   ZZEBBEWZ            06/17/2016     WHITE      M   63   \n",
       "1    07/01/2016   ZZEBBRZC            06/30/2016     BLACK      M   42   \n",
       "2    07/01/2016   ZZEBCBHC            06/06/2016     WHITE      M   60   \n",
       "3    07/01/2016   ZZEBCCWL            04/25/2016  HISPANIC      M   44   \n",
       "4    07/01/2016   ZZEBCHBZ            06/21/2016  HISPANIC      M   58   \n",
       "\n",
       "   BOND AMOUNT                                   OFFENSE     FACILITY  \\\n",
       "0         5000  ASSAULT, THIRD DEGREE                 AM  CORRIGAN CI   \n",
       "1          500  FAILURE TO APPEAR, SECOND DEGREE      AM  HARTFORD CC   \n",
       "2        40000  EVADING RESPONSIBILITY                 M  HARTFORD CC   \n",
       "3       125000  CRIMINAL POSSESSION OF A PISTOL       DF  HARTFORD CC   \n",
       "4         2500  BREACH OF PEACE                       BM  CORRIGAN CI   \n",
       "\n",
       "  offense_code DETAINER                                         offense_code2  \n",
       "0           AM                                             NONE            AM  \n",
       "1           AM                                             NONE            AM  \n",
       "2            M                                             NONE             M  \n",
       "3           DF                                             NONE            DF  \n",
       "4           BM                                             NONE            BM  "
      ]
     },
     "execution_count": 39,
     "metadata": {},
     "output_type": "execute_result"
    }
   ],
   "source": [
    "d.head()"
   ]
  },
  {
   "cell_type": "code",
   "execution_count": 40,
   "metadata": {
    "collapsed": true
   },
   "outputs": [],
   "source": [
    "# 7. Make a \"long-format\" dataframe with IDENTIFIER as the \n",
    "#    id column and the data on RACE, GENDER, AGE and offense_code in the variable and value\n",
    "#    columns."
   ]
  },
  {
   "cell_type": "code",
   "execution_count": 41,
   "metadata": {
    "collapsed": true
   },
   "outputs": [],
   "source": [
    "d_long = pd.melt(d, id_vars='IDENTIFIER', value_vars=['RACE', 'GENDER', 'AGE', 'offense_code'])"
   ]
  },
  {
   "cell_type": "code",
   "execution_count": 42,
   "metadata": {
    "collapsed": false
   },
   "outputs": [],
   "source": [
    "d_wide = d[['IDENTIFIER','RACE','GENDER','AGE','offense_code']]"
   ]
  },
  {
   "cell_type": "code",
   "execution_count": 43,
   "metadata": {
    "collapsed": false
   },
   "outputs": [
    {
     "name": "stdout",
     "output_type": "stream",
     "text": [
      "(1385928, 3) (346482, 5)\n"
     ]
    }
   ],
   "source": [
    "print d_long.shape, d_wide.shape"
   ]
  },
  {
   "cell_type": "code",
   "execution_count": 44,
   "metadata": {
    "collapsed": false
   },
   "outputs": [
    {
     "data": {
      "text/plain": [
       "4157784"
      ]
     },
     "execution_count": 44,
     "metadata": {},
     "output_type": "execute_result"
    }
   ],
   "source": [
    "d_long.shape[0]*d_long.shape[1]"
   ]
  },
  {
   "cell_type": "code",
   "execution_count": 45,
   "metadata": {
    "collapsed": false
   },
   "outputs": [
    {
     "data": {
      "text/plain": [
       "1732410"
      ]
     },
     "execution_count": 45,
     "metadata": {},
     "output_type": "execute_result"
    }
   ],
   "source": [
    "d_wide.shape[0]*d_wide.shape[1]"
   ]
  },
  {
   "cell_type": "code",
   "execution_count": 46,
   "metadata": {
    "collapsed": true
   },
   "outputs": [],
   "source": [
    "d_long_nona = d_long.dropna()"
   ]
  },
  {
   "cell_type": "code",
   "execution_count": 47,
   "metadata": {
    "collapsed": false
   },
   "outputs": [
    {
     "data": {
      "text/plain": [
       "3920358"
      ]
     },
     "execution_count": 47,
     "metadata": {},
     "output_type": "execute_result"
    }
   ],
   "source": [
    "d_long_nona.shape[0]*d_long_nona.shape[1]"
   ]
  },
  {
   "cell_type": "code",
   "execution_count": 48,
   "metadata": {
    "collapsed": false
   },
   "outputs": [
    {
     "data": {
      "text/plain": [
       "'katerina'"
      ]
     },
     "execution_count": 48,
     "metadata": {},
     "output_type": "execute_result"
    }
   ],
   "source": [
    "sc.get_student()"
   ]
  },
  {
   "cell_type": "code",
   "execution_count": 49,
   "metadata": {
    "collapsed": false
   },
   "outputs": [
    {
     "data": {
      "text/plain": [
       "HARTFORD CC            72549\n",
       "BRIDGEPORT CC          61675\n",
       "NEW HAVEN CC           58273\n",
       "YORK CI                35177\n",
       "CORRIGAN CI            33858\n",
       "MANSON YI              26848\n",
       "NORTHERN CI            17917\n",
       "MACDOUGALL             12396\n",
       "GARNER                 10822\n",
       "WALKER RC              10645\n",
       "OSBORN CI               3791\n",
       "CHESHIRE CI             1434\n",
       "MH-CVH                   311\n",
       "ROBINSON CI              264\n",
       "UCONN HOSP               140\n",
       "WILLARD-CYBULSKI CI      110\n",
       "MH-WHITING                68\n",
       "FEDERAL MARSHAL           57\n",
       "ENFIELD CI                50\n",
       "YALE/N.H.HOSP             26\n",
       "ST VINC HOSP              20\n",
       "HARTFORD HOSP             11\n",
       "LAWRENCE HOSP             10\n",
       "WATERBRY HOSP              8\n",
       "ST MARYS HOSP              8\n",
       "MH-YALE/N.H.               5\n",
       "MEDICAL HOSP               4\n",
       "D KIMBALL HSP              2\n",
       "MH-ST MARY                 2\n",
       "JOHNSON HOSP               1\n",
       "Name: FACILITY, dtype: int64"
      ]
     },
     "execution_count": 49,
     "metadata": {},
     "output_type": "execute_result"
    }
   ],
   "source": [
    "d.FACILITY.value_counts()"
   ]
  },
  {
   "cell_type": "code",
   "execution_count": 50,
   "metadata": {
    "collapsed": false
   },
   "outputs": [],
   "source": [
    "second_word_list = []\n",
    "\n",
    "for words in d.FACILITY:\n",
    "    words = words.split()\n",
    "#     print words\n",
    "    if len(words) > 1:\n",
    "        second_word = words.pop()\n",
    "        second_word_list.append(second_word)\n",
    "    else:\n",
    "        second_word_list.append(words.pop())\n",
    "    "
   ]
  },
  {
   "cell_type": "code",
   "execution_count": 51,
   "metadata": {
    "collapsed": false
   },
   "outputs": [],
   "source": [
    "d['second_word'] = d['FACILITY'].map(lambda value: value.split()[-1])"
   ]
  },
  {
   "cell_type": "code",
   "execution_count": 52,
   "metadata": {
    "collapsed": false
   },
   "outputs": [
    {
     "data": {
      "text/plain": [
       "220901    MH-YALE/N.H.\n",
       "225412    MH-YALE/N.H.\n",
       "230802    MH-YALE/N.H.\n",
       "231110    MH-YALE/N.H.\n",
       "237210    MH-YALE/N.H.\n",
       "Name: second_word, dtype: object"
      ]
     },
     "execution_count": 52,
     "metadata": {},
     "output_type": "execute_result"
    }
   ],
   "source": [
    "d['second_word'][d['FACILITY'] == 'MH-YALE/N.H.']"
   ]
  },
  {
   "cell_type": "code",
   "execution_count": 53,
   "metadata": {
    "collapsed": false
   },
   "outputs": [
    {
     "data": {
      "text/plain": [
       "'laura'"
      ]
     },
     "execution_count": 53,
     "metadata": {},
     "output_type": "execute_result"
    }
   ],
   "source": [
    "sc.get_student()"
   ]
  },
  {
   "cell_type": "code",
   "execution_count": 54,
   "metadata": {
    "collapsed": false,
    "scrolled": false
   },
   "outputs": [
    {
     "data": {
      "text/html": [
       "<div>\n",
       "<table border=\"1\" class=\"dataframe\">\n",
       "  <thead>\n",
       "    <tr style=\"text-align: right;\">\n",
       "      <th></th>\n",
       "      <th>GENDER</th>\n",
       "      <th>RACE</th>\n",
       "      <th>DOWNLOAD DATE</th>\n",
       "      <th>IDENTIFIER</th>\n",
       "      <th>LATEST ADMISSION DATE</th>\n",
       "      <th>AGE</th>\n",
       "      <th>BOND AMOUNT</th>\n",
       "      <th>OFFENSE</th>\n",
       "      <th>FACILITY</th>\n",
       "      <th>offense_code</th>\n",
       "      <th>DETAINER</th>\n",
       "      <th>offense_code2</th>\n",
       "      <th>second_word</th>\n",
       "    </tr>\n",
       "  </thead>\n",
       "  <tbody>\n",
       "    <tr>\n",
       "      <th>7</th>\n",
       "      <td>M</td>\n",
       "      <td>BLACK</td>\n",
       "      <td>126461</td>\n",
       "      <td>126461</td>\n",
       "      <td>126461</td>\n",
       "      <td>126461</td>\n",
       "      <td>126461</td>\n",
       "      <td>126461</td>\n",
       "      <td>126461</td>\n",
       "      <td>100350</td>\n",
       "      <td>126461</td>\n",
       "      <td>100350</td>\n",
       "      <td>126461</td>\n",
       "    </tr>\n",
       "    <tr>\n",
       "      <th>9</th>\n",
       "      <td>M</td>\n",
       "      <td>WHITE</td>\n",
       "      <td>100556</td>\n",
       "      <td>100556</td>\n",
       "      <td>100556</td>\n",
       "      <td>100556</td>\n",
       "      <td>100556</td>\n",
       "      <td>100556</td>\n",
       "      <td>100556</td>\n",
       "      <td>74518</td>\n",
       "      <td>100556</td>\n",
       "      <td>74518</td>\n",
       "      <td>100556</td>\n",
       "    </tr>\n",
       "    <tr>\n",
       "      <th>8</th>\n",
       "      <td>M</td>\n",
       "      <td>HISPANIC</td>\n",
       "      <td>81848</td>\n",
       "      <td>81848</td>\n",
       "      <td>81848</td>\n",
       "      <td>81848</td>\n",
       "      <td>81848</td>\n",
       "      <td>81848</td>\n",
       "      <td>81848</td>\n",
       "      <td>64167</td>\n",
       "      <td>81848</td>\n",
       "      <td>64167</td>\n",
       "      <td>81848</td>\n",
       "    </tr>\n",
       "    <tr>\n",
       "      <th>4</th>\n",
       "      <td>F</td>\n",
       "      <td>WHITE</td>\n",
       "      <td>18879</td>\n",
       "      <td>18879</td>\n",
       "      <td>18879</td>\n",
       "      <td>18879</td>\n",
       "      <td>18879</td>\n",
       "      <td>18879</td>\n",
       "      <td>18879</td>\n",
       "      <td>13199</td>\n",
       "      <td>18879</td>\n",
       "      <td>13199</td>\n",
       "      <td>18879</td>\n",
       "    </tr>\n",
       "    <tr>\n",
       "      <th>2</th>\n",
       "      <td>F</td>\n",
       "      <td>BLACK</td>\n",
       "      <td>8746</td>\n",
       "      <td>8746</td>\n",
       "      <td>8746</td>\n",
       "      <td>8746</td>\n",
       "      <td>8746</td>\n",
       "      <td>8746</td>\n",
       "      <td>8746</td>\n",
       "      <td>6631</td>\n",
       "      <td>8746</td>\n",
       "      <td>6631</td>\n",
       "      <td>8746</td>\n",
       "    </tr>\n",
       "    <tr>\n",
       "      <th>3</th>\n",
       "      <td>F</td>\n",
       "      <td>HISPANIC</td>\n",
       "      <td>7082</td>\n",
       "      <td>7082</td>\n",
       "      <td>7082</td>\n",
       "      <td>7082</td>\n",
       "      <td>7082</td>\n",
       "      <td>7082</td>\n",
       "      <td>7082</td>\n",
       "      <td>5981</td>\n",
       "      <td>7082</td>\n",
       "      <td>5981</td>\n",
       "      <td>7082</td>\n",
       "    </tr>\n",
       "    <tr>\n",
       "      <th>6</th>\n",
       "      <td>M</td>\n",
       "      <td>ASIAN</td>\n",
       "      <td>1589</td>\n",
       "      <td>1589</td>\n",
       "      <td>1589</td>\n",
       "      <td>1589</td>\n",
       "      <td>1589</td>\n",
       "      <td>1589</td>\n",
       "      <td>1589</td>\n",
       "      <td>1493</td>\n",
       "      <td>1589</td>\n",
       "      <td>1493</td>\n",
       "      <td>1589</td>\n",
       "    </tr>\n",
       "    <tr>\n",
       "      <th>5</th>\n",
       "      <td>M</td>\n",
       "      <td>AMER IND</td>\n",
       "      <td>702</td>\n",
       "      <td>702</td>\n",
       "      <td>702</td>\n",
       "      <td>702</td>\n",
       "      <td>702</td>\n",
       "      <td>702</td>\n",
       "      <td>702</td>\n",
       "      <td>476</td>\n",
       "      <td>702</td>\n",
       "      <td>476</td>\n",
       "      <td>702</td>\n",
       "    </tr>\n",
       "    <tr>\n",
       "      <th>1</th>\n",
       "      <td>F</td>\n",
       "      <td>ASIAN</td>\n",
       "      <td>342</td>\n",
       "      <td>342</td>\n",
       "      <td>342</td>\n",
       "      <td>342</td>\n",
       "      <td>342</td>\n",
       "      <td>342</td>\n",
       "      <td>342</td>\n",
       "      <td>338</td>\n",
       "      <td>342</td>\n",
       "      <td>338</td>\n",
       "      <td>342</td>\n",
       "    </tr>\n",
       "    <tr>\n",
       "      <th>0</th>\n",
       "      <td>F</td>\n",
       "      <td>AMER IND</td>\n",
       "      <td>277</td>\n",
       "      <td>277</td>\n",
       "      <td>277</td>\n",
       "      <td>277</td>\n",
       "      <td>277</td>\n",
       "      <td>277</td>\n",
       "      <td>277</td>\n",
       "      <td>187</td>\n",
       "      <td>277</td>\n",
       "      <td>187</td>\n",
       "      <td>277</td>\n",
       "    </tr>\n",
       "  </tbody>\n",
       "</table>\n",
       "</div>"
      ],
      "text/plain": [
       "  GENDER      RACE  DOWNLOAD DATE  IDENTIFIER  LATEST ADMISSION DATE     AGE  \\\n",
       "7      M     BLACK         126461      126461                 126461  126461   \n",
       "9      M     WHITE         100556      100556                 100556  100556   \n",
       "8      M  HISPANIC          81848       81848                  81848   81848   \n",
       "4      F     WHITE          18879       18879                  18879   18879   \n",
       "2      F     BLACK           8746        8746                   8746    8746   \n",
       "3      F  HISPANIC           7082        7082                   7082    7082   \n",
       "6      M     ASIAN           1589        1589                   1589    1589   \n",
       "5      M  AMER IND            702         702                    702     702   \n",
       "1      F     ASIAN            342         342                    342     342   \n",
       "0      F  AMER IND            277         277                    277     277   \n",
       "\n",
       "   BOND AMOUNT  OFFENSE  FACILITY  offense_code  \\\n",
       "7       126461   126461    126461        100350   \n",
       "9       100556   100556    100556         74518   \n",
       "8        81848    81848     81848         64167   \n",
       "4        18879    18879     18879         13199   \n",
       "2         8746     8746      8746          6631   \n",
       "3         7082     7082      7082          5981   \n",
       "6         1589     1589      1589          1493   \n",
       "5          702      702       702           476   \n",
       "1          342      342       342           338   \n",
       "0          277      277       277           187   \n",
       "\n",
       "   DETAINER                                          offense_code2  \\\n",
       "7                                            126461         100350   \n",
       "9                                            100556          74518   \n",
       "8                                             81848          64167   \n",
       "4                                             18879          13199   \n",
       "2                                              8746           6631   \n",
       "3                                              7082           5981   \n",
       "6                                              1589           1493   \n",
       "5                                               702            476   \n",
       "1                                               342            338   \n",
       "0                                               277            187   \n",
       "\n",
       "   second_word  \n",
       "7       126461  \n",
       "9       100556  \n",
       "8        81848  \n",
       "4        18879  \n",
       "2         8746  \n",
       "3         7082  \n",
       "6         1589  \n",
       "5          702  \n",
       "1          342  \n",
       "0          277  "
      ]
     },
     "execution_count": 54,
     "metadata": {},
     "output_type": "execute_result"
    }
   ],
   "source": [
    "# group by offense, gender, race\n",
    "# d.groupby()\n",
    "gdf = d.groupby(['GENDER','RACE']).count()\n",
    "gdf = gdf.reset_index()\n",
    "gdf.sort_values(by=\"OFFENSE\", ascending=False)"
   ]
  },
  {
   "cell_type": "code",
   "execution_count": 55,
   "metadata": {
    "collapsed": false
   },
   "outputs": [
    {
     "data": {
      "text/html": [
       "<div>\n",
       "<table border=\"1\" class=\"dataframe\">\n",
       "  <thead>\n",
       "    <tr style=\"text-align: right;\">\n",
       "      <th></th>\n",
       "      <th></th>\n",
       "      <th>DOWNLOAD DATE</th>\n",
       "      <th>IDENTIFIER</th>\n",
       "      <th>LATEST ADMISSION DATE</th>\n",
       "      <th>AGE</th>\n",
       "      <th>BOND AMOUNT</th>\n",
       "      <th>OFFENSE</th>\n",
       "      <th>FACILITY</th>\n",
       "      <th>offense_code</th>\n",
       "      <th>DETAINER</th>\n",
       "      <th>offense_code2</th>\n",
       "      <th>second_word</th>\n",
       "    </tr>\n",
       "    <tr>\n",
       "      <th>GENDER</th>\n",
       "      <th>RACE</th>\n",
       "      <th></th>\n",
       "      <th></th>\n",
       "      <th></th>\n",
       "      <th></th>\n",
       "      <th></th>\n",
       "      <th></th>\n",
       "      <th></th>\n",
       "      <th></th>\n",
       "      <th></th>\n",
       "      <th></th>\n",
       "      <th></th>\n",
       "    </tr>\n",
       "  </thead>\n",
       "  <tbody>\n",
       "    <tr>\n",
       "      <th rowspan=\"5\" valign=\"top\">M</th>\n",
       "      <th>WHITE</th>\n",
       "      <td>100556</td>\n",
       "      <td>100556</td>\n",
       "      <td>100556</td>\n",
       "      <td>100556</td>\n",
       "      <td>100556</td>\n",
       "      <td>100556</td>\n",
       "      <td>100556</td>\n",
       "      <td>74518</td>\n",
       "      <td>100556</td>\n",
       "      <td>74518</td>\n",
       "      <td>100556</td>\n",
       "    </tr>\n",
       "    <tr>\n",
       "      <th>HISPANIC</th>\n",
       "      <td>81848</td>\n",
       "      <td>81848</td>\n",
       "      <td>81848</td>\n",
       "      <td>81848</td>\n",
       "      <td>81848</td>\n",
       "      <td>81848</td>\n",
       "      <td>81848</td>\n",
       "      <td>64167</td>\n",
       "      <td>81848</td>\n",
       "      <td>64167</td>\n",
       "      <td>81848</td>\n",
       "    </tr>\n",
       "    <tr>\n",
       "      <th>BLACK</th>\n",
       "      <td>126461</td>\n",
       "      <td>126461</td>\n",
       "      <td>126461</td>\n",
       "      <td>126461</td>\n",
       "      <td>126461</td>\n",
       "      <td>126461</td>\n",
       "      <td>126461</td>\n",
       "      <td>100350</td>\n",
       "      <td>126461</td>\n",
       "      <td>100350</td>\n",
       "      <td>126461</td>\n",
       "    </tr>\n",
       "    <tr>\n",
       "      <th>ASIAN</th>\n",
       "      <td>1589</td>\n",
       "      <td>1589</td>\n",
       "      <td>1589</td>\n",
       "      <td>1589</td>\n",
       "      <td>1589</td>\n",
       "      <td>1589</td>\n",
       "      <td>1589</td>\n",
       "      <td>1493</td>\n",
       "      <td>1589</td>\n",
       "      <td>1493</td>\n",
       "      <td>1589</td>\n",
       "    </tr>\n",
       "    <tr>\n",
       "      <th>AMER IND</th>\n",
       "      <td>702</td>\n",
       "      <td>702</td>\n",
       "      <td>702</td>\n",
       "      <td>702</td>\n",
       "      <td>702</td>\n",
       "      <td>702</td>\n",
       "      <td>702</td>\n",
       "      <td>476</td>\n",
       "      <td>702</td>\n",
       "      <td>476</td>\n",
       "      <td>702</td>\n",
       "    </tr>\n",
       "    <tr>\n",
       "      <th rowspan=\"5\" valign=\"top\">F</th>\n",
       "      <th>WHITE</th>\n",
       "      <td>18879</td>\n",
       "      <td>18879</td>\n",
       "      <td>18879</td>\n",
       "      <td>18879</td>\n",
       "      <td>18879</td>\n",
       "      <td>18879</td>\n",
       "      <td>18879</td>\n",
       "      <td>13199</td>\n",
       "      <td>18879</td>\n",
       "      <td>13199</td>\n",
       "      <td>18879</td>\n",
       "    </tr>\n",
       "    <tr>\n",
       "      <th>HISPANIC</th>\n",
       "      <td>7082</td>\n",
       "      <td>7082</td>\n",
       "      <td>7082</td>\n",
       "      <td>7082</td>\n",
       "      <td>7082</td>\n",
       "      <td>7082</td>\n",
       "      <td>7082</td>\n",
       "      <td>5981</td>\n",
       "      <td>7082</td>\n",
       "      <td>5981</td>\n",
       "      <td>7082</td>\n",
       "    </tr>\n",
       "    <tr>\n",
       "      <th>BLACK</th>\n",
       "      <td>8746</td>\n",
       "      <td>8746</td>\n",
       "      <td>8746</td>\n",
       "      <td>8746</td>\n",
       "      <td>8746</td>\n",
       "      <td>8746</td>\n",
       "      <td>8746</td>\n",
       "      <td>6631</td>\n",
       "      <td>8746</td>\n",
       "      <td>6631</td>\n",
       "      <td>8746</td>\n",
       "    </tr>\n",
       "    <tr>\n",
       "      <th>ASIAN</th>\n",
       "      <td>342</td>\n",
       "      <td>342</td>\n",
       "      <td>342</td>\n",
       "      <td>342</td>\n",
       "      <td>342</td>\n",
       "      <td>342</td>\n",
       "      <td>342</td>\n",
       "      <td>338</td>\n",
       "      <td>342</td>\n",
       "      <td>338</td>\n",
       "      <td>342</td>\n",
       "    </tr>\n",
       "    <tr>\n",
       "      <th>AMER IND</th>\n",
       "      <td>277</td>\n",
       "      <td>277</td>\n",
       "      <td>277</td>\n",
       "      <td>277</td>\n",
       "      <td>277</td>\n",
       "      <td>277</td>\n",
       "      <td>277</td>\n",
       "      <td>187</td>\n",
       "      <td>277</td>\n",
       "      <td>187</td>\n",
       "      <td>277</td>\n",
       "    </tr>\n",
       "  </tbody>\n",
       "</table>\n",
       "</div>"
      ],
      "text/plain": [
       "                 DOWNLOAD DATE  IDENTIFIER  LATEST ADMISSION DATE     AGE  \\\n",
       "GENDER RACE                                                                 \n",
       "M      WHITE            100556      100556                 100556  100556   \n",
       "       HISPANIC          81848       81848                  81848   81848   \n",
       "       BLACK            126461      126461                 126461  126461   \n",
       "       ASIAN              1589        1589                   1589    1589   \n",
       "       AMER IND            702         702                    702     702   \n",
       "F      WHITE             18879       18879                  18879   18879   \n",
       "       HISPANIC           7082        7082                   7082    7082   \n",
       "       BLACK              8746        8746                   8746    8746   \n",
       "       ASIAN               342         342                    342     342   \n",
       "       AMER IND            277         277                    277     277   \n",
       "\n",
       "                 BOND AMOUNT  OFFENSE  FACILITY  offense_code  \\\n",
       "GENDER RACE                                                     \n",
       "M      WHITE          100556   100556    100556         74518   \n",
       "       HISPANIC        81848    81848     81848         64167   \n",
       "       BLACK          126461   126461    126461        100350   \n",
       "       ASIAN            1589     1589      1589          1493   \n",
       "       AMER IND          702      702       702           476   \n",
       "F      WHITE           18879    18879     18879         13199   \n",
       "       HISPANIC         7082     7082      7082          5981   \n",
       "       BLACK            8746     8746      8746          6631   \n",
       "       ASIAN             342      342       342           338   \n",
       "       AMER IND          277      277       277           187   \n",
       "\n",
       "                 DETAINER                                          \\\n",
       "GENDER RACE                                                         \n",
       "M      WHITE                                               100556   \n",
       "       HISPANIC                                             81848   \n",
       "       BLACK                                               126461   \n",
       "       ASIAN                                                 1589   \n",
       "       AMER IND                                               702   \n",
       "F      WHITE                                                18879   \n",
       "       HISPANIC                                              7082   \n",
       "       BLACK                                                 8746   \n",
       "       ASIAN                                                  342   \n",
       "       AMER IND                                               277   \n",
       "\n",
       "                 offense_code2  second_word  \n",
       "GENDER RACE                                  \n",
       "M      WHITE             74518       100556  \n",
       "       HISPANIC          64167        81848  \n",
       "       BLACK            100350       126461  \n",
       "       ASIAN              1493         1589  \n",
       "       AMER IND            476          702  \n",
       "F      WHITE             13199        18879  \n",
       "       HISPANIC           5981         7082  \n",
       "       BLACK              6631         8746  \n",
       "       ASIAN               338          342  \n",
       "       AMER IND            187          277  "
      ]
     },
     "execution_count": 55,
     "metadata": {},
     "output_type": "execute_result"
    }
   ],
   "source": [
    "# Sort by OFFENSE count within multi-index dataframe\n",
    "gdf = d.groupby(['GENDER','RACE']).count()\n",
    "# gdf.sort_values(by=\"OFFENSE\", ascending=False)\n",
    "gdf.sort_index(level=[\"GENDER\", \"RACE\"], ascending=[False, False])\n",
    "\n",
    "\n"
   ]
  },
  {
   "cell_type": "code",
   "execution_count": 56,
   "metadata": {
    "collapsed": false
   },
   "outputs": [
    {
     "data": {
      "text/html": [
       "<div>\n",
       "<table border=\"1\" class=\"dataframe\">\n",
       "  <thead>\n",
       "    <tr style=\"text-align: right;\">\n",
       "      <th></th>\n",
       "      <th></th>\n",
       "      <th>DOWNLOAD DATE</th>\n",
       "      <th>IDENTIFIER</th>\n",
       "      <th>LATEST ADMISSION DATE</th>\n",
       "      <th>AGE</th>\n",
       "      <th>BOND AMOUNT</th>\n",
       "      <th>OFFENSE</th>\n",
       "      <th>FACILITY</th>\n",
       "      <th>offense_code</th>\n",
       "      <th>DETAINER</th>\n",
       "      <th>offense_code2</th>\n",
       "      <th>second_word</th>\n",
       "    </tr>\n",
       "    <tr>\n",
       "      <th>GENDER</th>\n",
       "      <th>RACE</th>\n",
       "      <th></th>\n",
       "      <th></th>\n",
       "      <th></th>\n",
       "      <th></th>\n",
       "      <th></th>\n",
       "      <th></th>\n",
       "      <th></th>\n",
       "      <th></th>\n",
       "      <th></th>\n",
       "      <th></th>\n",
       "      <th></th>\n",
       "    </tr>\n",
       "  </thead>\n",
       "  <tbody>\n",
       "    <tr>\n",
       "      <th rowspan=\"5\" valign=\"top\">M</th>\n",
       "      <th>AMER IND</th>\n",
       "      <td>702</td>\n",
       "      <td>702</td>\n",
       "      <td>702</td>\n",
       "      <td>702</td>\n",
       "      <td>702</td>\n",
       "      <td>702</td>\n",
       "      <td>702</td>\n",
       "      <td>476</td>\n",
       "      <td>702</td>\n",
       "      <td>476</td>\n",
       "      <td>702</td>\n",
       "    </tr>\n",
       "    <tr>\n",
       "      <th>ASIAN</th>\n",
       "      <td>1589</td>\n",
       "      <td>1589</td>\n",
       "      <td>1589</td>\n",
       "      <td>1589</td>\n",
       "      <td>1589</td>\n",
       "      <td>1589</td>\n",
       "      <td>1589</td>\n",
       "      <td>1493</td>\n",
       "      <td>1589</td>\n",
       "      <td>1493</td>\n",
       "      <td>1589</td>\n",
       "    </tr>\n",
       "    <tr>\n",
       "      <th>BLACK</th>\n",
       "      <td>126461</td>\n",
       "      <td>126461</td>\n",
       "      <td>126461</td>\n",
       "      <td>126461</td>\n",
       "      <td>126461</td>\n",
       "      <td>126461</td>\n",
       "      <td>126461</td>\n",
       "      <td>100350</td>\n",
       "      <td>126461</td>\n",
       "      <td>100350</td>\n",
       "      <td>126461</td>\n",
       "    </tr>\n",
       "    <tr>\n",
       "      <th>HISPANIC</th>\n",
       "      <td>81848</td>\n",
       "      <td>81848</td>\n",
       "      <td>81848</td>\n",
       "      <td>81848</td>\n",
       "      <td>81848</td>\n",
       "      <td>81848</td>\n",
       "      <td>81848</td>\n",
       "      <td>64167</td>\n",
       "      <td>81848</td>\n",
       "      <td>64167</td>\n",
       "      <td>81848</td>\n",
       "    </tr>\n",
       "    <tr>\n",
       "      <th>WHITE</th>\n",
       "      <td>100556</td>\n",
       "      <td>100556</td>\n",
       "      <td>100556</td>\n",
       "      <td>100556</td>\n",
       "      <td>100556</td>\n",
       "      <td>100556</td>\n",
       "      <td>100556</td>\n",
       "      <td>74518</td>\n",
       "      <td>100556</td>\n",
       "      <td>74518</td>\n",
       "      <td>100556</td>\n",
       "    </tr>\n",
       "    <tr>\n",
       "      <th rowspan=\"5\" valign=\"top\">F</th>\n",
       "      <th>AMER IND</th>\n",
       "      <td>277</td>\n",
       "      <td>277</td>\n",
       "      <td>277</td>\n",
       "      <td>277</td>\n",
       "      <td>277</td>\n",
       "      <td>277</td>\n",
       "      <td>277</td>\n",
       "      <td>187</td>\n",
       "      <td>277</td>\n",
       "      <td>187</td>\n",
       "      <td>277</td>\n",
       "    </tr>\n",
       "    <tr>\n",
       "      <th>ASIAN</th>\n",
       "      <td>342</td>\n",
       "      <td>342</td>\n",
       "      <td>342</td>\n",
       "      <td>342</td>\n",
       "      <td>342</td>\n",
       "      <td>342</td>\n",
       "      <td>342</td>\n",
       "      <td>338</td>\n",
       "      <td>342</td>\n",
       "      <td>338</td>\n",
       "      <td>342</td>\n",
       "    </tr>\n",
       "    <tr>\n",
       "      <th>BLACK</th>\n",
       "      <td>8746</td>\n",
       "      <td>8746</td>\n",
       "      <td>8746</td>\n",
       "      <td>8746</td>\n",
       "      <td>8746</td>\n",
       "      <td>8746</td>\n",
       "      <td>8746</td>\n",
       "      <td>6631</td>\n",
       "      <td>8746</td>\n",
       "      <td>6631</td>\n",
       "      <td>8746</td>\n",
       "    </tr>\n",
       "    <tr>\n",
       "      <th>HISPANIC</th>\n",
       "      <td>7082</td>\n",
       "      <td>7082</td>\n",
       "      <td>7082</td>\n",
       "      <td>7082</td>\n",
       "      <td>7082</td>\n",
       "      <td>7082</td>\n",
       "      <td>7082</td>\n",
       "      <td>5981</td>\n",
       "      <td>7082</td>\n",
       "      <td>5981</td>\n",
       "      <td>7082</td>\n",
       "    </tr>\n",
       "    <tr>\n",
       "      <th>WHITE</th>\n",
       "      <td>18879</td>\n",
       "      <td>18879</td>\n",
       "      <td>18879</td>\n",
       "      <td>18879</td>\n",
       "      <td>18879</td>\n",
       "      <td>18879</td>\n",
       "      <td>18879</td>\n",
       "      <td>13199</td>\n",
       "      <td>18879</td>\n",
       "      <td>13199</td>\n",
       "      <td>18879</td>\n",
       "    </tr>\n",
       "  </tbody>\n",
       "</table>\n",
       "</div>"
      ],
      "text/plain": [
       "                 DOWNLOAD DATE  IDENTIFIER  LATEST ADMISSION DATE     AGE  \\\n",
       "GENDER RACE                                                                 \n",
       "M      AMER IND            702         702                    702     702   \n",
       "       ASIAN              1589        1589                   1589    1589   \n",
       "       BLACK            126461      126461                 126461  126461   \n",
       "       HISPANIC          81848       81848                  81848   81848   \n",
       "       WHITE            100556      100556                 100556  100556   \n",
       "F      AMER IND            277         277                    277     277   \n",
       "       ASIAN               342         342                    342     342   \n",
       "       BLACK              8746        8746                   8746    8746   \n",
       "       HISPANIC           7082        7082                   7082    7082   \n",
       "       WHITE             18879       18879                  18879   18879   \n",
       "\n",
       "                 BOND AMOUNT  OFFENSE  FACILITY  offense_code  \\\n",
       "GENDER RACE                                                     \n",
       "M      AMER IND          702      702       702           476   \n",
       "       ASIAN            1589     1589      1589          1493   \n",
       "       BLACK          126461   126461    126461        100350   \n",
       "       HISPANIC        81848    81848     81848         64167   \n",
       "       WHITE          100556   100556    100556         74518   \n",
       "F      AMER IND          277      277       277           187   \n",
       "       ASIAN             342      342       342           338   \n",
       "       BLACK            8746     8746      8746          6631   \n",
       "       HISPANIC         7082     7082      7082          5981   \n",
       "       WHITE           18879    18879     18879         13199   \n",
       "\n",
       "                 DETAINER                                          \\\n",
       "GENDER RACE                                                         \n",
       "M      AMER IND                                               702   \n",
       "       ASIAN                                                 1589   \n",
       "       BLACK                                               126461   \n",
       "       HISPANIC                                             81848   \n",
       "       WHITE                                               100556   \n",
       "F      AMER IND                                               277   \n",
       "       ASIAN                                                  342   \n",
       "       BLACK                                                 8746   \n",
       "       HISPANIC                                              7082   \n",
       "       WHITE                                                18879   \n",
       "\n",
       "                 offense_code2  second_word  \n",
       "GENDER RACE                                  \n",
       "M      AMER IND            476          702  \n",
       "       ASIAN              1493         1589  \n",
       "       BLACK            100350       126461  \n",
       "       HISPANIC          64167        81848  \n",
       "       WHITE             74518       100556  \n",
       "F      AMER IND            187          277  \n",
       "       ASIAN               338          342  \n",
       "       BLACK              6631         8746  \n",
       "       HISPANIC           5981         7082  \n",
       "       WHITE             13199        18879  "
      ]
     },
     "execution_count": 56,
     "metadata": {},
     "output_type": "execute_result"
    }
   ],
   "source": [
    "## Sort by index GENDER descending, column OFFENSE descending\n",
    "gdf.sort_values(by='OFFENSE', ascending=[True]).sort_index(level=['GENDER', 'RACE'], ascending=[False, True])"
   ]
  },
  {
   "cell_type": "code",
   "execution_count": 57,
   "metadata": {
    "collapsed": false
   },
   "outputs": [],
   "source": [
    "# reset index, group by gender, select only gender subgroup female or \"F\"\n",
    "# sc.get_student()\n",
    "gdf = gdf.reset_index()\n",
    "gdf = gdf.groupby(by=\"GENDER\")\n"
   ]
  },
  {
   "cell_type": "code",
   "execution_count": 58,
   "metadata": {
    "collapsed": false
   },
   "outputs": [
    {
     "data": {
      "text/html": [
       "<div>\n",
       "<table border=\"1\" class=\"dataframe\">\n",
       "  <thead>\n",
       "    <tr style=\"text-align: right;\">\n",
       "      <th></th>\n",
       "      <th>GENDER</th>\n",
       "      <th>RACE</th>\n",
       "      <th>DOWNLOAD DATE</th>\n",
       "      <th>IDENTIFIER</th>\n",
       "      <th>LATEST ADMISSION DATE</th>\n",
       "      <th>AGE</th>\n",
       "      <th>BOND AMOUNT</th>\n",
       "      <th>OFFENSE</th>\n",
       "      <th>FACILITY</th>\n",
       "      <th>offense_code</th>\n",
       "      <th>DETAINER</th>\n",
       "      <th>offense_code2</th>\n",
       "      <th>second_word</th>\n",
       "    </tr>\n",
       "  </thead>\n",
       "  <tbody>\n",
       "    <tr>\n",
       "      <th>0</th>\n",
       "      <td>F</td>\n",
       "      <td>AMER IND</td>\n",
       "      <td>277</td>\n",
       "      <td>277</td>\n",
       "      <td>277</td>\n",
       "      <td>277</td>\n",
       "      <td>277</td>\n",
       "      <td>277</td>\n",
       "      <td>277</td>\n",
       "      <td>187</td>\n",
       "      <td>277</td>\n",
       "      <td>187</td>\n",
       "      <td>277</td>\n",
       "    </tr>\n",
       "    <tr>\n",
       "      <th>1</th>\n",
       "      <td>F</td>\n",
       "      <td>ASIAN</td>\n",
       "      <td>342</td>\n",
       "      <td>342</td>\n",
       "      <td>342</td>\n",
       "      <td>342</td>\n",
       "      <td>342</td>\n",
       "      <td>342</td>\n",
       "      <td>342</td>\n",
       "      <td>338</td>\n",
       "      <td>342</td>\n",
       "      <td>338</td>\n",
       "      <td>342</td>\n",
       "    </tr>\n",
       "    <tr>\n",
       "      <th>2</th>\n",
       "      <td>F</td>\n",
       "      <td>BLACK</td>\n",
       "      <td>8746</td>\n",
       "      <td>8746</td>\n",
       "      <td>8746</td>\n",
       "      <td>8746</td>\n",
       "      <td>8746</td>\n",
       "      <td>8746</td>\n",
       "      <td>8746</td>\n",
       "      <td>6631</td>\n",
       "      <td>8746</td>\n",
       "      <td>6631</td>\n",
       "      <td>8746</td>\n",
       "    </tr>\n",
       "    <tr>\n",
       "      <th>3</th>\n",
       "      <td>F</td>\n",
       "      <td>HISPANIC</td>\n",
       "      <td>7082</td>\n",
       "      <td>7082</td>\n",
       "      <td>7082</td>\n",
       "      <td>7082</td>\n",
       "      <td>7082</td>\n",
       "      <td>7082</td>\n",
       "      <td>7082</td>\n",
       "      <td>5981</td>\n",
       "      <td>7082</td>\n",
       "      <td>5981</td>\n",
       "      <td>7082</td>\n",
       "    </tr>\n",
       "    <tr>\n",
       "      <th>4</th>\n",
       "      <td>F</td>\n",
       "      <td>WHITE</td>\n",
       "      <td>18879</td>\n",
       "      <td>18879</td>\n",
       "      <td>18879</td>\n",
       "      <td>18879</td>\n",
       "      <td>18879</td>\n",
       "      <td>18879</td>\n",
       "      <td>18879</td>\n",
       "      <td>13199</td>\n",
       "      <td>18879</td>\n",
       "      <td>13199</td>\n",
       "      <td>18879</td>\n",
       "    </tr>\n",
       "  </tbody>\n",
       "</table>\n",
       "</div>"
      ],
      "text/plain": [
       "  GENDER      RACE  DOWNLOAD DATE  IDENTIFIER  LATEST ADMISSION DATE    AGE  \\\n",
       "0      F  AMER IND            277         277                    277    277   \n",
       "1      F     ASIAN            342         342                    342    342   \n",
       "2      F     BLACK           8746        8746                   8746   8746   \n",
       "3      F  HISPANIC           7082        7082                   7082   7082   \n",
       "4      F     WHITE          18879       18879                  18879  18879   \n",
       "\n",
       "   BOND AMOUNT  OFFENSE  FACILITY  offense_code  \\\n",
       "0          277      277       277           187   \n",
       "1          342      342       342           338   \n",
       "2         8746     8746      8746          6631   \n",
       "3         7082     7082      7082          5981   \n",
       "4        18879    18879     18879         13199   \n",
       "\n",
       "   DETAINER                                          offense_code2  \\\n",
       "0                                               277            187   \n",
       "1                                               342            338   \n",
       "2                                              8746           6631   \n",
       "3                                              7082           5981   \n",
       "4                                             18879          13199   \n",
       "\n",
       "   second_word  \n",
       "0          277  \n",
       "1          342  \n",
       "2         8746  \n",
       "3         7082  \n",
       "4        18879  "
      ]
     },
     "execution_count": 58,
     "metadata": {},
     "output_type": "execute_result"
    }
   ],
   "source": [
    "gdf.get_group(\"F\")"
   ]
  },
  {
   "cell_type": "code",
   "execution_count": 59,
   "metadata": {
    "collapsed": false
   },
   "outputs": [],
   "source": [
    "# gdf.get_group(levels=['F', 'M'])\n",
    "# new_gdf"
   ]
  },
  {
   "cell_type": "code",
   "execution_count": 60,
   "metadata": {
    "collapsed": false
   },
   "outputs": [],
   "source": [
    "test_data = [(\"M\", \"D\", \"K\"), (\"H\", \"K\", \"Z\"), (\"P\", \"Q\", \"R\")]\n"
   ]
  },
  {
   "cell_type": "code",
   "execution_count": 61,
   "metadata": {
    "collapsed": false
   },
   "outputs": [
    {
     "data": {
      "text/plain": [
       "['K', 'Z', 'R']"
      ]
     },
     "execution_count": 61,
     "metadata": {},
     "output_type": "execute_result"
    }
   ],
   "source": [
    "[(c) for a, b, c in test_data]"
   ]
  },
  {
   "cell_type": "code",
   "execution_count": 62,
   "metadata": {
    "collapsed": false
   },
   "outputs": [
    {
     "data": {
      "text/html": [
       "<div>\n",
       "<table border=\"1\" class=\"dataframe\">\n",
       "  <thead>\n",
       "    <tr style=\"text-align: right;\">\n",
       "      <th></th>\n",
       "      <th>GENDER</th>\n",
       "      <th>RACE</th>\n",
       "      <th>DOWNLOAD DATE</th>\n",
       "      <th>IDENTIFIER</th>\n",
       "      <th>LATEST ADMISSION DATE</th>\n",
       "      <th>AGE</th>\n",
       "      <th>BOND AMOUNT</th>\n",
       "      <th>OFFENSE</th>\n",
       "      <th>FACILITY</th>\n",
       "      <th>offense_code</th>\n",
       "      <th>DETAINER</th>\n",
       "      <th>offense_code2</th>\n",
       "      <th>second_word</th>\n",
       "    </tr>\n",
       "  </thead>\n",
       "  <tbody>\n",
       "    <tr>\n",
       "      <th>0</th>\n",
       "      <td>F</td>\n",
       "      <td>AMER IND</td>\n",
       "      <td>277</td>\n",
       "      <td>277</td>\n",
       "      <td>277</td>\n",
       "      <td>277</td>\n",
       "      <td>277</td>\n",
       "      <td>277</td>\n",
       "      <td>277</td>\n",
       "      <td>187</td>\n",
       "      <td>277</td>\n",
       "      <td>187</td>\n",
       "      <td>277</td>\n",
       "    </tr>\n",
       "    <tr>\n",
       "      <th>1</th>\n",
       "      <td>F</td>\n",
       "      <td>ASIAN</td>\n",
       "      <td>342</td>\n",
       "      <td>342</td>\n",
       "      <td>342</td>\n",
       "      <td>342</td>\n",
       "      <td>342</td>\n",
       "      <td>342</td>\n",
       "      <td>342</td>\n",
       "      <td>338</td>\n",
       "      <td>342</td>\n",
       "      <td>338</td>\n",
       "      <td>342</td>\n",
       "    </tr>\n",
       "    <tr>\n",
       "      <th>2</th>\n",
       "      <td>F</td>\n",
       "      <td>BLACK</td>\n",
       "      <td>8746</td>\n",
       "      <td>8746</td>\n",
       "      <td>8746</td>\n",
       "      <td>8746</td>\n",
       "      <td>8746</td>\n",
       "      <td>8746</td>\n",
       "      <td>8746</td>\n",
       "      <td>6631</td>\n",
       "      <td>8746</td>\n",
       "      <td>6631</td>\n",
       "      <td>8746</td>\n",
       "    </tr>\n",
       "    <tr>\n",
       "      <th>3</th>\n",
       "      <td>F</td>\n",
       "      <td>HISPANIC</td>\n",
       "      <td>7082</td>\n",
       "      <td>7082</td>\n",
       "      <td>7082</td>\n",
       "      <td>7082</td>\n",
       "      <td>7082</td>\n",
       "      <td>7082</td>\n",
       "      <td>7082</td>\n",
       "      <td>5981</td>\n",
       "      <td>7082</td>\n",
       "      <td>5981</td>\n",
       "      <td>7082</td>\n",
       "    </tr>\n",
       "    <tr>\n",
       "      <th>4</th>\n",
       "      <td>F</td>\n",
       "      <td>WHITE</td>\n",
       "      <td>18879</td>\n",
       "      <td>18879</td>\n",
       "      <td>18879</td>\n",
       "      <td>18879</td>\n",
       "      <td>18879</td>\n",
       "      <td>18879</td>\n",
       "      <td>18879</td>\n",
       "      <td>13199</td>\n",
       "      <td>18879</td>\n",
       "      <td>13199</td>\n",
       "      <td>18879</td>\n",
       "    </tr>\n",
       "  </tbody>\n",
       "</table>\n",
       "</div>"
      ],
      "text/plain": [
       "  GENDER      RACE  DOWNLOAD DATE  IDENTIFIER  LATEST ADMISSION DATE    AGE  \\\n",
       "0      F  AMER IND            277         277                    277    277   \n",
       "1      F     ASIAN            342         342                    342    342   \n",
       "2      F     BLACK           8746        8746                   8746   8746   \n",
       "3      F  HISPANIC           7082        7082                   7082   7082   \n",
       "4      F     WHITE          18879       18879                  18879  18879   \n",
       "\n",
       "   BOND AMOUNT  OFFENSE  FACILITY  offense_code  \\\n",
       "0          277      277       277           187   \n",
       "1          342      342       342           338   \n",
       "2         8746     8746      8746          6631   \n",
       "3         7082     7082      7082          5981   \n",
       "4        18879    18879     18879         13199   \n",
       "\n",
       "   DETAINER                                          offense_code2  \\\n",
       "0                                               277            187   \n",
       "1                                               342            338   \n",
       "2                                              8746           6631   \n",
       "3                                              7082           5981   \n",
       "4                                             18879          13199   \n",
       "\n",
       "   second_word  \n",
       "0          277  \n",
       "1          342  \n",
       "2         8746  \n",
       "3         7082  \n",
       "4        18879  "
      ]
     },
     "execution_count": 62,
     "metadata": {},
     "output_type": "execute_result"
    }
   ],
   "source": [
    "for group_level, group_data in gdf:\n",
    "    if group_level == 'F':\n",
    "        temp_df = group_data\n",
    "\n",
    "temp_df"
   ]
  },
  {
   "cell_type": "markdown",
   "metadata": {
    "collapsed": true
   },
   "source": [
    "---\n",
    "\n",
    "### Plotting"
   ]
  },
  {
   "cell_type": "code",
   "execution_count": 63,
   "metadata": {
    "collapsed": false
   },
   "outputs": [
    {
     "data": {
      "text/html": [
       "<div>\n",
       "<table border=\"1\" class=\"dataframe\">\n",
       "  <thead>\n",
       "    <tr style=\"text-align: right;\">\n",
       "      <th></th>\n",
       "      <th>DOWNLOAD DATE</th>\n",
       "      <th>IDENTIFIER</th>\n",
       "      <th>LATEST ADMISSION DATE</th>\n",
       "      <th>RACE</th>\n",
       "      <th>GENDER</th>\n",
       "      <th>AGE</th>\n",
       "      <th>BOND AMOUNT</th>\n",
       "      <th>OFFENSE</th>\n",
       "      <th>FACILITY</th>\n",
       "      <th>offense_code</th>\n",
       "      <th>DETAINER</th>\n",
       "      <th>offense_code2</th>\n",
       "      <th>second_word</th>\n",
       "    </tr>\n",
       "  </thead>\n",
       "  <tbody>\n",
       "    <tr>\n",
       "      <th>0</th>\n",
       "      <td>07/01/2016</td>\n",
       "      <td>ZZEBBEWZ</td>\n",
       "      <td>06/17/2016</td>\n",
       "      <td>WHITE</td>\n",
       "      <td>M</td>\n",
       "      <td>63</td>\n",
       "      <td>5000</td>\n",
       "      <td>ASSAULT, THIRD DEGREE                 AM</td>\n",
       "      <td>CORRIGAN CI</td>\n",
       "      <td>AM</td>\n",
       "      <td>NONE</td>\n",
       "      <td>AM</td>\n",
       "      <td>CI</td>\n",
       "    </tr>\n",
       "    <tr>\n",
       "      <th>1</th>\n",
       "      <td>07/01/2016</td>\n",
       "      <td>ZZEBBRZC</td>\n",
       "      <td>06/30/2016</td>\n",
       "      <td>BLACK</td>\n",
       "      <td>M</td>\n",
       "      <td>42</td>\n",
       "      <td>500</td>\n",
       "      <td>FAILURE TO APPEAR, SECOND DEGREE      AM</td>\n",
       "      <td>HARTFORD CC</td>\n",
       "      <td>AM</td>\n",
       "      <td>NONE</td>\n",
       "      <td>AM</td>\n",
       "      <td>CC</td>\n",
       "    </tr>\n",
       "    <tr>\n",
       "      <th>2</th>\n",
       "      <td>07/01/2016</td>\n",
       "      <td>ZZEBCBHC</td>\n",
       "      <td>06/06/2016</td>\n",
       "      <td>WHITE</td>\n",
       "      <td>M</td>\n",
       "      <td>60</td>\n",
       "      <td>40000</td>\n",
       "      <td>EVADING RESPONSIBILITY                 M</td>\n",
       "      <td>HARTFORD CC</td>\n",
       "      <td>M</td>\n",
       "      <td>NONE</td>\n",
       "      <td>M</td>\n",
       "      <td>CC</td>\n",
       "    </tr>\n",
       "    <tr>\n",
       "      <th>3</th>\n",
       "      <td>07/01/2016</td>\n",
       "      <td>ZZEBCCWL</td>\n",
       "      <td>04/25/2016</td>\n",
       "      <td>HISPANIC</td>\n",
       "      <td>M</td>\n",
       "      <td>44</td>\n",
       "      <td>125000</td>\n",
       "      <td>CRIMINAL POSSESSION OF A PISTOL       DF</td>\n",
       "      <td>HARTFORD CC</td>\n",
       "      <td>DF</td>\n",
       "      <td>NONE</td>\n",
       "      <td>DF</td>\n",
       "      <td>CC</td>\n",
       "    </tr>\n",
       "    <tr>\n",
       "      <th>4</th>\n",
       "      <td>07/01/2016</td>\n",
       "      <td>ZZEBCHBZ</td>\n",
       "      <td>06/21/2016</td>\n",
       "      <td>HISPANIC</td>\n",
       "      <td>M</td>\n",
       "      <td>58</td>\n",
       "      <td>2500</td>\n",
       "      <td>BREACH OF PEACE                       BM</td>\n",
       "      <td>CORRIGAN CI</td>\n",
       "      <td>BM</td>\n",
       "      <td>NONE</td>\n",
       "      <td>BM</td>\n",
       "      <td>CI</td>\n",
       "    </tr>\n",
       "  </tbody>\n",
       "</table>\n",
       "</div>"
      ],
      "text/plain": [
       "  DOWNLOAD DATE IDENTIFIER LATEST ADMISSION DATE      RACE GENDER  AGE  \\\n",
       "0    07/01/2016   ZZEBBEWZ            06/17/2016     WHITE      M   63   \n",
       "1    07/01/2016   ZZEBBRZC            06/30/2016     BLACK      M   42   \n",
       "2    07/01/2016   ZZEBCBHC            06/06/2016     WHITE      M   60   \n",
       "3    07/01/2016   ZZEBCCWL            04/25/2016  HISPANIC      M   44   \n",
       "4    07/01/2016   ZZEBCHBZ            06/21/2016  HISPANIC      M   58   \n",
       "\n",
       "   BOND AMOUNT                                   OFFENSE     FACILITY  \\\n",
       "0         5000  ASSAULT, THIRD DEGREE                 AM  CORRIGAN CI   \n",
       "1          500  FAILURE TO APPEAR, SECOND DEGREE      AM  HARTFORD CC   \n",
       "2        40000  EVADING RESPONSIBILITY                 M  HARTFORD CC   \n",
       "3       125000  CRIMINAL POSSESSION OF A PISTOL       DF  HARTFORD CC   \n",
       "4         2500  BREACH OF PEACE                       BM  CORRIGAN CI   \n",
       "\n",
       "  offense_code DETAINER                                         offense_code2  \\\n",
       "0           AM                                             NONE            AM   \n",
       "1           AM                                             NONE            AM   \n",
       "2            M                                             NONE             M   \n",
       "3           DF                                             NONE            DF   \n",
       "4           BM                                             NONE            BM   \n",
       "\n",
       "  second_word  \n",
       "0          CI  \n",
       "1          CC  \n",
       "2          CC  \n",
       "3          CC  \n",
       "4          CI  "
      ]
     },
     "execution_count": 63,
     "metadata": {},
     "output_type": "execute_result"
    }
   ],
   "source": [
    "d.head()"
   ]
  },
  {
   "cell_type": "code",
   "execution_count": 64,
   "metadata": {
    "collapsed": true
   },
   "outputs": [],
   "source": [
    "# 1. Plot a histogram of the bond amount"
   ]
  },
  {
   "cell_type": "code",
   "execution_count": 87,
   "metadata": {
    "collapsed": false
   },
   "outputs": [
    {
     "data": {
      "image/png": "[encoded data removed]",
      "text/plain": [
       "<matplotlib.figure.Figure at 0x122ce5790>"
      ]
     },
     "metadata": {
      "image/png": {
       "height": 203,
       "width": 372
      }
     },
     "output_type": "display_data"
    }
   ],
   "source": [
    "fig, ax = plt.subplots(1, 1, figsize=(6, 3))\n",
    "\n",
    "#ax = sns.distplot(d['BOND AMOUNT'], kde=False, ax=ax, bins=1000)\n",
    "\n",
    "ax.hist(np.random.normal(10, 2, size=100), bins=5, alpha=0.5)\n",
    "\n",
    "ax.hist(np.random.normal(15, 5, size=100), bins=25, alpha=0.5, color='darkred')\n",
    "\n",
    "plt.show()"
   ]
  },
  {
   "cell_type": "code",
   "execution_count": 95,
   "metadata": {
    "collapsed": false
   },
   "outputs": [
    {
     "data": {
      "image/png": "[encoded data removed]",
      "text/plain": [
       "<matplotlib.figure.Figure at 0x118474450>"
      ]
     },
     "metadata": {
      "image/png": {
       "height": 218,
       "width": 389
      }
     },
     "output_type": "display_data"
    }
   ],
   "source": [
    "# 2. Plot age distribution of white and hispanic people on the same chart.\n",
    "\n",
    "fig, ax = plt.subplots(1, 1, figsize=(6, 3))\n",
    "\n",
    "sns.distplot(d['AGE'][d['RACE'] == 'WHITE'], \n",
    "             bins = 25, ax=ax, color = 'red', \n",
    "             kde=False, label='white')\n",
    "sns.distplot(d['AGE'][d['RACE'] == 'HISPANIC'], \n",
    "             bins = 25, ax=ax, color = 'blue',\n",
    "             kde=False, label='hispanic')\n",
    "\n",
    "ax.legend(loc='upper right')\n",
    "\n",
    "plt.show()\n",
    "\n"
   ]
  },
  {
   "cell_type": "code",
   "execution_count": 99,
   "metadata": {
    "collapsed": false
   },
   "outputs": [
    {
     "data": {
      "image/png": "[encoded data removed]",
      "text/plain": [
       "<matplotlib.figure.Figure at 0x1233844d0>"
      ]
     },
     "metadata": {
      "image/png": {
       "height": 203,
       "width": 389
      }
     },
     "output_type": "display_data"
    }
   ],
   "source": [
    "fig, ax = plt.subplots(1, 1, figsize=(6, 3))\n",
    "\n",
    "ax.hist(d[d.RACE == 'WHITE'].AGE, bins=25, \n",
    "        color='red', label='white', alpha=0.4)\n",
    "\n",
    "ax.axvline(x=np.mean(d[d.RACE == 'WHITE'].AGE), lw=4, \n",
    "           color='darkred', ls='dashed')\n",
    "\n",
    "ax.hist(d[d.RACE == 'HISPANIC'].AGE, bins=25, \n",
    "        color='blue', label='hispanic', alpha=0.4)\n",
    "\n",
    "ax.axvline(x=np.mean(d[d.RACE == 'HISPANIC'].AGE), \n",
    "           lw=4, color='darkblue', ls='dotted')\n",
    "\n",
    "ax.legend(loc='upper right')\n",
    "\n",
    "plt.show()\n"
   ]
  },
  {
   "cell_type": "code",
   "execution_count": 101,
   "metadata": {
    "collapsed": false
   },
   "outputs": [
    {
     "data": {
      "image/png": "[encoded data removed]",
      "text/plain": [
       "<matplotlib.figure.Figure at 0x11ef38b10>"
      ]
     },
     "metadata": {
      "image/png": {
       "height": 203,
       "width": 406
      }
     },
     "output_type": "display_data"
    }
   ],
   "source": [
    "fig, ax = plt.subplots(1, 1, figsize=(6, 3))\n",
    "ax.scatter(d['AGE'], d['BOND AMOUNT'], s=30, alpha=0.25)\n",
    "plt.show()"
   ]
  },
  {
   "cell_type": "code",
   "execution_count": null,
   "metadata": {
    "collapsed": true
   },
   "outputs": [],
   "source": [
    "# 3. Age vs. bond amount for Asian, Hispanic, and AMER IND in different colors\n",
    "# bonus: add a legend.MER IND\"][\"AGE\"]"
   ]
  },
  {
   "cell_type": "code",
   "execution_count": 112,
   "metadata": {
    "collapsed": false
   },
   "outputs": [
    {
     "data": {
      "text/plain": [
       "<matplotlib.collections.PathCollection at 0x11de09590>"
      ]
     },
     "execution_count": 112,
     "metadata": {},
     "output_type": "execute_result"
    },
    {
     "data": {
      "image/png": "[encoded data removed]",
      "text/plain": [
       "<matplotlib.figure.Figure at 0x11eb77490>"
      ]
     },
     "metadata": {
      "image/png": {
       "height": 314,
       "width": 512
      }
     },
     "output_type": "display_data"
    }
   ],
   "source": [
    "hisp_age = d[d[\"RACE\"]==\"HISPANIC\"][\"AGE\"]\n",
    "asian_age = d[d[\"RACE\"]==\"ASIAN\"][\"AGE\"]\n",
    "ind_age = d[d[\"RACE\"]==\"AMER IND\"][\"AGE\"]\n",
    "\n",
    "hisp_bond = d[d[\"RACE\"]==\"HISPANIC\"][\"BOND AMOUNT\"]\n",
    "asian_bond = d[d[\"RACE\"]==\"ASIAN\"][\"BOND AMOUNT\"]\n",
    "ind_bond = d[d[\"RACE\"]==\"AMER IND\"][\"BOND AMOUNT\"]\n",
    "\n",
    "\n",
    "fig, ax = plt.subplots(1, 1, figsize=(8, 5))\n",
    "#ax.scatter(hisp_age, hisp_bond, s=20, alpha=0.01,color=\"red\")\n",
    "ax.scatter(asian_age, asian_bond, s=20, alpha=0.01, color=\"blue\")\n",
    "ax.scatter(ind_age, ind_bond, s=20, alpha=0.01, color= \"goldenrod\")\n",
    "\n",
    "\n"
   ]
  },
  {
   "cell_type": "code",
   "execution_count": null,
   "metadata": {
    "collapsed": true
   },
   "outputs": [],
   "source": []
  },
  {
   "cell_type": "code",
   "execution_count": null,
   "metadata": {
    "collapsed": true
   },
   "outputs": [],
   "source": []
  },
  {
   "cell_type": "code",
   "execution_count": null,
   "metadata": {
    "collapsed": true
   },
   "outputs": [],
   "source": []
  },
  {
   "cell_type": "code",
   "execution_count": null,
   "metadata": {
    "collapsed": true
   },
   "outputs": [],
   "source": []
  },
  {
   "cell_type": "code",
   "execution_count": null,
   "metadata": {
    "collapsed": true
   },
   "outputs": [],
   "source": []
  },
  {
   "cell_type": "code",
   "execution_count": 100,
   "metadata": {
    "collapsed": false
   },
   "outputs": [
    {
     "data": {
      "text/plain": [
       "array(['AM', 'M', 'DF', 'BM', nan, 'F', 'BF', 'AF', 'CF', 'CM', 'C', 'UM'], dtype=object)"
      ]
     },
     "execution_count": 100,
     "metadata": {},
     "output_type": "execute_result"
    }
   ],
   "source": [
    "d.offense_code.unique()"
   ]
  },
  {
   "cell_type": "code",
   "execution_count": 102,
   "metadata": {
    "collapsed": false
   },
   "outputs": [
    {
     "data": {
      "text/plain": [
       "array(['WHITE', 'BLACK', 'HISPANIC', 'ASIAN', 'AMER IND'], dtype=object)"
      ]
     },
     "execution_count": 102,
     "metadata": {},
     "output_type": "execute_result"
    }
   ],
   "source": [
    "d.RACE.unique()"
   ]
  },
  {
   "cell_type": "code",
   "execution_count": 25,
   "metadata": {
    "collapsed": false
   },
   "outputs": [
    {
     "data": {
      "text/plain": [
       "'spencer'"
      ]
     },
     "execution_count": 25,
     "metadata": {},
     "output_type": "execute_result"
    }
   ],
   "source": [
    "sc.get_student()"
   ]
  },
  {
   "cell_type": "code",
   "execution_count": 3,
   "metadata": {
    "collapsed": false
   },
   "outputs": [
    {
     "data": {
      "text/html": [
       "<div>\n",
       "<table border=\"1\" class=\"dataframe\">\n",
       "  <thead>\n",
       "    <tr style=\"text-align: right;\">\n",
       "      <th></th>\n",
       "      <th>Name</th>\n",
       "      <th>Link to article</th>\n",
       "      <th>Year</th>\n",
       "      <th>Deaths</th>\n",
       "      <th>Injuries</th>\n",
       "      <th>Place</th>\n",
       "      <th>Place (State)</th>\n",
       "      <th>Store / Location</th>\n",
       "      <th>Cause of Death / Injury</th>\n",
       "    </tr>\n",
       "  </thead>\n",
       "  <tbody>\n",
       "    <tr>\n",
       "      <th>0</th>\n",
       "      <td>10 Injured in Southern California Black Friday...</td>\n",
       "      <td>http://abclocal.go.com/kabc/story?section=news...</td>\n",
       "      <td>2006</td>\n",
       "      <td>0</td>\n",
       "      <td>10</td>\n",
       "      <td>Torrance, California</td>\n",
       "      <td>California</td>\n",
       "      <td>Del Amo Fashion Center</td>\n",
       "      <td>Stampede</td>\n",
       "    </tr>\n",
       "    <tr>\n",
       "      <th>1</th>\n",
       "      <td>Salt Lake Tribune, The : Red-hot on Black Friday‎</td>\n",
       "      <td>http://nl.newsbank.com/nl-search/we/Archives?p...</td>\n",
       "      <td>2006</td>\n",
       "      <td>0</td>\n",
       "      <td>1</td>\n",
       "      <td>Murray, Utah</td>\n",
       "      <td>Utah</td>\n",
       "      <td>Fashion Place Mall</td>\n",
       "      <td>Stampede</td>\n",
       "    </tr>\n",
       "    <tr>\n",
       "      <th>2</th>\n",
       "      <td>Worker dies at Long Island Wal-Mart after bein...</td>\n",
       "      <td>http://www.nydailynews.com/new-york/worker-die...</td>\n",
       "      <td>2008</td>\n",
       "      <td>1</td>\n",
       "      <td>4</td>\n",
       "      <td>Long Island, New York</td>\n",
       "      <td>New York</td>\n",
       "      <td>Wal-Mart</td>\n",
       "      <td>Stampede</td>\n",
       "    </tr>\n",
       "    <tr>\n",
       "      <th>3</th>\n",
       "      <td>Southern California Toys 'R' Us Shooting Leave...</td>\n",
       "      <td>http://www.huffingtonpost.com/2008/11/28/socal...</td>\n",
       "      <td>2008</td>\n",
       "      <td>2</td>\n",
       "      <td>2</td>\n",
       "      <td>Palm Desert, California</td>\n",
       "      <td>California</td>\n",
       "      <td>Toys 'R' Us</td>\n",
       "      <td>Shooting</td>\n",
       "    </tr>\n",
       "    <tr>\n",
       "      <th>4</th>\n",
       "      <td>Clarksville Woman Trampled During Black Friday...</td>\n",
       "      <td>http://www.newschannel5.com/global/story.asp?s...</td>\n",
       "      <td>2009</td>\n",
       "      <td>0</td>\n",
       "      <td>1</td>\n",
       "      <td>Clarksville, Tennessee</td>\n",
       "      <td>Tennessee</td>\n",
       "      <td>Toys 'R' Us</td>\n",
       "      <td>Stampede</td>\n",
       "    </tr>\n",
       "  </tbody>\n",
       "</table>\n",
       "</div>"
      ],
      "text/plain": [
       "                                                Name  \\\n",
       "0  10 Injured in Southern California Black Friday...   \n",
       "1  Salt Lake Tribune, The : Red-hot on Black Friday‎   \n",
       "2  Worker dies at Long Island Wal-Mart after bein...   \n",
       "3  Southern California Toys 'R' Us Shooting Leave...   \n",
       "4  Clarksville Woman Trampled During Black Friday...   \n",
       "\n",
       "                                     Link to article  Year  Deaths  Injuries  \\\n",
       "0  http://abclocal.go.com/kabc/story?section=news...  2006       0        10   \n",
       "1  http://nl.newsbank.com/nl-search/we/Archives?p...  2006       0         1   \n",
       "2  http://www.nydailynews.com/new-york/worker-die...  2008       1         4   \n",
       "3  http://www.huffingtonpost.com/2008/11/28/socal...  2008       2         2   \n",
       "4  http://www.newschannel5.com/global/story.asp?s...  2009       0         1   \n",
       "\n",
       "                     Place Place (State)        Store / Location  \\\n",
       "0     Torrance, California    California  Del Amo Fashion Center   \n",
       "1             Murray, Utah          Utah      Fashion Place Mall   \n",
       "2    Long Island, New York      New York                Wal-Mart   \n",
       "3  Palm Desert, California    California             Toys 'R' Us   \n",
       "4   Clarksville, Tennessee     Tennessee             Toys 'R' Us   \n",
       "\n",
       "  Cause of Death / Injury  \n",
       "0                Stampede  \n",
       "1                Stampede  \n",
       "2                Stampede  \n",
       "3                Shooting  \n",
       "4                Stampede  "
      ]
     },
     "execution_count": 3,
     "metadata": {},
     "output_type": "execute_result"
    }
   ],
   "source": [
    "import pandas as pd\n",
    "\n",
    "df = pd.read_csv(\"../../../../DSI-SF/datasets/black_friday_incidents/Incidents.csv\")\n",
    "df.head(5)"
   ]
  },
  {
   "cell_type": "code",
   "execution_count": 4,
   "metadata": {
    "collapsed": false
   },
   "outputs": [
    {
     "name": "stdout",
     "output_type": "stream",
     "text": [
      "<class 'pandas.core.frame.DataFrame'>\n",
      "RangeIndex: 27 entries, 0 to 26\n",
      "Data columns (total 9 columns):\n",
      "Name                       27 non-null object\n",
      "Link to article            27 non-null object\n",
      "Year                       27 non-null int64\n",
      "Deaths                     27 non-null int64\n",
      "Injuries                   27 non-null int64\n",
      "Place                      27 non-null object\n",
      "Place (State)              27 non-null object\n",
      "Store / Location           27 non-null object\n",
      "Cause of Death / Injury    27 non-null object\n",
      "dtypes: int64(3), object(6)\n",
      "memory usage: 2.0+ KB\n"
     ]
    }
   ],
   "source": [
    "# Investigate types, most common cause of injury by year\n",
    "\n",
    "df.info()"
   ]
  },
  {
   "cell_type": "code",
   "execution_count": 5,
   "metadata": {
    "collapsed": false
   },
   "outputs": [
    {
     "data": {
      "text/html": [
       "<div>\n",
       "<table border=\"1\" class=\"dataframe\">\n",
       "  <thead>\n",
       "    <tr style=\"text-align: right;\">\n",
       "      <th></th>\n",
       "      <th>Name</th>\n",
       "      <th>Link to article</th>\n",
       "      <th>Year</th>\n",
       "      <th>Deaths</th>\n",
       "      <th>Injuries</th>\n",
       "      <th>Place</th>\n",
       "      <th>Place (State)</th>\n",
       "      <th>Store / Location</th>\n",
       "      <th>Cause of Death / Injury</th>\n",
       "    </tr>\n",
       "  </thead>\n",
       "  <tbody>\n",
       "    <tr>\n",
       "      <th>0</th>\n",
       "      <td>10 Injured in Southern California Black Friday...</td>\n",
       "      <td>http://abclocal.go.com/kabc/story?section=news...</td>\n",
       "      <td>2006</td>\n",
       "      <td>0</td>\n",
       "      <td>10</td>\n",
       "      <td>Torrance, California</td>\n",
       "      <td>California</td>\n",
       "      <td>Del Amo Fashion Center</td>\n",
       "      <td>Stampede</td>\n",
       "    </tr>\n",
       "    <tr>\n",
       "      <th>1</th>\n",
       "      <td>Salt Lake Tribune, The : Red-hot on Black Friday‎</td>\n",
       "      <td>http://nl.newsbank.com/nl-search/we/Archives?p...</td>\n",
       "      <td>2006</td>\n",
       "      <td>0</td>\n",
       "      <td>1</td>\n",
       "      <td>Murray, Utah</td>\n",
       "      <td>Utah</td>\n",
       "      <td>Fashion Place Mall</td>\n",
       "      <td>Stampede</td>\n",
       "    </tr>\n",
       "    <tr>\n",
       "      <th>2</th>\n",
       "      <td>Worker dies at Long Island Wal-Mart after bein...</td>\n",
       "      <td>http://www.nydailynews.com/new-york/worker-die...</td>\n",
       "      <td>2008</td>\n",
       "      <td>1</td>\n",
       "      <td>4</td>\n",
       "      <td>Long Island, New York</td>\n",
       "      <td>New York</td>\n",
       "      <td>Wal-Mart</td>\n",
       "      <td>Stampede</td>\n",
       "    </tr>\n",
       "    <tr>\n",
       "      <th>3</th>\n",
       "      <td>Southern California Toys 'R' Us Shooting Leave...</td>\n",
       "      <td>http://www.huffingtonpost.com/2008/11/28/socal...</td>\n",
       "      <td>2008</td>\n",
       "      <td>2</td>\n",
       "      <td>2</td>\n",
       "      <td>Palm Desert, California</td>\n",
       "      <td>California</td>\n",
       "      <td>Toys 'R' Us</td>\n",
       "      <td>Shooting</td>\n",
       "    </tr>\n",
       "    <tr>\n",
       "      <th>4</th>\n",
       "      <td>Clarksville Woman Trampled During Black Friday...</td>\n",
       "      <td>http://www.newschannel5.com/global/story.asp?s...</td>\n",
       "      <td>2009</td>\n",
       "      <td>0</td>\n",
       "      <td>1</td>\n",
       "      <td>Clarksville, Tennessee</td>\n",
       "      <td>Tennessee</td>\n",
       "      <td>Toys 'R' Us</td>\n",
       "      <td>Stampede</td>\n",
       "    </tr>\n",
       "  </tbody>\n",
       "</table>\n",
       "</div>"
      ],
      "text/plain": [
       "                                                Name  \\\n",
       "0  10 Injured in Southern California Black Friday...   \n",
       "1  Salt Lake Tribune, The : Red-hot on Black Friday‎   \n",
       "2  Worker dies at Long Island Wal-Mart after bein...   \n",
       "3  Southern California Toys 'R' Us Shooting Leave...   \n",
       "4  Clarksville Woman Trampled During Black Friday...   \n",
       "\n",
       "                                     Link to article  Year  Deaths  Injuries  \\\n",
       "0  http://abclocal.go.com/kabc/story?section=news...  2006       0        10   \n",
       "1  http://nl.newsbank.com/nl-search/we/Archives?p...  2006       0         1   \n",
       "2  http://www.nydailynews.com/new-york/worker-die...  2008       1         4   \n",
       "3  http://www.huffingtonpost.com/2008/11/28/socal...  2008       2         2   \n",
       "4  http://www.newschannel5.com/global/story.asp?s...  2009       0         1   \n",
       "\n",
       "                     Place Place (State)        Store / Location  \\\n",
       "0     Torrance, California    California  Del Amo Fashion Center   \n",
       "1             Murray, Utah          Utah      Fashion Place Mall   \n",
       "2    Long Island, New York      New York                Wal-Mart   \n",
       "3  Palm Desert, California    California             Toys 'R' Us   \n",
       "4   Clarksville, Tennessee     Tennessee             Toys 'R' Us   \n",
       "\n",
       "  Cause of Death / Injury  \n",
       "0                Stampede  \n",
       "1                Stampede  \n",
       "2                Stampede  \n",
       "3                Shooting  \n",
       "4                Stampede  "
      ]
     },
     "execution_count": 5,
     "metadata": {},
     "output_type": "execute_result"
    }
   ],
   "source": [
    "df.head()"
   ]
  },
  {
   "cell_type": "code",
   "execution_count": 28,
   "metadata": {
    "collapsed": false
   },
   "outputs": [],
   "source": [
    "import pandas as pd\n",
    "import numpy as np\n",
    "\n",
    "\n",
    "gdf = df.groupby(['Year','Cause of Death / Injury']).count()\n",
    "\n"
   ]
  },
  {
   "cell_type": "code",
   "execution_count": 35,
   "metadata": {
    "collapsed": false
   },
   "outputs": [
    {
     "data": {
      "text/plain": [
       "Year  Cause of Death / Injury\n",
       "2006  Stampede                    True\n",
       "2008  Shooting                   False\n",
       "      Stampede                   False\n",
       "2009  Stampede                   False\n",
       "2010  Assault                    False\n",
       "      Stabbing                   False\n",
       "2011  Car Accident               False\n",
       "      Fight                      False\n",
       "      Heart Problems             False\n",
       "      Pepper Spray                True\n",
       "      Robbery Attempt            False\n",
       "      Shooting                   False\n",
       "      Stampede                   False\n",
       "2012  Car Accident                True\n",
       "      Shooting                   False\n",
       "2013  Car Accident               False\n",
       "      Fall                       False\n",
       "      Fight                      False\n",
       "      Pepper Spray, Fight        False\n",
       "      Shooting                    True\n",
       "      Stabbing                    True\n",
       "      Stampede                   False\n",
       "Name: Name, dtype: bool"
      ]
     },
     "execution_count": 35,
     "metadata": {},
     "output_type": "execute_result"
    }
   ],
   "source": [
    "mask = gdf['Name'] > 1\n",
    "mask"
   ]
  },
  {
   "cell_type": "code",
   "execution_count": 36,
   "metadata": {
    "collapsed": false
   },
   "outputs": [
    {
     "data": {
      "text/html": [
       "<div>\n",
       "<table border=\"1\" class=\"dataframe\">\n",
       "  <thead>\n",
       "    <tr style=\"text-align: right;\">\n",
       "      <th></th>\n",
       "      <th></th>\n",
       "      <th>Name</th>\n",
       "      <th>Link to article</th>\n",
       "      <th>Deaths</th>\n",
       "      <th>Injuries</th>\n",
       "      <th>Place</th>\n",
       "      <th>Place (State)</th>\n",
       "      <th>Store / Location</th>\n",
       "    </tr>\n",
       "    <tr>\n",
       "      <th>Year</th>\n",
       "      <th>Cause of Death / Injury</th>\n",
       "      <th></th>\n",
       "      <th></th>\n",
       "      <th></th>\n",
       "      <th></th>\n",
       "      <th></th>\n",
       "      <th></th>\n",
       "      <th></th>\n",
       "    </tr>\n",
       "  </thead>\n",
       "  <tbody>\n",
       "    <tr>\n",
       "      <th>2006</th>\n",
       "      <th>Stampede</th>\n",
       "      <td>2</td>\n",
       "      <td>2</td>\n",
       "      <td>2</td>\n",
       "      <td>2</td>\n",
       "      <td>2</td>\n",
       "      <td>2</td>\n",
       "      <td>2</td>\n",
       "    </tr>\n",
       "    <tr>\n",
       "      <th>2011</th>\n",
       "      <th>Pepper Spray</th>\n",
       "      <td>2</td>\n",
       "      <td>2</td>\n",
       "      <td>2</td>\n",
       "      <td>2</td>\n",
       "      <td>2</td>\n",
       "      <td>2</td>\n",
       "      <td>2</td>\n",
       "    </tr>\n",
       "    <tr>\n",
       "      <th>2012</th>\n",
       "      <th>Car Accident</th>\n",
       "      <td>2</td>\n",
       "      <td>2</td>\n",
       "      <td>2</td>\n",
       "      <td>2</td>\n",
       "      <td>2</td>\n",
       "      <td>2</td>\n",
       "      <td>2</td>\n",
       "    </tr>\n",
       "    <tr>\n",
       "      <th rowspan=\"2\" valign=\"top\">2013</th>\n",
       "      <th>Shooting</th>\n",
       "      <td>2</td>\n",
       "      <td>2</td>\n",
       "      <td>2</td>\n",
       "      <td>2</td>\n",
       "      <td>2</td>\n",
       "      <td>2</td>\n",
       "      <td>2</td>\n",
       "    </tr>\n",
       "    <tr>\n",
       "      <th>Stabbing</th>\n",
       "      <td>2</td>\n",
       "      <td>2</td>\n",
       "      <td>2</td>\n",
       "      <td>2</td>\n",
       "      <td>2</td>\n",
       "      <td>2</td>\n",
       "      <td>2</td>\n",
       "    </tr>\n",
       "  </tbody>\n",
       "</table>\n",
       "</div>"
      ],
      "text/plain": [
       "                              Name  Link to article  Deaths  Injuries  Place  \\\n",
       "Year Cause of Death / Injury                                                   \n",
       "2006 Stampede                    2                2       2         2      2   \n",
       "2011 Pepper Spray                2                2       2         2      2   \n",
       "2012 Car Accident                2                2       2         2      2   \n",
       "2013 Shooting                    2                2       2         2      2   \n",
       "     Stabbing                    2                2       2         2      2   \n",
       "\n",
       "                              Place (State)  Store / Location  \n",
       "Year Cause of Death / Injury                                   \n",
       "2006 Stampede                             2                 2  \n",
       "2011 Pepper Spray                         2                 2  \n",
       "2012 Car Accident                         2                 2  \n",
       "2013 Shooting                             2                 2  \n",
       "     Stabbing                             2                 2  "
      ]
     },
     "execution_count": 36,
     "metadata": {},
     "output_type": "execute_result"
    }
   ],
   "source": [
    "# Filter out entries with count < 2\n",
    "\n",
    "gdf_mask = gdf[mask]\n",
    "gdf_mask"
   ]
  },
  {
   "cell_type": "code",
   "execution_count": 58,
   "metadata": {
    "collapsed": false
   },
   "outputs": [
    {
     "data": {
      "text/html": [
       "<div>\n",
       "<table border=\"1\" class=\"dataframe\">\n",
       "  <thead>\n",
       "    <tr style=\"text-align: right;\">\n",
       "      <th></th>\n",
       "      <th></th>\n",
       "      <th>Name</th>\n",
       "      <th>Link to article</th>\n",
       "      <th>Deaths</th>\n",
       "      <th>Injuries</th>\n",
       "      <th>Place</th>\n",
       "      <th>Place (State)</th>\n",
       "      <th>Store / Location</th>\n",
       "    </tr>\n",
       "    <tr>\n",
       "      <th>Year</th>\n",
       "      <th>Cause of Death / Injury</th>\n",
       "      <th></th>\n",
       "      <th></th>\n",
       "      <th></th>\n",
       "      <th></th>\n",
       "      <th></th>\n",
       "      <th></th>\n",
       "      <th></th>\n",
       "    </tr>\n",
       "  </thead>\n",
       "  <tbody>\n",
       "    <tr>\n",
       "      <th>2006</th>\n",
       "      <th>Stampede</th>\n",
       "      <td>2</td>\n",
       "      <td>2</td>\n",
       "      <td>2</td>\n",
       "      <td>2</td>\n",
       "      <td>2</td>\n",
       "      <td>2</td>\n",
       "      <td>2</td>\n",
       "    </tr>\n",
       "    <tr>\n",
       "      <th>2011</th>\n",
       "      <th>Pepper Spray</th>\n",
       "      <td>2</td>\n",
       "      <td>2</td>\n",
       "      <td>2</td>\n",
       "      <td>2</td>\n",
       "      <td>2</td>\n",
       "      <td>2</td>\n",
       "      <td>2</td>\n",
       "    </tr>\n",
       "    <tr>\n",
       "      <th>2012</th>\n",
       "      <th>Car Accident</th>\n",
       "      <td>2</td>\n",
       "      <td>2</td>\n",
       "      <td>2</td>\n",
       "      <td>2</td>\n",
       "      <td>2</td>\n",
       "      <td>2</td>\n",
       "      <td>2</td>\n",
       "    </tr>\n",
       "    <tr>\n",
       "      <th rowspan=\"2\" valign=\"top\">2013</th>\n",
       "      <th>Shooting</th>\n",
       "      <td>2</td>\n",
       "      <td>2</td>\n",
       "      <td>2</td>\n",
       "      <td>2</td>\n",
       "      <td>2</td>\n",
       "      <td>2</td>\n",
       "      <td>2</td>\n",
       "    </tr>\n",
       "    <tr>\n",
       "      <th>Stabbing</th>\n",
       "      <td>2</td>\n",
       "      <td>2</td>\n",
       "      <td>2</td>\n",
       "      <td>2</td>\n",
       "      <td>2</td>\n",
       "      <td>2</td>\n",
       "      <td>2</td>\n",
       "    </tr>\n",
       "  </tbody>\n",
       "</table>\n",
       "</div>"
      ],
      "text/plain": [
       "                              Name  Link to article  Deaths  Injuries  Place  \\\n",
       "Year Cause of Death / Injury                                                   \n",
       "2006 Stampede                    2                2       2         2      2   \n",
       "2011 Pepper Spray                2                2       2         2      2   \n",
       "2012 Car Accident                2                2       2         2      2   \n",
       "2013 Shooting                    2                2       2         2      2   \n",
       "     Stabbing                    2                2       2         2      2   \n",
       "\n",
       "                              Place (State)  Store / Location  \n",
       "Year Cause of Death / Injury                                   \n",
       "2006 Stampede                             2                 2  \n",
       "2011 Pepper Spray                         2                 2  \n",
       "2012 Car Accident                         2                 2  \n",
       "2013 Shooting                             2                 2  \n",
       "     Stabbing                             2                 2  "
      ]
     },
     "execution_count": 58,
     "metadata": {},
     "output_type": "execute_result"
    }
   ],
   "source": [
    "# Alternative to masking can be accomplished with map / apply\n",
    "gdf[gdf['Name'].apply(lambda value: value > 1)]"
   ]
  },
  {
   "cell_type": "code",
   "execution_count": 65,
   "metadata": {
    "collapsed": false
   },
   "outputs": [
    {
     "data": {
      "text/plain": [
       "'rashim'"
      ]
     },
     "execution_count": 65,
     "metadata": {},
     "output_type": "execute_result"
    }
   ],
   "source": [
    "sc.get_student()"
   ]
  },
  {
   "cell_type": "code",
   "execution_count": 51,
   "metadata": {
    "collapsed": false
   },
   "outputs": [
    {
     "data": {
      "text/html": [
       "<div>\n",
       "<table border=\"1\" class=\"dataframe\">\n",
       "  <thead>\n",
       "    <tr style=\"text-align: right;\">\n",
       "      <th></th>\n",
       "      <th>Beers Drank</th>\n",
       "      <th>Interceptions</th>\n",
       "    </tr>\n",
       "    <tr>\n",
       "      <th>Team</th>\n",
       "      <th></th>\n",
       "      <th></th>\n",
       "    </tr>\n",
       "  </thead>\n",
       "  <tbody>\n",
       "    <tr>\n",
       "      <th>A</th>\n",
       "      <td>2</td>\n",
       "      <td>2</td>\n",
       "    </tr>\n",
       "    <tr>\n",
       "      <th>B</th>\n",
       "      <td>3</td>\n",
       "      <td>1</td>\n",
       "    </tr>\n",
       "  </tbody>\n",
       "</table>\n",
       "</div>"
      ],
      "text/plain": [
       "      Beers Drank  Interceptions\n",
       "Team                            \n",
       "A               2              2\n",
       "B               3              1"
      ]
     },
     "execution_count": 51,
     "metadata": {},
     "output_type": "execute_result"
    }
   ],
   "source": [
    "## How does .count() aggregation work?\n",
    "## .count() only cares about non-null values.  Notice the np.nan values do not get counted\n",
    "\n",
    "raw_data = [\n",
    "    {\"Team\": \"A\", \"Interceptions\": 1, \"Beers Drank\": 0},\n",
    "    {\"Team\": \"A\", \"Interceptions\": 1, \"Beers Drank\": 500},\n",
    "    {\"Team\": \"B\", \"Interceptions\": 1, \"Beers Drank\": 0},\n",
    "    {\"Team\": \"B\", \"Interceptions\": np.nan, \"Beers Drank\": 0},\n",
    "    {\"Team\": \"B\", \"Interceptions\": np.nan, \"Beers Drank\": 0},\n",
    "]\n",
    "\n",
    "test_df = pd.DataFrame(raw_data)\n",
    "# test_df\n",
    "test_df.groupby(\"Team\").count()"
   ]
  },
  {
   "cell_type": "code",
   "execution_count": 62,
   "metadata": {
    "collapsed": false
   },
   "outputs": [
    {
     "data": {
      "text/html": [
       "<div>\n",
       "<table border=\"1\" class=\"dataframe\">\n",
       "  <thead>\n",
       "    <tr style=\"text-align: right;\">\n",
       "      <th></th>\n",
       "      <th>Deaths</th>\n",
       "    </tr>\n",
       "    <tr>\n",
       "      <th>Year</th>\n",
       "      <th></th>\n",
       "    </tr>\n",
       "  </thead>\n",
       "  <tbody>\n",
       "    <tr>\n",
       "      <th>2008</th>\n",
       "      <td>3</td>\n",
       "    </tr>\n",
       "    <tr>\n",
       "      <th>2012</th>\n",
       "      <td>2</td>\n",
       "    </tr>\n",
       "    <tr>\n",
       "      <th>2011</th>\n",
       "      <td>1</td>\n",
       "    </tr>\n",
       "    <tr>\n",
       "      <th>2013</th>\n",
       "      <td>1</td>\n",
       "    </tr>\n",
       "    <tr>\n",
       "      <th>2006</th>\n",
       "      <td>0</td>\n",
       "    </tr>\n",
       "  </tbody>\n",
       "</table>\n",
       "</div>"
      ],
      "text/plain": [
       "      Deaths\n",
       "Year        \n",
       "2008       3\n",
       "2012       2\n",
       "2011       1\n",
       "2013       1\n",
       "2006       0"
      ]
     },
     "execution_count": 62,
     "metadata": {},
     "output_type": "execute_result"
    }
   ],
   "source": [
    "# 1. Which years had the highest deathtoll \n",
    "# 2. follow-up: place with highest injuries\n",
    "df[['Year', 'Deaths']].groupby('Year').sum().sort_values(by = 'Deaths', ascending = False).head(5)"
   ]
  },
  {
   "cell_type": "code",
   "execution_count": 63,
   "metadata": {
    "collapsed": false
   },
   "outputs": [
    {
     "data": {
      "text/html": [
       "<div>\n",
       "<table border=\"1\" class=\"dataframe\">\n",
       "  <thead>\n",
       "    <tr style=\"text-align: right;\">\n",
       "      <th></th>\n",
       "      <th>Name</th>\n",
       "      <th>Link to article</th>\n",
       "      <th>Year</th>\n",
       "      <th>Deaths</th>\n",
       "      <th>Injuries</th>\n",
       "      <th>Place</th>\n",
       "      <th>Place (State)</th>\n",
       "      <th>Store / Location</th>\n",
       "      <th>Cause of Death / Injury</th>\n",
       "    </tr>\n",
       "  </thead>\n",
       "  <tbody>\n",
       "    <tr>\n",
       "      <th>2</th>\n",
       "      <td>Worker dies at Long Island Wal-Mart after bein...</td>\n",
       "      <td>http://www.nydailynews.com/new-york/worker-die...</td>\n",
       "      <td>2008</td>\n",
       "      <td>1</td>\n",
       "      <td>4</td>\n",
       "      <td>Long Island, New York</td>\n",
       "      <td>New York</td>\n",
       "      <td>Wal-Mart</td>\n",
       "      <td>Stampede</td>\n",
       "    </tr>\n",
       "    <tr>\n",
       "      <th>3</th>\n",
       "      <td>Southern California Toys 'R' Us Shooting Leave...</td>\n",
       "      <td>http://www.huffingtonpost.com/2008/11/28/socal...</td>\n",
       "      <td>2008</td>\n",
       "      <td>2</td>\n",
       "      <td>2</td>\n",
       "      <td>Palm Desert, California</td>\n",
       "      <td>California</td>\n",
       "      <td>Toys 'R' Us</td>\n",
       "      <td>Shooting</td>\n",
       "    </tr>\n",
       "  </tbody>\n",
       "</table>\n",
       "</div>"
      ],
      "text/plain": [
       "                                                Name  \\\n",
       "2  Worker dies at Long Island Wal-Mart after bein...   \n",
       "3  Southern California Toys 'R' Us Shooting Leave...   \n",
       "\n",
       "                                     Link to article  Year  Deaths  Injuries  \\\n",
       "2  http://www.nydailynews.com/new-york/worker-die...  2008       1         4   \n",
       "3  http://www.huffingtonpost.com/2008/11/28/socal...  2008       2         2   \n",
       "\n",
       "                     Place Place (State) Store / Location  \\\n",
       "2    Long Island, New York      New York         Wal-Mart   \n",
       "3  Palm Desert, California    California      Toys 'R' Us   \n",
       "\n",
       "  Cause of Death / Injury  \n",
       "2                Stampede  \n",
       "3                Shooting  "
      ]
     },
     "execution_count": 63,
     "metadata": {},
     "output_type": "execute_result"
    }
   ],
   "source": [
    "df[df['Year'] == 2008]"
   ]
  },
  {
   "cell_type": "code",
   "execution_count": 67,
   "metadata": {
    "collapsed": false
   },
   "outputs": [
    {
     "data": {
      "text/html": [
       "<div>\n",
       "<table border=\"1\" class=\"dataframe\">\n",
       "  <thead>\n",
       "    <tr style=\"text-align: right;\">\n",
       "      <th></th>\n",
       "      <th>Name</th>\n",
       "      <th>Link to article</th>\n",
       "      <th>Year</th>\n",
       "      <th>Deaths</th>\n",
       "      <th>Injuries</th>\n",
       "      <th>Place</th>\n",
       "      <th>Place (State)</th>\n",
       "      <th>Store / Location</th>\n",
       "      <th>Cause of Death / Injury</th>\n",
       "    </tr>\n",
       "  </thead>\n",
       "  <tbody>\n",
       "    <tr>\n",
       "      <th>0</th>\n",
       "      <td>10 Injured in Southern California Black Friday...</td>\n",
       "      <td>http://abclocal.go.com/kabc/story?section=news...</td>\n",
       "      <td>2006</td>\n",
       "      <td>0</td>\n",
       "      <td>10</td>\n",
       "      <td>Torrance, California</td>\n",
       "      <td>California</td>\n",
       "      <td>Del Amo Fashion Center</td>\n",
       "      <td>Stampede</td>\n",
       "    </tr>\n",
       "    <tr>\n",
       "      <th>1</th>\n",
       "      <td>Salt Lake Tribune, The : Red-hot on Black Friday‎</td>\n",
       "      <td>http://nl.newsbank.com/nl-search/we/Archives?p...</td>\n",
       "      <td>2006</td>\n",
       "      <td>0</td>\n",
       "      <td>1</td>\n",
       "      <td>Murray, Utah</td>\n",
       "      <td>Utah</td>\n",
       "      <td>Fashion Place Mall</td>\n",
       "      <td>Stampede</td>\n",
       "    </tr>\n",
       "  </tbody>\n",
       "</table>\n",
       "</div>"
      ],
      "text/plain": [
       "                                                Name  \\\n",
       "0  10 Injured in Southern California Black Friday...   \n",
       "1  Salt Lake Tribune, The : Red-hot on Black Friday‎   \n",
       "\n",
       "                                     Link to article  Year  Deaths  Injuries  \\\n",
       "0  http://abclocal.go.com/kabc/story?section=news...  2006       0        10   \n",
       "1  http://nl.newsbank.com/nl-search/we/Archives?p...  2006       0         1   \n",
       "\n",
       "                  Place Place (State)        Store / Location  \\\n",
       "0  Torrance, California    California  Del Amo Fashion Center   \n",
       "1          Murray, Utah          Utah      Fashion Place Mall   \n",
       "\n",
       "  Cause of Death / Injury  \n",
       "0                Stampede  \n",
       "1                Stampede  "
      ]
     },
     "execution_count": 67,
     "metadata": {},
     "output_type": "execute_result"
    }
   ],
   "source": [
    "# 2. follow-up: place with highest injuries\n",
    "df.head(2)"
   ]
  },
  {
   "cell_type": "code",
   "execution_count": 80,
   "metadata": {
    "collapsed": false
   },
   "outputs": [
    {
     "data": {
      "text/plain": [
       "<matplotlib.axes._subplots.AxesSubplot at 0x117b95a90>"
      ]
     },
     "execution_count": 80,
     "metadata": {},
     "output_type": "execute_result"
    },
    {
     "data": {
      "image/png": "[encoded data removed]",
      "text/plain": [
       "<matplotlib.figure.Figure at 0x117bb3590>"
      ]
     },
     "metadata": {},
     "output_type": "display_data"
    }
   ],
   "source": [
    "\n",
    "import seaborn as sns\n",
    "\n",
    "# Which injury type has the most indcidents by place?\n",
    "incident = df.groupby('Place')[['Injuries']].sum()\n",
    "incident.sort_values('Injuries').plot(kind=\"barh\")"
   ]
  },
  {
   "cell_type": "code",
   "execution_count": 82,
   "metadata": {
    "collapsed": false
   },
   "outputs": [
    {
     "data": {
      "text/html": [
       "<div>\n",
       "<table border=\"1\" class=\"dataframe\">\n",
       "  <thead>\n",
       "    <tr style=\"text-align: right;\">\n",
       "      <th></th>\n",
       "      <th>Name</th>\n",
       "      <th>Link to article</th>\n",
       "      <th>Year</th>\n",
       "      <th>Deaths</th>\n",
       "      <th>Injuries</th>\n",
       "      <th>Place</th>\n",
       "      <th>Place (State)</th>\n",
       "      <th>Store / Location</th>\n",
       "      <th>Cause of Death / Injury</th>\n",
       "    </tr>\n",
       "  </thead>\n",
       "  <tbody>\n",
       "    <tr>\n",
       "      <th>0</th>\n",
       "      <td>10 Injured in Southern California Black Friday...</td>\n",
       "      <td>http://abclocal.go.com/kabc/story?section=news...</td>\n",
       "      <td>2006</td>\n",
       "      <td>0</td>\n",
       "      <td>10</td>\n",
       "      <td>Torrance, California</td>\n",
       "      <td>California</td>\n",
       "      <td>Del Amo Fashion Center</td>\n",
       "      <td>Stampede</td>\n",
       "    </tr>\n",
       "    <tr>\n",
       "      <th>1</th>\n",
       "      <td>Salt Lake Tribune, The : Red-hot on Black Friday‎</td>\n",
       "      <td>http://nl.newsbank.com/nl-search/we/Archives?p...</td>\n",
       "      <td>2006</td>\n",
       "      <td>0</td>\n",
       "      <td>1</td>\n",
       "      <td>Murray, Utah</td>\n",
       "      <td>Utah</td>\n",
       "      <td>Fashion Place Mall</td>\n",
       "      <td>Stampede</td>\n",
       "    </tr>\n",
       "    <tr>\n",
       "      <th>2</th>\n",
       "      <td>Worker dies at Long Island Wal-Mart after bein...</td>\n",
       "      <td>http://www.nydailynews.com/new-york/worker-die...</td>\n",
       "      <td>2008</td>\n",
       "      <td>1</td>\n",
       "      <td>4</td>\n",
       "      <td>Long Island, New York</td>\n",
       "      <td>New York</td>\n",
       "      <td>Wal-Mart</td>\n",
       "      <td>Stampede</td>\n",
       "    </tr>\n",
       "    <tr>\n",
       "      <th>3</th>\n",
       "      <td>Southern California Toys 'R' Us Shooting Leave...</td>\n",
       "      <td>http://www.huffingtonpost.com/2008/11/28/socal...</td>\n",
       "      <td>2008</td>\n",
       "      <td>2</td>\n",
       "      <td>2</td>\n",
       "      <td>Palm Desert, California</td>\n",
       "      <td>California</td>\n",
       "      <td>Toys 'R' Us</td>\n",
       "      <td>Shooting</td>\n",
       "    </tr>\n",
       "    <tr>\n",
       "      <th>4</th>\n",
       "      <td>Clarksville Woman Trampled During Black Friday...</td>\n",
       "      <td>http://www.newschannel5.com/global/story.asp?s...</td>\n",
       "      <td>2009</td>\n",
       "      <td>0</td>\n",
       "      <td>1</td>\n",
       "      <td>Clarksville, Tennessee</td>\n",
       "      <td>Tennessee</td>\n",
       "      <td>Toys 'R' Us</td>\n",
       "      <td>Stampede</td>\n",
       "    </tr>\n",
       "  </tbody>\n",
       "</table>\n",
       "</div>"
      ],
      "text/plain": [
       "                                                Name  \\\n",
       "0  10 Injured in Southern California Black Friday...   \n",
       "1  Salt Lake Tribune, The : Red-hot on Black Friday‎   \n",
       "2  Worker dies at Long Island Wal-Mart after bein...   \n",
       "3  Southern California Toys 'R' Us Shooting Leave...   \n",
       "4  Clarksville Woman Trampled During Black Friday...   \n",
       "\n",
       "                                     Link to article  Year  Deaths  Injuries  \\\n",
       "0  http://abclocal.go.com/kabc/story?section=news...  2006       0        10   \n",
       "1  http://nl.newsbank.com/nl-search/we/Archives?p...  2006       0         1   \n",
       "2  http://www.nydailynews.com/new-york/worker-die...  2008       1         4   \n",
       "3  http://www.huffingtonpost.com/2008/11/28/socal...  2008       2         2   \n",
       "4  http://www.newschannel5.com/global/story.asp?s...  2009       0         1   \n",
       "\n",
       "                     Place Place (State)        Store / Location  \\\n",
       "0     Torrance, California    California  Del Amo Fashion Center   \n",
       "1             Murray, Utah          Utah      Fashion Place Mall   \n",
       "2    Long Island, New York      New York                Wal-Mart   \n",
       "3  Palm Desert, California    California             Toys 'R' Us   \n",
       "4   Clarksville, Tennessee     Tennessee             Toys 'R' Us   \n",
       "\n",
       "  Cause of Death / Injury  \n",
       "0                Stampede  \n",
       "1                Stampede  \n",
       "2                Stampede  \n",
       "3                Shooting  \n",
       "4                Stampede  "
      ]
     },
     "execution_count": 82,
     "metadata": {},
     "output_type": "execute_result"
    }
   ],
   "source": [
    "df.head(5)"
   ]
  },
  {
   "cell_type": "code",
   "execution_count": 86,
   "metadata": {
    "collapsed": false
   },
   "outputs": [
    {
     "data": {
      "text/html": [
       "<div>\n",
       "<table border=\"1\" class=\"dataframe\">\n",
       "  <thead>\n",
       "    <tr style=\"text-align: right;\">\n",
       "      <th></th>\n",
       "      <th>Name</th>\n",
       "      <th>Link to article</th>\n",
       "      <th>Year</th>\n",
       "      <th>Deaths</th>\n",
       "      <th>Injuries</th>\n",
       "      <th>Place</th>\n",
       "      <th>Place (State)</th>\n",
       "      <th>Store / Location</th>\n",
       "      <th>Cause of Death / Injury</th>\n",
       "      <th>clean_state</th>\n",
       "    </tr>\n",
       "  </thead>\n",
       "  <tbody>\n",
       "    <tr>\n",
       "      <th>0</th>\n",
       "      <td>10 Injured in Southern California Black Friday...</td>\n",
       "      <td>http://abclocal.go.com/kabc/story?section=news...</td>\n",
       "      <td>2006</td>\n",
       "      <td>0</td>\n",
       "      <td>10</td>\n",
       "      <td>Torrance, California</td>\n",
       "      <td>California</td>\n",
       "      <td>Del Amo Fashion Center</td>\n",
       "      <td>Stampede</td>\n",
       "      <td>California</td>\n",
       "    </tr>\n",
       "    <tr>\n",
       "      <th>1</th>\n",
       "      <td>Salt Lake Tribune, The : Red-hot on Black Friday‎</td>\n",
       "      <td>http://nl.newsbank.com/nl-search/we/Archives?p...</td>\n",
       "      <td>2006</td>\n",
       "      <td>0</td>\n",
       "      <td>1</td>\n",
       "      <td>Murray, Utah</td>\n",
       "      <td>Utah</td>\n",
       "      <td>Fashion Place Mall</td>\n",
       "      <td>Stampede</td>\n",
       "      <td>Utah</td>\n",
       "    </tr>\n",
       "    <tr>\n",
       "      <th>2</th>\n",
       "      <td>Worker dies at Long Island Wal-Mart after bein...</td>\n",
       "      <td>http://www.nydailynews.com/new-york/worker-die...</td>\n",
       "      <td>2008</td>\n",
       "      <td>1</td>\n",
       "      <td>4</td>\n",
       "      <td>Long Island, New York</td>\n",
       "      <td>New York</td>\n",
       "      <td>Wal-Mart</td>\n",
       "      <td>Stampede</td>\n",
       "      <td>New York</td>\n",
       "    </tr>\n",
       "    <tr>\n",
       "      <th>3</th>\n",
       "      <td>Southern California Toys 'R' Us Shooting Leave...</td>\n",
       "      <td>http://www.huffingtonpost.com/2008/11/28/socal...</td>\n",
       "      <td>2008</td>\n",
       "      <td>2</td>\n",
       "      <td>2</td>\n",
       "      <td>Palm Desert, California</td>\n",
       "      <td>California</td>\n",
       "      <td>Toys 'R' Us</td>\n",
       "      <td>Shooting</td>\n",
       "      <td>California</td>\n",
       "    </tr>\n",
       "    <tr>\n",
       "      <th>4</th>\n",
       "      <td>Clarksville Woman Trampled During Black Friday...</td>\n",
       "      <td>http://www.newschannel5.com/global/story.asp?s...</td>\n",
       "      <td>2009</td>\n",
       "      <td>0</td>\n",
       "      <td>1</td>\n",
       "      <td>Clarksville, Tennessee</td>\n",
       "      <td>Tennessee</td>\n",
       "      <td>Toys 'R' Us</td>\n",
       "      <td>Stampede</td>\n",
       "      <td>Tennessee</td>\n",
       "    </tr>\n",
       "    <tr>\n",
       "      <th>5</th>\n",
       "      <td>Transwoman assaulted at Kohl's Department Stor...</td>\n",
       "      <td>http://grand-divisions.blogspot.com/2010/12/tr...</td>\n",
       "      <td>2010</td>\n",
       "      <td>0</td>\n",
       "      <td>1</td>\n",
       "      <td>Jackson, Tennessee</td>\n",
       "      <td>Tennessee</td>\n",
       "      <td>Kohl's</td>\n",
       "      <td>Assault</td>\n",
       "      <td>Tennessee</td>\n",
       "    </tr>\n",
       "    <tr>\n",
       "      <th>6</th>\n",
       "      <td>Former Marine stabbed in Best Buy store by vio...</td>\n",
       "      <td>http://nypost.com/2010/11/26/former-marine-sta...</td>\n",
       "      <td>2010</td>\n",
       "      <td>0</td>\n",
       "      <td>1</td>\n",
       "      <td>Augusta, Georgia</td>\n",
       "      <td>Georgia</td>\n",
       "      <td>Best Buy</td>\n",
       "      <td>Stabbing</td>\n",
       "      <td>Georgia</td>\n",
       "    </tr>\n",
       "    <tr>\n",
       "      <th>7</th>\n",
       "      <td>Black Friday: Target Shoppers Step Over Walter...</td>\n",
       "      <td>http://www.huffingtonpost.com/2011/11/27/black...</td>\n",
       "      <td>2011</td>\n",
       "      <td>1</td>\n",
       "      <td>0</td>\n",
       "      <td>South Charleston, West Virginia</td>\n",
       "      <td>West Virginia</td>\n",
       "      <td>Target</td>\n",
       "      <td>Heart Problems</td>\n",
       "      <td>West Virginia</td>\n",
       "    </tr>\n",
       "    <tr>\n",
       "      <th>8</th>\n",
       "      <td>Girl trampled in Black Friday Wal-Mart rush</td>\n",
       "      <td>http://www.mlive.com/news/muskegon/index.ssf/2...</td>\n",
       "      <td>2011</td>\n",
       "      <td>0</td>\n",
       "      <td>1</td>\n",
       "      <td>Fruitport, Michigan</td>\n",
       "      <td>Michigan</td>\n",
       "      <td>Wal-Mart</td>\n",
       "      <td>Stampede</td>\n",
       "      <td>Michigan</td>\n",
       "    </tr>\n",
       "    <tr>\n",
       "      <th>9</th>\n",
       "      <td>Black Friday Worker Rescued From Canal After L...</td>\n",
       "      <td>http://www.huffingtonpost.com/2011/11/26/black...</td>\n",
       "      <td>2011</td>\n",
       "      <td>0</td>\n",
       "      <td>1</td>\n",
       "      <td>Pahokee, Florida</td>\n",
       "      <td>Florida</td>\n",
       "      <td>Not Applicable (On the Road)</td>\n",
       "      <td>Car Accident</td>\n",
       "      <td>Florida</td>\n",
       "    </tr>\n",
       "    <tr>\n",
       "      <th>10</th>\n",
       "      <td>Fights break out at Rome Walmart during Black ...</td>\n",
       "      <td>http://www.cnycentral.com/news/story.aspx?id=6...</td>\n",
       "      <td>2011</td>\n",
       "      <td>0</td>\n",
       "      <td>2</td>\n",
       "      <td>Rome, New York</td>\n",
       "      <td>New York</td>\n",
       "      <td>Wal-Mart</td>\n",
       "      <td>Fight</td>\n",
       "      <td>New York</td>\n",
       "    </tr>\n",
       "    <tr>\n",
       "      <th>11</th>\n",
       "      <td>Woman Wounded in South Carolina Black Friday R...</td>\n",
       "      <td>http://m.independentmail.com/news/2011/nov/25/...</td>\n",
       "      <td>2011</td>\n",
       "      <td>0</td>\n",
       "      <td>1</td>\n",
       "      <td>Myrtle Beach, South Carolina</td>\n",
       "      <td>South Carolina</td>\n",
       "      <td>Wal-Mart</td>\n",
       "      <td>Robbery Attempt</td>\n",
       "      <td>South Carolina</td>\n",
       "    </tr>\n",
       "    <tr>\n",
       "      <th>12</th>\n",
       "      <td>Off-duty police pepper spray North Carolina sh...</td>\n",
       "      <td>http://www.nbcnews.com/business/duty-police-pe...</td>\n",
       "      <td>2011</td>\n",
       "      <td>0</td>\n",
       "      <td>20</td>\n",
       "      <td>Kinston, North Carolina</td>\n",
       "      <td>North Carolina</td>\n",
       "      <td>Wal-Mart</td>\n",
       "      <td>Pepper Spray</td>\n",
       "      <td>North Carolina</td>\n",
       "    </tr>\n",
       "    <tr>\n",
       "      <th>13</th>\n",
       "      <td>Shooting outside California Walmart, 1 wounded</td>\n",
       "      <td>http://www.cbsnews.com/8301-201_162-57331293/b...</td>\n",
       "      <td>2011</td>\n",
       "      <td>0</td>\n",
       "      <td>1</td>\n",
       "      <td>San Leandro, California</td>\n",
       "      <td>California</td>\n",
       "      <td>Wal-Mart</td>\n",
       "      <td>Shooting</td>\n",
       "      <td>California</td>\n",
       "    </tr>\n",
       "    <tr>\n",
       "      <th>14</th>\n",
       "      <td>Los Angeles area Black Friday pepper-spray att...</td>\n",
       "      <td>http://news.nationalpost.com/2011/11/25/twenty...</td>\n",
       "      <td>2011</td>\n",
       "      <td>0</td>\n",
       "      <td>20</td>\n",
       "      <td>Los Angeles, California</td>\n",
       "      <td>California</td>\n",
       "      <td>Wal-Mart</td>\n",
       "      <td>Pepper Spray</td>\n",
       "      <td>California</td>\n",
       "    </tr>\n",
       "    <tr>\n",
       "      <th>15</th>\n",
       "      <td>Father charged in crash that killed daughters ...</td>\n",
       "      <td>http://www.paloaltoonline.com/news/2013/08/22/...</td>\n",
       "      <td>2012</td>\n",
       "      <td>2</td>\n",
       "      <td>5</td>\n",
       "      <td>Palo Alto, California</td>\n",
       "      <td>California</td>\n",
       "      <td>Not Applicable (On the Road)</td>\n",
       "      <td>Car Accident</td>\n",
       "      <td>California</td>\n",
       "    </tr>\n",
       "    <tr>\n",
       "      <th>16</th>\n",
       "      <td>Two People Shot at Tallahassee Walmart Over Pa...</td>\n",
       "      <td>http://www.nbcmiami.com/news/local/Two-People-...</td>\n",
       "      <td>2012</td>\n",
       "      <td>0</td>\n",
       "      <td>2</td>\n",
       "      <td>Tallahassee, Florida</td>\n",
       "      <td>Florida</td>\n",
       "      <td>Wal-Mart</td>\n",
       "      <td>Shooting</td>\n",
       "      <td>Florida</td>\n",
       "    </tr>\n",
       "    <tr>\n",
       "      <th>17</th>\n",
       "      <td>Black Friday Shoppers Hit By Suspected Drunk D...</td>\n",
       "      <td>http://www.huffingtonpost.com/2012/11/23/black...</td>\n",
       "      <td>2012</td>\n",
       "      <td>0</td>\n",
       "      <td>2</td>\n",
       "      <td>Covington, Washington</td>\n",
       "      <td>Washington</td>\n",
       "      <td>Wal-Mart</td>\n",
       "      <td>Car Accident</td>\n",
       "      <td>Washington</td>\n",
       "    </tr>\n",
       "    <tr>\n",
       "      <th>18</th>\n",
       "      <td>Teen returning home from Black Friday shopping...</td>\n",
       "      <td>http://www.gastongazette.com/spotlight/teen-re...</td>\n",
       "      <td>2013</td>\n",
       "      <td>1</td>\n",
       "      <td>4</td>\n",
       "      <td>Belmont, North Carolina</td>\n",
       "      <td>North Carolina</td>\n",
       "      <td>Not Applicable (On the Road)</td>\n",
       "      <td>Car Accident</td>\n",
       "      <td>North Carolina</td>\n",
       "    </tr>\n",
       "    <tr>\n",
       "      <th>19</th>\n",
       "      <td>Shopper Pepper Sprayed, Arrested in Argument O...</td>\n",
       "      <td>http://www.nbcnewyork.com/news/local/Shopping-...</td>\n",
       "      <td>2013</td>\n",
       "      <td>0</td>\n",
       "      <td>1</td>\n",
       "      <td>Garfield, New Jersey</td>\n",
       "      <td>New Jersey</td>\n",
       "      <td>Wal-Mart</td>\n",
       "      <td>Pepper Spray, Fight</td>\n",
       "      <td>New Jersey</td>\n",
       "    </tr>\n",
       "    <tr>\n",
       "      <th>20</th>\n",
       "      <td>Thanksgiving Day bargain shoppers send 11 year...</td>\n",
       "      <td>http://www.norwalkreflector.com/article/3860921</td>\n",
       "      <td>2013</td>\n",
       "      <td>0</td>\n",
       "      <td>2</td>\n",
       "      <td>New Boston, Ohio</td>\n",
       "      <td>Ohio</td>\n",
       "      <td>Wal-Mart</td>\n",
       "      <td>Stampede</td>\n",
       "      <td>Ohio</td>\n",
       "    </tr>\n",
       "    <tr>\n",
       "      <th>21</th>\n",
       "      <td>Man Stabbed During Black Friday Event at Carls...</td>\n",
       "      <td>http://www.nbcsandiego.com/news/local/Man-Stab...</td>\n",
       "      <td>2013</td>\n",
       "      <td>0</td>\n",
       "      <td>1</td>\n",
       "      <td>El Camino Real, California</td>\n",
       "      <td>California</td>\n",
       "      <td>Carlsbad Mall</td>\n",
       "      <td>Stabbing</td>\n",
       "      <td>California</td>\n",
       "    </tr>\n",
       "    <tr>\n",
       "      <th>22</th>\n",
       "      <td>Newport, Arkansas Walmart employee injured dur...</td>\n",
       "      <td>http://www.thv11.com/news/article/289186/2/Wal...</td>\n",
       "      <td>2013</td>\n",
       "      <td>0</td>\n",
       "      <td>1</td>\n",
       "      <td>Newport, Arkansas</td>\n",
       "      <td>Arkansas</td>\n",
       "      <td>Wal-Mart</td>\n",
       "      <td>Fall</td>\n",
       "      <td>Arkansas</td>\n",
       "    </tr>\n",
       "    <tr>\n",
       "      <th>23</th>\n",
       "      <td>Several injured in Black Friday-related shooti...</td>\n",
       "      <td>http://www.theindychannel.com/news/u-s-world/s...</td>\n",
       "      <td>2013</td>\n",
       "      <td>0</td>\n",
       "      <td>2</td>\n",
       "      <td>Romeoville, Illinois</td>\n",
       "      <td>Illinois</td>\n",
       "      <td>Kohl's</td>\n",
       "      <td>Shooting</td>\n",
       "      <td>Illinois</td>\n",
       "    </tr>\n",
       "    <tr>\n",
       "      <th>24</th>\n",
       "      <td>Black Friday: Virginia Man Stabbed In Walmart ...</td>\n",
       "      <td>http://dcist.com/2013/11/black_friday_virginia...</td>\n",
       "      <td>2013</td>\n",
       "      <td>0</td>\n",
       "      <td>1</td>\n",
       "      <td>Claypool Hill, Virginia</td>\n",
       "      <td>Virginia</td>\n",
       "      <td>Wal-Mart</td>\n",
       "      <td>Stabbing</td>\n",
       "      <td>Virginia</td>\n",
       "    </tr>\n",
       "    <tr>\n",
       "      <th>25</th>\n",
       "      <td>Rialto Walmart brawl sends one police officer ...</td>\n",
       "      <td>http://www.sbsun.com/general-news/20131128/ria...</td>\n",
       "      <td>2013</td>\n",
       "      <td>0</td>\n",
       "      <td>1</td>\n",
       "      <td>Rialto, California</td>\n",
       "      <td>California</td>\n",
       "      <td>Wal-Mart</td>\n",
       "      <td>Fight</td>\n",
       "      <td>California</td>\n",
       "    </tr>\n",
       "    <tr>\n",
       "      <th>26</th>\n",
       "      <td>Shopper carrying TV home from Target shot in L...</td>\n",
       "      <td>http://www.lasvegassun.com/news/2013/nov/29/nv...</td>\n",
       "      <td>2013</td>\n",
       "      <td>0</td>\n",
       "      <td>1</td>\n",
       "      <td>Las Vegas, Nevada</td>\n",
       "      <td>Nevada</td>\n",
       "      <td>Target</td>\n",
       "      <td>Shooting</td>\n",
       "      <td>Nevada</td>\n",
       "    </tr>\n",
       "  </tbody>\n",
       "</table>\n",
       "</div>"
      ],
      "text/plain": [
       "                                                 Name  \\\n",
       "0   10 Injured in Southern California Black Friday...   \n",
       "1   Salt Lake Tribune, The : Red-hot on Black Friday‎   \n",
       "2   Worker dies at Long Island Wal-Mart after bein...   \n",
       "3   Southern California Toys 'R' Us Shooting Leave...   \n",
       "4   Clarksville Woman Trampled During Black Friday...   \n",
       "5   Transwoman assaulted at Kohl's Department Stor...   \n",
       "6   Former Marine stabbed in Best Buy store by vio...   \n",
       "7   Black Friday: Target Shoppers Step Over Walter...   \n",
       "8         Girl trampled in Black Friday Wal-Mart rush   \n",
       "9   Black Friday Worker Rescued From Canal After L...   \n",
       "10  Fights break out at Rome Walmart during Black ...   \n",
       "11  Woman Wounded in South Carolina Black Friday R...   \n",
       "12  Off-duty police pepper spray North Carolina sh...   \n",
       "13     Shooting outside California Walmart, 1 wounded   \n",
       "14  Los Angeles area Black Friday pepper-spray att...   \n",
       "15  Father charged in crash that killed daughters ...   \n",
       "16  Two People Shot at Tallahassee Walmart Over Pa...   \n",
       "17  Black Friday Shoppers Hit By Suspected Drunk D...   \n",
       "18  Teen returning home from Black Friday shopping...   \n",
       "19  Shopper Pepper Sprayed, Arrested in Argument O...   \n",
       "20  Thanksgiving Day bargain shoppers send 11 year...   \n",
       "21  Man Stabbed During Black Friday Event at Carls...   \n",
       "22  Newport, Arkansas Walmart employee injured dur...   \n",
       "23  Several injured in Black Friday-related shooti...   \n",
       "24  Black Friday: Virginia Man Stabbed In Walmart ...   \n",
       "25  Rialto Walmart brawl sends one police officer ...   \n",
       "26  Shopper carrying TV home from Target shot in L...   \n",
       "\n",
       "                                      Link to article  Year  Deaths  Injuries  \\\n",
       "0   http://abclocal.go.com/kabc/story?section=news...  2006       0        10   \n",
       "1   http://nl.newsbank.com/nl-search/we/Archives?p...  2006       0         1   \n",
       "2   http://www.nydailynews.com/new-york/worker-die...  2008       1         4   \n",
       "3   http://www.huffingtonpost.com/2008/11/28/socal...  2008       2         2   \n",
       "4   http://www.newschannel5.com/global/story.asp?s...  2009       0         1   \n",
       "5   http://grand-divisions.blogspot.com/2010/12/tr...  2010       0         1   \n",
       "6   http://nypost.com/2010/11/26/former-marine-sta...  2010       0         1   \n",
       "7   http://www.huffingtonpost.com/2011/11/27/black...  2011       1         0   \n",
       "8   http://www.mlive.com/news/muskegon/index.ssf/2...  2011       0         1   \n",
       "9   http://www.huffingtonpost.com/2011/11/26/black...  2011       0         1   \n",
       "10  http://www.cnycentral.com/news/story.aspx?id=6...  2011       0         2   \n",
       "11  http://m.independentmail.com/news/2011/nov/25/...  2011       0         1   \n",
       "12  http://www.nbcnews.com/business/duty-police-pe...  2011       0        20   \n",
       "13  http://www.cbsnews.com/8301-201_162-57331293/b...  2011       0         1   \n",
       "14  http://news.nationalpost.com/2011/11/25/twenty...  2011       0        20   \n",
       "15  http://www.paloaltoonline.com/news/2013/08/22/...  2012       2         5   \n",
       "16  http://www.nbcmiami.com/news/local/Two-People-...  2012       0         2   \n",
       "17  http://www.huffingtonpost.com/2012/11/23/black...  2012       0         2   \n",
       "18  http://www.gastongazette.com/spotlight/teen-re...  2013       1         4   \n",
       "19  http://www.nbcnewyork.com/news/local/Shopping-...  2013       0         1   \n",
       "20    http://www.norwalkreflector.com/article/3860921  2013       0         2   \n",
       "21  http://www.nbcsandiego.com/news/local/Man-Stab...  2013       0         1   \n",
       "22  http://www.thv11.com/news/article/289186/2/Wal...  2013       0         1   \n",
       "23  http://www.theindychannel.com/news/u-s-world/s...  2013       0         2   \n",
       "24  http://dcist.com/2013/11/black_friday_virginia...  2013       0         1   \n",
       "25  http://www.sbsun.com/general-news/20131128/ria...  2013       0         1   \n",
       "26  http://www.lasvegassun.com/news/2013/nov/29/nv...  2013       0         1   \n",
       "\n",
       "                              Place   Place (State)  \\\n",
       "0              Torrance, California      California   \n",
       "1                      Murray, Utah            Utah   \n",
       "2             Long Island, New York        New York   \n",
       "3           Palm Desert, California      California   \n",
       "4            Clarksville, Tennessee       Tennessee   \n",
       "5                Jackson, Tennessee       Tennessee   \n",
       "6                  Augusta, Georgia         Georgia   \n",
       "7   South Charleston, West Virginia   West Virginia   \n",
       "8               Fruitport, Michigan        Michigan   \n",
       "9                  Pahokee, Florida         Florida   \n",
       "10                   Rome, New York        New York   \n",
       "11     Myrtle Beach, South Carolina  South Carolina   \n",
       "12          Kinston, North Carolina  North Carolina   \n",
       "13          San Leandro, California      California   \n",
       "14          Los Angeles, California      California   \n",
       "15            Palo Alto, California      California   \n",
       "16             Tallahassee, Florida         Florida   \n",
       "17            Covington, Washington      Washington   \n",
       "18          Belmont, North Carolina  North Carolina   \n",
       "19             Garfield, New Jersey      New Jersey   \n",
       "20                 New Boston, Ohio            Ohio   \n",
       "21       El Camino Real, California      California   \n",
       "22                Newport, Arkansas        Arkansas   \n",
       "23             Romeoville, Illinois        Illinois   \n",
       "24          Claypool Hill, Virginia        Virginia   \n",
       "25               Rialto, California      California   \n",
       "26                Las Vegas, Nevada          Nevada   \n",
       "\n",
       "                Store / Location Cause of Death / Injury      clean_state  \n",
       "0         Del Amo Fashion Center                Stampede       California  \n",
       "1             Fashion Place Mall                Stampede             Utah  \n",
       "2                       Wal-Mart                Stampede         New York  \n",
       "3                    Toys 'R' Us                Shooting       California  \n",
       "4                    Toys 'R' Us                Stampede        Tennessee  \n",
       "5                         Kohl's                 Assault        Tennessee  \n",
       "6                       Best Buy                Stabbing          Georgia  \n",
       "7                         Target          Heart Problems    West Virginia  \n",
       "8                       Wal-Mart                Stampede         Michigan  \n",
       "9   Not Applicable (On the Road)            Car Accident          Florida  \n",
       "10                      Wal-Mart                   Fight         New York  \n",
       "11                      Wal-Mart         Robbery Attempt   South Carolina  \n",
       "12                      Wal-Mart            Pepper Spray   North Carolina  \n",
       "13                      Wal-Mart                Shooting       California  \n",
       "14                      Wal-Mart            Pepper Spray       California  \n",
       "15  Not Applicable (On the Road)            Car Accident       California  \n",
       "16                      Wal-Mart                Shooting          Florida  \n",
       "17                      Wal-Mart            Car Accident       Washington  \n",
       "18  Not Applicable (On the Road)            Car Accident   North Carolina  \n",
       "19                      Wal-Mart     Pepper Spray, Fight       New Jersey  \n",
       "20                      Wal-Mart                Stampede             Ohio  \n",
       "21                 Carlsbad Mall                Stabbing       California  \n",
       "22                      Wal-Mart                    Fall         Arkansas  \n",
       "23                        Kohl's                Shooting         Illinois  \n",
       "24                      Wal-Mart                Stabbing         Virginia  \n",
       "25                      Wal-Mart                   Fight       California  \n",
       "26                        Target                Shooting           Nevada  "
      ]
     },
     "execution_count": 86,
     "metadata": {},
     "output_type": "execute_result"
    }
   ],
   "source": [
    "# Create new feature \"clean_state\" based on the \"Place\" feature's 2nd element (delimited by comma)\n",
    "# sc.get_student()\n",
    "# df.head(5)\n",
    "#df[\"clean_state\"] = 5\n",
    "clean_state = []\n",
    "for row in df['Place']:\n",
    "    clean_state.append(row.split(',')[1])\n",
    "df['clean_state']=clean_state\n",
    "df"
   ]
  },
  {
   "cell_type": "code",
   "execution_count": 98,
   "metadata": {
    "collapsed": false
   },
   "outputs": [
    {
     "data": {
      "text/plain": [
       "Place    1\n",
       "dtype: int64"
      ]
     },
     "execution_count": 98,
     "metadata": {},
     "output_type": "execute_result"
    }
   ],
   "source": [
    "df[['Place']].apply(lambda row_value: 1 if len(row_value) > 15 else 0)\n"
   ]
  },
  {
   "cell_type": "code",
   "execution_count": null,
   "metadata": {
    "collapsed": true
   },
   "outputs": [],
   "source": []
  }
 ],
 "metadata": {
  "anaconda-cloud": {},
  "kernelspec": {
   "display_name": "Python [dsi]",
   "language": "python",
   "name": "Python [dsi]"
  },
  "language_info": {
   "codemirror_mode": {
    "name": "ipython",
    "version": 2
   },
   "file_extension": ".py",
   "mimetype": "text/x-python",
   "name": "python",
   "nbconvert_exporter": "python",
   "pygments_lexer": "ipython2",
   "version": "2.7.12"
  }
 },
 "nbformat": 4,
 "nbformat_minor": 0
}
