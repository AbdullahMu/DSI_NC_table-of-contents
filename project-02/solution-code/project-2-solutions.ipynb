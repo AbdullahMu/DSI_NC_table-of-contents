{
 "cells": [
  {
   "cell_type": "markdown",
   "metadata": {},
   "source": [
    "<img src=\"http://imgur.com/1ZcRyrc.png\" style=\"float: left; margin: 15px; height: 80px\">\n",
    "\n",
    "# Project 2\n",
    "\n",
    "### Exploratory Data Analysis (EDA)\n",
    "\n",
    "---\n",
    "\n",
    "This project is focused on exploratory data analysis (EDA). EDA is an essential part of the data science analysis pipeline. Failure to perform EDA before modeling is almost guaranteed to lead to pitfalls and faulty conclusions. What you do in this project are good practices for all projects going forward, especially those beyond this class!\n",
    "\n",
    "Problems 1 thru 6 use a small dataset on state SAT scores.\n",
    "\n",
    "Problems 7 thru 12 use a fraction of the Iowa Liquor Sales dataset (described in more detail in question 7).\n",
    "\n",
    "---\n",
    "\n",
    "This project includes a variety of plotting problems. Much of the plotting code will be left up to you to find either in the lecture notes, or if not there, online. There are massive amounts of code snippets either in documentation or sites like stackoverflow that have almost certainly done what you are trying to do.\n",
    "\n",
    "**Get used to using google for finding code!** You will be using it every single day as a data scientist, especially for visualization and plotting.\n",
    "\n",
    "#### Package imports"
   ]
  },
  {
   "cell_type": "code",
   "execution_count": 1,
   "metadata": {
    "collapsed": true
   },
   "outputs": [],
   "source": [
    "import numpy as np\n",
    "import scipy.stats as stats\n",
    "import csv\n",
    "import pandas as pd\n",
    "\n",
    "# this line tells jupyter notebook to put the plots in the notebook rather than saving them to file.\n",
    "%matplotlib inline\n",
    "\n",
    "# this line makes plots prettier on mac retina screens. If you don't have one it shouldn't do anything.\n",
    "%config InlineBackend.figure_format = 'retina'"
   ]
  },
  {
   "cell_type": "markdown",
   "metadata": {},
   "source": [
    "<img src=\"http://imgur.com/l5NasQj.png\" style=\"float: left; margin: 25px 15px 0px 0px; height: 25px\">\n",
    "\n",
    "## 1. Load the `sat_scores.csv` dataset and describe it\n",
    "\n",
    "---\n",
    "\n",
    "You should replace the placeholder path to the `sat_scores.csv` dataset below with your specific path to the file.\n",
    "\n",
    "### 1.1 Load the file with the `csv` module and put in dictionary format.\n",
    "\n",
    "The dictionary format for data will be keys as the column names/headers, and values as the row values for that column.\n",
    "\n",
    "Toy example:\n",
    "```python\n",
    "data = {\n",
    "    'column1':[0,1,2,3],\n",
    "    'column2':['a','b','c','d']\n",
    "    }\n",
    "```"
   ]
  },
  {
   "cell_type": "code",
   "execution_count": 2,
   "metadata": {
    "collapsed": true
   },
   "outputs": [],
   "source": [
    "sat_filepath = '/Users/kiefer/github-repos/DSI-SF/datasets/state_sat_scores/sat_scores.csv'"
   ]
  },
  {
   "cell_type": "code",
   "execution_count": 3,
   "metadata": {
    "collapsed": true
   },
   "outputs": [],
   "source": [
    "with open(sat_filepath, 'r') as f:\n",
    "    rows = [row for row in csv.reader(f)]\n",
    "    header = rows[0]\n",
    "    data = rows[1:]\n",
    "    sat = {header[i]:[float(row[i]) if row[i].isdigit() else row[i] for row in data] for i in range(len(header))}"
   ]
  },
  {
   "cell_type": "code",
   "execution_count": 4,
   "metadata": {
    "collapsed": false
   },
   "outputs": [
    {
     "name": "stdout",
     "output_type": "stream",
     "text": [
      "['State', 'Rate', 'Verbal', 'Math']\n",
      "['CT',\n",
      " 'NJ',\n",
      " 'MA',\n",
      " 'NY',\n",
      " 'NH',\n",
      " 'RI',\n",
      " 'PA',\n",
      " 'VT',\n",
      " 'ME',\n",
      " 'VA',\n",
      " 'DE',\n",
      " 'MD',\n",
      " 'NC',\n",
      " 'GA',\n",
      " 'IN',\n",
      " 'SC',\n",
      " 'DC',\n",
      " 'OR',\n",
      " 'FL',\n",
      " 'WA',\n",
      " 'TX',\n",
      " 'HI',\n",
      " 'AK',\n",
      " 'CA',\n",
      " 'AZ',\n",
      " 'NV',\n",
      " 'CO',\n",
      " 'OH',\n",
      " 'MT',\n",
      " 'WV',\n",
      " 'ID',\n",
      " 'TN',\n",
      " 'NM',\n",
      " 'IL',\n",
      " 'KY',\n",
      " 'WY',\n",
      " 'MI',\n",
      " 'MN',\n",
      " 'KS',\n",
      " 'AL',\n",
      " 'NE',\n",
      " 'OK',\n",
      " 'MO',\n",
      " 'LA',\n",
      " 'WI',\n",
      " 'AR',\n",
      " 'UT',\n",
      " 'IA',\n",
      " 'SD',\n",
      " 'ND',\n",
      " 'MS',\n",
      " 'All']\n"
     ]
    }
   ],
   "source": [
    "from pprint import pprint\n",
    "print header\n",
    "pprint(sat['State'])"
   ]
  },
  {
   "cell_type": "markdown",
   "metadata": {},
   "source": [
    "### 1.2 Make a pandas DataFrame object with the sat dictionary and also with the pandas `.read_csv()` function\n",
    "\n",
    "Compare the DataFrames using the `.dtypes` attribute in the DataFrame objects. What is the difference between loading from file and inputting this dictionary (if any)?"
   ]
  },
  {
   "cell_type": "code",
   "execution_count": 5,
   "metadata": {
    "collapsed": false
   },
   "outputs": [
    {
     "name": "stdout",
     "output_type": "stream",
     "text": [
      "Math      float64\n",
      "Rate      float64\n",
      "State      object\n",
      "Verbal    float64\n",
      "dtype: object\n",
      "State     object\n",
      "Rate       int64\n",
      "Verbal     int64\n",
      "Math       int64\n",
      "dtype: object\n"
     ]
    }
   ],
   "source": [
    "csv_sat = pd.DataFrame(sat)\n",
    "sat = pd.read_csv(sat_filepath)\n",
    "\n",
    "print csv_sat.dtypes\n",
    "print sat.dtypes\n",
    "\n",
    "# A:\n",
    "# I converted the numeric columns to float when converting the csv, but pandas interpreted them\n",
    "# as integers. This is shown by the datatypes below:"
   ]
  },
  {
   "cell_type": "markdown",
   "metadata": {},
   "source": [
    "If you did not convert the string column values to float in your dictionary, the columns in the DataFrame are of type `object` (which are string values). "
   ]
  },
  {
   "cell_type": "markdown",
   "metadata": {},
   "source": [
    "### 1.3 Look at the first ten rows of the DataFrame and describe what the data appears to be. \n",
    "\n",
    "From now on, use the DataFrame loaded from the file using the `.read_csv()` function.\n",
    "\n",
    "Use the `.head(num)` built-in DataFrame function, where `num` is the number of rows to print out.\n",
    "\n",
    "You are not given a \"codebook\" with this data, so you will have to make some (very minor) inference."
   ]
  },
  {
   "cell_type": "code",
   "execution_count": 6,
   "metadata": {
    "collapsed": false
   },
   "outputs": [
    {
     "data": {
      "text/html": [
       "<div>\n",
       "<table border=\"1\" class=\"dataframe\">\n",
       "  <thead>\n",
       "    <tr style=\"text-align: right;\">\n",
       "      <th></th>\n",
       "      <th>State</th>\n",
       "      <th>Rate</th>\n",
       "      <th>Verbal</th>\n",
       "      <th>Math</th>\n",
       "    </tr>\n",
       "  </thead>\n",
       "  <tbody>\n",
       "    <tr>\n",
       "      <th>0</th>\n",
       "      <td>CT</td>\n",
       "      <td>82</td>\n",
       "      <td>509</td>\n",
       "      <td>510</td>\n",
       "    </tr>\n",
       "    <tr>\n",
       "      <th>1</th>\n",
       "      <td>NJ</td>\n",
       "      <td>81</td>\n",
       "      <td>499</td>\n",
       "      <td>513</td>\n",
       "    </tr>\n",
       "    <tr>\n",
       "      <th>2</th>\n",
       "      <td>MA</td>\n",
       "      <td>79</td>\n",
       "      <td>511</td>\n",
       "      <td>515</td>\n",
       "    </tr>\n",
       "    <tr>\n",
       "      <th>3</th>\n",
       "      <td>NY</td>\n",
       "      <td>77</td>\n",
       "      <td>495</td>\n",
       "      <td>505</td>\n",
       "    </tr>\n",
       "    <tr>\n",
       "      <th>4</th>\n",
       "      <td>NH</td>\n",
       "      <td>72</td>\n",
       "      <td>520</td>\n",
       "      <td>516</td>\n",
       "    </tr>\n",
       "    <tr>\n",
       "      <th>5</th>\n",
       "      <td>RI</td>\n",
       "      <td>71</td>\n",
       "      <td>501</td>\n",
       "      <td>499</td>\n",
       "    </tr>\n",
       "    <tr>\n",
       "      <th>6</th>\n",
       "      <td>PA</td>\n",
       "      <td>71</td>\n",
       "      <td>500</td>\n",
       "      <td>499</td>\n",
       "    </tr>\n",
       "    <tr>\n",
       "      <th>7</th>\n",
       "      <td>VT</td>\n",
       "      <td>69</td>\n",
       "      <td>511</td>\n",
       "      <td>506</td>\n",
       "    </tr>\n",
       "    <tr>\n",
       "      <th>8</th>\n",
       "      <td>ME</td>\n",
       "      <td>69</td>\n",
       "      <td>506</td>\n",
       "      <td>500</td>\n",
       "    </tr>\n",
       "    <tr>\n",
       "      <th>9</th>\n",
       "      <td>VA</td>\n",
       "      <td>68</td>\n",
       "      <td>510</td>\n",
       "      <td>501</td>\n",
       "    </tr>\n",
       "  </tbody>\n",
       "</table>\n",
       "</div>"
      ],
      "text/plain": [
       "  State  Rate  Verbal  Math\n",
       "0    CT    82     509   510\n",
       "1    NJ    81     499   513\n",
       "2    MA    79     511   515\n",
       "3    NY    77     495   505\n",
       "4    NH    72     520   516\n",
       "5    RI    71     501   499\n",
       "6    PA    71     500   499\n",
       "7    VT    69     511   506\n",
       "8    ME    69     506   500\n",
       "9    VA    68     510   501"
      ]
     },
     "execution_count": 6,
     "metadata": {},
     "output_type": "execute_result"
    }
   ],
   "source": [
    "sat.head(10)\n",
    "\n",
    "# We have the State of the average:\n",
    "# Rate (percent of students that take the SAT)\n",
    "# Verbal (average verbal score)\n",
    "# Math (average math score)"
   ]
  },
  {
   "cell_type": "markdown",
   "metadata": {},
   "source": [
    "**If you were careful you would have noticed that the last line in the data is a summary.**\n",
    "\n",
    "The last row has the averages for \"All\", across the different states. I'm going to remove this and put it in its own DataFrame, otherwise I'm including a non-state in the visualizations below!\n",
    "\n",
    "If you missed this – don't worry, but keep this in mind for the future. Rigorous investigation is necessary when loading and cleaning data."
   ]
  },
  {
   "cell_type": "code",
   "execution_count": 7,
   "metadata": {
    "collapsed": false
   },
   "outputs": [
    {
     "name": "stdout",
     "output_type": "stream",
     "text": [
      "   State  Rate  Verbal  Math\n",
      "49    ND     4     592   599\n",
      "50    MS     4     566   551\n",
      "51   All    45     506   514\n"
     ]
    }
   ],
   "source": [
    "print sat.tail(3)"
   ]
  },
  {
   "cell_type": "code",
   "execution_count": 8,
   "metadata": {
    "collapsed": false
   },
   "outputs": [
    {
     "name": "stdout",
     "output_type": "stream",
     "text": [
      "(1, 4)\n",
      "51\n",
      "['CT' 'NJ' 'MA' 'NY' 'NH' 'RI' 'PA' 'VT' 'ME' 'VA' 'DE' 'MD' 'NC' 'GA' 'IN'\n",
      " 'SC' 'DC' 'OR' 'FL' 'WA' 'TX' 'HI' 'AK' 'CA' 'AZ' 'NV' 'CO' 'OH' 'MT' 'WV'\n",
      " 'ID' 'TN' 'NM' 'IL' 'KY' 'WY' 'MI' 'MN' 'KS' 'AL' 'NE' 'OK' 'MO' 'LA' 'WI'\n",
      " 'AR' 'UT' 'IA' 'SD' 'ND' 'MS']\n"
     ]
    }
   ],
   "source": [
    "all_avg = sat[sat.State == 'All']\n",
    "sat = sat[sat.State != 'All']\n",
    "\n",
    "print all_avg.shape\n",
    "print len(sat.State.unique())\n",
    "print sat.State.unique()"
   ]
  },
  {
   "cell_type": "markdown",
   "metadata": {},
   "source": [
    "<img src=\"http://imgur.com/l5NasQj.png\" style=\"float: left; margin: 25px 15px 0px 0px; height: 25px\">\n",
    "\n",
    "## 2. Create a \"data dictionary\" based on the data\n",
    "\n",
    "---\n",
    "\n",
    "A data dictionary is an object that describes your data. This should contain the name of each variable (column), the type of the variable, your description of what the variable is, and the shape (rows and columns) of the entire dataset."
   ]
  },
  {
   "cell_type": "code",
   "execution_count": 9,
   "metadata": {
    "collapsed": false
   },
   "outputs": [
    {
     "name": "stdout",
     "output_type": "stream",
     "text": [
      "{'Math': {'description': 'Average math scores on SAT.',\n",
      "          'type': dtype('int64')},\n",
      " 'Rate': {'description': 'Percent of students that took SAT.',\n",
      "          'type': dtype('int64')},\n",
      " 'State': {'description': 'State id.', 'type': dtype('O')},\n",
      " 'Verbal': {'description': 'Average verbal scores on SAT.',\n",
      "            'type': dtype('int64')},\n",
      " 'dataset_shape': (51, 4)}\n"
     ]
    }
   ],
   "source": [
    "data_dict = {\n",
    "    'State':{\n",
    "        'type':sat.State.dtype,\n",
    "        'description':'State id.'\n",
    "    },\n",
    "    'Rate':{\n",
    "        'type':sat.Rate.dtype,\n",
    "        'description':'Percent of students that took SAT.'\n",
    "    },\n",
    "    'Math':{\n",
    "        'type':sat.Math.dtype,\n",
    "        'description':'Average math scores on SAT.'\n",
    "    },\n",
    "    'Verbal':{\n",
    "        'type':sat.Verbal.dtype,\n",
    "        'description':'Average verbal scores on SAT.'\n",
    "    },\n",
    "    'dataset_shape':sat.shape\n",
    "}\n",
    "\n",
    "pprint(data_dict)"
   ]
  },
  {
   "cell_type": "markdown",
   "metadata": {},
   "source": [
    "<img src=\"http://imgur.com/l5NasQj.png\" style=\"float: left; margin: 25px 15px 0px 0px; height: 25px\">\n",
    "\n",
    "## 3. Plot the data using seaborn\n",
    "\n",
    "---\n",
    "\n",
    "### 3.1 Using seaborn's `distplot`, plot the distributions for each of `Rate`, `Math`, and `Verbal`\n",
    "\n",
    "Set the keyword argument `kde=False`. This way you can actually see the counts within bins. You can adjust the number of bins to your liking. \n",
    "\n",
    "[Please read over the `distplot` documentation to learn about the arguments and fine-tune your chart if you want.](https://stanford.edu/~mwaskom/software/seaborn/generated/seaborn.distplot.html#seaborn.distplot)"
   ]
  },
  {
   "cell_type": "code",
   "execution_count": 10,
   "metadata": {
    "collapsed": false
   },
   "outputs": [
    {
     "data": {
      "image/png": "[encoded data removed]",
      "text/plain": [
       "<matplotlib.figure.Figure at 0x113d32350>"
      ]
     },
     "metadata": {
      "image/png": {
       "height": 455,
       "width": 1039
      }
     },
     "output_type": "display_data"
    }
   ],
   "source": [
    "# Going to plot these on 3 axes within the same figure. Totally fine if you did them\n",
    "# on individual axes or just with the seaborn function, of course.\n",
    "\n",
    "import matplotlib.pyplot as plt\n",
    "import seaborn as sns\n",
    "\n",
    "fig, axarr = plt.subplots(1, 3, figsize=(18,7))\n",
    "\n",
    "axarr[0] = sns.distplot(sat.Rate, kde=False, color='gold', ax=axarr[0], bins=20)\n",
    "axarr[1] = sns.distplot(sat.Math, kde=False, color='steelblue', ax=axarr[1], bins=20)\n",
    "axarr[2] = sns.distplot(sat.Verbal, kde=False, color='darkred', ax=axarr[2], bins=20)\n",
    "\n",
    "axarr[0].set_title('Rate', fontsize=20)\n",
    "axarr[1].set_title('Math', fontsize=20)\n",
    "axarr[2].set_title('Verbal', fontsize=20)\n",
    "\n",
    "plt.show()"
   ]
  },
  {
   "cell_type": "markdown",
   "metadata": {},
   "source": [
    "### 3.2 Using seaborn's `pairplot`, show the joint distributions for each of `Rate`, `Math`, and `Verbal`\n",
    "\n",
    "Explain what the visualization tells you about your data.\n",
    "\n",
    "[Please read over the `pairplot` documentation to fine-tune your chart.](https://stanford.edu/~mwaskom/software/seaborn/generated/seaborn.pairplot.html#seaborn.pairplot)"
   ]
  },
  {
   "cell_type": "code",
   "execution_count": 11,
   "metadata": {
    "collapsed": false
   },
   "outputs": [
    {
     "data": {
      "text/plain": [
       "<seaborn.axisgrid.PairGrid at 0x113d16310>"
      ]
     },
     "execution_count": 11,
     "metadata": {},
     "output_type": "execute_result"
    },
    {
     "data": {
      "image/png": "[encoded data removed]",
      "text/plain": [
       "<matplotlib.figure.Figure at 0x113d16d50>"
      ]
     },
     "metadata": {
      "image/png": {
       "height": 1070,
       "width": 1073
      }
     },
     "output_type": "display_data"
    }
   ],
   "source": [
    "# Something to note here that you may not have seen yet:\n",
    "# plot_kws allows me to pass a dictionary down to matplotlib's plot function \n",
    "# which is controlling the scatter plots. I'm telling it to set s=50 for those\n",
    "# different scatter plots, which makes the points bigger.\n",
    "sns.pairplot(sat, size=5, plot_kws={'s':50})"
   ]
  },
  {
   "cell_type": "markdown",
   "metadata": {},
   "source": [
    "**A:** We've got a lot of clear relationships in this data as evidenced by the pairplot, and what looks like a single outlier state in there as well.\n",
    "\n",
    "1. Increasing Rate is associated with lower scores in Math and Verbal, though perhaps not that strongly.\n",
    "2. Verbal and Math scores are correlated.\n",
    "\n",
    "Why would _more_ students taking the SAT in a state result in lower scores? I think what is going on here is that states that have low rates of SAT takers are states where public schools are of lower quality and don't push students to take it. The students that are taking the SAT in those states are more likely to be attending private school and come from a higher socioeconomic background.\n",
    "\n",
    "Just a theory, though."
   ]
  },
  {
   "cell_type": "markdown",
   "metadata": {},
   "source": [
    "<img src=\"http://imgur.com/l5NasQj.png\" style=\"float: left; margin: 25px 15px 0px 0px; height: 25px\">\n",
    "\n",
    "## 4. Plot the data using built-in pandas functions.\n",
    "\n",
    "---\n",
    "\n",
    "Pandas is very powerful and contains a variety of nice, built in plotting functions for your data. Read the documentation here to overview and understand the capabilities:\n",
    "\n",
    "http://pandas.pydata.org/pandas-docs/stable/visualization.html\n",
    "\n",
    "### 4.1 Plot a stacked histogram with `Verbal` and `Math` using pandas"
   ]
  },
  {
   "cell_type": "code",
   "execution_count": 12,
   "metadata": {
    "collapsed": false
   },
   "outputs": [
    {
     "data": {
      "image/png": "[encoded data removed]",
      "text/plain": [
       "<matplotlib.figure.Figure at 0x11821d910>"
      ]
     },
     "metadata": {
      "image/png": {
       "height": 468,
       "width": 880
      }
     },
     "output_type": "display_data"
    }
   ],
   "source": [
    "fig = plt.figure(figsize=(15,7))\n",
    "ax = fig.gca()\n",
    "\n",
    "# Plot the bars for just verbal and math\n",
    "sat[['Verbal','Math']].plot.bar(stacked=True, ax=ax)\n",
    "\n",
    "# put the title on\n",
    "ax.set_title('Verbal and Math scores stacked histogram\\n', fontsize=20)\n",
    "\n",
    "# change the x-ticks to be the states instead of the row indices\n",
    "# this wasn't required, but is nice\n",
    "states = sat.State\n",
    "ax.set_xticklabels(states)\n",
    "\n",
    "plt.show()\n"
   ]
  },
  {
   "cell_type": "markdown",
   "metadata": {},
   "source": [
    "### 4.2 Plot `Verbal` and `Math` on the same chart using boxplots\n",
    "\n",
    "What are the benefits of using a boxplot as compared to a scatterplot or a histogram?\n",
    "\n",
    "What's wrong with plotting a box-plot of `Rate` on the same chart as `Math` and `Verbal`?"
   ]
  },
  {
   "cell_type": "code",
   "execution_count": 13,
   "metadata": {
    "collapsed": false
   },
   "outputs": [
    {
     "data": {
      "image/png": "[encoded data removed]",
      "text/plain": [
       "<matplotlib.figure.Figure at 0x119702510>"
      ]
     },
     "metadata": {
      "image/png": {
       "height": 461,
       "width": 428
      }
     },
     "output_type": "display_data"
    }
   ],
   "source": [
    "fig = plt.figure(figsize=(7,7))\n",
    "ax = fig.gca()\n",
    "\n",
    "ax = sns.boxplot(data=sat[['Verbal','Math']], ax=ax, notch=True)\n",
    "\n",
    "ax.set_title('Verbal and Math boxplot\\n', fontsize=20)\n",
    "\n",
    "plt.show()"
   ]
  },
  {
   "cell_type": "markdown",
   "metadata": {},
   "source": [
    "**A:** A boxplot tells you information about the quantiles and outliers of a variable's distribution than just looking at a histogram. This allows us to directly compare side-by-side how these variables are distributed compared to each other, which would be difficult with a histogram.\n",
    "\n",
    "A scatterplot will show us something different: a potential linear relationship between variables, or more generally how the variable's observations vary with each other.\n",
    "\n",
    "Plotting rate on this chart is inappropriate because it is on a different scale."
   ]
  },
  {
   "cell_type": "markdown",
   "metadata": {},
   "source": [
    "<img src=\"http://imgur.com/xDpSobf.png\" style=\"float: left; margin: 25px 15px 0px 0px; height: 25px\">\n",
    "\n",
    "### 4.3 Plot `Verbal`, `Math`, and `Rate` appropriately on the same boxplot chart\n",
    "\n",
    "Think about how you might change the variables so that they would make sense on the same chart. Explain your rationale for the choices on the chart. You should strive to make the chart as intuitive as possible. \n"
   ]
  },
  {
   "cell_type": "code",
   "execution_count": 14,
   "metadata": {
    "collapsed": false
   },
   "outputs": [
    {
     "data": {
      "image/png": "[encoded data removed]",
      "text/plain": [
       "<matplotlib.figure.Figure at 0x1197ff8d0>"
      ]
     },
     "metadata": {
      "image/png": {
       "height": 461,
       "width": 735
      }
     },
     "output_type": "display_data"
    }
   ],
   "source": [
    "# I am just going to do standardization/normalization here, \n",
    "# subtracting the mean and dividing by the standard deviation for each variable.\n",
    "# This means that each variable will have a mean 0 and a standard deviation 1, putting them on the same scale.\n",
    "# This will let me compare them side-by-side on a boxplot.\n",
    "\n",
    "sat_norm = sat[['Verbal','Math','Rate']]\n",
    "sat_norm = (sat_norm - sat_norm.mean()) / sat_norm.std()\n",
    "\n",
    "fig = plt.figure(figsize=(12,7))\n",
    "ax = fig.gca()\n",
    "\n",
    "ax = sns.boxplot(data=sat_norm, ax=ax, notch=True)\n",
    "\n",
    "ax.set_title('Normalized Verbal, Math and Rate boxplot\\n', fontsize=20)\n",
    "ax.set_ylabel('Scores normalized to mean=0, std=1\\n', fontsize=14)\n",
    "\n",
    "plt.show()"
   ]
  },
  {
   "cell_type": "markdown",
   "metadata": {},
   "source": [
    "<img src=\"http://imgur.com/l5NasQj.png\" style=\"float: left; margin: 25px 15px 0px 0px; height: 25px\">\n",
    "\n",
    "## 5. Create and examine subsets of the data\n",
    "\n",
    "---\n",
    "\n",
    "For these questions you will practice **masking** in pandas. Recall that masking uses conditional statements to select portions of your DataFrame (through boolean operations under the hood.)\n",
    "\n",
    "Remember the distinction between DataFrame indexing functions in pandas:\n",
    "\n",
    "    .iloc[row, col] : row and column are specified by index, which are integers\n",
    "    .loc[row, col]  : row and column are specified by string \"labels\" (boolean arrays are allowed; useful for rows)\n",
    "    .ix[row, col]   : row and column indexers can be a mix of labels and integer indices\n",
    "    \n",
    "For detailed reference and tutorial make sure to read over the pandas documentation:\n",
    "\n",
    "http://pandas.pydata.org/pandas-docs/stable/indexing.html\n",
    "\n",
    "\n",
    "\n",
    "### 5.1 Find the list of states that have `Verbal` scores greater than the average of `Verbal` scores across states\n",
    "\n",
    "How many states are above the mean? What does this tell you about the distribution of `Verbal` scores?\n",
    "\n"
   ]
  },
  {
   "cell_type": "code",
   "execution_count": 15,
   "metadata": {
    "collapsed": false
   },
   "outputs": [
    {
     "data": {
      "text/html": [
       "<div>\n",
       "<table border=\"1\" class=\"dataframe\">\n",
       "  <thead>\n",
       "    <tr style=\"text-align: right;\">\n",
       "      <th></th>\n",
       "      <th>State</th>\n",
       "      <th>Rate</th>\n",
       "      <th>Verbal</th>\n",
       "      <th>Math</th>\n",
       "    </tr>\n",
       "  </thead>\n",
       "  <tbody>\n",
       "    <tr>\n",
       "      <th>26</th>\n",
       "      <td>CO</td>\n",
       "      <td>31</td>\n",
       "      <td>539</td>\n",
       "      <td>542</td>\n",
       "    </tr>\n",
       "    <tr>\n",
       "      <th>27</th>\n",
       "      <td>OH</td>\n",
       "      <td>26</td>\n",
       "      <td>534</td>\n",
       "      <td>439</td>\n",
       "    </tr>\n",
       "    <tr>\n",
       "      <th>28</th>\n",
       "      <td>MT</td>\n",
       "      <td>23</td>\n",
       "      <td>539</td>\n",
       "      <td>539</td>\n",
       "    </tr>\n",
       "    <tr>\n",
       "      <th>30</th>\n",
       "      <td>ID</td>\n",
       "      <td>17</td>\n",
       "      <td>543</td>\n",
       "      <td>542</td>\n",
       "    </tr>\n",
       "    <tr>\n",
       "      <th>31</th>\n",
       "      <td>TN</td>\n",
       "      <td>13</td>\n",
       "      <td>562</td>\n",
       "      <td>553</td>\n",
       "    </tr>\n",
       "    <tr>\n",
       "      <th>32</th>\n",
       "      <td>NM</td>\n",
       "      <td>13</td>\n",
       "      <td>551</td>\n",
       "      <td>542</td>\n",
       "    </tr>\n",
       "    <tr>\n",
       "      <th>33</th>\n",
       "      <td>IL</td>\n",
       "      <td>12</td>\n",
       "      <td>576</td>\n",
       "      <td>589</td>\n",
       "    </tr>\n",
       "    <tr>\n",
       "      <th>34</th>\n",
       "      <td>KY</td>\n",
       "      <td>12</td>\n",
       "      <td>550</td>\n",
       "      <td>550</td>\n",
       "    </tr>\n",
       "    <tr>\n",
       "      <th>35</th>\n",
       "      <td>WY</td>\n",
       "      <td>11</td>\n",
       "      <td>547</td>\n",
       "      <td>545</td>\n",
       "    </tr>\n",
       "    <tr>\n",
       "      <th>36</th>\n",
       "      <td>MI</td>\n",
       "      <td>11</td>\n",
       "      <td>561</td>\n",
       "      <td>572</td>\n",
       "    </tr>\n",
       "    <tr>\n",
       "      <th>37</th>\n",
       "      <td>MN</td>\n",
       "      <td>9</td>\n",
       "      <td>580</td>\n",
       "      <td>589</td>\n",
       "    </tr>\n",
       "    <tr>\n",
       "      <th>38</th>\n",
       "      <td>KS</td>\n",
       "      <td>9</td>\n",
       "      <td>577</td>\n",
       "      <td>580</td>\n",
       "    </tr>\n",
       "    <tr>\n",
       "      <th>39</th>\n",
       "      <td>AL</td>\n",
       "      <td>9</td>\n",
       "      <td>559</td>\n",
       "      <td>554</td>\n",
       "    </tr>\n",
       "    <tr>\n",
       "      <th>40</th>\n",
       "      <td>NE</td>\n",
       "      <td>8</td>\n",
       "      <td>562</td>\n",
       "      <td>568</td>\n",
       "    </tr>\n",
       "    <tr>\n",
       "      <th>41</th>\n",
       "      <td>OK</td>\n",
       "      <td>8</td>\n",
       "      <td>567</td>\n",
       "      <td>561</td>\n",
       "    </tr>\n",
       "    <tr>\n",
       "      <th>42</th>\n",
       "      <td>MO</td>\n",
       "      <td>8</td>\n",
       "      <td>577</td>\n",
       "      <td>577</td>\n",
       "    </tr>\n",
       "    <tr>\n",
       "      <th>43</th>\n",
       "      <td>LA</td>\n",
       "      <td>7</td>\n",
       "      <td>564</td>\n",
       "      <td>562</td>\n",
       "    </tr>\n",
       "    <tr>\n",
       "      <th>44</th>\n",
       "      <td>WI</td>\n",
       "      <td>6</td>\n",
       "      <td>584</td>\n",
       "      <td>596</td>\n",
       "    </tr>\n",
       "    <tr>\n",
       "      <th>45</th>\n",
       "      <td>AR</td>\n",
       "      <td>6</td>\n",
       "      <td>562</td>\n",
       "      <td>550</td>\n",
       "    </tr>\n",
       "    <tr>\n",
       "      <th>46</th>\n",
       "      <td>UT</td>\n",
       "      <td>5</td>\n",
       "      <td>575</td>\n",
       "      <td>570</td>\n",
       "    </tr>\n",
       "    <tr>\n",
       "      <th>47</th>\n",
       "      <td>IA</td>\n",
       "      <td>5</td>\n",
       "      <td>593</td>\n",
       "      <td>603</td>\n",
       "    </tr>\n",
       "    <tr>\n",
       "      <th>48</th>\n",
       "      <td>SD</td>\n",
       "      <td>4</td>\n",
       "      <td>577</td>\n",
       "      <td>582</td>\n",
       "    </tr>\n",
       "    <tr>\n",
       "      <th>49</th>\n",
       "      <td>ND</td>\n",
       "      <td>4</td>\n",
       "      <td>592</td>\n",
       "      <td>599</td>\n",
       "    </tr>\n",
       "    <tr>\n",
       "      <th>50</th>\n",
       "      <td>MS</td>\n",
       "      <td>4</td>\n",
       "      <td>566</td>\n",
       "      <td>551</td>\n",
       "    </tr>\n",
       "  </tbody>\n",
       "</table>\n",
       "</div>"
      ],
      "text/plain": [
       "   State  Rate  Verbal  Math\n",
       "26    CO    31     539   542\n",
       "27    OH    26     534   439\n",
       "28    MT    23     539   539\n",
       "30    ID    17     543   542\n",
       "31    TN    13     562   553\n",
       "32    NM    13     551   542\n",
       "33    IL    12     576   589\n",
       "34    KY    12     550   550\n",
       "35    WY    11     547   545\n",
       "36    MI    11     561   572\n",
       "37    MN     9     580   589\n",
       "38    KS     9     577   580\n",
       "39    AL     9     559   554\n",
       "40    NE     8     562   568\n",
       "41    OK     8     567   561\n",
       "42    MO     8     577   577\n",
       "43    LA     7     564   562\n",
       "44    WI     6     584   596\n",
       "45    AR     6     562   550\n",
       "46    UT     5     575   570\n",
       "47    IA     5     593   603\n",
       "48    SD     4     577   582\n",
       "49    ND     4     592   599\n",
       "50    MS     4     566   551"
      ]
     },
     "execution_count": 15,
     "metadata": {},
     "output_type": "execute_result"
    }
   ],
   "source": [
    "verbal_mean = sat.Verbal.mean()\n",
    "\n",
    "verbal_mask = (sat.Verbal > verbal_mean)\n",
    "\n",
    "verbal_subset = sat.loc[verbal_mask, :]\n",
    "verbal_subset"
   ]
  },
  {
   "cell_type": "code",
   "execution_count": 16,
   "metadata": {
    "collapsed": false
   },
   "outputs": [
    {
     "name": "stdout",
     "output_type": "stream",
     "text": [
      "24\n"
     ]
    }
   ],
   "source": [
    "print verbal_subset.shape[0]"
   ]
  },
  {
   "cell_type": "markdown",
   "metadata": {},
   "source": [
    "**A:** 24 states are scoring above the mean verbal score. This indicates that because essentially half of the states are above the mean, the distribution of verbal scores is not significantly skewed positively or negatively."
   ]
  },
  {
   "cell_type": "markdown",
   "metadata": {},
   "source": [
    "### 5.2 Find the list of states that have `Verbal` scores greater than the median of `Verbal` scores across states\n",
    "\n",
    "How does this compare to the list of states greater than the mean of `Verbal` scores? Why?"
   ]
  },
  {
   "cell_type": "code",
   "execution_count": 18,
   "metadata": {
    "collapsed": false
   },
   "outputs": [
    {
     "data": {
      "text/html": [
       "<div>\n",
       "<table border=\"1\" class=\"dataframe\">\n",
       "  <thead>\n",
       "    <tr style=\"text-align: right;\">\n",
       "      <th></th>\n",
       "      <th>State</th>\n",
       "      <th>Rate</th>\n",
       "      <th>Verbal</th>\n",
       "      <th>Math</th>\n",
       "    </tr>\n",
       "  </thead>\n",
       "  <tbody>\n",
       "    <tr>\n",
       "      <th>26</th>\n",
       "      <td>CO</td>\n",
       "      <td>31</td>\n",
       "      <td>539</td>\n",
       "      <td>542</td>\n",
       "    </tr>\n",
       "    <tr>\n",
       "      <th>27</th>\n",
       "      <td>OH</td>\n",
       "      <td>26</td>\n",
       "      <td>534</td>\n",
       "      <td>439</td>\n",
       "    </tr>\n",
       "    <tr>\n",
       "      <th>28</th>\n",
       "      <td>MT</td>\n",
       "      <td>23</td>\n",
       "      <td>539</td>\n",
       "      <td>539</td>\n",
       "    </tr>\n",
       "    <tr>\n",
       "      <th>30</th>\n",
       "      <td>ID</td>\n",
       "      <td>17</td>\n",
       "      <td>543</td>\n",
       "      <td>542</td>\n",
       "    </tr>\n",
       "    <tr>\n",
       "      <th>31</th>\n",
       "      <td>TN</td>\n",
       "      <td>13</td>\n",
       "      <td>562</td>\n",
       "      <td>553</td>\n",
       "    </tr>\n",
       "    <tr>\n",
       "      <th>32</th>\n",
       "      <td>NM</td>\n",
       "      <td>13</td>\n",
       "      <td>551</td>\n",
       "      <td>542</td>\n",
       "    </tr>\n",
       "    <tr>\n",
       "      <th>33</th>\n",
       "      <td>IL</td>\n",
       "      <td>12</td>\n",
       "      <td>576</td>\n",
       "      <td>589</td>\n",
       "    </tr>\n",
       "    <tr>\n",
       "      <th>34</th>\n",
       "      <td>KY</td>\n",
       "      <td>12</td>\n",
       "      <td>550</td>\n",
       "      <td>550</td>\n",
       "    </tr>\n",
       "    <tr>\n",
       "      <th>35</th>\n",
       "      <td>WY</td>\n",
       "      <td>11</td>\n",
       "      <td>547</td>\n",
       "      <td>545</td>\n",
       "    </tr>\n",
       "    <tr>\n",
       "      <th>36</th>\n",
       "      <td>MI</td>\n",
       "      <td>11</td>\n",
       "      <td>561</td>\n",
       "      <td>572</td>\n",
       "    </tr>\n",
       "    <tr>\n",
       "      <th>37</th>\n",
       "      <td>MN</td>\n",
       "      <td>9</td>\n",
       "      <td>580</td>\n",
       "      <td>589</td>\n",
       "    </tr>\n",
       "    <tr>\n",
       "      <th>38</th>\n",
       "      <td>KS</td>\n",
       "      <td>9</td>\n",
       "      <td>577</td>\n",
       "      <td>580</td>\n",
       "    </tr>\n",
       "    <tr>\n",
       "      <th>39</th>\n",
       "      <td>AL</td>\n",
       "      <td>9</td>\n",
       "      <td>559</td>\n",
       "      <td>554</td>\n",
       "    </tr>\n",
       "    <tr>\n",
       "      <th>40</th>\n",
       "      <td>NE</td>\n",
       "      <td>8</td>\n",
       "      <td>562</td>\n",
       "      <td>568</td>\n",
       "    </tr>\n",
       "    <tr>\n",
       "      <th>41</th>\n",
       "      <td>OK</td>\n",
       "      <td>8</td>\n",
       "      <td>567</td>\n",
       "      <td>561</td>\n",
       "    </tr>\n",
       "    <tr>\n",
       "      <th>42</th>\n",
       "      <td>MO</td>\n",
       "      <td>8</td>\n",
       "      <td>577</td>\n",
       "      <td>577</td>\n",
       "    </tr>\n",
       "    <tr>\n",
       "      <th>43</th>\n",
       "      <td>LA</td>\n",
       "      <td>7</td>\n",
       "      <td>564</td>\n",
       "      <td>562</td>\n",
       "    </tr>\n",
       "    <tr>\n",
       "      <th>44</th>\n",
       "      <td>WI</td>\n",
       "      <td>6</td>\n",
       "      <td>584</td>\n",
       "      <td>596</td>\n",
       "    </tr>\n",
       "    <tr>\n",
       "      <th>45</th>\n",
       "      <td>AR</td>\n",
       "      <td>6</td>\n",
       "      <td>562</td>\n",
       "      <td>550</td>\n",
       "    </tr>\n",
       "    <tr>\n",
       "      <th>46</th>\n",
       "      <td>UT</td>\n",
       "      <td>5</td>\n",
       "      <td>575</td>\n",
       "      <td>570</td>\n",
       "    </tr>\n",
       "    <tr>\n",
       "      <th>47</th>\n",
       "      <td>IA</td>\n",
       "      <td>5</td>\n",
       "      <td>593</td>\n",
       "      <td>603</td>\n",
       "    </tr>\n",
       "    <tr>\n",
       "      <th>48</th>\n",
       "      <td>SD</td>\n",
       "      <td>4</td>\n",
       "      <td>577</td>\n",
       "      <td>582</td>\n",
       "    </tr>\n",
       "    <tr>\n",
       "      <th>49</th>\n",
       "      <td>ND</td>\n",
       "      <td>4</td>\n",
       "      <td>592</td>\n",
       "      <td>599</td>\n",
       "    </tr>\n",
       "    <tr>\n",
       "      <th>50</th>\n",
       "      <td>MS</td>\n",
       "      <td>4</td>\n",
       "      <td>566</td>\n",
       "      <td>551</td>\n",
       "    </tr>\n",
       "  </tbody>\n",
       "</table>\n",
       "</div>"
      ],
      "text/plain": [
       "   State  Rate  Verbal  Math\n",
       "26    CO    31     539   542\n",
       "27    OH    26     534   439\n",
       "28    MT    23     539   539\n",
       "30    ID    17     543   542\n",
       "31    TN    13     562   553\n",
       "32    NM    13     551   542\n",
       "33    IL    12     576   589\n",
       "34    KY    12     550   550\n",
       "35    WY    11     547   545\n",
       "36    MI    11     561   572\n",
       "37    MN     9     580   589\n",
       "38    KS     9     577   580\n",
       "39    AL     9     559   554\n",
       "40    NE     8     562   568\n",
       "41    OK     8     567   561\n",
       "42    MO     8     577   577\n",
       "43    LA     7     564   562\n",
       "44    WI     6     584   596\n",
       "45    AR     6     562   550\n",
       "46    UT     5     575   570\n",
       "47    IA     5     593   603\n",
       "48    SD     4     577   582\n",
       "49    ND     4     592   599\n",
       "50    MS     4     566   551"
      ]
     },
     "execution_count": 18,
     "metadata": {},
     "output_type": "execute_result"
    }
   ],
   "source": [
    "verbal_median = sat.Verbal.median()\n",
    "\n",
    "verbal_med_mask = (sat.Verbal > verbal_median)\n",
    "\n",
    "verbal_med_subset = sat.loc[verbal_med_mask, :]\n",
    "verbal_med_subset"
   ]
  },
  {
   "cell_type": "code",
   "execution_count": 19,
   "metadata": {
    "collapsed": false
   },
   "outputs": [
    {
     "name": "stdout",
     "output_type": "stream",
     "text": [
      "States above mean verbal score: 24\n",
      "States above median verbal score: 24\n",
      "Verbal mean: 532.529411765\n",
      "Verbal median: 527.0\n"
     ]
    }
   ],
   "source": [
    "print 'States above mean verbal score:', verbal_subset.State.count()\n",
    "print 'States above median verbal score:', verbal_med_subset.State.count()\n",
    "\n",
    "print 'Verbal mean:', verbal_mean\n",
    "print 'Verbal median:', verbal_median"
   ]
  },
  {
   "cell_type": "markdown",
   "metadata": {},
   "source": [
    "**A:** Both mean and median have 24 states above. Again, this is not a skewed distribution.\n",
    "\n",
    "Just a note: SAT scores are normalized scores to give takers their \"percentile\", so non-skewness properties are enforced. You may have explored this in a later unrequired question."
   ]
  },
  {
   "cell_type": "markdown",
   "metadata": {},
   "source": [
    "### 5.3 Create a column that is the difference between the `Verbal` and `Math` scores\n",
    "\n",
    "Specifically, this should be `Verbal - Math`."
   ]
  },
  {
   "cell_type": "code",
   "execution_count": 20,
   "metadata": {
    "collapsed": false
   },
   "outputs": [
    {
     "data": {
      "text/html": [
       "<div>\n",
       "<table border=\"1\" class=\"dataframe\">\n",
       "  <thead>\n",
       "    <tr style=\"text-align: right;\">\n",
       "      <th></th>\n",
       "      <th>State</th>\n",
       "      <th>Rate</th>\n",
       "      <th>Verbal</th>\n",
       "      <th>Math</th>\n",
       "      <th>Verbal_Math_diff</th>\n",
       "    </tr>\n",
       "  </thead>\n",
       "  <tbody>\n",
       "    <tr>\n",
       "      <th>0</th>\n",
       "      <td>CT</td>\n",
       "      <td>82</td>\n",
       "      <td>509</td>\n",
       "      <td>510</td>\n",
       "      <td>-1</td>\n",
       "    </tr>\n",
       "    <tr>\n",
       "      <th>1</th>\n",
       "      <td>NJ</td>\n",
       "      <td>81</td>\n",
       "      <td>499</td>\n",
       "      <td>513</td>\n",
       "      <td>-14</td>\n",
       "    </tr>\n",
       "    <tr>\n",
       "      <th>2</th>\n",
       "      <td>MA</td>\n",
       "      <td>79</td>\n",
       "      <td>511</td>\n",
       "      <td>515</td>\n",
       "      <td>-4</td>\n",
       "    </tr>\n",
       "  </tbody>\n",
       "</table>\n",
       "</div>"
      ],
      "text/plain": [
       "  State  Rate  Verbal  Math  Verbal_Math_diff\n",
       "0    CT    82     509   510                -1\n",
       "1    NJ    81     499   513               -14\n",
       "2    MA    79     511   515                -4"
      ]
     },
     "execution_count": 20,
     "metadata": {},
     "output_type": "execute_result"
    }
   ],
   "source": [
    "sat['Verbal_Math_diff'] = sat.Verbal - sat.Math\n",
    "sat.head(3)"
   ]
  },
  {
   "cell_type": "markdown",
   "metadata": {},
   "source": [
    "### 5.4 Create two new DataFrames showing states with the greatest difference between scores\n",
    "\n",
    "1. Your first DataFrame should be the 10 states with the greatest gap between `Verbal` and `Math` scores where `Verbal` is greater than `Math`. It should be sorted appropriately to show the ranking of states.\n",
    "2. Your second DataFrame will be the inverse: states with the greatest gap between `Verbal` and `Math` such that `Math` is greater than `Verbal`. Again, this should be sorted appropriately to show rank.\n",
    "3. Print the header of both variables, only showing the top 3 states in each."
   ]
  },
  {
   "cell_type": "code",
   "execution_count": 21,
   "metadata": {
    "collapsed": false
   },
   "outputs": [
    {
     "name": "stdout",
     "output_type": "stream",
     "text": [
      "   State  Rate  Verbal  Math  Verbal_Math_diff\n",
      "27    OH    26     534   439                95\n",
      "50    MS     4     566   551                15\n",
      "29    WV    18     527   512                15\n",
      "   State  Rate  Verbal  Math  Verbal_Math_diff\n",
      "21    HI    52     485   515               -30\n",
      "23    CA    51     498   517               -19\n",
      "1     NJ    81     499   513               -14\n"
     ]
    }
   ],
   "source": [
    "verbal_10greater = sat.sort_values('Verbal_Math_diff', ascending=False).iloc[0:10,:]\n",
    "verbal_10lower= sat.sort_values('Verbal_Math_diff', ascending=True).iloc[0:10,:]\n",
    "\n",
    "print verbal_10greater.head(3)\n",
    "print verbal_10lower.head(3)"
   ]
  },
  {
   "cell_type": "markdown",
   "metadata": {},
   "source": [
    "<img src=\"http://imgur.com/l5NasQj.png\" style=\"float: left; margin: 25px 15px 0px 0px; height: 25px\">\n",
    "\n",
    "## 6. Examine summary statistics\n",
    "\n",
    "---\n",
    "\n",
    "Checking the summary statistics for data is an essential step in the EDA process!\n",
    "\n",
    "### 6.1 Create the correlation matrix of your variables (excluding `State`).\n",
    "\n",
    "What does the correlation matrix tell you?\n"
   ]
  },
  {
   "cell_type": "code",
   "execution_count": 22,
   "metadata": {
    "collapsed": false
   },
   "outputs": [
    {
     "data": {
      "text/html": [
       "<div>\n",
       "<table border=\"1\" class=\"dataframe\">\n",
       "  <thead>\n",
       "    <tr style=\"text-align: right;\">\n",
       "      <th></th>\n",
       "      <th>Verbal</th>\n",
       "      <th>Math</th>\n",
       "      <th>Rate</th>\n",
       "      <th>Verbal_Math_diff</th>\n",
       "    </tr>\n",
       "  </thead>\n",
       "  <tbody>\n",
       "    <tr>\n",
       "      <th>Verbal</th>\n",
       "      <td>1.000000</td>\n",
       "      <td>0.899909</td>\n",
       "      <td>-0.888121</td>\n",
       "      <td>0.044527</td>\n",
       "    </tr>\n",
       "    <tr>\n",
       "      <th>Math</th>\n",
       "      <td>0.899909</td>\n",
       "      <td>1.000000</td>\n",
       "      <td>-0.773419</td>\n",
       "      <td>-0.395574</td>\n",
       "    </tr>\n",
       "    <tr>\n",
       "      <th>Rate</th>\n",
       "      <td>-0.888121</td>\n",
       "      <td>-0.773419</td>\n",
       "      <td>1.000000</td>\n",
       "      <td>-0.098671</td>\n",
       "    </tr>\n",
       "    <tr>\n",
       "      <th>Verbal_Math_diff</th>\n",
       "      <td>0.044527</td>\n",
       "      <td>-0.395574</td>\n",
       "      <td>-0.098671</td>\n",
       "      <td>1.000000</td>\n",
       "    </tr>\n",
       "  </tbody>\n",
       "</table>\n",
       "</div>"
      ],
      "text/plain": [
       "                    Verbal      Math      Rate  Verbal_Math_diff\n",
       "Verbal            1.000000  0.899909 -0.888121          0.044527\n",
       "Math              0.899909  1.000000 -0.773419         -0.395574\n",
       "Rate             -0.888121 -0.773419  1.000000         -0.098671\n",
       "Verbal_Math_diff  0.044527 -0.395574 -0.098671          1.000000"
      ]
     },
     "execution_count": 22,
     "metadata": {},
     "output_type": "execute_result"
    }
   ],
   "source": [
    "sat[['Verbal','Math','Rate','Verbal_Math_diff']].corr()"
   ]
  },
  {
   "cell_type": "markdown",
   "metadata": {},
   "source": [
    "**A:** The correlation matrix shows us the (linear) relationships between variables as measured by the pearson correlation coefficient. A pearson r of -1 is a perfect inverse relationship, a 1 is a perfect relationship, and a 0 is no linear relationship.\n",
    "\n",
    "Here's what we can see from the correlation matrix:\n",
    "\n",
    "1. Verbal score is highly correlated with Math. So, States that score higher in one tend to score higher in the other, and vice versa.\n",
    "2. Verbal is negatively correlated with rate. The higher proportion of students that take the SAT, the lower the average Verbal score.\n",
    "3. Likewise, Math is negatively correlated with Rate as well, though not as much.\n",
    "4. Verbal score has little to no relationship with the difference between verbal and math scores. What does this mean? As Verbal scores go up, this does not imply that the difference between verbal and Math increases!\n",
    "5. Interestingly, the difference between verbal and math has a decent negative correlation with Math. This indicates that as the difference between verbal and math increases, average Math score is more likely to decrease, which makes sense.\n",
    "6. Rate and verbal-math difference has a small, likely insignificant negative correlation.\n",
    "\n",
    "So, you are probably wondering, **why is there no correlation between Verbal and the difference, but a negative correlation between Math and the difference?**\n",
    "\n",
    "Let's create a pairplot of the variables to help understand this:"
   ]
  },
  {
   "cell_type": "code",
   "execution_count": 24,
   "metadata": {
    "collapsed": false
   },
   "outputs": [
    {
     "data": {
      "text/plain": [
       "<seaborn.axisgrid.PairGrid at 0x11b84a390>"
      ]
     },
     "execution_count": 24,
     "metadata": {},
     "output_type": "execute_result"
    },
    {
     "data": {
      "image/png": "[encoded data removed]",
      "text/plain": [
       "<matplotlib.figure.Figure at 0x11b864350>"
      ]
     },
     "metadata": {
      "image/png": {
       "height": 746,
       "width": 749
      }
     },
     "output_type": "display_data"
    }
   ],
   "source": [
    "sns.pairplot(sat[['Verbal','Math','Verbal_Math_diff']], size=3.5, plot_kws={'s':30})"
   ]
  },
  {
   "cell_type": "markdown",
   "metadata": {},
   "source": [
    "Besides that weird outlier, it looks like there isn't much of a correspondence. Is the difference in the correlations caused by the outlier?\n",
    "\n",
    "I'll find the outlier state and remove it, then look at the correlation matrix again."
   ]
  },
  {
   "cell_type": "code",
   "execution_count": 25,
   "metadata": {
    "collapsed": false
   },
   "outputs": [
    {
     "data": {
      "text/html": [
       "<div>\n",
       "<table border=\"1\" class=\"dataframe\">\n",
       "  <thead>\n",
       "    <tr style=\"text-align: right;\">\n",
       "      <th></th>\n",
       "      <th>State</th>\n",
       "      <th>Rate</th>\n",
       "      <th>Verbal</th>\n",
       "      <th>Math</th>\n",
       "      <th>Verbal_Math_diff</th>\n",
       "    </tr>\n",
       "  </thead>\n",
       "  <tbody>\n",
       "    <tr>\n",
       "      <th>27</th>\n",
       "      <td>OH</td>\n",
       "      <td>26</td>\n",
       "      <td>534</td>\n",
       "      <td>439</td>\n",
       "      <td>95</td>\n",
       "    </tr>\n",
       "  </tbody>\n",
       "</table>\n",
       "</div>"
      ],
      "text/plain": [
       "   State  Rate  Verbal  Math  Verbal_Math_diff\n",
       "27    OH    26     534   439                95"
      ]
     },
     "execution_count": 25,
     "metadata": {},
     "output_type": "execute_result"
    }
   ],
   "source": [
    "outlier_mask = (sat.Verbal_Math_diff == sat.Verbal_Math_diff.max())\n",
    "outlier_state = sat.loc[outlier_mask, :]\n",
    "outlier_state"
   ]
  },
  {
   "cell_type": "code",
   "execution_count": 26,
   "metadata": {
    "collapsed": false
   },
   "outputs": [
    {
     "data": {
      "text/html": [
       "<div>\n",
       "<table border=\"1\" class=\"dataframe\">\n",
       "  <thead>\n",
       "    <tr style=\"text-align: right;\">\n",
       "      <th></th>\n",
       "      <th>Rate</th>\n",
       "      <th>Verbal</th>\n",
       "      <th>Math</th>\n",
       "      <th>Verbal_Math_diff</th>\n",
       "    </tr>\n",
       "  </thead>\n",
       "  <tbody>\n",
       "    <tr>\n",
       "      <th>Rate</th>\n",
       "      <td>1.000000</td>\n",
       "      <td>-0.889227</td>\n",
       "      <td>-0.854664</td>\n",
       "      <td>-0.095529</td>\n",
       "    </tr>\n",
       "    <tr>\n",
       "      <th>Verbal</th>\n",
       "      <td>-0.889227</td>\n",
       "      <td>1.000000</td>\n",
       "      <td>0.969265</td>\n",
       "      <td>0.074463</td>\n",
       "    </tr>\n",
       "    <tr>\n",
       "      <th>Math</th>\n",
       "      <td>-0.854664</td>\n",
       "      <td>0.969265</td>\n",
       "      <td>1.000000</td>\n",
       "      <td>-0.173161</td>\n",
       "    </tr>\n",
       "    <tr>\n",
       "      <th>Verbal_Math_diff</th>\n",
       "      <td>-0.095529</td>\n",
       "      <td>0.074463</td>\n",
       "      <td>-0.173161</td>\n",
       "      <td>1.000000</td>\n",
       "    </tr>\n",
       "  </tbody>\n",
       "</table>\n",
       "</div>"
      ],
      "text/plain": [
       "                      Rate    Verbal      Math  Verbal_Math_diff\n",
       "Rate              1.000000 -0.889227 -0.854664         -0.095529\n",
       "Verbal           -0.889227  1.000000  0.969265          0.074463\n",
       "Math             -0.854664  0.969265  1.000000         -0.173161\n",
       "Verbal_Math_diff -0.095529  0.074463 -0.173161          1.000000"
      ]
     },
     "execution_count": 26,
     "metadata": {},
     "output_type": "execute_result"
    }
   ],
   "source": [
    "sat_nooutlier = sat.loc[sat.State != 'OH', :]\n",
    "sat_nooutlier.corr()"
   ]
  },
  {
   "cell_type": "markdown",
   "metadata": {},
   "source": [
    "The correlation between Math and the difference has been dramatically reduced. This is an example of how outliers can affect your statistical metrics in unsavory ways, and why you need to be rigorous about examining your data."
   ]
  },
  {
   "cell_type": "markdown",
   "metadata": {},
   "source": [
    "### 6.2 Use pandas'  `.describe()` built-in function on your DataFrame\n",
    "\n",
    "Write up what each of the rows returned by the function indicate."
   ]
  },
  {
   "cell_type": "code",
   "execution_count": 27,
   "metadata": {
    "collapsed": false
   },
   "outputs": [
    {
     "data": {
      "text/html": [
       "<div>\n",
       "<table border=\"1\" class=\"dataframe\">\n",
       "  <thead>\n",
       "    <tr style=\"text-align: right;\">\n",
       "      <th></th>\n",
       "      <th>Rate</th>\n",
       "      <th>Verbal</th>\n",
       "      <th>Math</th>\n",
       "      <th>Verbal_Math_diff</th>\n",
       "    </tr>\n",
       "  </thead>\n",
       "  <tbody>\n",
       "    <tr>\n",
       "      <th>count</th>\n",
       "      <td>50.000000</td>\n",
       "      <td>50.000000</td>\n",
       "      <td>50.000000</td>\n",
       "      <td>50.000000</td>\n",
       "    </tr>\n",
       "    <tr>\n",
       "      <th>mean</th>\n",
       "      <td>37.220000</td>\n",
       "      <td>532.500000</td>\n",
       "      <td>533.700000</td>\n",
       "      <td>-1.200000</td>\n",
       "    </tr>\n",
       "    <tr>\n",
       "      <th>std</th>\n",
       "      <td>27.785101</td>\n",
       "      <td>33.698695</td>\n",
       "      <td>34.120584</td>\n",
       "      <td>8.417668</td>\n",
       "    </tr>\n",
       "    <tr>\n",
       "      <th>min</th>\n",
       "      <td>4.000000</td>\n",
       "      <td>482.000000</td>\n",
       "      <td>474.000000</td>\n",
       "      <td>-30.000000</td>\n",
       "    </tr>\n",
       "    <tr>\n",
       "      <th>25%</th>\n",
       "      <td>9.000000</td>\n",
       "      <td>501.000000</td>\n",
       "      <td>505.250000</td>\n",
       "      <td>-6.000000</td>\n",
       "    </tr>\n",
       "    <tr>\n",
       "      <th>50%</th>\n",
       "      <td>33.500000</td>\n",
       "      <td>526.500000</td>\n",
       "      <td>525.500000</td>\n",
       "      <td>0.000000</td>\n",
       "    </tr>\n",
       "    <tr>\n",
       "      <th>75%</th>\n",
       "      <td>64.500000</td>\n",
       "      <td>562.000000</td>\n",
       "      <td>559.250000</td>\n",
       "      <td>4.000000</td>\n",
       "    </tr>\n",
       "    <tr>\n",
       "      <th>max</th>\n",
       "      <td>82.000000</td>\n",
       "      <td>593.000000</td>\n",
       "      <td>603.000000</td>\n",
       "      <td>15.000000</td>\n",
       "    </tr>\n",
       "  </tbody>\n",
       "</table>\n",
       "</div>"
      ],
      "text/plain": [
       "            Rate      Verbal        Math  Verbal_Math_diff\n",
       "count  50.000000   50.000000   50.000000         50.000000\n",
       "mean   37.220000  532.500000  533.700000         -1.200000\n",
       "std    27.785101   33.698695   34.120584          8.417668\n",
       "min     4.000000  482.000000  474.000000        -30.000000\n",
       "25%     9.000000  501.000000  505.250000         -6.000000\n",
       "50%    33.500000  526.500000  525.500000          0.000000\n",
       "75%    64.500000  562.000000  559.250000          4.000000\n",
       "max    82.000000  593.000000  603.000000         15.000000"
      ]
     },
     "execution_count": 27,
     "metadata": {},
     "output_type": "execute_result"
    }
   ],
   "source": [
    "sat_nooutlier.describe()"
   ]
  },
  {
   "cell_type": "markdown",
   "metadata": {},
   "source": [
    "    count: the number of observations/rows/states (we've taken out OH the outlier at this point)\n",
    "    mean: the mean of the column\n",
    "    std: standard deviation of the column\n",
    "    min: minimum value of the column\n",
    "    25%: the 25% quantile, which is, if we were to order all the values in the column from lowest to highest, the value 25% of the way through.\n",
    "    50%: this is the same but at 50%, which is also known as the median\n",
    "    75% same thing at 75%\n",
    "    max: the maximum value in the column"
   ]
  },
  {
   "cell_type": "markdown",
   "metadata": {},
   "source": [
    "<img src=\"http://imgur.com/xDpSobf.png\" style=\"float: left; margin: 25px 15px 0px 0px; height: 25px\">\n",
    "\n",
    "### 6.3 Assign and print the _covariance_ matrix for the dataset\n",
    "\n",
    "1. Describe how the covariance matrix is different from the correlation matrix.\n",
    "2. What is the process to convert the covariance into the correlation?\n",
    "3. Why is the correlation matrix preferred to the covariance matrix for examining relationships in your data?"
   ]
  },
  {
   "cell_type": "code",
   "execution_count": 29,
   "metadata": {
    "collapsed": false
   },
   "outputs": [
    {
     "data": {
      "text/html": [
       "<div>\n",
       "<table border=\"1\" class=\"dataframe\">\n",
       "  <thead>\n",
       "    <tr style=\"text-align: right;\">\n",
       "      <th></th>\n",
       "      <th>Rate</th>\n",
       "      <th>Verbal</th>\n",
       "      <th>Math</th>\n",
       "      <th>Verbal_Math_diff</th>\n",
       "    </tr>\n",
       "  </thead>\n",
       "  <tbody>\n",
       "    <tr>\n",
       "      <th>Rate</th>\n",
       "      <td>759.04</td>\n",
       "      <td>-816.280000</td>\n",
       "      <td>-773.220000</td>\n",
       "      <td>-43.060000</td>\n",
       "    </tr>\n",
       "    <tr>\n",
       "      <th>Verbal</th>\n",
       "      <td>-816.28</td>\n",
       "      <td>1112.934118</td>\n",
       "      <td>1089.404706</td>\n",
       "      <td>23.529412</td>\n",
       "    </tr>\n",
       "    <tr>\n",
       "      <th>Math</th>\n",
       "      <td>-773.22</td>\n",
       "      <td>1089.404706</td>\n",
       "      <td>1316.774902</td>\n",
       "      <td>-227.370196</td>\n",
       "    </tr>\n",
       "    <tr>\n",
       "      <th>Verbal_Math_diff</th>\n",
       "      <td>-43.06</td>\n",
       "      <td>23.529412</td>\n",
       "      <td>-227.370196</td>\n",
       "      <td>250.899608</td>\n",
       "    </tr>\n",
       "  </tbody>\n",
       "</table>\n",
       "</div>"
      ],
      "text/plain": [
       "                    Rate       Verbal         Math  Verbal_Math_diff\n",
       "Rate              759.04  -816.280000  -773.220000        -43.060000\n",
       "Verbal           -816.28  1112.934118  1089.404706         23.529412\n",
       "Math             -773.22  1089.404706  1316.774902       -227.370196\n",
       "Verbal_Math_diff  -43.06    23.529412  -227.370196        250.899608"
      ]
     },
     "execution_count": 29,
     "metadata": {},
     "output_type": "execute_result"
    }
   ],
   "source": [
    "sat_cov = sat.cov()\n",
    "sat_cov"
   ]
  },
  {
   "cell_type": "markdown",
   "metadata": {},
   "source": [
    "Covariance and correlation are both measures of linear relatedness between two variables. More specifically, covariance measures whether two variables deviate from their mean in the same way across observations (and whether that is in the same direction or in opposite directions). \n",
    "\n",
    "The correlation is essentially the same as the covariance, but normalized (divided) by the product of the standard deviation of the two variables. This guarantees that the metric, pearson's r, will fall between -1 (perfect anticorrlation) to 1 (perfect correlation). Covariance measures, on the other hand, are unnormalized by this quantity and so their magnitude is related to the magnitude of the variance of the measures. \n",
    "\n",
    "[Here is a more formal, but still digestible page on the difference between the two on wikipedia.](https://en.wikipedia.org/wiki/Covariance_and_correlation)\n",
    "\n",
    "The correlation matrix is almost always preferred to the covariance matrix because you can directly compare the correlation measures across different compared variables. With the covariance, we need to keep in mind the differences in variances between the variables when comparing.\n"
   ]
  },
  {
   "cell_type": "markdown",
   "metadata": {},
   "source": [
    "<img src=\"http://imgur.com/l5NasQj.png\" style=\"float: left; margin: 25px 15px 0px 0px; height: 25px\">\n",
    "\n",
    "## 7. Load Iowa Liquor Sales dataset\n",
    "\n",
    "---\n",
    "\n",
    "The state of Iowa provides many data sets on their website, including [this dataset](https://www.dropbox.com/sh/pf5n5sgfgiri3i8/AACkaMeL_i_WgZ00rpxOOcysa?dl=0) which contains transactions for all stores that have a class E liquor license. You can choose one of the following two scenarios.\n",
    "\n",
    "The data can also be found [directly on their website](https://data.iowa.gov/Economy/Iowa-Liquor-Sales/m3tr-qhgy), which allows you to explore it graphically and download it (though it doesn't work very well).\n",
    "\n",
    "NOTE: Some of you may have computer issues with the full dataset. In this case, feel free to use [this 10% dataset version of Iowa liquor sales](https://drive.google.com/file/d/0Bx2SHQGVqWaseDB4QU9ZSVFDY2M/view?usp=sharing). You may want to use it anyway to test and prototype your code since it will be faster, before running it on the full dataset.\n"
   ]
  },
  {
   "cell_type": "code",
   "execution_count": 30,
   "metadata": {
    "collapsed": true
   },
   "outputs": [],
   "source": [
    "iowa_file = '/Users/kiefer/github-repos/DSI-SF-2/datasets/iowa_liquor/Iowa_Liquor_sales_sample_10pct.csv'\n",
    "\n",
    "iowa = pd.read_csv(iowa_file)"
   ]
  },
  {
   "cell_type": "markdown",
   "metadata": {},
   "source": [
    "<img src=\"http://imgur.com/l5NasQj.png\" style=\"float: left; margin: 25px 15px 0px 0px; height: 25px\">\n",
    "\n",
    "### 7.1 Do an initial overview of the data\n",
    "\n",
    "---\n",
    "\n",
    "At the very least describe the columns/variables and the datatypes. "
   ]
  },
  {
   "cell_type": "code",
   "execution_count": 31,
   "metadata": {
    "collapsed": false
   },
   "outputs": [
    {
     "data": {
      "text/html": [
       "<div>\n",
       "<table border=\"1\" class=\"dataframe\">\n",
       "  <thead>\n",
       "    <tr style=\"text-align: right;\">\n",
       "      <th></th>\n",
       "      <th>Date</th>\n",
       "      <th>Store Number</th>\n",
       "      <th>City</th>\n",
       "      <th>Zip Code</th>\n",
       "      <th>County Number</th>\n",
       "      <th>County</th>\n",
       "      <th>Category</th>\n",
       "      <th>Category Name</th>\n",
       "      <th>Vendor Number</th>\n",
       "      <th>Item Number</th>\n",
       "      <th>Item Description</th>\n",
       "      <th>Bottle Volume (ml)</th>\n",
       "      <th>State Bottle Cost</th>\n",
       "      <th>State Bottle Retail</th>\n",
       "      <th>Bottles Sold</th>\n",
       "      <th>Sale (Dollars)</th>\n",
       "      <th>Volume Sold (Liters)</th>\n",
       "      <th>Volume Sold (Gallons)</th>\n",
       "    </tr>\n",
       "  </thead>\n",
       "  <tbody>\n",
       "    <tr>\n",
       "      <th>0</th>\n",
       "      <td>11/04/2015</td>\n",
       "      <td>3717</td>\n",
       "      <td>SUMNER</td>\n",
       "      <td>50674</td>\n",
       "      <td>9.0</td>\n",
       "      <td>Bremer</td>\n",
       "      <td>1051100.0</td>\n",
       "      <td>APRICOT BRANDIES</td>\n",
       "      <td>55</td>\n",
       "      <td>54436</td>\n",
       "      <td>Mr. Boston Apricot Brandy</td>\n",
       "      <td>750</td>\n",
       "      <td>$4.50</td>\n",
       "      <td>$6.75</td>\n",
       "      <td>12</td>\n",
       "      <td>$81.00</td>\n",
       "      <td>9.0</td>\n",
       "      <td>2.38</td>\n",
       "    </tr>\n",
       "    <tr>\n",
       "      <th>1</th>\n",
       "      <td>03/02/2016</td>\n",
       "      <td>2614</td>\n",
       "      <td>DAVENPORT</td>\n",
       "      <td>52807</td>\n",
       "      <td>82.0</td>\n",
       "      <td>Scott</td>\n",
       "      <td>1011100.0</td>\n",
       "      <td>BLENDED WHISKIES</td>\n",
       "      <td>395</td>\n",
       "      <td>27605</td>\n",
       "      <td>Tin Cup</td>\n",
       "      <td>750</td>\n",
       "      <td>$13.75</td>\n",
       "      <td>$20.63</td>\n",
       "      <td>2</td>\n",
       "      <td>$41.26</td>\n",
       "      <td>1.5</td>\n",
       "      <td>0.40</td>\n",
       "    </tr>\n",
       "  </tbody>\n",
       "</table>\n",
       "</div>"
      ],
      "text/plain": [
       "         Date  Store Number       City Zip Code  County Number  County  \\\n",
       "0  11/04/2015          3717     SUMNER    50674            9.0  Bremer   \n",
       "1  03/02/2016          2614  DAVENPORT    52807           82.0   Scott   \n",
       "\n",
       "    Category     Category Name  Vendor Number  Item Number  \\\n",
       "0  1051100.0  APRICOT BRANDIES             55        54436   \n",
       "1  1011100.0  BLENDED WHISKIES            395        27605   \n",
       "\n",
       "            Item Description  Bottle Volume (ml) State Bottle Cost  \\\n",
       "0  Mr. Boston Apricot Brandy                 750             $4.50   \n",
       "1                    Tin Cup                 750            $13.75   \n",
       "\n",
       "  State Bottle Retail  Bottles Sold Sale (Dollars)  Volume Sold (Liters)  \\\n",
       "0               $6.75            12         $81.00                   9.0   \n",
       "1              $20.63             2         $41.26                   1.5   \n",
       "\n",
       "   Volume Sold (Gallons)  \n",
       "0                   2.38  \n",
       "1                   0.40  "
      ]
     },
     "execution_count": 31,
     "metadata": {},
     "output_type": "execute_result"
    }
   ],
   "source": [
    "iowa.head(2)"
   ]
  },
  {
   "cell_type": "code",
   "execution_count": 32,
   "metadata": {
    "collapsed": false
   },
   "outputs": [
    {
     "data": {
      "text/plain": [
       "Date                      object\n",
       "Store Number               int64\n",
       "City                      object\n",
       "Zip Code                  object\n",
       "County Number            float64\n",
       "County                    object\n",
       "Category                 float64\n",
       "Category Name             object\n",
       "Vendor Number              int64\n",
       "Item Number                int64\n",
       "Item Description          object\n",
       "Bottle Volume (ml)         int64\n",
       "State Bottle Cost         object\n",
       "State Bottle Retail       object\n",
       "Bottles Sold               int64\n",
       "Sale (Dollars)            object\n",
       "Volume Sold (Liters)     float64\n",
       "Volume Sold (Gallons)    float64\n",
       "dtype: object"
      ]
     },
     "execution_count": 32,
     "metadata": {},
     "output_type": "execute_result"
    }
   ],
   "source": [
    "iowa.dtypes"
   ]
  },
  {
   "cell_type": "code",
   "execution_count": 33,
   "metadata": {
    "collapsed": true
   },
   "outputs": [],
   "source": [
    "# Looks like we have date, store id and location designators. Category id and verbal descriptions. \n",
    "# Vendor id. Item number and descriptions. Bottle volume and cost columns. Sale volume and\n",
    "# cost columns."
   ]
  },
  {
   "cell_type": "markdown",
   "metadata": {},
   "source": [
    "<img src=\"http://imgur.com/l5NasQj.png\" style=\"float: left; margin: 25px 15px 0px 0px; height: 25px\">\n",
    "\n",
    "## 8. Clean the liquor dataset\n",
    "\n",
    "---\n",
    "\n",
    "### 8.1 Identify columns that you will need to convert and clean. Where and how is the data corrupted?\n",
    "\n",
    "Don't worry about converting the date column to a pandas/numpy \"datetime\" datatype, unless you want to (not required for these problems and is a challenging thing to work with in its own right.)"
   ]
  },
  {
   "cell_type": "code",
   "execution_count": 34,
   "metadata": {
    "collapsed": true
   },
   "outputs": [],
   "source": [
    "new_colnames = [x.lower().replace(')','').replace('(','').replace(' ','_') for x in iowa.columns]\n",
    "iowa.columns = new_colnames"
   ]
  },
  {
   "cell_type": "code",
   "execution_count": 35,
   "metadata": {
    "collapsed": false
   },
   "outputs": [
    {
     "data": {
      "text/plain": [
       "Index([u'date', u'store_number', u'city', u'zip_code', u'county_number',\n",
       "       u'county', u'category', u'category_name', u'vendor_number',\n",
       "       u'item_number', u'item_description', u'bottle_volume_ml',\n",
       "       u'state_bottle_cost', u'state_bottle_retail', u'bottles_sold',\n",
       "       u'sale_dollars', u'volume_sold_liters', u'volume_sold_gallons'],\n",
       "      dtype='object')"
      ]
     },
     "execution_count": 35,
     "metadata": {},
     "output_type": "execute_result"
    }
   ],
   "source": [
    "iowa.columns"
   ]
  },
  {
   "cell_type": "code",
   "execution_count": 36,
   "metadata": {
    "collapsed": true
   },
   "outputs": [],
   "source": [
    "# Write a generic function that will print out unconvertable rows based on a\n",
    "# conversion function:\n",
    "def conversion_issue_checker(mapfunc, x):\n",
    "    converted = mapfunc(x)\n",
    "    if np.isnan(converted):\n",
    "        print x\n",
    "    return converted\n"
   ]
  },
  {
   "cell_type": "code",
   "execution_count": 37,
   "metadata": {
    "collapsed": false
   },
   "outputs": [
    {
     "name": "stdout",
     "output_type": "stream",
     "text": [
      "bad dates: 0\n"
     ]
    }
   ],
   "source": [
    "def get_year(x):\n",
    "    try:\n",
    "        return int(x.split('/')[2])\n",
    "    except:\n",
    "        return np.nan\n",
    "    \n",
    "def get_month(x):\n",
    "    try:\n",
    "        return int(x.split('/')[0])\n",
    "    except:\n",
    "        return np.nan\n",
    "    \n",
    "def get_day(x):\n",
    "    try:\n",
    "        return int(x.split('/')[1])\n",
    "    except:\n",
    "        return np.nan\n",
    "    \n",
    "\n",
    "print 'bad dates:', iowa.date.map(lambda x: conversion_issue_checker(get_year, x)).isnull().sum()"
   ]
  },
  {
   "cell_type": "code",
   "execution_count": 38,
   "metadata": {
    "collapsed": true
   },
   "outputs": [],
   "source": [
    "iowa['year'] = iowa.date.map(get_year)\n",
    "iowa['month'] = iowa.date.map(get_month)\n",
    "iowa['day'] = iowa.date.map(get_day)"
   ]
  },
  {
   "cell_type": "code",
   "execution_count": 39,
   "metadata": {
    "collapsed": false
   },
   "outputs": [
    {
     "name": "stdout",
     "output_type": "stream",
     "text": [
      "bad zipcodes: 712-2\n",
      "712-2\n",
      "712-2\n",
      "712-2\n",
      "712-2\n",
      "712-2\n",
      "712-2\n",
      "712-2\n",
      "712-2\n",
      "712-2\n",
      "712-2\n",
      "712-2\n",
      "712-2\n",
      "712-2\n",
      "712-2\n",
      "712-2\n",
      "712-2\n",
      "712-2\n",
      "712-2\n",
      "712-2\n",
      "712-2\n",
      "712-2\n",
      "712-2\n",
      "712-2\n",
      "712-2\n",
      "712-2\n",
      "712-2\n",
      "712-2\n",
      "712-2\n",
      "712-2\n",
      "712-2\n",
      "712-2\n",
      "712-2\n",
      "712-2\n",
      "712-2\n",
      "712-2\n",
      "712-2\n",
      "712-2\n",
      "712-2\n",
      "712-2\n",
      "712-2\n",
      "712-2\n",
      "712-2\n",
      "712-2\n",
      "712-2\n",
      "712-2\n",
      "712-2\n",
      "712-2\n",
      "712-2\n",
      "712-2\n",
      "712-2\n",
      "712-2\n",
      "712-2\n",
      "712-2\n",
      "712-2\n",
      "712-2\n",
      "712-2\n",
      "712-2\n",
      "712-2\n",
      "712-2\n",
      "712-2\n",
      "712-2\n",
      "712-2\n",
      "712-2\n",
      "712-2\n",
      "712-2\n",
      "712-2\n",
      "712-2\n",
      "712-2\n",
      "712-2\n",
      "712-2\n",
      "712-2\n",
      "712-2\n",
      "712-2\n",
      "712-2\n",
      "712-2\n",
      "712-2\n",
      "712-2\n",
      "712-2\n",
      "712-2\n",
      "712-2\n",
      "712-2\n",
      "712-2\n",
      "712-2\n",
      "712-2\n",
      "712-2\n",
      "712-2\n",
      "712-2\n",
      "712-2\n",
      "712-2\n",
      "712-2\n",
      "712-2\n",
      "712-2\n",
      "712-2\n",
      "712-2\n",
      "712-2\n",
      "712-2\n",
      "712-2\n",
      "712-2\n",
      "712-2\n",
      "712-2\n",
      "712-2\n",
      "712-2\n",
      "712-2\n",
      "712-2\n",
      "712-2\n",
      "712-2\n",
      "712-2\n",
      "712-2\n",
      "712-2\n",
      "712-2\n",
      "712-2\n",
      "712-2\n",
      "712-2\n",
      "712-2\n",
      "712-2\n",
      "712-2\n",
      "712-2\n",
      "712-2\n",
      "712-2\n",
      "712-2\n",
      "712-2\n",
      "712-2\n",
      "712-2\n",
      "712-2\n",
      "712-2\n",
      "712-2\n",
      "712-2\n",
      "712-2\n",
      "712-2\n",
      "712-2\n",
      "712-2\n",
      "712-2\n",
      "712-2\n",
      "712-2\n",
      "712-2\n",
      "712-2\n",
      "712-2\n",
      "712-2\n",
      "712-2\n",
      "712-2\n",
      "712-2\n",
      "712-2\n",
      "712-2\n",
      "712-2\n",
      "712-2\n",
      "712-2\n",
      "712-2\n",
      "712-2\n",
      "712-2\n",
      "712-2\n",
      "712-2\n",
      "712-2\n",
      "712-2\n",
      "712-2\n",
      "712-2\n",
      "712-2\n",
      "712-2\n",
      "712-2\n",
      "712-2\n",
      "712-2\n",
      "712-2\n",
      "712-2\n",
      "712-2\n",
      "712-2\n",
      "712-2\n",
      "712-2\n",
      "712-2\n",
      "712-2\n",
      "712-2\n",
      "712-2\n",
      "712-2\n",
      "712-2\n",
      "712-2\n",
      "712-2\n",
      "712-2\n",
      "712-2\n",
      "712-2\n",
      "712-2\n",
      "712-2\n",
      "712-2\n",
      "712-2\n",
      "712-2\n",
      "712-2\n",
      "712-2\n",
      "712-2\n",
      "712-2\n",
      "712-2\n",
      "712-2\n",
      "712-2\n",
      "712-2\n",
      "712-2\n",
      "712-2\n",
      "712-2\n",
      "712-2\n",
      "712-2\n",
      "712-2\n",
      "712-2\n",
      "712-2\n",
      "712-2\n",
      "712-2\n",
      "712-2\n",
      "712-2\n",
      "712-2\n",
      "712-2\n",
      "712-2\n",
      "712-2\n",
      "712-2\n",
      "712-2\n",
      "712-2\n",
      "712-2\n",
      "712-2\n",
      "712-2\n",
      "712-2\n",
      "712-2\n",
      "712-2\n",
      "712-2\n",
      "217\n"
     ]
    }
   ],
   "source": [
    "def int_converter(x):\n",
    "    try:\n",
    "        converted = int(x)\n",
    "        return converted\n",
    "    except:\n",
    "        return np.nan\n",
    "\n",
    "print 'bad zipcodes:', iowa.zip_code.map(lambda x: conversion_issue_checker(int_converter, x)).isnull().sum()\n",
    "  "
   ]
  },
  {
   "cell_type": "code",
   "execution_count": 40,
   "metadata": {
    "collapsed": false
   },
   "outputs": [
    {
     "name": "stdout",
     "output_type": "stream",
     "text": [
      "float64\n"
     ]
    }
   ],
   "source": [
    "iowa.zip_code = iowa.zip_code.map(int_converter)\n",
    "print iowa.zip_code.dtype"
   ]
  },
  {
   "cell_type": "code",
   "execution_count": 41,
   "metadata": {
    "collapsed": false
   },
   "outputs": [
    {
     "name": "stdout",
     "output_type": "stream",
     "text": [
      "bad bottlecosts: 0\n",
      "bad bottleretail: 0\n",
      "bad saledollars: 0\n"
     ]
    }
   ],
   "source": [
    "def dollar_converter(x):\n",
    "    try:\n",
    "        converted = float(x.strip().replace('$',''))\n",
    "        return converted\n",
    "    except:\n",
    "        return np.nan\n",
    "    \n",
    "print 'bad bottlecosts:', iowa.state_bottle_cost.map(lambda x: conversion_issue_checker(dollar_converter, x)).isnull().sum()\n",
    "print 'bad bottleretail:', iowa.state_bottle_retail.map(lambda x: conversion_issue_checker(dollar_converter, x)).isnull().sum()\n",
    "print 'bad saledollars:', iowa.sale_dollars.map(lambda x: conversion_issue_checker(dollar_converter, x)).isnull().sum()\n"
   ]
  },
  {
   "cell_type": "code",
   "execution_count": 42,
   "metadata": {
    "collapsed": true
   },
   "outputs": [],
   "source": [
    "iowa.state_bottle_cost = iowa.state_bottle_cost.map(dollar_converter)\n",
    "iowa.state_bottle_retail = iowa.state_bottle_retail.map(dollar_converter)\n",
    "iowa.sale_dollars = iowa.sale_dollars.map(dollar_converter)"
   ]
  },
  {
   "cell_type": "code",
   "execution_count": 43,
   "metadata": {
    "collapsed": false
   },
   "outputs": [
    {
     "data": {
      "text/plain": [
       "(270955, 21)"
      ]
     },
     "execution_count": 43,
     "metadata": {},
     "output_type": "execute_result"
    }
   ],
   "source": [
    "# dimensions of data:\n",
    "iowa.shape"
   ]
  },
  {
   "cell_type": "code",
   "execution_count": 44,
   "metadata": {
    "collapsed": false
   },
   "outputs": [
    {
     "data": {
      "text/plain": [
       "date                      0\n",
       "store_number              0\n",
       "city                      0\n",
       "zip_code                217\n",
       "county_number          1077\n",
       "county                 1077\n",
       "category                 68\n",
       "category_name           632\n",
       "vendor_number             0\n",
       "item_number               0\n",
       "item_description          0\n",
       "bottle_volume_ml          0\n",
       "state_bottle_cost         0\n",
       "state_bottle_retail       0\n",
       "bottles_sold              0\n",
       "sale_dollars              0\n",
       "volume_sold_liters        0\n",
       "volume_sold_gallons       0\n",
       "year                      0\n",
       "month                     0\n",
       "day                       0\n",
       "dtype: int64"
      ]
     },
     "execution_count": 44,
     "metadata": {},
     "output_type": "execute_result"
    }
   ],
   "source": [
    "# check number na:\n",
    "iowa.isnull().sum()"
   ]
  },
  {
   "cell_type": "code",
   "execution_count": 45,
   "metadata": {
    "collapsed": true
   },
   "outputs": [],
   "source": [
    "# Drop all the NA values (not many records compared to the whole dataset)\n",
    "iowa = iowa.dropna()"
   ]
  },
  {
   "cell_type": "code",
   "execution_count": 46,
   "metadata": {
    "collapsed": false
   },
   "outputs": [
    {
     "data": {
      "text/plain": [
       "date                   0\n",
       "store_number           0\n",
       "city                   0\n",
       "zip_code               0\n",
       "county_number          0\n",
       "county                 0\n",
       "category               0\n",
       "category_name          0\n",
       "vendor_number          0\n",
       "item_number            0\n",
       "item_description       0\n",
       "bottle_volume_ml       0\n",
       "state_bottle_cost      0\n",
       "state_bottle_retail    0\n",
       "bottles_sold           0\n",
       "sale_dollars           0\n",
       "volume_sold_liters     0\n",
       "volume_sold_gallons    0\n",
       "year                   0\n",
       "month                  0\n",
       "day                    0\n",
       "dtype: int64"
      ]
     },
     "execution_count": 46,
     "metadata": {},
     "output_type": "execute_result"
    }
   ],
   "source": [
    "iowa.isnull().sum()"
   ]
  },
  {
   "cell_type": "markdown",
   "metadata": {},
   "source": [
    "<img src=\"http://imgur.com/xDpSobf.png\" style=\"float: left; margin: 25px 15px 0px 0px; height: 25px\">\n",
    "\n",
    "### 8.2 Perform more extensive cleaning of the dataset\n",
    "\n",
    "Cleaning of data can mean a lot more than just fixing strings and numbers in columns. There are often logical errors with data, useless or nonsensical categories, redundancy of information, outliers, and many more problems.\n",
    "\n",
    "This dataset has problems beyond just fixing the types of columns. Though resolving them may not be required for EDA and analysis, if you want experience with \"deeper\" cleaning of data this is a great dataset to start practicing with.\n",
    "\n",
    "Keep in mind that some types of \"data cleaning\" is subjective: it's not always a cut-and-dry conversion of type or removal of null values. Subjectivity when dealing with data is just a fact of life for a data scientist. This isn't a kind of programming where things are just right or wrong."
   ]
  },
  {
   "cell_type": "code",
   "execution_count": 47,
   "metadata": {
    "collapsed": true
   },
   "outputs": [],
   "source": [
    "# Below are some examples of more granular cleaning issues that you could have found in the data.\n",
    "# I'm interested to see what else other people found."
   ]
  },
  {
   "cell_type": "code",
   "execution_count": 48,
   "metadata": {
    "collapsed": false
   },
   "outputs": [
    {
     "name": "stdout",
     "output_type": "stream",
     "text": [
      "['ACKLEY', 'ADAIR', 'ADEL', 'AFTON', 'AKRON', 'ALBIA', 'ALDEN', 'ALGONA', 'ALLISON', 'ALTA', 'ALTOONA', 'AMES', 'ANAMOSA', 'ANITA', 'ANKENY', 'ANTHON', 'ARLINGTON', 'ARMSTRONG', \"ARNOLD'S PARK\", 'ARNOLDS PARK', 'ATLANTIC', 'AUDUBON', 'AURELIA', 'AVOCA', 'BALDWIN', 'BANCROFT', 'BAXTER', 'BEDFORD', 'BELLE PLAINE', 'BELLEVUE', 'BELMOND', 'BETTENDORF', 'BEVINGTON', 'BLOOMFIELD', 'BLUE GRASS', 'BONDURANT', 'BOONE', 'BRITT', 'BROOKLYN', 'BUFFALO', 'BUFFALO CENTER', 'BURLINGTON', 'BUSSEY', 'CAMANCHE', 'CAMBRIDGE', 'CARLISLE', 'CARROLL', 'CARTER LAKE', 'CASCADE', 'CASEY', 'CEDAR FALLS', 'CEDAR RAPIDS', 'CENTER POINT', 'CENTERVILLE', 'CENTRAL CITY', 'CHARITON', 'CHARLES CITY', 'CHEROKEE', 'CLARINDA', 'CLARION', 'CLARKSVILLE', 'CLEAR LAKE', 'CLINTON', 'CLIVE', 'COLFAX', 'COLO', 'COLUMBUS JUNCTION', 'CONRAD', 'COON RAPIDS', 'CORALVILLE', 'CORNING', 'CORWITH', 'CORYDON', 'COUNCIL BLUFFS', 'CRESCENT', 'CRESCO', 'CRESTON', 'Carroll', 'Cumming', 'DAKOTA CITY', 'DANVILLE', 'DAVENPORT', 'DAYTON', 'DE SOTO', 'DECORAH', 'DELAWARE', 'DELHI', 'DELMAR', 'DENISON', 'DENVER', 'DES MOINES', 'DEWITT', 'DONNELLSON', 'DOWS', 'DUBUQUE', 'DUMONT', 'DURANT', 'DYERSVILLE', 'DYSART', 'Des Moines', 'Dubuque', 'EAGLE GROVE', 'EARLHAM', 'EARLY', 'EDDYVILLE', 'EDGEWOOD', 'ELDON', 'ELDORA', 'ELDRIDGE', 'ELKADER', 'ELLSWORTH', 'ELMA', 'ELY', 'EMMETSBURG', 'ESTHERVILLE', 'EVANSDALE', 'EVERLY', 'EXIRA', 'FAIRBANK', 'FAIRFAX', 'FAIRFIELD', 'FARLEY', 'FARMINGTON', 'FAYETTE', 'FLOYD', 'FONDA', 'FONTANELLE', 'FOREST CITY', 'FORT ATKINSON', 'FORT DODGE', 'FORT MADISON', 'FREDERICKSBURG', 'GARNER', 'GEORGE', 'GILBERTVILLE', 'GILMORE CITY', 'GLADBROOK', 'GLENWOOD', 'GLIDDEN', 'GOLDFIELD', 'GOWRIE', 'GRAETTINGER', 'GRAND JUNCTION', 'GRAND MOUND', 'GRANGER', 'GREENE', 'GREENFIELD', 'GRIMES', 'GRINNELL', 'GRISWOLD', 'GRUNDY CENTER', 'GUTHRIE CENTER', 'GUTTENBERG', 'GUTTENBURG', 'HAMBURG', 'HAMPTON', 'HARLAN', 'HARPERS FERRY', 'HARTLEY', 'HAWARDEN', 'HAZLETON', 'HIAWATHA', 'HOLSTEIN', 'HOLY CROSS', 'HOSPERS', 'HUBBARD', 'HUDSON', 'HUMBOLDT', 'HUMESTON', 'HUXLEY', 'IDA GROVE', 'INDEPENDENCE', 'INDIANOLA', 'INWOOD', 'IOWA CITY', 'IOWA FALLS', 'IRETON', 'Inwood', 'JEFFERSON', 'JESUP', 'JEWELL', 'JOHNSTON', 'KELLOG', 'KELLOGG', 'KEOKUK', 'KEOSAUQUA', 'KEOTA', 'KINGSLEY', 'KNOXVILLE', 'LA PORTE CITY', 'LAKE CITY', 'LAKE MILLS', 'LAKE PARK', 'LAKE VIEW', 'LAMONI', 'LANSING', 'LARCHWOOD', 'LATIMER', 'LAURENS', 'LAWLER', 'LE CLAIRE', 'LE GRAND', 'LE MARS', 'LECLAIRE', 'LEMARS', 'LENOX', 'LEON', 'LISBON', 'LOGAN', 'LOHRVILLE', 'LOST NATION', 'LOVILIA', 'MADRID', 'MALVERN', 'MANCHESTER', 'MANLY', 'MANNING', 'MANSON', 'MAPLETON', 'MAQUOKETA', 'MARCUS', 'MARENGO', 'MARION', 'MARSHALLTOWN', 'MARTENSDALE', 'MASON CITY', 'MAXWELL', 'MECHANICSVILLE', 'MEDIAPOLIS', 'MELBOURNE', 'MELCHER-DALLAS', 'MERRILL', 'MILFORD', 'MINDEN', 'MISSOURI VALLEY', 'MONONA', 'MONROE', 'MONTEZUMA', 'MONTICELLO', 'MONTROSE', 'MORAVIA', 'MOUNT AYR', 'MOUNT PLEASANT', 'MOUNT VERNON', 'MT PLEASANT', 'MT VERNON', 'MUSCATINE', 'NASHUA', 'NEOLA', 'NEVADA', 'NEW HAMPTON', 'NEW SHARON', 'NEW VIRGINIA', 'NEWTON', 'NORA SPRINGS', 'NORTH ENGLISH', 'NORTH LIBERTY', 'NORTHWOOD', 'NORWALK', 'Northwood', 'OAKLAND', 'OELWEIN', 'OGDEN', 'OKOBOJI', 'ONAWA', 'ORANGE CITY', 'OSAGE', 'OSCEOLA', 'OSKALOOSA', 'OTHO', 'OTTUMWA', 'OTTUWMA', 'PACIFIC JUNCTION', 'PALO', 'PANORA', 'PARKERSBURG', 'PAULLINA', 'PELLA', 'PEOSTA', 'PERRY', 'PLEASANT HILL', 'PLEASANTVILLE', 'POCAHONTAS', 'POLK CITY', 'POSTVILLE', 'PRAIRIE CITY', 'PRIMGHAR', 'PRINCETON', 'RAYMOND', 'RED OAK', 'REINBECK', 'REMSEN', 'RICEVILLE', 'RIVERSIDE', 'ROBINS', 'ROCK RAPIDS', 'ROCK VALLEY', 'ROCKWELL', 'ROCKWELL CITY', 'ROLFE', 'RUTHVEN', 'SAC CITY', 'SANBORN', 'SCHALLER', 'SCHLESWIG', 'SCRANTON', 'SERGEANT BLUFF', 'SHEFFIELD', 'SHELDON', 'SHELLSBURG', 'SHENANDOAH', 'SIBLEY', 'SIGOURNEY', 'SIOUX CENTER', 'SIOUX CITY', 'SIOUX RAPIDS', 'SLATER', 'SLOAN', 'SOLON', 'SPENCER', 'SPIRIT LAKE', 'SPRINGVILLE', 'ST ANSGAR', 'ST CHARLES', 'ST LUCAS', 'STANWOOD', 'STATE CENTER', 'STORM LAKE', 'STORY CITY', 'STRATFORD', 'STRAWBERRY POINT', 'STUART', 'SULLY', 'SUMNER', 'SUTHERLAND', 'SWEA CITY', 'SWISHER', 'TIFFIN', 'TIPTON', 'TOLEDO', 'TRAER', 'TREYNOR', 'TRIPOLI', 'URBANA', 'URBANDALE', 'Urbandale', 'VAN METER', 'VICTOR', 'VILLISCA', 'VINTON', 'WALFORD', 'WALKER', 'WALL LAKE', 'WALNUT', 'WAPELLO', 'WASHBURN', 'WASHINGTON', 'WATERLOO', 'WAUKEE', 'WAUKON', 'WAVERLY', 'WEBSTER CITY', 'WELLMAN', 'WELLSBURG', 'WESLEY', 'WEST BEND', 'WEST BRANCH', 'WEST BURLINGTON', 'WEST DES MOINES', 'WEST LIBERTY', 'WEST POINT', 'WEST UNION', 'WHEATLAND', 'WILLIAMSBURG', 'WILTON', 'WINDSOR HEIGHTS', 'WINTERSET', 'WINTHROP', 'WOODBINE', 'WOODWARD', 'ZWINGLE']\n"
     ]
    }
   ],
   "source": [
    "# EXAMPLE 1: City name issues\n",
    "#\n",
    "# If you print out the unique cities and look closely, you can find some issues:\n",
    "# - ARNOLD'S PARK vs. ARNOLDS PARK\n",
    "# - Carroll vs. CARROLL\n",
    "# - Des Moines vs. DES MOINES\n",
    "# - Dubuque vs. DUBUQUE\n",
    "# - GUTTENBERG vs. GUTTENBURG\n",
    "# - Inwood vs. INWOOD\n",
    "# - MOUNT PLEASANT vs. MT PLEASANT\n",
    "# - MOUNT VERNON vs. MT VERNON\n",
    "# - Northwood vs. NORTHWOOD\n",
    "# - Urbandale vs. URBANDALE\n",
    "#\n",
    "# And likely more that I missed, or are in the larger dataset but not the small one.\n",
    "\n",
    "print sorted(iowa.city.unique())"
   ]
  },
  {
   "cell_type": "code",
   "execution_count": 49,
   "metadata": {
    "collapsed": false
   },
   "outputs": [
    {
     "data": {
      "text/plain": [
       "array(['GUTTENBURG', 'GUTTENBERG'], dtype=object)"
      ]
     },
     "execution_count": 49,
     "metadata": {},
     "output_type": "execute_result"
    }
   ],
   "source": [
    "iowa.loc[iowa.city.map(lambda x: x.startswith('GUTT')),'city'].unique()"
   ]
  },
  {
   "cell_type": "code",
   "execution_count": 50,
   "metadata": {
    "collapsed": true
   },
   "outputs": [],
   "source": [
    "iowa.city = iowa.city.map(lambda x: 'GUTTENBERG' if x == 'GUTTENBURG' else x)\n",
    "iowa.city = iowa.city.map(lambda x: 'ARNOLDS PARK' if x == \"ARNOLD'S PARK\" else x)\n",
    "iowa.city = iowa.city.map(lambda x: x.lower().replace('mount','mt'))\n"
   ]
  },
  {
   "cell_type": "code",
   "execution_count": 51,
   "metadata": {
    "collapsed": true
   },
   "outputs": [],
   "source": [
    "# EXAMPLE 2: Category with more than 1 category ID:\n",
    "\n",
    "cat_name_uniqueids = iowa.groupby('category_name').category.apply(lambda x: len(np.unique(x)))"
   ]
  },
  {
   "cell_type": "code",
   "execution_count": 52,
   "metadata": {
    "collapsed": false
   },
   "outputs": [
    {
     "data": {
      "text/plain": [
       "category_name\n",
       "IMPORTED AMARETTO    2\n",
       "Name: category, dtype: int64"
      ]
     },
     "execution_count": 52,
     "metadata": {},
     "output_type": "execute_result"
    }
   ],
   "source": [
    "cat_name_uniqueids[cat_name_uniqueids > 1]"
   ]
  },
  {
   "cell_type": "code",
   "execution_count": 53,
   "metadata": {
    "collapsed": false
   },
   "outputs": [
    {
     "data": {
      "text/plain": [
       "array([ 1081015.,  1082015.])"
      ]
     },
     "execution_count": 53,
     "metadata": {},
     "output_type": "execute_result"
    }
   ],
   "source": [
    "iowa.loc[iowa.category_name == 'IMPORTED AMARETTO', 'category'].unique()"
   ]
  },
  {
   "cell_type": "code",
   "execution_count": 54,
   "metadata": {
    "collapsed": true
   },
   "outputs": [],
   "source": [
    "# EXAMPLE 3: Item numbers not guaranteed to be unique to descriptions.\n",
    "#\n",
    "# Most have only 1 unique number, but there are some with up to as many as 6 unique numbers.\n",
    "\n",
    "item_name_uniqueids = iowa.groupby('item_description').item_number.apply(lambda x: len(np.unique(x)))"
   ]
  },
  {
   "cell_type": "code",
   "execution_count": 55,
   "metadata": {
    "collapsed": false
   },
   "outputs": [
    {
     "data": {
      "text/plain": [
       "1    1818\n",
       "2     201\n",
       "3      73\n",
       "4      41\n",
       "5      20\n",
       "6       4\n",
       "Name: item_number, dtype: int64"
      ]
     },
     "execution_count": 55,
     "metadata": {},
     "output_type": "execute_result"
    }
   ],
   "source": [
    "item_name_uniqueids.value_counts()"
   ]
  },
  {
   "cell_type": "code",
   "execution_count": 56,
   "metadata": {
    "collapsed": false
   },
   "outputs": [
    {
     "data": {
      "text/plain": [
       "item_description\n",
       "Jim Beam                           6\n",
       "Ciroc Red Berry                    6\n",
       "Hawkeye Vodka                      6\n",
       "Seagrams Extra Dry Gin             6\n",
       "Bailey's Original Irish Cream      5\n",
       "Arrow Peppermint Schnapps          5\n",
       "Ciroc Peach                        5\n",
       "Paul Masson Grande Amber Brandy    5\n",
       "Kessler Blend Whiskey              5\n",
       "Popov Vodka 80 Prf                 5\n",
       "Black Velvet                       5\n",
       "Absolut Swedish Vodka 80 Prf       5\n",
       "New Amsterdam Vodka                5\n",
       "Crown Royal Regal Apple            5\n",
       "Smirnoff Vodka 80 Prf              5\n",
       "Jagermeister Liqueur               5\n",
       "Seagrams 7 Crown Bl Whiskey        5\n",
       "Beam's 8 Star Bl Whiskey           5\n",
       "Barton Vodka                       5\n",
       "Bacardi Superior Rum               5\n",
       "Name: item_number, dtype: int64"
      ]
     },
     "execution_count": 56,
     "metadata": {},
     "output_type": "execute_result"
    }
   ],
   "source": [
    "item_name_uniqueids[item_name_uniqueids > 1].sort_values(ascending=False).head(20)"
   ]
  },
  {
   "cell_type": "markdown",
   "metadata": {},
   "source": [
    "<img src=\"http://imgur.com/l5NasQj.png\" style=\"float: left; margin: 25px 15px 0px 0px; height: 25px\">\n",
    "\n",
    "## 9. Filter/adjust the store data\n",
    "\n",
    "---\n",
    "\n",
    "Some stores may have opened or closed in 2015. These stores will have incorrect yearly summary statistics since they were not open the full year. We need to filter them out or find another way to deal with the inconsistent numbers of months across stores.\n",
    "\n",
    "It is up to you how you want to deal with this problem.\n",
    "\n",
    "1. Investigate problematic stores.\n",
    "2. Decide on an approach to deal with stores not open for the full 2015 year.\n",
    "3. Implement your plan.\n",
    "4. Briefly report on what you did and why.\n"
   ]
  },
  {
   "cell_type": "code",
   "execution_count": 57,
   "metadata": {
    "collapsed": false
   },
   "outputs": [
    {
     "name": "stdout",
     "output_type": "stream",
     "text": [
      "(269073, 21)\n",
      "(218163, 21)\n"
     ]
    }
   ],
   "source": [
    "# 1. Identify stores that were not open all of 2015. Get a count of unique months per store:\n",
    "print iowa.shape\n",
    "iowa2015 = iowa[(iowa.year == 2015)]\n",
    "print iowa2015.shape\n",
    "\n",
    "months_per_store = iowa2015.groupby('store_number').month.apply(lambda x: len(np.unique(x)))\n"
   ]
  },
  {
   "cell_type": "code",
   "execution_count": 58,
   "metadata": {
    "collapsed": false
   },
   "outputs": [
    {
     "name": "stdout",
     "output_type": "stream",
     "text": [
      "(1371,)\n"
     ]
    },
    {
     "data": {
      "text/plain": [
       "store_number\n",
       "2106    12\n",
       "2113    12\n",
       "2130    12\n",
       "2152    12\n",
       "2178    12\n",
       "2190    12\n",
       "2191    12\n",
       "2200    12\n",
       "2205    12\n",
       "2228    12\n",
       "2233    12\n",
       "2238    11\n",
       "2248    12\n",
       "2285    12\n",
       "2290    12\n",
       "2327    12\n",
       "2353    12\n",
       "2367     6\n",
       "2413    12\n",
       "2445    12\n",
       "Name: month, dtype: int64"
      ]
     },
     "execution_count": 58,
     "metadata": {},
     "output_type": "execute_result"
    }
   ],
   "source": [
    "print months_per_store.shape\n",
    "months_per_store.head(20)"
   ]
  },
  {
   "cell_type": "code",
   "execution_count": 59,
   "metadata": {
    "collapsed": false
   },
   "outputs": [
    {
     "name": "stdout",
     "output_type": "stream",
     "text": [
      "(543,)\n"
     ]
    }
   ],
   "source": [
    "print months_per_store[months_per_store < 12].shape"
   ]
  },
  {
   "cell_type": "code",
   "execution_count": 60,
   "metadata": {
    "collapsed": true
   },
   "outputs": [],
   "source": [
    "# There are quite a few stores that were not open for the whole year. \n",
    "# If there were a fewer number, removing them would probably be fine, but we\n",
    "# will lose a lot of data by doing that here. \n",
    "\n",
    "# Let's see how many per month bin:"
   ]
  },
  {
   "cell_type": "code",
   "execution_count": 61,
   "metadata": {
    "collapsed": false
   },
   "outputs": [
    {
     "data": {
      "text/plain": [
       "12    828\n",
       "11    113\n",
       "10     88\n",
       "9      72\n",
       "8      62\n",
       "7      35\n",
       "6      32\n",
       "3      32\n",
       "5      29\n",
       "1      28\n",
       "4      27\n",
       "2      25\n",
       "Name: month, dtype: int64"
      ]
     },
     "execution_count": 61,
     "metadata": {},
     "output_type": "execute_result"
    }
   ],
   "source": [
    "months_per_store.value_counts()"
   ]
  },
  {
   "cell_type": "code",
   "execution_count": 62,
   "metadata": {
    "collapsed": true
   },
   "outputs": [],
   "source": [
    "# These kind of data imputation problems can have simple to incredibly complex solutions.\n",
    "# My approach will me more complicated than just filling in the mean value, but much less\n",
    "# complicated stuff than you could find out about online (multiple imputation,\n",
    "# maximum likelihood, etc.)\n",
    "\n",
    "# 2. Remove any stores with fewer than 9 months. This is still a pretty \"liberal\" threshold in\n",
    "# my opinion, but we save more stores:"
   ]
  },
  {
   "cell_type": "code",
   "execution_count": 63,
   "metadata": {
    "collapsed": false
   },
   "outputs": [
    {
     "data": {
      "text/plain": [
       "(1101,)"
      ]
     },
     "execution_count": 63,
     "metadata": {},
     "output_type": "execute_result"
    }
   ],
   "source": [
    "valid_stores = months_per_store[months_per_store >= 9]\n",
    "valid_stores.shape"
   ]
  },
  {
   "cell_type": "code",
   "execution_count": 64,
   "metadata": {
    "collapsed": false
   },
   "outputs": [
    {
     "data": {
      "text/plain": [
       "array([2106, 2113, 2130, 2152, 2178, 2190, 2191, 2200, 2205, 2228])"
      ]
     },
     "execution_count": 64,
     "metadata": {},
     "output_type": "execute_result"
    }
   ],
   "source": [
    "# 3. get out the actual store numbers which is currently the index:\n",
    "valid_stores = valid_stores.index.values\n",
    "valid_stores[0:10]"
   ]
  },
  {
   "cell_type": "code",
   "execution_count": 65,
   "metadata": {
    "collapsed": false
   },
   "outputs": [
    {
     "data": {
      "text/plain": [
       "(210741, 21)"
      ]
     },
     "execution_count": 65,
     "metadata": {},
     "output_type": "execute_result"
    }
   ],
   "source": [
    "# 4. subset to the selected stores\n",
    "subset = iowa2015[iowa2015.store_number.isin(valid_stores)]\n",
    "subset.shape"
   ]
  },
  {
   "cell_type": "code",
   "execution_count": 66,
   "metadata": {
    "collapsed": true
   },
   "outputs": [],
   "source": [
    "# 5. select just the month, store_number, and sale_dollars\n",
    "subset_agg = subset[['month','store_number','sale_dollars']]"
   ]
  },
  {
   "cell_type": "code",
   "execution_count": 67,
   "metadata": {
    "collapsed": true
   },
   "outputs": [],
   "source": [
    "# 6. calculate the sum of 2015 sales by month for each store\n",
    "subset_agg = subset_agg.groupby(['month','store_number']).agg(np.sum).reset_index()"
   ]
  },
  {
   "cell_type": "code",
   "execution_count": 68,
   "metadata": {
    "collapsed": false
   },
   "outputs": [
    {
     "data": {
      "text/html": [
       "<div>\n",
       "<table border=\"1\" class=\"dataframe\">\n",
       "  <thead>\n",
       "    <tr style=\"text-align: right;\">\n",
       "      <th></th>\n",
       "      <th>month</th>\n",
       "      <th>store_number</th>\n",
       "      <th>sale_dollars</th>\n",
       "    </tr>\n",
       "  </thead>\n",
       "  <tbody>\n",
       "    <tr>\n",
       "      <th>0</th>\n",
       "      <td>1</td>\n",
       "      <td>2106</td>\n",
       "      <td>13567.80</td>\n",
       "    </tr>\n",
       "    <tr>\n",
       "      <th>1</th>\n",
       "      <td>1</td>\n",
       "      <td>2113</td>\n",
       "      <td>813.68</td>\n",
       "    </tr>\n",
       "    <tr>\n",
       "      <th>2</th>\n",
       "      <td>1</td>\n",
       "      <td>2130</td>\n",
       "      <td>7725.66</td>\n",
       "    </tr>\n",
       "    <tr>\n",
       "      <th>3</th>\n",
       "      <td>1</td>\n",
       "      <td>2152</td>\n",
       "      <td>1096.72</td>\n",
       "    </tr>\n",
       "    <tr>\n",
       "      <th>4</th>\n",
       "      <td>1</td>\n",
       "      <td>2178</td>\n",
       "      <td>2251.52</td>\n",
       "    </tr>\n",
       "    <tr>\n",
       "      <th>5</th>\n",
       "      <td>1</td>\n",
       "      <td>2190</td>\n",
       "      <td>7970.12</td>\n",
       "    </tr>\n",
       "    <tr>\n",
       "      <th>6</th>\n",
       "      <td>1</td>\n",
       "      <td>2191</td>\n",
       "      <td>6777.38</td>\n",
       "    </tr>\n",
       "    <tr>\n",
       "      <th>7</th>\n",
       "      <td>1</td>\n",
       "      <td>2200</td>\n",
       "      <td>1731.96</td>\n",
       "    </tr>\n",
       "    <tr>\n",
       "      <th>8</th>\n",
       "      <td>1</td>\n",
       "      <td>2205</td>\n",
       "      <td>2968.70</td>\n",
       "    </tr>\n",
       "    <tr>\n",
       "      <th>9</th>\n",
       "      <td>1</td>\n",
       "      <td>2228</td>\n",
       "      <td>1298.01</td>\n",
       "    </tr>\n",
       "    <tr>\n",
       "      <th>10</th>\n",
       "      <td>1</td>\n",
       "      <td>2233</td>\n",
       "      <td>1196.52</td>\n",
       "    </tr>\n",
       "    <tr>\n",
       "      <th>11</th>\n",
       "      <td>1</td>\n",
       "      <td>2238</td>\n",
       "      <td>709.80</td>\n",
       "    </tr>\n",
       "    <tr>\n",
       "      <th>12</th>\n",
       "      <td>1</td>\n",
       "      <td>2248</td>\n",
       "      <td>3740.80</td>\n",
       "    </tr>\n",
       "    <tr>\n",
       "      <th>13</th>\n",
       "      <td>1</td>\n",
       "      <td>2285</td>\n",
       "      <td>3497.36</td>\n",
       "    </tr>\n",
       "    <tr>\n",
       "      <th>14</th>\n",
       "      <td>1</td>\n",
       "      <td>2290</td>\n",
       "      <td>4647.91</td>\n",
       "    </tr>\n",
       "  </tbody>\n",
       "</table>\n",
       "</div>"
      ],
      "text/plain": [
       "    month  store_number  sale_dollars\n",
       "0       1          2106      13567.80\n",
       "1       1          2113        813.68\n",
       "2       1          2130       7725.66\n",
       "3       1          2152       1096.72\n",
       "4       1          2178       2251.52\n",
       "5       1          2190       7970.12\n",
       "6       1          2191       6777.38\n",
       "7       1          2200       1731.96\n",
       "8       1          2205       2968.70\n",
       "9       1          2228       1298.01\n",
       "10      1          2233       1196.52\n",
       "11      1          2238        709.80\n",
       "12      1          2248       3740.80\n",
       "13      1          2285       3497.36\n",
       "14      1          2290       4647.91"
      ]
     },
     "execution_count": 68,
     "metadata": {},
     "output_type": "execute_result"
    }
   ],
   "source": [
    "subset_agg.head(15)"
   ]
  },
  {
   "cell_type": "code",
   "execution_count": 69,
   "metadata": {
    "collapsed": false
   },
   "outputs": [
    {
     "data": {
      "text/html": [
       "<div>\n",
       "<table border=\"1\" class=\"dataframe\">\n",
       "  <thead>\n",
       "    <tr style=\"text-align: right;\">\n",
       "      <th></th>\n",
       "      <th>month</th>\n",
       "      <th>store_number</th>\n",
       "      <th>sale_dollars</th>\n",
       "    </tr>\n",
       "  </thead>\n",
       "  <tbody>\n",
       "    <tr>\n",
       "      <th>0</th>\n",
       "      <td>1</td>\n",
       "      <td>2106</td>\n",
       "      <td>0.569582</td>\n",
       "    </tr>\n",
       "    <tr>\n",
       "      <th>1</th>\n",
       "      <td>1</td>\n",
       "      <td>2113</td>\n",
       "      <td>0.120905</td>\n",
       "    </tr>\n",
       "    <tr>\n",
       "      <th>2</th>\n",
       "      <td>1</td>\n",
       "      <td>2130</td>\n",
       "      <td>-0.593937</td>\n",
       "    </tr>\n",
       "    <tr>\n",
       "      <th>3</th>\n",
       "      <td>1</td>\n",
       "      <td>2152</td>\n",
       "      <td>1.656141</td>\n",
       "    </tr>\n",
       "    <tr>\n",
       "      <th>4</th>\n",
       "      <td>1</td>\n",
       "      <td>2178</td>\n",
       "      <td>0.337906</td>\n",
       "    </tr>\n",
       "    <tr>\n",
       "      <th>5</th>\n",
       "      <td>1</td>\n",
       "      <td>2190</td>\n",
       "      <td>-0.684401</td>\n",
       "    </tr>\n",
       "    <tr>\n",
       "      <th>6</th>\n",
       "      <td>1</td>\n",
       "      <td>2191</td>\n",
       "      <td>-0.581889</td>\n",
       "    </tr>\n",
       "    <tr>\n",
       "      <th>7</th>\n",
       "      <td>1</td>\n",
       "      <td>2200</td>\n",
       "      <td>-0.305197</td>\n",
       "    </tr>\n",
       "    <tr>\n",
       "      <th>8</th>\n",
       "      <td>1</td>\n",
       "      <td>2205</td>\n",
       "      <td>1.583604</td>\n",
       "    </tr>\n",
       "    <tr>\n",
       "      <th>9</th>\n",
       "      <td>1</td>\n",
       "      <td>2228</td>\n",
       "      <td>-0.215781</td>\n",
       "    </tr>\n",
       "  </tbody>\n",
       "</table>\n",
       "</div>"
      ],
      "text/plain": [
       "   month  store_number  sale_dollars\n",
       "0      1          2106      0.569582\n",
       "1      1          2113      0.120905\n",
       "2      1          2130     -0.593937\n",
       "3      1          2152      1.656141\n",
       "4      1          2178      0.337906\n",
       "5      1          2190     -0.684401\n",
       "6      1          2191     -0.581889\n",
       "7      1          2200     -0.305197\n",
       "8      1          2205      1.583604\n",
       "9      1          2228     -0.215781"
      ]
     },
     "execution_count": 69,
     "metadata": {},
     "output_type": "execute_result"
    }
   ],
   "source": [
    "# 7. normalize sales by store, calculate avg standard deviation difference in\n",
    "# sales per month\n",
    "\n",
    "subset_agg.sale_dollars = subset_agg.groupby('store_number').sale_dollars.apply(lambda x: (x - np.mean(x))/ np.std(x))\n",
    "subset_agg.head(10)\n"
   ]
  },
  {
   "cell_type": "code",
   "execution_count": 70,
   "metadata": {
    "collapsed": false
   },
   "outputs": [
    {
     "data": {
      "text/html": [
       "<div>\n",
       "<table border=\"1\" class=\"dataframe\">\n",
       "  <thead>\n",
       "    <tr style=\"text-align: right;\">\n",
       "      <th></th>\n",
       "      <th>month</th>\n",
       "      <th>sale_dollars</th>\n",
       "    </tr>\n",
       "  </thead>\n",
       "  <tbody>\n",
       "    <tr>\n",
       "      <th>0</th>\n",
       "      <td>1</td>\n",
       "      <td>-0.258322</td>\n",
       "    </tr>\n",
       "    <tr>\n",
       "      <th>1</th>\n",
       "      <td>2</td>\n",
       "      <td>-0.287915</td>\n",
       "    </tr>\n",
       "    <tr>\n",
       "      <th>2</th>\n",
       "      <td>3</td>\n",
       "      <td>-0.039697</td>\n",
       "    </tr>\n",
       "    <tr>\n",
       "      <th>3</th>\n",
       "      <td>4</td>\n",
       "      <td>-0.074613</td>\n",
       "    </tr>\n",
       "    <tr>\n",
       "      <th>4</th>\n",
       "      <td>5</td>\n",
       "      <td>-0.153359</td>\n",
       "    </tr>\n",
       "    <tr>\n",
       "      <th>5</th>\n",
       "      <td>6</td>\n",
       "      <td>0.246022</td>\n",
       "    </tr>\n",
       "    <tr>\n",
       "      <th>6</th>\n",
       "      <td>7</td>\n",
       "      <td>0.016443</td>\n",
       "    </tr>\n",
       "    <tr>\n",
       "      <th>7</th>\n",
       "      <td>8</td>\n",
       "      <td>-0.089639</td>\n",
       "    </tr>\n",
       "    <tr>\n",
       "      <th>8</th>\n",
       "      <td>9</td>\n",
       "      <td>0.008079</td>\n",
       "    </tr>\n",
       "    <tr>\n",
       "      <th>9</th>\n",
       "      <td>10</td>\n",
       "      <td>0.032867</td>\n",
       "    </tr>\n",
       "    <tr>\n",
       "      <th>10</th>\n",
       "      <td>11</td>\n",
       "      <td>-0.023657</td>\n",
       "    </tr>\n",
       "    <tr>\n",
       "      <th>11</th>\n",
       "      <td>12</td>\n",
       "      <td>0.592272</td>\n",
       "    </tr>\n",
       "  </tbody>\n",
       "</table>\n",
       "</div>"
      ],
      "text/plain": [
       "    month  sale_dollars\n",
       "0       1     -0.258322\n",
       "1       2     -0.287915\n",
       "2       3     -0.039697\n",
       "3       4     -0.074613\n",
       "4       5     -0.153359\n",
       "5       6      0.246022\n",
       "6       7      0.016443\n",
       "7       8     -0.089639\n",
       "8       9      0.008079\n",
       "9      10      0.032867\n",
       "10     11     -0.023657\n",
       "11     12      0.592272"
      ]
     },
     "execution_count": 70,
     "metadata": {},
     "output_type": "execute_result"
    }
   ],
   "source": [
    "mean_std_permonth = subset_agg.groupby('month').sale_dollars.agg(np.mean).reset_index()\n",
    "mean_std_permonth"
   ]
  },
  {
   "cell_type": "code",
   "execution_count": 71,
   "metadata": {
    "collapsed": false
   },
   "outputs": [
    {
     "name": "stdout",
     "output_type": "stream",
     "text": [
      "(12707, 3)\n",
      "month           0\n",
      "store_number    0\n",
      "sale_dollars    0\n",
      "dtype: int64\n",
      "(13212, 3)\n",
      "store_number      0\n",
      "month             0\n",
      "sale_dollars    505\n",
      "dtype: int64\n"
     ]
    }
   ],
   "source": [
    "# 8. estimate missing monthy sales using the overall deviations in sales:\n",
    "\n",
    "stores_monthly = subset[['month','store_number','sale_dollars']]\n",
    "stores_monthly = stores_monthly.groupby(['month','store_number']).agg(np.sum).reset_index()\n",
    "print stores_monthly.shape\n",
    "print stores_monthly.isnull().sum()\n",
    "\n",
    "# make sure non-12-month stores have nan cells to fill in...\n",
    "stores_monthly = pd.pivot_table(stores_monthly, values='sale_dollars', index=['store_number'],\n",
    "                                columns='month').reset_index()\n",
    "stores_monthly = pd.melt(stores_monthly, id_vars=['store_number'], var_name='month', \n",
    "                         value_name='sale_dollars')\n",
    "print stores_monthly.shape\n",
    "print stores_monthly.isnull().sum()\n"
   ]
  },
  {
   "cell_type": "code",
   "execution_count": 72,
   "metadata": {
    "collapsed": true
   },
   "outputs": [],
   "source": [
    "def calculate_estimated_sales(df, month_estimates=None):\n",
    "    mean_sales = df.sale_dollars.mean()\n",
    "    month_estimates['store_ests'] = month_estimates.sale_dollars.map(lambda x: mean_sales + (x*mean_sales))\n",
    "    df = df.merge(month_estimates[['month','store_ests']], on='month')\n",
    "    df.loc[df.sale_dollars.isnull(), 'sale_dollars'] = df.loc[df.sale_dollars.isnull(), 'store_ests']\n",
    "    df.drop('store_ests', axis=1, inplace=True)\n",
    "    return df\n",
    "\n",
    "stores_ests = stores_monthly.groupby('store_number').apply(calculate_estimated_sales,\n",
    "                                                           month_estimates=mean_std_permonth)\n",
    "   "
   ]
  },
  {
   "cell_type": "code",
   "execution_count": 73,
   "metadata": {
    "collapsed": false
   },
   "outputs": [
    {
     "data": {
      "text/html": [
       "<div>\n",
       "<table border=\"1\" class=\"dataframe\">\n",
       "  <thead>\n",
       "    <tr style=\"text-align: right;\">\n",
       "      <th></th>\n",
       "      <th>store_number</th>\n",
       "      <th>month</th>\n",
       "      <th>sale_dollars</th>\n",
       "    </tr>\n",
       "  </thead>\n",
       "  <tbody>\n",
       "    <tr>\n",
       "      <th>0</th>\n",
       "      <td>2106</td>\n",
       "      <td>1</td>\n",
       "      <td>13567.80</td>\n",
       "    </tr>\n",
       "    <tr>\n",
       "      <th>1</th>\n",
       "      <td>2106</td>\n",
       "      <td>2</td>\n",
       "      <td>12873.14</td>\n",
       "    </tr>\n",
       "    <tr>\n",
       "      <th>2</th>\n",
       "      <td>2106</td>\n",
       "      <td>3</td>\n",
       "      <td>12846.35</td>\n",
       "    </tr>\n",
       "    <tr>\n",
       "      <th>3</th>\n",
       "      <td>2106</td>\n",
       "      <td>4</td>\n",
       "      <td>11957.86</td>\n",
       "    </tr>\n",
       "    <tr>\n",
       "      <th>4</th>\n",
       "      <td>2106</td>\n",
       "      <td>5</td>\n",
       "      <td>7526.88</td>\n",
       "    </tr>\n",
       "    <tr>\n",
       "      <th>5</th>\n",
       "      <td>2106</td>\n",
       "      <td>6</td>\n",
       "      <td>11688.72</td>\n",
       "    </tr>\n",
       "    <tr>\n",
       "      <th>6</th>\n",
       "      <td>2106</td>\n",
       "      <td>7</td>\n",
       "      <td>15764.34</td>\n",
       "    </tr>\n",
       "    <tr>\n",
       "      <th>7</th>\n",
       "      <td>2106</td>\n",
       "      <td>8</td>\n",
       "      <td>12329.82</td>\n",
       "    </tr>\n",
       "    <tr>\n",
       "      <th>8</th>\n",
       "      <td>2106</td>\n",
       "      <td>9</td>\n",
       "      <td>10230.61</td>\n",
       "    </tr>\n",
       "    <tr>\n",
       "      <th>9</th>\n",
       "      <td>2106</td>\n",
       "      <td>10</td>\n",
       "      <td>16899.33</td>\n",
       "    </tr>\n",
       "    <tr>\n",
       "      <th>10</th>\n",
       "      <td>2106</td>\n",
       "      <td>11</td>\n",
       "      <td>10688.38</td>\n",
       "    </tr>\n",
       "    <tr>\n",
       "      <th>11</th>\n",
       "      <td>2106</td>\n",
       "      <td>12</td>\n",
       "      <td>9665.47</td>\n",
       "    </tr>\n",
       "    <tr>\n",
       "      <th>12</th>\n",
       "      <td>2113</td>\n",
       "      <td>1</td>\n",
       "      <td>813.68</td>\n",
       "    </tr>\n",
       "    <tr>\n",
       "      <th>13</th>\n",
       "      <td>2113</td>\n",
       "      <td>2</td>\n",
       "      <td>713.59</td>\n",
       "    </tr>\n",
       "    <tr>\n",
       "      <th>14</th>\n",
       "      <td>2113</td>\n",
       "      <td>3</td>\n",
       "      <td>1305.98</td>\n",
       "    </tr>\n",
       "  </tbody>\n",
       "</table>\n",
       "</div>"
      ],
      "text/plain": [
       "    store_number month  sale_dollars\n",
       "0           2106     1      13567.80\n",
       "1           2106     2      12873.14\n",
       "2           2106     3      12846.35\n",
       "3           2106     4      11957.86\n",
       "4           2106     5       7526.88\n",
       "5           2106     6      11688.72\n",
       "6           2106     7      15764.34\n",
       "7           2106     8      12329.82\n",
       "8           2106     9      10230.61\n",
       "9           2106    10      16899.33\n",
       "10          2106    11      10688.38\n",
       "11          2106    12       9665.47\n",
       "12          2113     1        813.68\n",
       "13          2113     2        713.59\n",
       "14          2113     3       1305.98"
      ]
     },
     "execution_count": 73,
     "metadata": {},
     "output_type": "execute_result"
    }
   ],
   "source": [
    "stores_ests_2015 = stores_ests.reset_index(drop=True)\n",
    "stores_ests_2015.head(15)"
   ]
  },
  {
   "cell_type": "markdown",
   "metadata": {},
   "source": [
    "<img src=\"http://imgur.com/l5NasQj.png\" style=\"float: left; margin: 25px 15px 0px 0px; height: 25px\">\n",
    "\n",
    "## 10. Examine liquor profits\n",
    "\n",
    "---\n",
    "\n",
    "You are a data scientist in residence at the Iowa State tax board. The Iowa State legislature is considering changes in the liquor tax rates and has assigned you to the project.\n",
    "\n",
    "### 10.1 Calculate yearly liquor sales for each store in 2015."
   ]
  },
  {
   "cell_type": "code",
   "execution_count": 74,
   "metadata": {
    "collapsed": false
   },
   "outputs": [
    {
     "data": {
      "text/html": [
       "<div>\n",
       "<table border=\"1\" class=\"dataframe\">\n",
       "  <thead>\n",
       "    <tr style=\"text-align: right;\">\n",
       "      <th></th>\n",
       "      <th>store_number</th>\n",
       "      <th>sale_dollars</th>\n",
       "    </tr>\n",
       "  </thead>\n",
       "  <tbody>\n",
       "    <tr>\n",
       "      <th>0</th>\n",
       "      <td>2106</td>\n",
       "      <td>146038.70</td>\n",
       "    </tr>\n",
       "    <tr>\n",
       "      <th>1</th>\n",
       "      <td>2113</td>\n",
       "      <td>9310.22</td>\n",
       "    </tr>\n",
       "    <tr>\n",
       "      <th>2</th>\n",
       "      <td>2130</td>\n",
       "      <td>111583.91</td>\n",
       "    </tr>\n",
       "    <tr>\n",
       "      <th>3</th>\n",
       "      <td>2152</td>\n",
       "      <td>7721.08</td>\n",
       "    </tr>\n",
       "    <tr>\n",
       "      <th>4</th>\n",
       "      <td>2178</td>\n",
       "      <td>24324.18</td>\n",
       "    </tr>\n",
       "    <tr>\n",
       "      <th>5</th>\n",
       "      <td>2190</td>\n",
       "      <td>121689.06</td>\n",
       "    </tr>\n",
       "    <tr>\n",
       "      <th>6</th>\n",
       "      <td>2191</td>\n",
       "      <td>125093.49</td>\n",
       "    </tr>\n",
       "    <tr>\n",
       "      <th>7</th>\n",
       "      <td>2200</td>\n",
       "      <td>22811.55</td>\n",
       "    </tr>\n",
       "    <tr>\n",
       "      <th>8</th>\n",
       "      <td>2205</td>\n",
       "      <td>24623.01</td>\n",
       "    </tr>\n",
       "    <tr>\n",
       "      <th>9</th>\n",
       "      <td>2228</td>\n",
       "      <td>17462.07</td>\n",
       "    </tr>\n",
       "  </tbody>\n",
       "</table>\n",
       "</div>"
      ],
      "text/plain": [
       "   store_number  sale_dollars\n",
       "0          2106     146038.70\n",
       "1          2113       9310.22\n",
       "2          2130     111583.91\n",
       "3          2152       7721.08\n",
       "4          2178      24324.18\n",
       "5          2190     121689.06\n",
       "6          2191     125093.49\n",
       "7          2200      22811.55\n",
       "8          2205      24623.01\n",
       "9          2228      17462.07"
      ]
     },
     "execution_count": 74,
     "metadata": {},
     "output_type": "execute_result"
    }
   ],
   "source": [
    "# I'm going to use my subset and estimated version from above.\n",
    "yearly_sales_perstore = stores_ests_2015.groupby('store_number').sale_dollars.agg(np.sum).reset_index()\n",
    "yearly_sales_perstore.head(10)"
   ]
  },
  {
   "cell_type": "markdown",
   "metadata": {},
   "source": [
    "### 10.2 Calculate the profit each store is making in 2015.\n"
   ]
  },
  {
   "cell_type": "code",
   "execution_count": 75,
   "metadata": {
    "collapsed": false
   },
   "outputs": [
    {
     "data": {
      "text/plain": [
       "(196497, 21)"
      ]
     },
     "execution_count": 75,
     "metadata": {},
     "output_type": "execute_result"
    }
   ],
   "source": [
    "# Now i'm going to switch over to a version of the dataset that is only the stores that had \n",
    "# data from all 12 months in 2015.\n",
    "# I don't want to make estimates for missing months about multiple different columns for the\n",
    "# remainder of this - the answers will be exact for the stores that did have sales in every month.\n",
    "#\n",
    "# You of course are more than welcome to use any data you imputed for these questions.\n",
    "stores_12mo = months_per_store[months_per_store == 12].index.values\n",
    "full_stores = iowa2015[iowa2015.store_number.isin(stores_12mo)]\n",
    "full_stores.shape"
   ]
  },
  {
   "cell_type": "code",
   "execution_count": 76,
   "metadata": {
    "collapsed": false
   },
   "outputs": [
    {
     "name": "stderr",
     "output_type": "stream",
     "text": [
      "/anaconda/lib/python2.7/site-packages/ipykernel/__main__.py:2: SettingWithCopyWarning: \n",
      "A value is trying to be set on a copy of a slice from a DataFrame.\n",
      "Try using .loc[row_indexer,col_indexer] = value instead\n",
      "\n",
      "See the caveats in the documentation: http://pandas.pydata.org/pandas-docs/stable/indexing.html#indexing-view-versus-copy\n",
      "  from ipykernel import kernelapp as app\n"
     ]
    },
    {
     "data": {
      "text/html": [
       "<div>\n",
       "<table border=\"1\" class=\"dataframe\">\n",
       "  <thead>\n",
       "    <tr style=\"text-align: right;\">\n",
       "      <th></th>\n",
       "      <th>date</th>\n",
       "      <th>store_number</th>\n",
       "      <th>city</th>\n",
       "      <th>zip_code</th>\n",
       "      <th>county_number</th>\n",
       "      <th>county</th>\n",
       "      <th>category</th>\n",
       "      <th>category_name</th>\n",
       "      <th>vendor_number</th>\n",
       "      <th>item_number</th>\n",
       "      <th>...</th>\n",
       "      <th>state_bottle_cost</th>\n",
       "      <th>state_bottle_retail</th>\n",
       "      <th>bottles_sold</th>\n",
       "      <th>sale_dollars</th>\n",
       "      <th>volume_sold_liters</th>\n",
       "      <th>volume_sold_gallons</th>\n",
       "      <th>year</th>\n",
       "      <th>month</th>\n",
       "      <th>day</th>\n",
       "      <th>profit</th>\n",
       "    </tr>\n",
       "  </thead>\n",
       "  <tbody>\n",
       "    <tr>\n",
       "      <th>0</th>\n",
       "      <td>11/04/2015</td>\n",
       "      <td>3717</td>\n",
       "      <td>sumner</td>\n",
       "      <td>50674.0</td>\n",
       "      <td>9.0</td>\n",
       "      <td>Bremer</td>\n",
       "      <td>1051100.0</td>\n",
       "      <td>APRICOT BRANDIES</td>\n",
       "      <td>55</td>\n",
       "      <td>54436</td>\n",
       "      <td>...</td>\n",
       "      <td>4.50</td>\n",
       "      <td>6.75</td>\n",
       "      <td>12</td>\n",
       "      <td>81.00</td>\n",
       "      <td>9.00</td>\n",
       "      <td>2.38</td>\n",
       "      <td>2015</td>\n",
       "      <td>11</td>\n",
       "      <td>4</td>\n",
       "      <td>27.00</td>\n",
       "    </tr>\n",
       "    <tr>\n",
       "      <th>4</th>\n",
       "      <td>08/18/2015</td>\n",
       "      <td>3654</td>\n",
       "      <td>belmond</td>\n",
       "      <td>50421.0</td>\n",
       "      <td>99.0</td>\n",
       "      <td>Wright</td>\n",
       "      <td>1031080.0</td>\n",
       "      <td>VODKA 80 PROOF</td>\n",
       "      <td>297</td>\n",
       "      <td>35918</td>\n",
       "      <td>...</td>\n",
       "      <td>7.20</td>\n",
       "      <td>10.80</td>\n",
       "      <td>12</td>\n",
       "      <td>129.60</td>\n",
       "      <td>21.00</td>\n",
       "      <td>5.55</td>\n",
       "      <td>2015</td>\n",
       "      <td>8</td>\n",
       "      <td>18</td>\n",
       "      <td>43.20</td>\n",
       "    </tr>\n",
       "    <tr>\n",
       "      <th>5</th>\n",
       "      <td>04/20/2015</td>\n",
       "      <td>2569</td>\n",
       "      <td>cedar rapids</td>\n",
       "      <td>52402.0</td>\n",
       "      <td>57.0</td>\n",
       "      <td>Linn</td>\n",
       "      <td>1041100.0</td>\n",
       "      <td>AMERICAN DRY GINS</td>\n",
       "      <td>205</td>\n",
       "      <td>31473</td>\n",
       "      <td>...</td>\n",
       "      <td>13.32</td>\n",
       "      <td>19.98</td>\n",
       "      <td>6</td>\n",
       "      <td>119.88</td>\n",
       "      <td>10.50</td>\n",
       "      <td>2.77</td>\n",
       "      <td>2015</td>\n",
       "      <td>4</td>\n",
       "      <td>20</td>\n",
       "      <td>39.96</td>\n",
       "    </tr>\n",
       "    <tr>\n",
       "      <th>6</th>\n",
       "      <td>08/05/2015</td>\n",
       "      <td>2596</td>\n",
       "      <td>ottumwa</td>\n",
       "      <td>52501.0</td>\n",
       "      <td>90.0</td>\n",
       "      <td>Wapello</td>\n",
       "      <td>1051010.0</td>\n",
       "      <td>AMERICAN GRAPE BRANDIES</td>\n",
       "      <td>85</td>\n",
       "      <td>52806</td>\n",
       "      <td>...</td>\n",
       "      <td>6.66</td>\n",
       "      <td>9.99</td>\n",
       "      <td>3</td>\n",
       "      <td>29.97</td>\n",
       "      <td>2.25</td>\n",
       "      <td>0.59</td>\n",
       "      <td>2015</td>\n",
       "      <td>8</td>\n",
       "      <td>5</td>\n",
       "      <td>9.99</td>\n",
       "    </tr>\n",
       "    <tr>\n",
       "      <th>7</th>\n",
       "      <td>06/25/2015</td>\n",
       "      <td>3456</td>\n",
       "      <td>clear lake</td>\n",
       "      <td>50428.0</td>\n",
       "      <td>17.0</td>\n",
       "      <td>Cerro Gordo</td>\n",
       "      <td>1012100.0</td>\n",
       "      <td>CANADIAN WHISKIES</td>\n",
       "      <td>65</td>\n",
       "      <td>10628</td>\n",
       "      <td>...</td>\n",
       "      <td>15.75</td>\n",
       "      <td>23.63</td>\n",
       "      <td>2</td>\n",
       "      <td>47.26</td>\n",
       "      <td>3.50</td>\n",
       "      <td>0.92</td>\n",
       "      <td>2015</td>\n",
       "      <td>6</td>\n",
       "      <td>25</td>\n",
       "      <td>15.76</td>\n",
       "    </tr>\n",
       "  </tbody>\n",
       "</table>\n",
       "<p>5 rows × 22 columns</p>\n",
       "</div>"
      ],
      "text/plain": [
       "         date  store_number          city  zip_code  county_number  \\\n",
       "0  11/04/2015          3717        sumner   50674.0            9.0   \n",
       "4  08/18/2015          3654       belmond   50421.0           99.0   \n",
       "5  04/20/2015          2569  cedar rapids   52402.0           57.0   \n",
       "6  08/05/2015          2596       ottumwa   52501.0           90.0   \n",
       "7  06/25/2015          3456    clear lake   50428.0           17.0   \n",
       "\n",
       "        county   category            category_name  vendor_number  \\\n",
       "0       Bremer  1051100.0         APRICOT BRANDIES             55   \n",
       "4       Wright  1031080.0           VODKA 80 PROOF            297   \n",
       "5         Linn  1041100.0        AMERICAN DRY GINS            205   \n",
       "6      Wapello  1051010.0  AMERICAN GRAPE BRANDIES             85   \n",
       "7  Cerro Gordo  1012100.0        CANADIAN WHISKIES             65   \n",
       "\n",
       "   item_number   ...   state_bottle_cost  state_bottle_retail  bottles_sold  \\\n",
       "0        54436   ...                4.50                 6.75            12   \n",
       "4        35918   ...                7.20                10.80            12   \n",
       "5        31473   ...               13.32                19.98             6   \n",
       "6        52806   ...                6.66                 9.99             3   \n",
       "7        10628   ...               15.75                23.63             2   \n",
       "\n",
       "   sale_dollars  volume_sold_liters  volume_sold_gallons  year  month  day  \\\n",
       "0         81.00                9.00                 2.38  2015     11    4   \n",
       "4        129.60               21.00                 5.55  2015      8   18   \n",
       "5        119.88               10.50                 2.77  2015      4   20   \n",
       "6         29.97                2.25                 0.59  2015      8    5   \n",
       "7         47.26                3.50                 0.92  2015      6   25   \n",
       "\n",
       "   profit  \n",
       "0   27.00  \n",
       "4   43.20  \n",
       "5   39.96  \n",
       "6    9.99  \n",
       "7   15.76  \n",
       "\n",
       "[5 rows x 22 columns]"
      ]
     },
     "execution_count": 76,
     "metadata": {},
     "output_type": "execute_result"
    }
   ],
   "source": [
    "# profit is going to be the retail minus the cost of the bottles.\n",
    "full_stores['profit'] = (full_stores.state_bottle_retail - full_stores.state_bottle_cost)*full_stores.bottles_sold\n",
    "full_stores.head()"
   ]
  },
  {
   "cell_type": "code",
   "execution_count": 77,
   "metadata": {
    "collapsed": false
   },
   "outputs": [
    {
     "data": {
      "text/html": [
       "<div>\n",
       "<table border=\"1\" class=\"dataframe\">\n",
       "  <thead>\n",
       "    <tr style=\"text-align: right;\">\n",
       "      <th></th>\n",
       "      <th>store_number</th>\n",
       "      <th>profit</th>\n",
       "    </tr>\n",
       "  </thead>\n",
       "  <tbody>\n",
       "    <tr>\n",
       "      <th>0</th>\n",
       "      <td>2106</td>\n",
       "      <td>48742.20</td>\n",
       "    </tr>\n",
       "    <tr>\n",
       "      <th>1</th>\n",
       "      <td>2113</td>\n",
       "      <td>3109.04</td>\n",
       "    </tr>\n",
       "    <tr>\n",
       "      <th>2</th>\n",
       "      <td>2130</td>\n",
       "      <td>37229.32</td>\n",
       "    </tr>\n",
       "    <tr>\n",
       "      <th>3</th>\n",
       "      <td>2152</td>\n",
       "      <td>2587.53</td>\n",
       "    </tr>\n",
       "    <tr>\n",
       "      <th>4</th>\n",
       "      <td>2178</td>\n",
       "      <td>8165.70</td>\n",
       "    </tr>\n",
       "  </tbody>\n",
       "</table>\n",
       "</div>"
      ],
      "text/plain": [
       "   store_number    profit\n",
       "0          2106  48742.20\n",
       "1          2113   3109.04\n",
       "2          2130  37229.32\n",
       "3          2152   2587.53\n",
       "4          2178   8165.70"
      ]
     },
     "execution_count": 77,
     "metadata": {},
     "output_type": "execute_result"
    }
   ],
   "source": [
    "profit_per_store = full_stores.groupby('store_number').profit.agg(np.sum).reset_index()\n",
    "profit_per_store.head()"
   ]
  },
  {
   "cell_type": "markdown",
   "metadata": {},
   "source": [
    "### 10.3 Investigate which Iowa counties are making the most profit on liquor per gallon in 2015."
   ]
  },
  {
   "cell_type": "code",
   "execution_count": 78,
   "metadata": {
    "collapsed": false
   },
   "outputs": [
    {
     "data": {
      "text/html": [
       "<div>\n",
       "<table border=\"1\" class=\"dataframe\">\n",
       "  <thead>\n",
       "    <tr style=\"text-align: right;\">\n",
       "      <th></th>\n",
       "      <th>county</th>\n",
       "      <th>profit</th>\n",
       "      <th>volume_sold_gallons</th>\n",
       "    </tr>\n",
       "  </thead>\n",
       "  <tbody>\n",
       "    <tr>\n",
       "      <th>0</th>\n",
       "      <td>Adair</td>\n",
       "      <td>11720.71</td>\n",
       "      <td>770.24</td>\n",
       "    </tr>\n",
       "    <tr>\n",
       "      <th>1</th>\n",
       "      <td>Adams</td>\n",
       "      <td>3417.67</td>\n",
       "      <td>216.98</td>\n",
       "    </tr>\n",
       "    <tr>\n",
       "      <th>2</th>\n",
       "      <td>Allamakee</td>\n",
       "      <td>24715.33</td>\n",
       "      <td>1530.57</td>\n",
       "    </tr>\n",
       "    <tr>\n",
       "      <th>3</th>\n",
       "      <td>Appanoose</td>\n",
       "      <td>25739.30</td>\n",
       "      <td>1669.39</td>\n",
       "    </tr>\n",
       "    <tr>\n",
       "      <th>4</th>\n",
       "      <td>Benton</td>\n",
       "      <td>21026.69</td>\n",
       "      <td>1402.66</td>\n",
       "    </tr>\n",
       "  </tbody>\n",
       "</table>\n",
       "</div>"
      ],
      "text/plain": [
       "      county    profit  volume_sold_gallons\n",
       "0      Adair  11720.71               770.24\n",
       "1      Adams   3417.67               216.98\n",
       "2  Allamakee  24715.33              1530.57\n",
       "3  Appanoose  25739.30              1669.39\n",
       "4     Benton  21026.69              1402.66"
      ]
     },
     "execution_count": 78,
     "metadata": {},
     "output_type": "execute_result"
    }
   ],
   "source": [
    "per_county_stats = full_stores.groupby('county')[['profit','volume_sold_gallons']].agg(np.sum).reset_index()\n",
    "per_county_stats.head()\n"
   ]
  },
  {
   "cell_type": "code",
   "execution_count": 79,
   "metadata": {
    "collapsed": false
   },
   "outputs": [
    {
     "data": {
      "text/html": [
       "<div>\n",
       "<table border=\"1\" class=\"dataframe\">\n",
       "  <thead>\n",
       "    <tr style=\"text-align: right;\">\n",
       "      <th></th>\n",
       "      <th>county</th>\n",
       "      <th>profit</th>\n",
       "      <th>volume_sold_gallons</th>\n",
       "      <th>profit_per_gallon</th>\n",
       "    </tr>\n",
       "  </thead>\n",
       "  <tbody>\n",
       "    <tr>\n",
       "      <th>23</th>\n",
       "      <td>Dallas</td>\n",
       "      <td>156792.40</td>\n",
       "      <td>7267.75</td>\n",
       "      <td>21.573720</td>\n",
       "    </tr>\n",
       "    <tr>\n",
       "      <th>49</th>\n",
       "      <td>Johnson</td>\n",
       "      <td>531104.32</td>\n",
       "      <td>26056.45</td>\n",
       "      <td>20.382835</td>\n",
       "    </tr>\n",
       "    <tr>\n",
       "      <th>74</th>\n",
       "      <td>Polk</td>\n",
       "      <td>1897546.11</td>\n",
       "      <td>96200.22</td>\n",
       "      <td>19.724966</td>\n",
       "    </tr>\n",
       "    <tr>\n",
       "      <th>48</th>\n",
       "      <td>Jefferson</td>\n",
       "      <td>25381.56</td>\n",
       "      <td>1296.66</td>\n",
       "      <td>19.574569</td>\n",
       "    </tr>\n",
       "    <tr>\n",
       "      <th>79</th>\n",
       "      <td>Scott</td>\n",
       "      <td>662922.08</td>\n",
       "      <td>34169.07</td>\n",
       "      <td>19.401233</td>\n",
       "    </tr>\n",
       "    <tr>\n",
       "      <th>27</th>\n",
       "      <td>Des Moines</td>\n",
       "      <td>121517.91</td>\n",
       "      <td>6434.58</td>\n",
       "      <td>18.885135</td>\n",
       "    </tr>\n",
       "    <tr>\n",
       "      <th>89</th>\n",
       "      <td>Washington</td>\n",
       "      <td>46481.82</td>\n",
       "      <td>2476.59</td>\n",
       "      <td>18.768476</td>\n",
       "    </tr>\n",
       "    <tr>\n",
       "      <th>94</th>\n",
       "      <td>Woodbury</td>\n",
       "      <td>312986.09</td>\n",
       "      <td>16764.29</td>\n",
       "      <td>18.669809</td>\n",
       "    </tr>\n",
       "    <tr>\n",
       "      <th>9</th>\n",
       "      <td>Buena Vista</td>\n",
       "      <td>55724.08</td>\n",
       "      <td>2994.90</td>\n",
       "      <td>18.606324</td>\n",
       "    </tr>\n",
       "    <tr>\n",
       "      <th>75</th>\n",
       "      <td>Pottawattamie</td>\n",
       "      <td>308066.03</td>\n",
       "      <td>16620.43</td>\n",
       "      <td>18.535383</td>\n",
       "    </tr>\n",
       "    <tr>\n",
       "      <th>61</th>\n",
       "      <td>Marshall</td>\n",
       "      <td>83839.07</td>\n",
       "      <td>4539.25</td>\n",
       "      <td>18.469807</td>\n",
       "    </tr>\n",
       "    <tr>\n",
       "      <th>82</th>\n",
       "      <td>Story</td>\n",
       "      <td>277977.13</td>\n",
       "      <td>15125.44</td>\n",
       "      <td>18.378119</td>\n",
       "    </tr>\n",
       "    <tr>\n",
       "      <th>53</th>\n",
       "      <td>Lee</td>\n",
       "      <td>124119.26</td>\n",
       "      <td>6769.08</td>\n",
       "      <td>18.336208</td>\n",
       "    </tr>\n",
       "    <tr>\n",
       "      <th>5</th>\n",
       "      <td>Black Hawk</td>\n",
       "      <td>499810.35</td>\n",
       "      <td>27260.78</td>\n",
       "      <td>18.334411</td>\n",
       "    </tr>\n",
       "    <tr>\n",
       "      <th>87</th>\n",
       "      <td>Wapello</td>\n",
       "      <td>86155.45</td>\n",
       "      <td>4763.22</td>\n",
       "      <td>18.087649</td>\n",
       "    </tr>\n",
       "    <tr>\n",
       "      <th>34</th>\n",
       "      <td>Greene</td>\n",
       "      <td>6089.56</td>\n",
       "      <td>338.63</td>\n",
       "      <td>17.982931</td>\n",
       "    </tr>\n",
       "    <tr>\n",
       "      <th>54</th>\n",
       "      <td>Linn</td>\n",
       "      <td>744709.32</td>\n",
       "      <td>41547.33</td>\n",
       "      <td>17.924360</td>\n",
       "    </tr>\n",
       "    <tr>\n",
       "      <th>85</th>\n",
       "      <td>Union</td>\n",
       "      <td>27760.99</td>\n",
       "      <td>1557.85</td>\n",
       "      <td>17.820066</td>\n",
       "    </tr>\n",
       "    <tr>\n",
       "      <th>18</th>\n",
       "      <td>Clarke</td>\n",
       "      <td>21015.95</td>\n",
       "      <td>1185.83</td>\n",
       "      <td>17.722566</td>\n",
       "    </tr>\n",
       "    <tr>\n",
       "      <th>76</th>\n",
       "      <td>Poweshiek</td>\n",
       "      <td>41466.68</td>\n",
       "      <td>2343.50</td>\n",
       "      <td>17.694338</td>\n",
       "    </tr>\n",
       "  </tbody>\n",
       "</table>\n",
       "</div>"
      ],
      "text/plain": [
       "           county      profit  volume_sold_gallons  profit_per_gallon\n",
       "23         Dallas   156792.40              7267.75          21.573720\n",
       "49        Johnson   531104.32             26056.45          20.382835\n",
       "74           Polk  1897546.11             96200.22          19.724966\n",
       "48      Jefferson    25381.56              1296.66          19.574569\n",
       "79          Scott   662922.08             34169.07          19.401233\n",
       "27     Des Moines   121517.91              6434.58          18.885135\n",
       "89     Washington    46481.82              2476.59          18.768476\n",
       "94       Woodbury   312986.09             16764.29          18.669809\n",
       "9     Buena Vista    55724.08              2994.90          18.606324\n",
       "75  Pottawattamie   308066.03             16620.43          18.535383\n",
       "61       Marshall    83839.07              4539.25          18.469807\n",
       "82          Story   277977.13             15125.44          18.378119\n",
       "53            Lee   124119.26              6769.08          18.336208\n",
       "5      Black Hawk   499810.35             27260.78          18.334411\n",
       "87        Wapello    86155.45              4763.22          18.087649\n",
       "34         Greene     6089.56               338.63          17.982931\n",
       "54           Linn   744709.32             41547.33          17.924360\n",
       "85          Union    27760.99              1557.85          17.820066\n",
       "18         Clarke    21015.95              1185.83          17.722566\n",
       "76      Poweshiek    41466.68              2343.50          17.694338"
      ]
     },
     "execution_count": 79,
     "metadata": {},
     "output_type": "execute_result"
    }
   ],
   "source": [
    "per_county_stats['profit_per_gallon'] = per_county_stats.profit/per_county_stats.volume_sold_gallons\n",
    "per_county_stats.sort_values('profit_per_gallon', ascending=False, inplace=True)\n",
    "per_county_stats.head(20)"
   ]
  },
  {
   "cell_type": "markdown",
   "metadata": {},
   "source": [
    "### 10.4 Create a broader category for liquor type.\n",
    "\n",
    "Liquor types are pretty granular in this dataset. Create a column that categorizes these types into a smaller amount of categories. The categories you decide on are up to you."
   ]
  },
  {
   "cell_type": "code",
   "execution_count": 80,
   "metadata": {
    "collapsed": false
   },
   "outputs": [
    {
     "name": "stdout",
     "output_type": "stream",
     "text": [
      "['APRICOT BRANDIES' 'VODKA 80 PROOF' 'AMERICAN DRY GINS'\n",
      " 'AMERICAN GRAPE BRANDIES' 'CANADIAN WHISKIES' 'CINNAMON SCHNAPPS'\n",
      " 'SINGLE BARREL BOURBON WHISKIES' 'AMERICAN COCKTAILS' 'VODKA FLAVORED'\n",
      " 'DISTILLED SPIRITS SPECIALTY' 'BLENDED WHISKIES' 'TEQUILA'\n",
      " 'TENNESSEE WHISKIES' 'WHISKEY LIQUEUR'\n",
      " 'MISC. AMERICAN CORDIALS & LIQUEURS' 'APPLE SCHNAPPS' 'CHERRY BRANDIES'\n",
      " 'MISC. IMPORTED CORDIALS & LIQUEURS' 'WATERMELON SCHNAPPS'\n",
      " 'BLACKBERRY BRANDIES' 'SINGLE MALT SCOTCH' 'SPICED RUM' 'IMPORTED VODKA'\n",
      " 'CREAM LIQUEURS' 'SCOTCH WHISKIES' '100 PROOF VODKA'\n",
      " 'STRAIGHT BOURBON WHISKIES' 'IMPORTED VODKA - MISC' 'IRISH WHISKIES'\n",
      " 'IMPORTED DRY GINS' 'SPEARMINT SCHNAPPS'\n",
      " 'PUERTO RICO & VIRGIN ISLANDS RUM' 'TRIPLE SEC' 'AMERICAN AMARETTO'\n",
      " 'IMPORTED SCHNAPPS' 'MISCELLANEOUS  BRANDIES' 'STRAWBERRY SCHNAPPS'\n",
      " 'FLAVORED RUM' 'JAMAICA RUM' 'BARBADOS RUM' 'IMPORTED GRAPE BRANDIES'\n",
      " 'AMERICAN ALCOHOL' 'COFFEE LIQUEURS' 'ROOT BEER SCHNAPPS'\n",
      " 'DECANTERS & SPECIALTY PACKAGES' 'PEPPERMINT SCHNAPPS' 'PEACH SCHNAPPS'\n",
      " 'STRAIGHT RYE WHISKIES' 'GRAPE SCHNAPPS' 'OTHER PROOF VODKA'\n",
      " 'IMPORTED AMARETTO' 'BUTTERSCOTCH SCHNAPPS' 'CREME DE ALMOND' 'ROCK & RYE'\n",
      " 'MISCELLANEOUS SCHNAPPS' 'WHITE CREME DE MENTHE' 'WHITE CREME DE CACAO'\n",
      " 'TROPICAL FRUIT SCHNAPPS' 'RASPBERRY SCHNAPPS' 'PEACH BRANDIES'\n",
      " 'LOW PROOF VODKA' 'AMERICAN SLOE GINS' 'DARK CREME DE CACAO'\n",
      " 'GREEN CREME DE MENTHE' 'FLAVORED GINS' 'BOTTLED IN BOND BOURBON'\n",
      " 'CORN WHISKIES' 'ANISETTE' 'HIGH PROOF BEER - AMERICAN'\n",
      " 'AMARETTO - IMPORTED']\n"
     ]
    }
   ],
   "source": [
    "print full_stores.category_name.unique()"
   ]
  },
  {
   "cell_type": "code",
   "execution_count": 81,
   "metadata": {
    "collapsed": false
   },
   "outputs": [
    {
     "name": "stderr",
     "output_type": "stream",
     "text": [
      "/anaconda/lib/python2.7/site-packages/ipykernel/__main__.py:30: SettingWithCopyWarning: \n",
      "A value is trying to be set on a copy of a slice from a DataFrame.\n",
      "Try using .loc[row_indexer,col_indexer] = value instead\n",
      "\n",
      "See the caveats in the documentation: http://pandas.pydata.org/pandas-docs/stable/indexing.html#indexing-view-versus-copy\n"
     ]
    }
   ],
   "source": [
    "def make_broad_category(x):\n",
    "    x = x.lower()\n",
    "    if 'liqueur' in x:\n",
    "        return 'liqueur'\n",
    "    elif 'whisk' in x or 'scotch' in x:\n",
    "        return 'whiskey'\n",
    "    elif 'vodka' in x:\n",
    "        return 'vodka'\n",
    "    elif 'gin' in x:\n",
    "        return 'gin'\n",
    "    elif 'tequila' in x:\n",
    "        return 'tequila'\n",
    "    elif 'schnapps' in x:\n",
    "        return 'schnapps'\n",
    "    elif 'rum' in x:\n",
    "        return 'rum'\n",
    "    elif 'brandies' in x:\n",
    "        return 'brandy'\n",
    "    elif 'creme' in x:\n",
    "        return 'creme'\n",
    "    elif 'beer' in x:\n",
    "        return 'beer'\n",
    "    elif 'amaretto' in x:\n",
    "        return 'amaretto'\n",
    "    elif 'anisette' in x:\n",
    "        return 'anisette'\n",
    "    else:\n",
    "        return 'misc'\n",
    "    \n",
    "full_stores['broad_category'] = full_stores.category_name.map(make_broad_category)\n"
   ]
  },
  {
   "cell_type": "markdown",
   "metadata": {},
   "source": [
    "### 10.5 Do relationships exist between the broader liquor type and profit?"
   ]
  },
  {
   "cell_type": "code",
   "execution_count": 83,
   "metadata": {
    "collapsed": false
   },
   "outputs": [
    {
     "name": "stderr",
     "output_type": "stream",
     "text": [
      "/anaconda/lib/python2.7/site-packages/ipykernel/__main__.py:1: SettingWithCopyWarning: \n",
      "A value is trying to be set on a copy of a slice from a DataFrame.\n",
      "Try using .loc[row_indexer,col_indexer] = value instead\n",
      "\n",
      "See the caveats in the documentation: http://pandas.pydata.org/pandas-docs/stable/indexing.html#indexing-view-versus-copy\n",
      "  if __name__ == '__main__':\n"
     ]
    }
   ],
   "source": [
    "full_stores['profit_per_gallon'] = full_stores.profit/full_stores.volume_sold_gallons\n",
    "type_profit_per_gallon = full_stores.groupby('broad_category').profit_per_gallon.agg(np.mean).reset_index()"
   ]
  },
  {
   "cell_type": "code",
   "execution_count": 84,
   "metadata": {
    "collapsed": false
   },
   "outputs": [
    {
     "data": {
      "text/html": [
       "<div>\n",
       "<table border=\"1\" class=\"dataframe\">\n",
       "  <thead>\n",
       "    <tr style=\"text-align: right;\">\n",
       "      <th></th>\n",
       "      <th>broad_category</th>\n",
       "      <th>profit_per_gallon</th>\n",
       "    </tr>\n",
       "  </thead>\n",
       "  <tbody>\n",
       "    <tr>\n",
       "      <th>2</th>\n",
       "      <td>beer</td>\n",
       "      <td>237.950000</td>\n",
       "    </tr>\n",
       "    <tr>\n",
       "      <th>10</th>\n",
       "      <td>tequila</td>\n",
       "      <td>37.652977</td>\n",
       "    </tr>\n",
       "    <tr>\n",
       "      <th>12</th>\n",
       "      <td>whiskey</td>\n",
       "      <td>26.989839</td>\n",
       "    </tr>\n",
       "    <tr>\n",
       "      <th>6</th>\n",
       "      <td>liqueur</td>\n",
       "      <td>26.974753</td>\n",
       "    </tr>\n",
       "    <tr>\n",
       "      <th>3</th>\n",
       "      <td>brandy</td>\n",
       "      <td>26.971325</td>\n",
       "    </tr>\n",
       "    <tr>\n",
       "      <th>8</th>\n",
       "      <td>rum</td>\n",
       "      <td>19.943924</td>\n",
       "    </tr>\n",
       "    <tr>\n",
       "      <th>11</th>\n",
       "      <td>vodka</td>\n",
       "      <td>18.255471</td>\n",
       "    </tr>\n",
       "    <tr>\n",
       "      <th>9</th>\n",
       "      <td>schnapps</td>\n",
       "      <td>17.745907</td>\n",
       "    </tr>\n",
       "    <tr>\n",
       "      <th>5</th>\n",
       "      <td>gin</td>\n",
       "      <td>16.925803</td>\n",
       "    </tr>\n",
       "    <tr>\n",
       "      <th>7</th>\n",
       "      <td>misc</td>\n",
       "      <td>15.212581</td>\n",
       "    </tr>\n",
       "    <tr>\n",
       "      <th>0</th>\n",
       "      <td>amaretto</td>\n",
       "      <td>14.225101</td>\n",
       "    </tr>\n",
       "    <tr>\n",
       "      <th>1</th>\n",
       "      <td>anisette</td>\n",
       "      <td>12.004535</td>\n",
       "    </tr>\n",
       "    <tr>\n",
       "      <th>4</th>\n",
       "      <td>creme</td>\n",
       "      <td>11.829982</td>\n",
       "    </tr>\n",
       "  </tbody>\n",
       "</table>\n",
       "</div>"
      ],
      "text/plain": [
       "   broad_category  profit_per_gallon\n",
       "2            beer         237.950000\n",
       "10        tequila          37.652977\n",
       "12        whiskey          26.989839\n",
       "6         liqueur          26.974753\n",
       "3          brandy          26.971325\n",
       "8             rum          19.943924\n",
       "11          vodka          18.255471\n",
       "9        schnapps          17.745907\n",
       "5             gin          16.925803\n",
       "7            misc          15.212581\n",
       "0        amaretto          14.225101\n",
       "1        anisette          12.004535\n",
       "4           creme          11.829982"
      ]
     },
     "execution_count": 84,
     "metadata": {},
     "output_type": "execute_result"
    }
   ],
   "source": [
    "type_profit_per_gallon.sort_values('profit_per_gallon', ascending=False, inplace=True)\n",
    "type_profit_per_gallon\n",
    "\n",
    "# Weirdly it looks like my \"beer\" category is making a huge amount...."
   ]
  },
  {
   "cell_type": "code",
   "execution_count": 85,
   "metadata": {
    "collapsed": false
   },
   "outputs": [
    {
     "data": {
      "text/plain": [
       "23586     Sam Adams Utopias HA\n",
       "131594    Sam Adams Utopias HA\n",
       "Name: item_description, dtype: object"
      ]
     },
     "execution_count": 85,
     "metadata": {},
     "output_type": "execute_result"
    }
   ],
   "source": [
    "# turns out there are only 2 items that fall into that beer category.\n",
    "full_stores[full_stores.broad_category == 'beer'].item_description"
   ]
  },
  {
   "cell_type": "code",
   "execution_count": 86,
   "metadata": {
    "collapsed": false
   },
   "outputs": [
    {
     "name": "stderr",
     "output_type": "stream",
     "text": [
      "//anaconda/lib/python2.7/site-packages/pandas/core/indexing.py:465: SettingWithCopyWarning: \n",
      "A value is trying to be set on a copy of a slice from a DataFrame.\n",
      "Try using .loc[row_indexer,col_indexer] = value instead\n",
      "\n",
      "See the caveats in the documentation: http://pandas.pydata.org/pandas-docs/stable/indexing.html#indexing-view-versus-copy\n",
      "  self.obj[item] = s\n"
     ]
    },
    {
     "data": {
      "text/html": [
       "<div>\n",
       "<table border=\"1\" class=\"dataframe\">\n",
       "  <thead>\n",
       "    <tr style=\"text-align: right;\">\n",
       "      <th></th>\n",
       "      <th>broad_category</th>\n",
       "      <th>profit_per_gallon</th>\n",
       "    </tr>\n",
       "  </thead>\n",
       "  <tbody>\n",
       "    <tr>\n",
       "      <th>9</th>\n",
       "      <td>tequila</td>\n",
       "      <td>37.652977</td>\n",
       "    </tr>\n",
       "    <tr>\n",
       "      <th>11</th>\n",
       "      <td>whiskey</td>\n",
       "      <td>26.989839</td>\n",
       "    </tr>\n",
       "    <tr>\n",
       "      <th>5</th>\n",
       "      <td>liqueur</td>\n",
       "      <td>26.974753</td>\n",
       "    </tr>\n",
       "    <tr>\n",
       "      <th>2</th>\n",
       "      <td>brandy</td>\n",
       "      <td>26.971325</td>\n",
       "    </tr>\n",
       "    <tr>\n",
       "      <th>7</th>\n",
       "      <td>rum</td>\n",
       "      <td>19.943924</td>\n",
       "    </tr>\n",
       "    <tr>\n",
       "      <th>10</th>\n",
       "      <td>vodka</td>\n",
       "      <td>18.255471</td>\n",
       "    </tr>\n",
       "    <tr>\n",
       "      <th>8</th>\n",
       "      <td>schnapps</td>\n",
       "      <td>17.745907</td>\n",
       "    </tr>\n",
       "    <tr>\n",
       "      <th>4</th>\n",
       "      <td>gin</td>\n",
       "      <td>16.925803</td>\n",
       "    </tr>\n",
       "    <tr>\n",
       "      <th>6</th>\n",
       "      <td>misc</td>\n",
       "      <td>15.262539</td>\n",
       "    </tr>\n",
       "    <tr>\n",
       "      <th>0</th>\n",
       "      <td>amaretto</td>\n",
       "      <td>14.225101</td>\n",
       "    </tr>\n",
       "    <tr>\n",
       "      <th>1</th>\n",
       "      <td>anisette</td>\n",
       "      <td>12.004535</td>\n",
       "    </tr>\n",
       "    <tr>\n",
       "      <th>3</th>\n",
       "      <td>creme</td>\n",
       "      <td>11.829982</td>\n",
       "    </tr>\n",
       "  </tbody>\n",
       "</table>\n",
       "</div>"
      ],
      "text/plain": [
       "   broad_category  profit_per_gallon\n",
       "9         tequila          37.652977\n",
       "11        whiskey          26.989839\n",
       "5         liqueur          26.974753\n",
       "2          brandy          26.971325\n",
       "7             rum          19.943924\n",
       "10          vodka          18.255471\n",
       "8        schnapps          17.745907\n",
       "4             gin          16.925803\n",
       "6            misc          15.262539\n",
       "0        amaretto          14.225101\n",
       "1        anisette          12.004535\n",
       "3           creme          11.829982"
      ]
     },
     "execution_count": 86,
     "metadata": {},
     "output_type": "execute_result"
    }
   ],
   "source": [
    "# rename the beer category to be misc and recalculate the profit by type\n",
    "full_stores.loc[full_stores.broad_category == 'beer', 'broad_category'] = 'misc'\n",
    "\n",
    "type_profit_per_gallon = full_stores.groupby('broad_category').profit_per_gallon.agg(np.mean).reset_index()\n",
    "type_profit_per_gallon.sort_values('profit_per_gallon', ascending=False, inplace=True)\n",
    "type_profit_per_gallon\n"
   ]
  },
  {
   "cell_type": "markdown",
   "metadata": {},
   "source": [
    "<img src=\"http://imgur.com/l5NasQj.png\" style=\"float: left; margin: 25px 15px 0px 0px; height: 25px\">\n",
    "\n",
    "## 11. Proposing a new liquor tax\n",
    "\n",
    "---\n",
    "\n",
    "### The tax board wants to design a tax or taxes that affect larger stores more than smaller \"mom and pop\" stores.\n",
    "\n",
    "Based on your investigations into the data, come up with a way you could design a tax that achieves this goal **without explicitly taxing stores based on size or county critera.** The liqour board does not want to obviously punish larger stores or speific counties for fear of backlash, but is willing to tax hard alcohol more than beer, for example.\n",
    "\n",
    "Feel free to do more EDA if it helps.\n",
    "\n",
    "Your report should describe whether such a tax is possible or not, and the specifics of what the tax will target/do."
   ]
  },
  {
   "cell_type": "code",
   "execution_count": 87,
   "metadata": {
    "collapsed": false
   },
   "outputs": [
    {
     "name": "stdout",
     "output_type": "stream",
     "text": [
      "94.117 2105.243\n"
     ]
    }
   ],
   "source": [
    "# I'm going to create 2 bins of stores: those below the 10th percentile of gallons sold and\n",
    "# those above the 95th percentile of gallons sold:\n",
    "\n",
    "stores_volume = full_stores.groupby('store_number').volume_sold_gallons.agg(np.sum).reset_index()\n",
    "\n",
    "bottom_pctl = np.percentile(stores_volume.volume_sold_gallons, 10)\n",
    "top_pctl = np.percentile(stores_volume.volume_sold_gallons, 95)\n",
    "\n",
    "print bottom_pctl, top_pctl"
   ]
  },
  {
   "cell_type": "code",
   "execution_count": 88,
   "metadata": {
    "collapsed": false
   },
   "outputs": [
    {
     "name": "stdout",
     "output_type": "stream",
     "text": [
      "(4878, 24)\n",
      "(35679, 24)\n"
     ]
    }
   ],
   "source": [
    "small_store_numbers = stores_volume[stores_volume.volume_sold_gallons < bottom_pctl].store_number\n",
    "large_store_numbers = stores_volume[stores_volume.volume_sold_gallons > top_pctl].store_number\n",
    "\n",
    "small_stores = full_stores[full_stores.store_number.isin(small_store_numbers)]\n",
    "large_stores = full_stores[full_stores.store_number.isin(large_store_numbers)]\n",
    "\n",
    "print small_stores.shape\n",
    "print large_stores.shape"
   ]
  },
  {
   "cell_type": "code",
   "execution_count": 89,
   "metadata": {
    "collapsed": false
   },
   "outputs": [
    {
     "data": {
      "text/plain": [
       "Index([u'date', u'store_number', u'city', u'zip_code', u'county_number',\n",
       "       u'county', u'category', u'category_name', u'vendor_number',\n",
       "       u'item_number', u'item_description', u'bottle_volume_ml',\n",
       "       u'state_bottle_cost', u'state_bottle_retail', u'bottles_sold',\n",
       "       u'sale_dollars', u'volume_sold_liters', u'volume_sold_gallons', u'year',\n",
       "       u'month', u'day', u'profit', u'broad_category', u'profit_per_gallon'],\n",
       "      dtype='object')"
      ]
     },
     "execution_count": 89,
     "metadata": {},
     "output_type": "execute_result"
    }
   ],
   "source": [
    "small_stores.columns"
   ]
  },
  {
   "cell_type": "code",
   "execution_count": 90,
   "metadata": {
    "collapsed": false
   },
   "outputs": [
    {
     "data": {
      "text/html": [
       "<div>\n",
       "<table border=\"1\" class=\"dataframe\">\n",
       "  <thead>\n",
       "    <tr style=\"text-align: right;\">\n",
       "      <th></th>\n",
       "      <th>category_name</th>\n",
       "      <th>bottles_sold</th>\n",
       "    </tr>\n",
       "  </thead>\n",
       "  <tbody>\n",
       "    <tr>\n",
       "      <th>0</th>\n",
       "      <td>100 PROOF VODKA</td>\n",
       "      <td>0.016016</td>\n",
       "    </tr>\n",
       "    <tr>\n",
       "      <th>1</th>\n",
       "      <td>AMERICAN ALCOHOL</td>\n",
       "      <td>0.000564</td>\n",
       "    </tr>\n",
       "    <tr>\n",
       "      <th>2</th>\n",
       "      <td>AMERICAN AMARETTO</td>\n",
       "      <td>0.001424</td>\n",
       "    </tr>\n",
       "    <tr>\n",
       "      <th>3</th>\n",
       "      <td>AMERICAN COCKTAILS</td>\n",
       "      <td>0.003737</td>\n",
       "    </tr>\n",
       "    <tr>\n",
       "      <th>4</th>\n",
       "      <td>AMERICAN DRY GINS</td>\n",
       "      <td>0.018745</td>\n",
       "    </tr>\n",
       "  </tbody>\n",
       "</table>\n",
       "</div>"
      ],
      "text/plain": [
       "        category_name  bottles_sold\n",
       "0     100 PROOF VODKA      0.016016\n",
       "1    AMERICAN ALCOHOL      0.000564\n",
       "2   AMERICAN AMARETTO      0.001424\n",
       "3  AMERICAN COCKTAILS      0.003737\n",
       "4   AMERICAN DRY GINS      0.018745"
      ]
     },
     "execution_count": 90,
     "metadata": {},
     "output_type": "execute_result"
    }
   ],
   "source": [
    "# find out what percent of liquor in each category these two types of stores sell\n",
    "small_categories = small_stores.groupby('category_name')['bottles_sold'].agg(sum).reset_index()\n",
    "small_categories.bottles_sold = small_categories.bottles_sold / small_categories.bottles_sold.sum()\n",
    "small_categories.head()"
   ]
  },
  {
   "cell_type": "code",
   "execution_count": 91,
   "metadata": {
    "collapsed": false
   },
   "outputs": [
    {
     "data": {
      "text/html": [
       "<div>\n",
       "<table border=\"1\" class=\"dataframe\">\n",
       "  <thead>\n",
       "    <tr style=\"text-align: right;\">\n",
       "      <th></th>\n",
       "      <th>category_name</th>\n",
       "      <th>bottles_sold</th>\n",
       "    </tr>\n",
       "  </thead>\n",
       "  <tbody>\n",
       "    <tr>\n",
       "      <th>0</th>\n",
       "      <td>100 PROOF VODKA</td>\n",
       "      <td>0.004938</td>\n",
       "    </tr>\n",
       "    <tr>\n",
       "      <th>1</th>\n",
       "      <td>AMERICAN ALCOHOL</td>\n",
       "      <td>0.002271</td>\n",
       "    </tr>\n",
       "    <tr>\n",
       "      <th>2</th>\n",
       "      <td>AMERICAN AMARETTO</td>\n",
       "      <td>0.004931</td>\n",
       "    </tr>\n",
       "    <tr>\n",
       "      <th>3</th>\n",
       "      <td>AMERICAN COCKTAILS</td>\n",
       "      <td>0.021266</td>\n",
       "    </tr>\n",
       "    <tr>\n",
       "      <th>4</th>\n",
       "      <td>AMERICAN DRY GINS</td>\n",
       "      <td>0.017260</td>\n",
       "    </tr>\n",
       "  </tbody>\n",
       "</table>\n",
       "</div>"
      ],
      "text/plain": [
       "        category_name  bottles_sold\n",
       "0     100 PROOF VODKA      0.004938\n",
       "1    AMERICAN ALCOHOL      0.002271\n",
       "2   AMERICAN AMARETTO      0.004931\n",
       "3  AMERICAN COCKTAILS      0.021266\n",
       "4   AMERICAN DRY GINS      0.017260"
      ]
     },
     "execution_count": 91,
     "metadata": {},
     "output_type": "execute_result"
    }
   ],
   "source": [
    "large_categories = large_stores.groupby('category_name')['bottles_sold'].agg(sum).reset_index()\n",
    "large_categories.bottles_sold = large_categories.bottles_sold / large_categories.bottles_sold.sum()\n",
    "large_categories.head()"
   ]
  },
  {
   "cell_type": "code",
   "execution_count": 92,
   "metadata": {
    "collapsed": false
   },
   "outputs": [
    {
     "data": {
      "text/html": [
       "<div>\n",
       "<table border=\"1\" class=\"dataframe\">\n",
       "  <thead>\n",
       "    <tr style=\"text-align: right;\">\n",
       "      <th></th>\n",
       "      <th>category_name</th>\n",
       "      <th>small_store_pct</th>\n",
       "      <th>large_store_pct</th>\n",
       "    </tr>\n",
       "  </thead>\n",
       "  <tbody>\n",
       "    <tr>\n",
       "      <th>0</th>\n",
       "      <td>100 PROOF VODKA</td>\n",
       "      <td>0.016016</td>\n",
       "      <td>0.004938</td>\n",
       "    </tr>\n",
       "    <tr>\n",
       "      <th>1</th>\n",
       "      <td>AMERICAN ALCOHOL</td>\n",
       "      <td>0.000564</td>\n",
       "      <td>0.002271</td>\n",
       "    </tr>\n",
       "    <tr>\n",
       "      <th>2</th>\n",
       "      <td>AMERICAN AMARETTO</td>\n",
       "      <td>0.001424</td>\n",
       "      <td>0.004931</td>\n",
       "    </tr>\n",
       "    <tr>\n",
       "      <th>3</th>\n",
       "      <td>AMERICAN COCKTAILS</td>\n",
       "      <td>0.003737</td>\n",
       "      <td>0.021266</td>\n",
       "    </tr>\n",
       "    <tr>\n",
       "      <th>4</th>\n",
       "      <td>AMERICAN DRY GINS</td>\n",
       "      <td>0.018745</td>\n",
       "      <td>0.017260</td>\n",
       "    </tr>\n",
       "  </tbody>\n",
       "</table>\n",
       "</div>"
      ],
      "text/plain": [
       "        category_name  small_store_pct  large_store_pct\n",
       "0     100 PROOF VODKA         0.016016         0.004938\n",
       "1    AMERICAN ALCOHOL         0.000564         0.002271\n",
       "2   AMERICAN AMARETTO         0.001424         0.004931\n",
       "3  AMERICAN COCKTAILS         0.003737         0.021266\n",
       "4   AMERICAN DRY GINS         0.018745         0.017260"
      ]
     },
     "execution_count": 92,
     "metadata": {},
     "output_type": "execute_result"
    }
   ],
   "source": [
    "# merge them and look at where the biggest differences are:\n",
    "small_categories.rename(columns={'bottles_sold':'small_store_pct'}, inplace=True)\n",
    "large_categories.rename(columns={'bottles_sold':'large_store_pct'}, inplace=True)\n",
    "\n",
    "categories_pct = small_categories.merge(large_categories, on='category_name', how='outer')\n",
    "categories_pct.head()"
   ]
  },
  {
   "cell_type": "code",
   "execution_count": 93,
   "metadata": {
    "collapsed": true
   },
   "outputs": [],
   "source": [
    "categories_pct['large_store_diff'] = categories_pct.large_store_pct - categories_pct.small_store_pct\n",
    "categories_pct.sort_values('large_store_diff', ascending=False, inplace=True)\n"
   ]
  },
  {
   "cell_type": "code",
   "execution_count": 94,
   "metadata": {
    "collapsed": false
   },
   "outputs": [
    {
     "data": {
      "text/html": [
       "<div>\n",
       "<table border=\"1\" class=\"dataframe\">\n",
       "  <thead>\n",
       "    <tr style=\"text-align: right;\">\n",
       "      <th></th>\n",
       "      <th>category_name</th>\n",
       "      <th>small_store_pct</th>\n",
       "      <th>large_store_pct</th>\n",
       "      <th>large_store_diff</th>\n",
       "    </tr>\n",
       "  </thead>\n",
       "  <tbody>\n",
       "    <tr>\n",
       "      <th>48</th>\n",
       "      <td>TEQUILA</td>\n",
       "      <td>0.019605</td>\n",
       "      <td>0.070500</td>\n",
       "      <td>0.050895</td>\n",
       "    </tr>\n",
       "    <tr>\n",
       "      <th>27</th>\n",
       "      <td>IMPORTED VODKA - MISC</td>\n",
       "      <td>0.002907</td>\n",
       "      <td>0.027025</td>\n",
       "      <td>0.024118</td>\n",
       "    </tr>\n",
       "    <tr>\n",
       "      <th>3</th>\n",
       "      <td>AMERICAN COCKTAILS</td>\n",
       "      <td>0.003737</td>\n",
       "      <td>0.021266</td>\n",
       "      <td>0.017529</td>\n",
       "    </tr>\n",
       "    <tr>\n",
       "      <th>49</th>\n",
       "      <td>TRIPLE SEC</td>\n",
       "      <td>0.000445</td>\n",
       "      <td>0.016533</td>\n",
       "      <td>0.016088</td>\n",
       "    </tr>\n",
       "    <tr>\n",
       "      <th>20</th>\n",
       "      <td>FLAVORED RUM</td>\n",
       "      <td>0.011182</td>\n",
       "      <td>0.026954</td>\n",
       "      <td>0.015773</td>\n",
       "    </tr>\n",
       "    <tr>\n",
       "      <th>28</th>\n",
       "      <td>IRISH WHISKIES</td>\n",
       "      <td>0.002017</td>\n",
       "      <td>0.016949</td>\n",
       "      <td>0.014932</td>\n",
       "    </tr>\n",
       "    <tr>\n",
       "      <th>25</th>\n",
       "      <td>IMPORTED SCHNAPPS</td>\n",
       "      <td>0.006199</td>\n",
       "      <td>0.018704</td>\n",
       "      <td>0.012505</td>\n",
       "    </tr>\n",
       "    <tr>\n",
       "      <th>16</th>\n",
       "      <td>CREAM LIQUEURS</td>\n",
       "      <td>0.007771</td>\n",
       "      <td>0.020072</td>\n",
       "      <td>0.012301</td>\n",
       "    </tr>\n",
       "    <tr>\n",
       "      <th>23</th>\n",
       "      <td>IMPORTED DRY GINS</td>\n",
       "      <td>0.001661</td>\n",
       "      <td>0.013444</td>\n",
       "      <td>0.011783</td>\n",
       "    </tr>\n",
       "    <tr>\n",
       "      <th>36</th>\n",
       "      <td>PUERTO RICO &amp; VIRGIN ISLANDS RUM</td>\n",
       "      <td>0.031617</td>\n",
       "      <td>0.043112</td>\n",
       "      <td>0.011494</td>\n",
       "    </tr>\n",
       "  </tbody>\n",
       "</table>\n",
       "</div>"
      ],
      "text/plain": [
       "                       category_name  small_store_pct  large_store_pct  \\\n",
       "48                           TEQUILA         0.019605         0.070500   \n",
       "27             IMPORTED VODKA - MISC         0.002907         0.027025   \n",
       "3                 AMERICAN COCKTAILS         0.003737         0.021266   \n",
       "49                        TRIPLE SEC         0.000445         0.016533   \n",
       "20                      FLAVORED RUM         0.011182         0.026954   \n",
       "28                    IRISH WHISKIES         0.002017         0.016949   \n",
       "25                 IMPORTED SCHNAPPS         0.006199         0.018704   \n",
       "16                    CREAM LIQUEURS         0.007771         0.020072   \n",
       "23                 IMPORTED DRY GINS         0.001661         0.013444   \n",
       "36  PUERTO RICO & VIRGIN ISLANDS RUM         0.031617         0.043112   \n",
       "\n",
       "    large_store_diff  \n",
       "48          0.050895  \n",
       "27          0.024118  \n",
       "3           0.017529  \n",
       "49          0.016088  \n",
       "20          0.015773  \n",
       "28          0.014932  \n",
       "25          0.012505  \n",
       "16          0.012301  \n",
       "23          0.011783  \n",
       "36          0.011494  "
      ]
     },
     "execution_count": 94,
     "metadata": {},
     "output_type": "execute_result"
    }
   ],
   "source": [
    "categories_pct.head(10)"
   ]
  },
  {
   "cell_type": "code",
   "execution_count": 95,
   "metadata": {
    "collapsed": false
   },
   "outputs": [
    {
     "data": {
      "text/html": [
       "<div>\n",
       "<table border=\"1\" class=\"dataframe\">\n",
       "  <thead>\n",
       "    <tr style=\"text-align: right;\">\n",
       "      <th></th>\n",
       "      <th>category_name</th>\n",
       "      <th>small_store_pct</th>\n",
       "      <th>large_store_pct</th>\n",
       "      <th>large_store_diff</th>\n",
       "    </tr>\n",
       "  </thead>\n",
       "  <tbody>\n",
       "    <tr>\n",
       "      <th>24</th>\n",
       "      <td>IMPORTED GRAPE BRANDIES</td>\n",
       "      <td>0.020821</td>\n",
       "      <td>0.007650</td>\n",
       "      <td>-0.013171</td>\n",
       "    </tr>\n",
       "    <tr>\n",
       "      <th>43</th>\n",
       "      <td>SPICED RUM</td>\n",
       "      <td>0.083284</td>\n",
       "      <td>0.065660</td>\n",
       "      <td>-0.017624</td>\n",
       "    </tr>\n",
       "    <tr>\n",
       "      <th>5</th>\n",
       "      <td>AMERICAN GRAPE BRANDIES</td>\n",
       "      <td>0.029956</td>\n",
       "      <td>0.009698</td>\n",
       "      <td>-0.020258</td>\n",
       "    </tr>\n",
       "    <tr>\n",
       "      <th>53</th>\n",
       "      <td>WHISKEY LIQUEUR</td>\n",
       "      <td>0.064865</td>\n",
       "      <td>0.044362</td>\n",
       "      <td>-0.020503</td>\n",
       "    </tr>\n",
       "    <tr>\n",
       "      <th>12</th>\n",
       "      <td>CANADIAN WHISKIES</td>\n",
       "      <td>0.152302</td>\n",
       "      <td>0.084193</td>\n",
       "      <td>-0.068109</td>\n",
       "    </tr>\n",
       "    <tr>\n",
       "      <th>50</th>\n",
       "      <td>VODKA 80 PROOF</td>\n",
       "      <td>0.283219</td>\n",
       "      <td>0.156020</td>\n",
       "      <td>-0.127198</td>\n",
       "    </tr>\n",
       "    <tr>\n",
       "      <th>54</th>\n",
       "      <td>AMERICAN SLOE GINS</td>\n",
       "      <td>NaN</td>\n",
       "      <td>0.000205</td>\n",
       "      <td>NaN</td>\n",
       "    </tr>\n",
       "    <tr>\n",
       "      <th>55</th>\n",
       "      <td>ANISETTE</td>\n",
       "      <td>NaN</td>\n",
       "      <td>0.000093</td>\n",
       "      <td>NaN</td>\n",
       "    </tr>\n",
       "    <tr>\n",
       "      <th>56</th>\n",
       "      <td>BARBADOS RUM</td>\n",
       "      <td>NaN</td>\n",
       "      <td>0.001082</td>\n",
       "      <td>NaN</td>\n",
       "    </tr>\n",
       "    <tr>\n",
       "      <th>57</th>\n",
       "      <td>CORN WHISKIES</td>\n",
       "      <td>NaN</td>\n",
       "      <td>0.000002</td>\n",
       "      <td>NaN</td>\n",
       "    </tr>\n",
       "    <tr>\n",
       "      <th>58</th>\n",
       "      <td>CREME DE ALMOND</td>\n",
       "      <td>NaN</td>\n",
       "      <td>0.000042</td>\n",
       "      <td>NaN</td>\n",
       "    </tr>\n",
       "    <tr>\n",
       "      <th>59</th>\n",
       "      <td>FLAVORED GINS</td>\n",
       "      <td>NaN</td>\n",
       "      <td>0.000392</td>\n",
       "      <td>NaN</td>\n",
       "    </tr>\n",
       "    <tr>\n",
       "      <th>60</th>\n",
       "      <td>GREEN CREME DE MENTHE</td>\n",
       "      <td>NaN</td>\n",
       "      <td>0.000543</td>\n",
       "      <td>NaN</td>\n",
       "    </tr>\n",
       "    <tr>\n",
       "      <th>61</th>\n",
       "      <td>JAMAICA RUM</td>\n",
       "      <td>NaN</td>\n",
       "      <td>0.001175</td>\n",
       "      <td>NaN</td>\n",
       "    </tr>\n",
       "    <tr>\n",
       "      <th>62</th>\n",
       "      <td>LOW PROOF VODKA</td>\n",
       "      <td>NaN</td>\n",
       "      <td>0.000030</td>\n",
       "      <td>NaN</td>\n",
       "    </tr>\n",
       "    <tr>\n",
       "      <th>63</th>\n",
       "      <td>OTHER PROOF VODKA</td>\n",
       "      <td>NaN</td>\n",
       "      <td>0.000130</td>\n",
       "      <td>NaN</td>\n",
       "    </tr>\n",
       "    <tr>\n",
       "      <th>64</th>\n",
       "      <td>ROCK &amp; RYE</td>\n",
       "      <td>NaN</td>\n",
       "      <td>0.000170</td>\n",
       "      <td>NaN</td>\n",
       "    </tr>\n",
       "    <tr>\n",
       "      <th>65</th>\n",
       "      <td>TROPICAL FRUIT SCHNAPPS</td>\n",
       "      <td>NaN</td>\n",
       "      <td>0.000443</td>\n",
       "      <td>NaN</td>\n",
       "    </tr>\n",
       "    <tr>\n",
       "      <th>66</th>\n",
       "      <td>WHITE CREME DE CACAO</td>\n",
       "      <td>NaN</td>\n",
       "      <td>0.000451</td>\n",
       "      <td>NaN</td>\n",
       "    </tr>\n",
       "    <tr>\n",
       "      <th>67</th>\n",
       "      <td>WHITE CREME DE MENTHE</td>\n",
       "      <td>NaN</td>\n",
       "      <td>0.000149</td>\n",
       "      <td>NaN</td>\n",
       "    </tr>\n",
       "  </tbody>\n",
       "</table>\n",
       "</div>"
      ],
      "text/plain": [
       "              category_name  small_store_pct  large_store_pct  \\\n",
       "24  IMPORTED GRAPE BRANDIES         0.020821         0.007650   \n",
       "43               SPICED RUM         0.083284         0.065660   \n",
       "5   AMERICAN GRAPE BRANDIES         0.029956         0.009698   \n",
       "53          WHISKEY LIQUEUR         0.064865         0.044362   \n",
       "12        CANADIAN WHISKIES         0.152302         0.084193   \n",
       "50           VODKA 80 PROOF         0.283219         0.156020   \n",
       "54       AMERICAN SLOE GINS              NaN         0.000205   \n",
       "55                 ANISETTE              NaN         0.000093   \n",
       "56             BARBADOS RUM              NaN         0.001082   \n",
       "57            CORN WHISKIES              NaN         0.000002   \n",
       "58          CREME DE ALMOND              NaN         0.000042   \n",
       "59            FLAVORED GINS              NaN         0.000392   \n",
       "60    GREEN CREME DE MENTHE              NaN         0.000543   \n",
       "61              JAMAICA RUM              NaN         0.001175   \n",
       "62          LOW PROOF VODKA              NaN         0.000030   \n",
       "63        OTHER PROOF VODKA              NaN         0.000130   \n",
       "64               ROCK & RYE              NaN         0.000170   \n",
       "65  TROPICAL FRUIT SCHNAPPS              NaN         0.000443   \n",
       "66     WHITE CREME DE CACAO              NaN         0.000451   \n",
       "67    WHITE CREME DE MENTHE              NaN         0.000149   \n",
       "\n",
       "    large_store_diff  \n",
       "24         -0.013171  \n",
       "43         -0.017624  \n",
       "5          -0.020258  \n",
       "53         -0.020503  \n",
       "12         -0.068109  \n",
       "50         -0.127198  \n",
       "54               NaN  \n",
       "55               NaN  \n",
       "56               NaN  \n",
       "57               NaN  \n",
       "58               NaN  \n",
       "59               NaN  \n",
       "60               NaN  \n",
       "61               NaN  \n",
       "62               NaN  \n",
       "63               NaN  \n",
       "64               NaN  \n",
       "65               NaN  \n",
       "66               NaN  \n",
       "67               NaN  "
      ]
     },
     "execution_count": 95,
     "metadata": {},
     "output_type": "execute_result"
    }
   ],
   "source": [
    "categories_pct.tail(20)"
   ]
  },
  {
   "cell_type": "markdown",
   "metadata": {},
   "source": [
    "My recommendations would be:\n",
    "\n",
    "1. Tax tequila, imported vodkas, and american cocktails more, since large stores are selling them more than small.\n",
    "2. Tax 80 proof vodka, canadian whiskey, and whiskey liqueur less, since small stores are selling them more than large stores.\n",
    "3. (possibly) tax things that large stores are selling and small stores are currently not. However, probably not since these don't make up much of the sales for large stores anyway."
   ]
  },
  {
   "cell_type": "markdown",
   "metadata": {},
   "source": [
    "<img src=\"http://imgur.com/GCAf1UX.png\" style=\"float: left; margin: 25px 15px 0px 0px; height: 25px\">\n",
    "\n",
    "## 12. Time-related effects\n",
    "\n",
    "---\n",
    "\n",
    "You could imagine that liquor sales might be affected by a variety of effects related to time. Do people buy more beer in the summer? Do liquor sales skyrocket in december? Do people buy less liquor on Tuesdays?\n",
    "\n",
    "You have the date of sales in your dataset, which you can use to pull out time components.\n",
    "\n",
    "1. Come up with 2 different hypotheses about how liquor sales may vary with time-related variables. \n",
    "2. Create a visualization exploring each hypothesis.\n",
    "3. Write brief concluding remarks on what you observed.\n"
   ]
  },
  {
   "cell_type": "code",
   "execution_count": 97,
   "metadata": {
    "collapsed": false
   },
   "outputs": [
    {
     "data": {
      "text/html": [
       "<div>\n",
       "<table border=\"1\" class=\"dataframe\">\n",
       "  <thead>\n",
       "    <tr style=\"text-align: right;\">\n",
       "      <th></th>\n",
       "      <th>month</th>\n",
       "      <th>sale_dollars</th>\n",
       "      <th>store_ests</th>\n",
       "    </tr>\n",
       "  </thead>\n",
       "  <tbody>\n",
       "    <tr>\n",
       "      <th>0</th>\n",
       "      <td>1</td>\n",
       "      <td>-0.258322</td>\n",
       "      <td>2330.135709</td>\n",
       "    </tr>\n",
       "    <tr>\n",
       "      <th>1</th>\n",
       "      <td>2</td>\n",
       "      <td>-0.287915</td>\n",
       "      <td>2237.165431</td>\n",
       "    </tr>\n",
       "    <tr>\n",
       "      <th>2</th>\n",
       "      <td>3</td>\n",
       "      <td>-0.039697</td>\n",
       "      <td>3016.993085</td>\n",
       "    </tr>\n",
       "    <tr>\n",
       "      <th>3</th>\n",
       "      <td>4</td>\n",
       "      <td>-0.074613</td>\n",
       "      <td>2907.297930</td>\n",
       "    </tr>\n",
       "    <tr>\n",
       "      <th>4</th>\n",
       "      <td>5</td>\n",
       "      <td>-0.153359</td>\n",
       "      <td>2659.899846</td>\n",
       "    </tr>\n",
       "    <tr>\n",
       "      <th>5</th>\n",
       "      <td>6</td>\n",
       "      <td>0.246022</td>\n",
       "      <td>3914.640423</td>\n",
       "    </tr>\n",
       "    <tr>\n",
       "      <th>6</th>\n",
       "      <td>7</td>\n",
       "      <td>0.016443</td>\n",
       "      <td>3193.369332</td>\n",
       "    </tr>\n",
       "    <tr>\n",
       "      <th>7</th>\n",
       "      <td>8</td>\n",
       "      <td>-0.089639</td>\n",
       "      <td>2860.089845</td>\n",
       "    </tr>\n",
       "    <tr>\n",
       "      <th>8</th>\n",
       "      <td>9</td>\n",
       "      <td>0.008079</td>\n",
       "      <td>3167.090624</td>\n",
       "    </tr>\n",
       "    <tr>\n",
       "      <th>9</th>\n",
       "      <td>10</td>\n",
       "      <td>0.032867</td>\n",
       "      <td>3244.967150</td>\n",
       "    </tr>\n",
       "    <tr>\n",
       "      <th>10</th>\n",
       "      <td>11</td>\n",
       "      <td>-0.023657</td>\n",
       "      <td>3067.387667</td>\n",
       "    </tr>\n",
       "    <tr>\n",
       "      <th>11</th>\n",
       "      <td>12</td>\n",
       "      <td>0.592272</td>\n",
       "      <td>5002.455911</td>\n",
       "    </tr>\n",
       "  </tbody>\n",
       "</table>\n",
       "</div>"
      ],
      "text/plain": [
       "    month  sale_dollars   store_ests\n",
       "0       1     -0.258322  2330.135709\n",
       "1       2     -0.287915  2237.165431\n",
       "2       3     -0.039697  3016.993085\n",
       "3       4     -0.074613  2907.297930\n",
       "4       5     -0.153359  2659.899846\n",
       "5       6      0.246022  3914.640423\n",
       "6       7      0.016443  3193.369332\n",
       "7       8     -0.089639  2860.089845\n",
       "8       9      0.008079  3167.090624\n",
       "9      10      0.032867  3244.967150\n",
       "10     11     -0.023657  3067.387667\n",
       "11     12      0.592272  5002.455911"
      ]
     },
     "execution_count": 97,
     "metadata": {},
     "output_type": "execute_result"
    }
   ],
   "source": [
    "# 1. We showed earlier that sales for liquor are highest is december:\n",
    "mean_std_permonth\n",
    "\n",
    "# which is no surprise."
   ]
  },
  {
   "cell_type": "code",
   "execution_count": 98,
   "metadata": {
    "collapsed": false
   },
   "outputs": [
    {
     "data": {
      "text/plain": [
       "<matplotlib.axes._subplots.AxesSubplot at 0x11e83b490>"
      ]
     },
     "execution_count": 98,
     "metadata": {},
     "output_type": "execute_result"
    },
    {
     "data": {
      "image/png": "[encoded data removed]",
      "text/plain": [
       "<matplotlib.figure.Figure at 0x11f67f810>"
      ]
     },
     "metadata": {
      "image/png": {
       "height": 357,
       "width": 502
      }
     },
     "output_type": "display_data"
    }
   ],
   "source": [
    "sns.barplot(x='month', y='sale_dollars', data=mean_std_permonth)"
   ]
  },
  {
   "cell_type": "code",
   "execution_count": 99,
   "metadata": {
    "collapsed": true
   },
   "outputs": [],
   "source": [
    "# 2. People buy the least amount of liquor on tuesdays.\n",
    "\n",
    "# Make a datetime column and pull out tuesdays\n",
    "iowa['date'] = iowa.date.map(lambda x: '-'.join(x.split('/')))\n",
    "iowa['date'] = pd.to_datetime(iowa.date)"
   ]
  },
  {
   "cell_type": "code",
   "execution_count": 100,
   "metadata": {
    "collapsed": true
   },
   "outputs": [],
   "source": [
    "iowa['day_of_week'] = iowa.date.dt.weekday_name"
   ]
  },
  {
   "cell_type": "code",
   "execution_count": 101,
   "metadata": {
    "collapsed": false
   },
   "outputs": [
    {
     "data": {
      "text/html": [
       "<div>\n",
       "<table border=\"1\" class=\"dataframe\">\n",
       "  <thead>\n",
       "    <tr style=\"text-align: right;\">\n",
       "      <th></th>\n",
       "      <th>day_of_week</th>\n",
       "      <th>sale_dollars</th>\n",
       "    </tr>\n",
       "  </thead>\n",
       "  <tbody>\n",
       "    <tr>\n",
       "      <th>0</th>\n",
       "      <td>Friday</td>\n",
       "      <td>155.307583</td>\n",
       "    </tr>\n",
       "    <tr>\n",
       "      <th>1</th>\n",
       "      <td>Monday</td>\n",
       "      <td>137.993379</td>\n",
       "    </tr>\n",
       "    <tr>\n",
       "      <th>2</th>\n",
       "      <td>Saturday</td>\n",
       "      <td>124.926792</td>\n",
       "    </tr>\n",
       "    <tr>\n",
       "      <th>3</th>\n",
       "      <td>Thursday</td>\n",
       "      <td>141.916032</td>\n",
       "    </tr>\n",
       "    <tr>\n",
       "      <th>4</th>\n",
       "      <td>Tuesday</td>\n",
       "      <td>117.543676</td>\n",
       "    </tr>\n",
       "    <tr>\n",
       "      <th>5</th>\n",
       "      <td>Wednesday</td>\n",
       "      <td>120.967819</td>\n",
       "    </tr>\n",
       "  </tbody>\n",
       "</table>\n",
       "</div>"
      ],
      "text/plain": [
       "  day_of_week  sale_dollars\n",
       "0      Friday    155.307583\n",
       "1      Monday    137.993379\n",
       "2    Saturday    124.926792\n",
       "3    Thursday    141.916032\n",
       "4     Tuesday    117.543676\n",
       "5   Wednesday    120.967819"
      ]
     },
     "execution_count": 101,
     "metadata": {},
     "output_type": "execute_result"
    }
   ],
   "source": [
    "avg_sales_perday = iowa.groupby('day_of_week').sale_dollars.agg(np.mean).reset_index()\n",
    "avg_sales_perday"
   ]
  },
  {
   "cell_type": "code",
   "execution_count": 102,
   "metadata": {
    "collapsed": false
   },
   "outputs": [
    {
     "data": {
      "text/plain": [
       "<matplotlib.axes._subplots.AxesSubplot at 0x11fb21f50>"
      ]
     },
     "execution_count": 102,
     "metadata": {},
     "output_type": "execute_result"
    },
    {
     "data": {
      "image/png": "[encoded data removed]",
      "text/plain": [
       "<matplotlib.figure.Figure at 0x11fad56d0>"
      ]
     },
     "metadata": {
      "image/png": {
       "height": 357,
       "width": 499
      }
     },
     "output_type": "display_data"
    }
   ],
   "source": [
    "sns.barplot(x='day_of_week', y='sale_dollars', data=avg_sales_perday)\n",
    "\n",
    "# It's true. Tuesday is the least appealing time to buy alcohol. I guess\n",
    "# you can't buy alchohol on Sundays in Iowa.)"
   ]
  },
  {
   "cell_type": "code",
   "execution_count": null,
   "metadata": {
    "collapsed": true
   },
   "outputs": [],
   "source": []
  }
 ],
 "metadata": {
  "kernelspec": {
   "display_name": "Python 2",
   "language": "python",
   "name": "python2"
  },
  "language_info": {
   "codemirror_mode": {
    "name": "ipython",
    "version": 2
   },
   "file_extension": ".py",
   "mimetype": "text/x-python",
   "name": "python",
   "nbconvert_exporter": "python",
   "pygments_lexer": "ipython2",
   "version": "2.7.12"
  }
 },
 "nbformat": 4,
 "nbformat_minor": 0
}
