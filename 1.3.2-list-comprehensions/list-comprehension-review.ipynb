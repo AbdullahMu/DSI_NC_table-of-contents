{
 "cells": [
  {
   "cell_type": "code",
   "execution_count": 1,
   "metadata": {
    "collapsed": false
   },
   "outputs": [
    {
     "data": {
      "text/plain": [
       "[0, 1, 2, 3, 4]"
      ]
     },
     "execution_count": 1,
     "metadata": {},
     "output_type": "execute_result"
    }
   ],
   "source": [
    "# Nested list comprehensions\n"
   ]
  },
  {
   "cell_type": "code",
   "execution_count": 5,
   "metadata": {
    "collapsed": false
   },
   "outputs": [
    {
     "data": {
      "text/plain": [
       "[[1.0, 1.0], [2.0, 2.8284271247461903], [3.0, 5.196152422706632], [4.0, 8.0]]"
      ]
     },
     "execution_count": 5,
     "metadata": {},
     "output_type": "execute_result"
    }
   ],
   "source": [
    "import numpy as np\n",
    "# i want:\n",
    "a = [[0,0],\n",
    "     [1, 1], \n",
    "     [4, 8], \n",
    "     [9, 27], \n",
    "     [16, 64]\n",
    "    ]\n",
    "# take square root\n",
    "\n",
    "# output list outer\n",
    "output = []\n",
    "\n",
    "# from/iterator outer\n",
    "for num_list in a:\n",
    "    \n",
    "    # output list inner\n",
    "    internal_list = []\n",
    "    \n",
    "    # where/filter outer\n",
    "    if not 0 in num_list:\n",
    "        \n",
    "        # from/iterator inner\n",
    "        for num in num_list:\n",
    "            # selector/modifier inner\n",
    "            internal_list.append(np.sqrt(num))\n",
    "            \n",
    "        # selector/modifier outer\n",
    "        output.append(internal_list)\n",
    "    \n",
    "output"
   ]
  },
  {
   "cell_type": "code",
   "execution_count": 6,
   "metadata": {
    "collapsed": true
   },
   "outputs": [],
   "source": [
    "# list comprehension\n",
    "# anatomy:\n",
    "# [ selector/modifier | from/iterator | where/filter ] <- brackets = output list\n",
    "\n",
    "\n",
    "def square_rooter(num_list):\n",
    "    return [np.sqrt(num) for num in num_list)]\n",
    "\n",
    "lc = [     \n",
    "    square_rooter(num_list) # <-- output list inner\n",
    "    for num_list in a # <-- outer for/iterator\n",
    "    if not 0 in num_list # <-- outer where/filter\n",
    "] # <-- output list outer\n"
   ]
  },
  {
   "cell_type": "code",
   "execution_count": 7,
   "metadata": {
    "collapsed": false
   },
   "outputs": [
    {
     "data": {
      "text/plain": [
       "[[1.0, 1.0], [2.0, 2.8284271247461903], [3.0, 5.196152422706632], [4.0, 8.0]]"
      ]
     },
     "execution_count": 7,
     "metadata": {},
     "output_type": "execute_result"
    }
   ],
   "source": [
    "lc"
   ]
  },
  {
   "cell_type": "code",
   "execution_count": null,
   "metadata": {
    "collapsed": true
   },
   "outputs": [],
   "source": []
  }
 ],
 "metadata": {
  "kernelspec": {
   "display_name": "Python 2",
   "language": "python",
   "name": "python2"
  },
  "language_info": {
   "codemirror_mode": {
    "name": "ipython",
    "version": 2
   },
   "file_extension": ".py",
   "mimetype": "text/x-python",
   "name": "python",
   "nbconvert_exporter": "python",
   "pygments_lexer": "ipython2",
   "version": "2.7.12"
  }
 },
 "nbformat": 4,
 "nbformat_minor": 0
}
